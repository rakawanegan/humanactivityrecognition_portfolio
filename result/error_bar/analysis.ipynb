{
 "cells": [
  {
   "cell_type": "code",
   "execution_count": 142,
   "metadata": {},
   "outputs": [],
   "source": [
    "import pandas as pd\n",
    "import matplotlib.pyplot as plt\n",
    "import numpy as np\n",
    "# light blue and orange\n",
    "correct_color = \"tab:blue\"\n",
    "incorrect_color = \"tab:orange\""
   ]
  },
  {
   "cell_type": "code",
   "execution_count": 143,
   "metadata": {},
   "outputs": [],
   "source": [
    "def calc_accuracy(df):\n",
    "    return (df['true_label'] == df['predict_label']).sum() / len(df)\n",
    "\n",
    "def preprocess_df(raw_df:pd.DataFrame, true_label:pd.DataFrame)->pd.DataFrame:\n",
    "    df = raw_df.copy()\n",
    "    LABELS = [\"Downstairs\", \"Jogging\", \"Sitting\", \"Standing\", \"Upstairs\", \"Walking\"]\n",
    "    min_max_func = lambda x: (x - x.min()) / (x.max() - x.min()) # min-max normalization\n",
    "    convert_probability_func = lambda x: x / x.sum() # convert to binary\n",
    "    processed_df = df.apply(min_max_func, axis=1).apply(convert_probability_func, axis=1)\n",
    "    processed_df.columns = LABELS\n",
    "    processed_df[\"predict_probability\"] = processed_df.max(axis=1)\n",
    "    processed_df[\"predict_label\"] = processed_df.idxmax(axis=1)\n",
    "    processed_df['true_label'] = true_label.map(lambda x: LABELS[x])\n",
    "    return processed_df\n",
    "\n",
    "def show_count(processed_df, title):\n",
    "    df = processed_df.copy()\n",
    "    acc = calc_accuracy(df)\n",
    "    df.loc[df.true_label==df.predict_label,\"correct\"] = df.loc[df.true_label==df.predict_label, 'predict_probability']\n",
    "    df.loc[df.true_label!=df.predict_label, 'incorrect'] = df.loc[df.true_label!=df.predict_label, 'predict_probability']\n",
    "    df.loc[:,['incorrect', 'correct',]].plot.hist(bins=100, stacked=True, color=[incorrect_color, correct_color])\n",
    "    plt.title(f'{title}\\nPredict Probability Count\\nACC: {acc:.4f}')\n",
    "    plt.xlabel('Probability')\n",
    "    plt.ylabel('Count')\n",
    "    plt.legend(['Incorrect', 'Correct'])\n",
    "    plt.savefig(f'assets/{title}-count.png')\n",
    "    plt.close()\n",
    "\n",
    "def show_count_stacked(processed_df, title, split_size=0.01):\n",
    "    df = processed_df.copy()\n",
    "    acc = calc_accuracy(df)\n",
    "    df.loc[df.true_label==df.predict_label,\"correct\"] = df.loc[df.true_label==df.predict_label, 'predict_probability']\n",
    "    df.loc[df.true_label!=df.predict_label, 'incorrect'] = df.loc[df.true_label!=df.predict_label, 'predict_probability']\n",
    "    df = df.loc[:,['incorrect', 'correct',]]\n",
    "    correct_list = list()\n",
    "    incorrect_list = list()\n",
    "    split_num = int(1/split_size)\n",
    "    for i in range(split_num,0,-1):\n",
    "        i *= split_size\n",
    "        correct_list.append((df.correct>i).sum())\n",
    "        incorrect_list.append((df.incorrect>i).sum())        \n",
    "    correct_list.reverse()\n",
    "    incorrect_list.reverse()\n",
    "    plt.bar(np.arange(split_num)*split_size, incorrect_list, width=split_size, color=incorrect_color)\n",
    "    plt.bar(np.arange(split_num)*split_size, correct_list, width=split_size, color=correct_color, bottom=incorrect_list)\n",
    "    plt.title(f'{title}\\nPredict Probability Stacked Count\\nACC: {acc:.4f}')\n",
    "    plt.xlim(0,1)\n",
    "    plt.xlabel('Probability')\n",
    "    plt.ylabel('Count')\n",
    "    plt.legend(['Incorrect', 'Correct'])\n",
    "    plt.savefig(f'assets/{title}-count-stacked.png')\n",
    "    plt.close()"
   ]
  },
  {
   "cell_type": "code",
   "execution_count": 144,
   "metadata": {},
   "outputs": [],
   "source": [
    "cnn1d_raw_df = pd.read_csv('cnn1d/predict.csv', index_col=0).drop(columns=[\"true\"])\n",
    "convbbt_raw_df = pd.read_csv('convbbt/predict.csv', index_col=0).drop(columns=[\"true\"])\n",
    "vit_raw_df = pd.read_csv('vit/predict.csv', index_col=0).drop(columns=[\"true\"])\n",
    "true_label = pd.read_csv('convbbt/predict.csv', index_col=0)[\"true\"]"
   ]
  },
  {
   "cell_type": "markdown",
   "metadata": {},
   "source": [
    "# raw data head"
   ]
  },
  {
   "cell_type": "code",
   "execution_count": 145,
   "metadata": {},
   "outputs": [
    {
     "data": {
      "text/html": [
       "<div>\n",
       "<style scoped>\n",
       "    .dataframe tbody tr th:only-of-type {\n",
       "        vertical-align: middle;\n",
       "    }\n",
       "\n",
       "    .dataframe tbody tr th {\n",
       "        vertical-align: top;\n",
       "    }\n",
       "\n",
       "    .dataframe thead th {\n",
       "        text-align: right;\n",
       "    }\n",
       "</style>\n",
       "<table border=\"1\" class=\"dataframe\">\n",
       "  <thead>\n",
       "    <tr style=\"text-align: right;\">\n",
       "      <th></th>\n",
       "      <th>0</th>\n",
       "      <th>1</th>\n",
       "      <th>2</th>\n",
       "      <th>3</th>\n",
       "      <th>4</th>\n",
       "      <th>5</th>\n",
       "    </tr>\n",
       "  </thead>\n",
       "  <tbody>\n",
       "    <tr>\n",
       "      <th>0</th>\n",
       "      <td>-24.943642</td>\n",
       "      <td>-14.376371</td>\n",
       "      <td>-30.270120</td>\n",
       "      <td>-34.804478</td>\n",
       "      <td>3.497355</td>\n",
       "      <td>8.651757</td>\n",
       "    </tr>\n",
       "    <tr>\n",
       "      <th>1</th>\n",
       "      <td>-41.976780</td>\n",
       "      <td>-51.831050</td>\n",
       "      <td>31.597225</td>\n",
       "      <td>0.572858</td>\n",
       "      <td>-34.029915</td>\n",
       "      <td>-22.983843</td>\n",
       "    </tr>\n",
       "    <tr>\n",
       "      <th>2</th>\n",
       "      <td>-10.403299</td>\n",
       "      <td>-20.507471</td>\n",
       "      <td>-35.264004</td>\n",
       "      <td>-31.831710</td>\n",
       "      <td>11.764874</td>\n",
       "      <td>-4.416489</td>\n",
       "    </tr>\n",
       "    <tr>\n",
       "      <th>3</th>\n",
       "      <td>-5.945934</td>\n",
       "      <td>22.957941</td>\n",
       "      <td>-33.201534</td>\n",
       "      <td>-32.098297</td>\n",
       "      <td>-3.378157</td>\n",
       "      <td>-19.997862</td>\n",
       "    </tr>\n",
       "    <tr>\n",
       "      <th>4</th>\n",
       "      <td>-14.173546</td>\n",
       "      <td>-47.217030</td>\n",
       "      <td>1.452709</td>\n",
       "      <td>18.719597</td>\n",
       "      <td>-17.833082</td>\n",
       "      <td>-30.701788</td>\n",
       "    </tr>\n",
       "  </tbody>\n",
       "</table>\n",
       "</div>"
      ],
      "text/plain": [
       "           0          1          2          3          4          5\n",
       "0 -24.943642 -14.376371 -30.270120 -34.804478   3.497355   8.651757\n",
       "1 -41.976780 -51.831050  31.597225   0.572858 -34.029915 -22.983843\n",
       "2 -10.403299 -20.507471 -35.264004 -31.831710  11.764874  -4.416489\n",
       "3  -5.945934  22.957941 -33.201534 -32.098297  -3.378157 -19.997862\n",
       "4 -14.173546 -47.217030   1.452709  18.719597 -17.833082 -30.701788"
      ]
     },
     "execution_count": 145,
     "metadata": {},
     "output_type": "execute_result"
    }
   ],
   "source": [
    "cnn1d_raw_df.head()"
   ]
  },
  {
   "cell_type": "code",
   "execution_count": 146,
   "metadata": {},
   "outputs": [
    {
     "data": {
      "text/html": [
       "<div>\n",
       "<style scoped>\n",
       "    .dataframe tbody tr th:only-of-type {\n",
       "        vertical-align: middle;\n",
       "    }\n",
       "\n",
       "    .dataframe tbody tr th {\n",
       "        vertical-align: top;\n",
       "    }\n",
       "\n",
       "    .dataframe thead th {\n",
       "        text-align: right;\n",
       "    }\n",
       "</style>\n",
       "<table border=\"1\" class=\"dataframe\">\n",
       "  <thead>\n",
       "    <tr style=\"text-align: right;\">\n",
       "      <th></th>\n",
       "      <th>0</th>\n",
       "      <th>1</th>\n",
       "      <th>2</th>\n",
       "      <th>3</th>\n",
       "      <th>4</th>\n",
       "      <th>5</th>\n",
       "    </tr>\n",
       "  </thead>\n",
       "  <tbody>\n",
       "    <tr>\n",
       "      <th>0</th>\n",
       "      <td>2.667278</td>\n",
       "      <td>-6.223639</td>\n",
       "      <td>-10.455910</td>\n",
       "      <td>-7.705863</td>\n",
       "      <td>3.942457</td>\n",
       "      <td>5.992100</td>\n",
       "    </tr>\n",
       "    <tr>\n",
       "      <th>1</th>\n",
       "      <td>-3.501386</td>\n",
       "      <td>-5.147262</td>\n",
       "      <td>15.075128</td>\n",
       "      <td>7.256400</td>\n",
       "      <td>-0.475929</td>\n",
       "      <td>-2.861587</td>\n",
       "    </tr>\n",
       "    <tr>\n",
       "      <th>2</th>\n",
       "      <td>3.822823</td>\n",
       "      <td>-9.720933</td>\n",
       "      <td>-9.241361</td>\n",
       "      <td>-5.683146</td>\n",
       "      <td>6.891798</td>\n",
       "      <td>3.425873</td>\n",
       "    </tr>\n",
       "    <tr>\n",
       "      <th>3</th>\n",
       "      <td>3.279096</td>\n",
       "      <td>11.735168</td>\n",
       "      <td>-4.228587</td>\n",
       "      <td>-1.351361</td>\n",
       "      <td>-4.169562</td>\n",
       "      <td>-4.644408</td>\n",
       "    </tr>\n",
       "    <tr>\n",
       "      <th>4</th>\n",
       "      <td>-2.105618</td>\n",
       "      <td>-2.101908</td>\n",
       "      <td>0.199927</td>\n",
       "      <td>13.780579</td>\n",
       "      <td>-3.819936</td>\n",
       "      <td>-1.524870</td>\n",
       "    </tr>\n",
       "  </tbody>\n",
       "</table>\n",
       "</div>"
      ],
      "text/plain": [
       "          0          1          2          3         4         5\n",
       "0  2.667278  -6.223639 -10.455910  -7.705863  3.942457  5.992100\n",
       "1 -3.501386  -5.147262  15.075128   7.256400 -0.475929 -2.861587\n",
       "2  3.822823  -9.720933  -9.241361  -5.683146  6.891798  3.425873\n",
       "3  3.279096  11.735168  -4.228587  -1.351361 -4.169562 -4.644408\n",
       "4 -2.105618  -2.101908   0.199927  13.780579 -3.819936 -1.524870"
      ]
     },
     "execution_count": 146,
     "metadata": {},
     "output_type": "execute_result"
    }
   ],
   "source": [
    "convbbt_raw_df.head()"
   ]
  },
  {
   "cell_type": "code",
   "execution_count": 147,
   "metadata": {},
   "outputs": [
    {
     "data": {
      "text/html": [
       "<div>\n",
       "<style scoped>\n",
       "    .dataframe tbody tr th:only-of-type {\n",
       "        vertical-align: middle;\n",
       "    }\n",
       "\n",
       "    .dataframe tbody tr th {\n",
       "        vertical-align: top;\n",
       "    }\n",
       "\n",
       "    .dataframe thead th {\n",
       "        text-align: right;\n",
       "    }\n",
       "</style>\n",
       "<table border=\"1\" class=\"dataframe\">\n",
       "  <thead>\n",
       "    <tr style=\"text-align: right;\">\n",
       "      <th></th>\n",
       "      <th>0</th>\n",
       "      <th>1</th>\n",
       "      <th>2</th>\n",
       "      <th>3</th>\n",
       "      <th>4</th>\n",
       "      <th>5</th>\n",
       "    </tr>\n",
       "  </thead>\n",
       "  <tbody>\n",
       "    <tr>\n",
       "      <th>0</th>\n",
       "      <td>3.011206</td>\n",
       "      <td>-5.817851</td>\n",
       "      <td>-5.217103</td>\n",
       "      <td>-7.638794</td>\n",
       "      <td>0.831200</td>\n",
       "      <td>9.454015</td>\n",
       "    </tr>\n",
       "    <tr>\n",
       "      <th>1</th>\n",
       "      <td>1.910253</td>\n",
       "      <td>-6.772700</td>\n",
       "      <td>15.421850</td>\n",
       "      <td>2.738583</td>\n",
       "      <td>-5.358047</td>\n",
       "      <td>-3.725187</td>\n",
       "    </tr>\n",
       "    <tr>\n",
       "      <th>2</th>\n",
       "      <td>-1.027743</td>\n",
       "      <td>-7.089542</td>\n",
       "      <td>-5.357136</td>\n",
       "      <td>-3.138410</td>\n",
       "      <td>12.560061</td>\n",
       "      <td>1.079521</td>\n",
       "    </tr>\n",
       "    <tr>\n",
       "      <th>3</th>\n",
       "      <td>-2.923320</td>\n",
       "      <td>15.512492</td>\n",
       "      <td>-7.420484</td>\n",
       "      <td>-7.753412</td>\n",
       "      <td>1.668159</td>\n",
       "      <td>-0.424469</td>\n",
       "    </tr>\n",
       "    <tr>\n",
       "      <th>4</th>\n",
       "      <td>1.624771</td>\n",
       "      <td>-4.469953</td>\n",
       "      <td>-0.402944</td>\n",
       "      <td>15.373968</td>\n",
       "      <td>-4.972460</td>\n",
       "      <td>-5.154066</td>\n",
       "    </tr>\n",
       "  </tbody>\n",
       "</table>\n",
       "</div>"
      ],
      "text/plain": [
       "          0          1          2          3          4         5\n",
       "0  3.011206  -5.817851  -5.217103  -7.638794   0.831200  9.454015\n",
       "1  1.910253  -6.772700  15.421850   2.738583  -5.358047 -3.725187\n",
       "2 -1.027743  -7.089542  -5.357136  -3.138410  12.560061  1.079521\n",
       "3 -2.923320  15.512492  -7.420484  -7.753412   1.668159 -0.424469\n",
       "4  1.624771  -4.469953  -0.402944  15.373968  -4.972460 -5.154066"
      ]
     },
     "execution_count": 147,
     "metadata": {},
     "output_type": "execute_result"
    }
   ],
   "source": [
    "vit_raw_df.head()"
   ]
  },
  {
   "cell_type": "code",
   "execution_count": 148,
   "metadata": {},
   "outputs": [],
   "source": [
    "cnn1d_df = preprocess_df(cnn1d_raw_df, true_label)\n",
    "convbbt_df = preprocess_df(convbbt_raw_df, true_label)\n",
    "vit_df = preprocess_df(vit_raw_df, true_label)"
   ]
  },
  {
   "cell_type": "markdown",
   "metadata": {},
   "source": [
    "# processed data head"
   ]
  },
  {
   "cell_type": "code",
   "execution_count": 149,
   "metadata": {},
   "outputs": [
    {
     "data": {
      "text/html": [
       "<div>\n",
       "<style scoped>\n",
       "    .dataframe tbody tr th:only-of-type {\n",
       "        vertical-align: middle;\n",
       "    }\n",
       "\n",
       "    .dataframe tbody tr th {\n",
       "        vertical-align: top;\n",
       "    }\n",
       "\n",
       "    .dataframe thead th {\n",
       "        text-align: right;\n",
       "    }\n",
       "</style>\n",
       "<table border=\"1\" class=\"dataframe\">\n",
       "  <thead>\n",
       "    <tr style=\"text-align: right;\">\n",
       "      <th></th>\n",
       "      <th>Downstairs</th>\n",
       "      <th>Jogging</th>\n",
       "      <th>Sitting</th>\n",
       "      <th>Standing</th>\n",
       "      <th>Upstairs</th>\n",
       "      <th>Walking</th>\n",
       "      <th>predict_probability</th>\n",
       "      <th>predict_label</th>\n",
       "      <th>true_label</th>\n",
       "    </tr>\n",
       "  </thead>\n",
       "  <tbody>\n",
       "    <tr>\n",
       "      <th>0</th>\n",
       "      <td>0.084583</td>\n",
       "      <td>0.175226</td>\n",
       "      <td>0.038894</td>\n",
       "      <td>0.000000</td>\n",
       "      <td>0.328542</td>\n",
       "      <td>0.372755</td>\n",
       "      <td>0.372755</td>\n",
       "      <td>Walking</td>\n",
       "      <td>Walking</td>\n",
       "    </tr>\n",
       "    <tr>\n",
       "      <th>1</th>\n",
       "      <td>0.051235</td>\n",
       "      <td>0.000000</td>\n",
       "      <td>0.433766</td>\n",
       "      <td>0.272462</td>\n",
       "      <td>0.092553</td>\n",
       "      <td>0.149984</td>\n",
       "      <td>0.433766</td>\n",
       "      <td>Sitting</td>\n",
       "      <td>Sitting</td>\n",
       "    </tr>\n",
       "    <tr>\n",
       "      <th>2</th>\n",
       "      <td>0.205586</td>\n",
       "      <td>0.122030</td>\n",
       "      <td>0.000000</td>\n",
       "      <td>0.028383</td>\n",
       "      <td>0.388906</td>\n",
       "      <td>0.255094</td>\n",
       "      <td>0.388906</td>\n",
       "      <td>Upstairs</td>\n",
       "      <td>Upstairs</td>\n",
       "    </tr>\n",
       "    <tr>\n",
       "      <th>3</th>\n",
       "      <td>0.213693</td>\n",
       "      <td>0.440310</td>\n",
       "      <td>0.000000</td>\n",
       "      <td>0.008650</td>\n",
       "      <td>0.233826</td>\n",
       "      <td>0.103521</td>\n",
       "      <td>0.440310</td>\n",
       "      <td>Jogging</td>\n",
       "      <td>Jogging</td>\n",
       "    </tr>\n",
       "    <tr>\n",
       "      <th>4</th>\n",
       "      <td>0.170724</td>\n",
       "      <td>0.000000</td>\n",
       "      <td>0.251459</td>\n",
       "      <td>0.340671</td>\n",
       "      <td>0.151817</td>\n",
       "      <td>0.085328</td>\n",
       "      <td>0.340671</td>\n",
       "      <td>Standing</td>\n",
       "      <td>Standing</td>\n",
       "    </tr>\n",
       "  </tbody>\n",
       "</table>\n",
       "</div>"
      ],
      "text/plain": [
       "   Downstairs   Jogging   Sitting  Standing  Upstairs   Walking  \\\n",
       "0    0.084583  0.175226  0.038894  0.000000  0.328542  0.372755   \n",
       "1    0.051235  0.000000  0.433766  0.272462  0.092553  0.149984   \n",
       "2    0.205586  0.122030  0.000000  0.028383  0.388906  0.255094   \n",
       "3    0.213693  0.440310  0.000000  0.008650  0.233826  0.103521   \n",
       "4    0.170724  0.000000  0.251459  0.340671  0.151817  0.085328   \n",
       "\n",
       "   predict_probability predict_label true_label  \n",
       "0             0.372755       Walking    Walking  \n",
       "1             0.433766       Sitting    Sitting  \n",
       "2             0.388906      Upstairs   Upstairs  \n",
       "3             0.440310       Jogging    Jogging  \n",
       "4             0.340671      Standing   Standing  "
      ]
     },
     "execution_count": 149,
     "metadata": {},
     "output_type": "execute_result"
    }
   ],
   "source": [
    "cnn1d_df.head()"
   ]
  },
  {
   "cell_type": "code",
   "execution_count": 150,
   "metadata": {},
   "outputs": [
    {
     "data": {
      "text/html": [
       "<div>\n",
       "<style scoped>\n",
       "    .dataframe tbody tr th:only-of-type {\n",
       "        vertical-align: middle;\n",
       "    }\n",
       "\n",
       "    .dataframe tbody tr th {\n",
       "        vertical-align: top;\n",
       "    }\n",
       "\n",
       "    .dataframe thead th {\n",
       "        text-align: right;\n",
       "    }\n",
       "</style>\n",
       "<table border=\"1\" class=\"dataframe\">\n",
       "  <thead>\n",
       "    <tr style=\"text-align: right;\">\n",
       "      <th></th>\n",
       "      <th>Downstairs</th>\n",
       "      <th>Jogging</th>\n",
       "      <th>Sitting</th>\n",
       "      <th>Standing</th>\n",
       "      <th>Upstairs</th>\n",
       "      <th>Walking</th>\n",
       "      <th>predict_probability</th>\n",
       "      <th>predict_label</th>\n",
       "      <th>true_label</th>\n",
       "    </tr>\n",
       "  </thead>\n",
       "  <tbody>\n",
       "    <tr>\n",
       "      <th>0</th>\n",
       "      <td>0.257560</td>\n",
       "      <td>0.083064</td>\n",
       "      <td>0.000000</td>\n",
       "      <td>0.053973</td>\n",
       "      <td>0.282588</td>\n",
       "      <td>0.322815</td>\n",
       "      <td>0.322815</td>\n",
       "      <td>Walking</td>\n",
       "      <td>Walking</td>\n",
       "    </tr>\n",
       "    <tr>\n",
       "      <th>1</th>\n",
       "      <td>0.039920</td>\n",
       "      <td>0.000000</td>\n",
       "      <td>0.490490</td>\n",
       "      <td>0.300848</td>\n",
       "      <td>0.113302</td>\n",
       "      <td>0.055439</td>\n",
       "      <td>0.490490</td>\n",
       "      <td>Sitting</td>\n",
       "      <td>Sitting</td>\n",
       "    </tr>\n",
       "    <tr>\n",
       "      <th>2</th>\n",
       "      <td>0.283220</td>\n",
       "      <td>0.000000</td>\n",
       "      <td>0.010029</td>\n",
       "      <td>0.084436</td>\n",
       "      <td>0.347397</td>\n",
       "      <td>0.274919</td>\n",
       "      <td>0.347397</td>\n",
       "      <td>Upstairs</td>\n",
       "      <td>Upstairs</td>\n",
       "    </tr>\n",
       "    <tr>\n",
       "      <th>3</th>\n",
       "      <td>0.278147</td>\n",
       "      <td>0.574988</td>\n",
       "      <td>0.014597</td>\n",
       "      <td>0.115599</td>\n",
       "      <td>0.016669</td>\n",
       "      <td>0.000000</td>\n",
       "      <td>0.574988</td>\n",
       "      <td>Jogging</td>\n",
       "      <td>Jogging</td>\n",
       "    </tr>\n",
       "    <tr>\n",
       "      <th>4</th>\n",
       "      <td>0.062686</td>\n",
       "      <td>0.062821</td>\n",
       "      <td>0.146990</td>\n",
       "      <td>0.643581</td>\n",
       "      <td>0.000000</td>\n",
       "      <td>0.083921</td>\n",
       "      <td>0.643581</td>\n",
       "      <td>Standing</td>\n",
       "      <td>Standing</td>\n",
       "    </tr>\n",
       "  </tbody>\n",
       "</table>\n",
       "</div>"
      ],
      "text/plain": [
       "   Downstairs   Jogging   Sitting  Standing  Upstairs   Walking  \\\n",
       "0    0.257560  0.083064  0.000000  0.053973  0.282588  0.322815   \n",
       "1    0.039920  0.000000  0.490490  0.300848  0.113302  0.055439   \n",
       "2    0.283220  0.000000  0.010029  0.084436  0.347397  0.274919   \n",
       "3    0.278147  0.574988  0.014597  0.115599  0.016669  0.000000   \n",
       "4    0.062686  0.062821  0.146990  0.643581  0.000000  0.083921   \n",
       "\n",
       "   predict_probability predict_label true_label  \n",
       "0             0.322815       Walking    Walking  \n",
       "1             0.490490       Sitting    Sitting  \n",
       "2             0.347397      Upstairs   Upstairs  \n",
       "3             0.574988       Jogging    Jogging  \n",
       "4             0.643581      Standing   Standing  "
      ]
     },
     "execution_count": 150,
     "metadata": {},
     "output_type": "execute_result"
    }
   ],
   "source": [
    "convbbt_df.head()"
   ]
  },
  {
   "cell_type": "code",
   "execution_count": 151,
   "metadata": {},
   "outputs": [
    {
     "data": {
      "text/html": [
       "<div>\n",
       "<style scoped>\n",
       "    .dataframe tbody tr th:only-of-type {\n",
       "        vertical-align: middle;\n",
       "    }\n",
       "\n",
       "    .dataframe tbody tr th {\n",
       "        vertical-align: top;\n",
       "    }\n",
       "\n",
       "    .dataframe thead th {\n",
       "        text-align: right;\n",
       "    }\n",
       "</style>\n",
       "<table border=\"1\" class=\"dataframe\">\n",
       "  <thead>\n",
       "    <tr style=\"text-align: right;\">\n",
       "      <th></th>\n",
       "      <th>Downstairs</th>\n",
       "      <th>Jogging</th>\n",
       "      <th>Sitting</th>\n",
       "      <th>Standing</th>\n",
       "      <th>Upstairs</th>\n",
       "      <th>Walking</th>\n",
       "      <th>predict_probability</th>\n",
       "      <th>predict_label</th>\n",
       "      <th>true_label</th>\n",
       "    </tr>\n",
       "  </thead>\n",
       "  <tbody>\n",
       "    <tr>\n",
       "      <th>0</th>\n",
       "      <td>0.263253</td>\n",
       "      <td>0.045011</td>\n",
       "      <td>0.059861</td>\n",
       "      <td>0.000000</td>\n",
       "      <td>0.209366</td>\n",
       "      <td>0.422510</td>\n",
       "      <td>0.422510</td>\n",
       "      <td>Walking</td>\n",
       "      <td>Walking</td>\n",
       "    </tr>\n",
       "    <tr>\n",
       "      <th>1</th>\n",
       "      <td>0.193596</td>\n",
       "      <td>0.000000</td>\n",
       "      <td>0.494851</td>\n",
       "      <td>0.212064</td>\n",
       "      <td>0.031541</td>\n",
       "      <td>0.067948</td>\n",
       "      <td>0.494851</td>\n",
       "      <td>Sitting</td>\n",
       "      <td>Sitting</td>\n",
       "    </tr>\n",
       "    <tr>\n",
       "      <th>2</th>\n",
       "      <td>0.153215</td>\n",
       "      <td>0.000000</td>\n",
       "      <td>0.043787</td>\n",
       "      <td>0.099867</td>\n",
       "      <td>0.496654</td>\n",
       "      <td>0.206477</td>\n",
       "      <td>0.496654</td>\n",
       "      <td>Upstairs</td>\n",
       "      <td>Upstairs</td>\n",
       "    </tr>\n",
       "    <tr>\n",
       "      <th>3</th>\n",
       "      <td>0.106909</td>\n",
       "      <td>0.514967</td>\n",
       "      <td>0.007369</td>\n",
       "      <td>0.000000</td>\n",
       "      <td>0.208537</td>\n",
       "      <td>0.162219</td>\n",
       "      <td>0.514967</td>\n",
       "      <td>Jogging</td>\n",
       "      <td>Jogging</td>\n",
       "    </tr>\n",
       "    <tr>\n",
       "      <th>4</th>\n",
       "      <td>0.205895</td>\n",
       "      <td>0.020779</td>\n",
       "      <td>0.144307</td>\n",
       "      <td>0.623503</td>\n",
       "      <td>0.005516</td>\n",
       "      <td>0.000000</td>\n",
       "      <td>0.623503</td>\n",
       "      <td>Standing</td>\n",
       "      <td>Standing</td>\n",
       "    </tr>\n",
       "  </tbody>\n",
       "</table>\n",
       "</div>"
      ],
      "text/plain": [
       "   Downstairs   Jogging   Sitting  Standing  Upstairs   Walking  \\\n",
       "0    0.263253  0.045011  0.059861  0.000000  0.209366  0.422510   \n",
       "1    0.193596  0.000000  0.494851  0.212064  0.031541  0.067948   \n",
       "2    0.153215  0.000000  0.043787  0.099867  0.496654  0.206477   \n",
       "3    0.106909  0.514967  0.007369  0.000000  0.208537  0.162219   \n",
       "4    0.205895  0.020779  0.144307  0.623503  0.005516  0.000000   \n",
       "\n",
       "   predict_probability predict_label true_label  \n",
       "0             0.422510       Walking    Walking  \n",
       "1             0.494851       Sitting    Sitting  \n",
       "2             0.496654      Upstairs   Upstairs  \n",
       "3             0.514967       Jogging    Jogging  \n",
       "4             0.623503      Standing   Standing  "
      ]
     },
     "execution_count": 151,
     "metadata": {},
     "output_type": "execute_result"
    }
   ],
   "source": [
    "vit_df.head()"
   ]
  },
  {
   "cell_type": "markdown",
   "metadata": {},
   "source": [
    "# count"
   ]
  },
  {
   "cell_type": "code",
   "execution_count": 152,
   "metadata": {},
   "outputs": [],
   "source": [
    "show_count(cnn1d_df, 'CNN1D')"
   ]
  },
  {
   "cell_type": "code",
   "execution_count": 153,
   "metadata": {},
   "outputs": [],
   "source": [
    "show_count(convbbt_df, 'ConvBackBoneTransformer')"
   ]
  },
  {
   "cell_type": "code",
   "execution_count": 154,
   "metadata": {},
   "outputs": [],
   "source": [
    "show_count(vit_df, 'VisionTransformer')"
   ]
  },
  {
   "cell_type": "markdown",
   "metadata": {},
   "source": [
    "### `CNN1D`\n",
    "\n",
    "![](./assets/CNN1D-count.png)  \n",
    "\n",
    "### `ConvBackBoneTransformer`\n",
    "\n",
    "![](./assets/ConvBackBoneTransformer-count.png)  \n",
    "\n",
    "### `VisionTransformer`\n",
    "\n",
    "![](./assets/VisionTransformer-count.png)"
   ]
  },
  {
   "cell_type": "markdown",
   "metadata": {},
   "source": [
    "# Stacked Count"
   ]
  },
  {
   "cell_type": "code",
   "execution_count": 155,
   "metadata": {},
   "outputs": [],
   "source": [
    "show_count_stacked(cnn1d_df, 'CNN1D')"
   ]
  },
  {
   "cell_type": "code",
   "execution_count": 156,
   "metadata": {},
   "outputs": [],
   "source": [
    "show_count_stacked(convbbt_df, 'ConvBackBoneTransformer')"
   ]
  },
  {
   "cell_type": "code",
   "execution_count": 157,
   "metadata": {},
   "outputs": [],
   "source": [
    "show_count_stacked(vit_df, 'VisionTransformer')"
   ]
  },
  {
   "cell_type": "markdown",
   "metadata": {},
   "source": [
    "### `CNN1D`\n",
    "\n",
    "![](./assets/CNN1D-count-stacked.png)  \n",
    "\n",
    "### `ConvBackBoneTransformer`\n",
    "\n",
    "![](./assets/ConvBackBoneTransformer-count-stacked.png)  \n",
    "\n",
    "### `VisionTransformer`\n",
    "\n",
    "![](./assets/VisionTransformer-count-stacked.png)"
   ]
  },
  {
   "cell_type": "markdown",
   "metadata": {},
   "source": [
    "# Each Model's Result Analysis"
   ]
  },
  {
   "cell_type": "code",
   "execution_count": 158,
   "metadata": {},
   "outputs": [
    {
     "name": "stdout",
     "output_type": "stream",
     "text": [
      "All index num: 8237\n",
      "All correct index num: 7193\n",
      "All incorrect index num: 86\n",
      "ideal accuracy: 0.9896\n",
      "--------------------------------------------------\n",
      "All incorrect index label count:\n"
     ]
    },
    {
     "data": {
      "text/plain": [
       "true_label\n",
       "Upstairs      37\n",
       "Downstairs    15\n",
       "Walking       13\n",
       "Jogging       12\n",
       "Sitting        6\n",
       "Standing       3\n",
       "Name: count, dtype: int64"
      ]
     },
     "execution_count": 158,
     "metadata": {},
     "output_type": "execute_result"
    }
   ],
   "source": [
    "cnn_correct_index = cnn1d_df.loc[cnn1d_df.true_label==cnn1d_df.predict_label].index\n",
    "convbbt_correct_index = convbbt_df.loc[convbbt_df.true_label==convbbt_df.predict_label].index\n",
    "vit_correct_index = vit_df.loc[vit_df.true_label==vit_df.predict_label].index\n",
    "\n",
    "cnn_incorrect_index = cnn1d_df.loc[cnn1d_df.true_label!=cnn1d_df.predict_label].index\n",
    "convbbt_incorrect_index = convbbt_df.loc[convbbt_df.true_label!=convbbt_df.predict_label].index\n",
    "vit_incorrect_index = vit_df.loc[vit_df.true_label!=vit_df.predict_label].index\n",
    "\n",
    "all_correct_index = list(set(cnn_correct_index)& set(convbbt_correct_index) & set(vit_correct_index))\n",
    "all_incorrect_index = list(set(cnn_incorrect_index) & set(convbbt_incorrect_index) & set(vit_incorrect_index))\n",
    "\n",
    "print(f'All index num: {len(cnn1d_df)}')\n",
    "print(f'All correct index num: {len(all_correct_index)}')\n",
    "print(f'All incorrect index num: {len(all_incorrect_index)}')\n",
    "print(f'ideal accuracy: {1-len(all_incorrect_index)/len(cnn1d_df):.4f}')\n",
    "print(\"-\"*50 )\n",
    "print(\"All incorrect index label count:\")\n",
    "cnn1d_df.loc[all_incorrect_index,\"true_label\"].value_counts()"
   ]
  },
  {
   "cell_type": "code",
   "execution_count": 159,
   "metadata": {},
   "outputs": [
    {
     "data": {
      "image/png": "[encoded data removed]",
      "text/plain": [
       "<Figure size 640x480 with 1 Axes>"
      ]
     },
     "metadata": {},
     "output_type": "display_data"
    },
    {
     "data": {
      "text/plain": [
       "predict_label\n",
       "Downstairs    27\n",
       "Upstairs      22\n",
       "Jogging       22\n",
       "Walking       11\n",
       "Standing       3\n",
       "Sitting        1\n",
       "Name: count, dtype: int64"
      ]
     },
     "execution_count": 159,
     "metadata": {},
     "output_type": "execute_result"
    }
   ],
   "source": [
    "cnn1d_df.loc[all_incorrect_index,\"predict_probability\"].hist(bins=20)\n",
    "plt.title('CNN1D\\nAll Model Incorrect Predict Probability Count')\n",
    "plt.xlabel('Probability')\n",
    "plt.ylabel('Count')\n",
    "plt.show()\n",
    "cnn1d_df.loc[all_incorrect_index,\"predict_label\"].value_counts()"
   ]
  },
  {
   "cell_type": "code",
   "execution_count": 160,
   "metadata": {},
   "outputs": [
    {
     "data": {
      "image/png": "[encoded data removed]",
      "text/plain": [
       "<Figure size 640x480 with 1 Axes>"
      ]
     },
     "metadata": {},
     "output_type": "display_data"
    },
    {
     "data": {
      "text/plain": [
       "predict_label\n",
       "Upstairs      28\n",
       "Downstairs    22\n",
       "Jogging       18\n",
       "Walking       17\n",
       "Standing       1\n",
       "Name: count, dtype: int64"
      ]
     },
     "execution_count": 160,
     "metadata": {},
     "output_type": "execute_result"
    }
   ],
   "source": [
    "convbbt_df.loc[all_incorrect_index,\"predict_probability\"].hist(bins=20)\n",
    "plt.title('ConvBackBoneTransformer\\nAll Model Incorrect Predict Probability Count')\n",
    "plt.xlabel('Probability')\n",
    "plt.ylabel('Count')\n",
    "plt.show()\n",
    "convbbt_df.loc[all_incorrect_index,\"predict_label\"].value_counts()"
   ]
  },
  {
   "cell_type": "code",
   "execution_count": 161,
   "metadata": {},
   "outputs": [
    {
     "data": {
      "image/png": "[encoded data removed]",
      "text/plain": [
       "<Figure size 640x480 with 1 Axes>"
      ]
     },
     "metadata": {},
     "output_type": "display_data"
    },
    {
     "data": {
      "text/plain": [
       "predict_label\n",
       "Upstairs      27\n",
       "Jogging       24\n",
       "Downstairs    23\n",
       "Walking        9\n",
       "Standing       3\n",
       "Name: count, dtype: int64"
      ]
     },
     "execution_count": 161,
     "metadata": {},
     "output_type": "execute_result"
    }
   ],
   "source": [
    "vit_df.loc[all_incorrect_index,\"predict_probability\"].hist(bins=20)\n",
    "plt.title('VisionTransformer\\nAll Model Incorrect Predict Probability Count')\n",
    "plt.xlabel('Probability')\n",
    "plt.ylabel('Count')\n",
    "plt.show()\n",
    "vit_df.loc[all_incorrect_index,\"predict_label\"].value_counts()"
   ]
  },
  {
   "cell_type": "markdown",
   "metadata": {},
   "source": [
    "# Ensamble Model"
   ]
  },
  {
   "cell_type": "markdown",
   "metadata": {},
   "source": [
    "## 1. Sum of Probabilities"
   ]
  },
  {
   "cell_type": "code",
   "execution_count": 162,
   "metadata": {},
   "outputs": [],
   "source": [
    "LABELS = [\"Downstairs\", \"Jogging\", \"Sitting\", \"Standing\", \"Upstairs\", \"Walking\"]\n",
    "ensamble1_df = cnn1d_df.loc[:, LABELS].copy() + convbbt_df.loc[:, LABELS].copy() + vit_df.loc[:, LABELS].copy()\n",
    "ensamble1_df = ensamble1_df.apply(lambda x: x / x.sum(), axis=1)\n",
    "ensamble1_df[\"predict_probability\"] = ensamble1_df.max(axis=1)\n",
    "ensamble1_df[\"predict_label\"] = ensamble1_df.idxmax(axis=1)\n",
    "ensamble1_df['true_label'] = true_label.map(lambda x: LABELS[x])"
   ]
  },
  {
   "cell_type": "code",
   "execution_count": 163,
   "metadata": {},
   "outputs": [
    {
     "data": {
      "text/html": [
       "<div>\n",
       "<style scoped>\n",
       "    .dataframe tbody tr th:only-of-type {\n",
       "        vertical-align: middle;\n",
       "    }\n",
       "\n",
       "    .dataframe tbody tr th {\n",
       "        vertical-align: top;\n",
       "    }\n",
       "\n",
       "    .dataframe thead th {\n",
       "        text-align: right;\n",
       "    }\n",
       "</style>\n",
       "<table border=\"1\" class=\"dataframe\">\n",
       "  <thead>\n",
       "    <tr style=\"text-align: right;\">\n",
       "      <th></th>\n",
       "      <th>Downstairs</th>\n",
       "      <th>Jogging</th>\n",
       "      <th>Sitting</th>\n",
       "      <th>Standing</th>\n",
       "      <th>Upstairs</th>\n",
       "      <th>Walking</th>\n",
       "      <th>predict_probability</th>\n",
       "      <th>predict_label</th>\n",
       "      <th>true_label</th>\n",
       "    </tr>\n",
       "  </thead>\n",
       "  <tbody>\n",
       "    <tr>\n",
       "      <th>0</th>\n",
       "      <td>0.201799</td>\n",
       "      <td>0.101100</td>\n",
       "      <td>0.032918</td>\n",
       "      <td>0.017991</td>\n",
       "      <td>0.273498</td>\n",
       "      <td>0.372693</td>\n",
       "      <td>0.372693</td>\n",
       "      <td>Walking</td>\n",
       "      <td>Walking</td>\n",
       "    </tr>\n",
       "    <tr>\n",
       "      <th>1</th>\n",
       "      <td>0.094917</td>\n",
       "      <td>0.000000</td>\n",
       "      <td>0.473036</td>\n",
       "      <td>0.261792</td>\n",
       "      <td>0.079132</td>\n",
       "      <td>0.091124</td>\n",
       "      <td>0.473036</td>\n",
       "      <td>Sitting</td>\n",
       "      <td>Sitting</td>\n",
       "    </tr>\n",
       "    <tr>\n",
       "      <th>2</th>\n",
       "      <td>0.214007</td>\n",
       "      <td>0.040677</td>\n",
       "      <td>0.017939</td>\n",
       "      <td>0.070895</td>\n",
       "      <td>0.410986</td>\n",
       "      <td>0.245497</td>\n",
       "      <td>0.410986</td>\n",
       "      <td>Upstairs</td>\n",
       "      <td>Upstairs</td>\n",
       "    </tr>\n",
       "    <tr>\n",
       "      <th>3</th>\n",
       "      <td>0.199583</td>\n",
       "      <td>0.510088</td>\n",
       "      <td>0.007322</td>\n",
       "      <td>0.041416</td>\n",
       "      <td>0.153010</td>\n",
       "      <td>0.088580</td>\n",
       "      <td>0.510088</td>\n",
       "      <td>Jogging</td>\n",
       "      <td>Jogging</td>\n",
       "    </tr>\n",
       "    <tr>\n",
       "      <th>4</th>\n",
       "      <td>0.146435</td>\n",
       "      <td>0.027867</td>\n",
       "      <td>0.180919</td>\n",
       "      <td>0.535918</td>\n",
       "      <td>0.052444</td>\n",
       "      <td>0.056417</td>\n",
       "      <td>0.535918</td>\n",
       "      <td>Standing</td>\n",
       "      <td>Standing</td>\n",
       "    </tr>\n",
       "  </tbody>\n",
       "</table>\n",
       "</div>"
      ],
      "text/plain": [
       "   Downstairs   Jogging   Sitting  Standing  Upstairs   Walking  \\\n",
       "0    0.201799  0.101100  0.032918  0.017991  0.273498  0.372693   \n",
       "1    0.094917  0.000000  0.473036  0.261792  0.079132  0.091124   \n",
       "2    0.214007  0.040677  0.017939  0.070895  0.410986  0.245497   \n",
       "3    0.199583  0.510088  0.007322  0.041416  0.153010  0.088580   \n",
       "4    0.146435  0.027867  0.180919  0.535918  0.052444  0.056417   \n",
       "\n",
       "   predict_probability predict_label true_label  \n",
       "0             0.372693       Walking    Walking  \n",
       "1             0.473036       Sitting    Sitting  \n",
       "2             0.410986      Upstairs   Upstairs  \n",
       "3             0.510088       Jogging    Jogging  \n",
       "4             0.535918      Standing   Standing  "
      ]
     },
     "execution_count": 163,
     "metadata": {},
     "output_type": "execute_result"
    }
   ],
   "source": [
    "ensamble1_df.head()"
   ]
  },
  {
   "cell_type": "code",
   "execution_count": 164,
   "metadata": {},
   "outputs": [],
   "source": [
    "show_count(ensamble1_df, 'Sum-of-Probability-Ensamble')"
   ]
  },
  {
   "cell_type": "code",
   "execution_count": 165,
   "metadata": {},
   "outputs": [],
   "source": [
    "show_count_stacked(ensamble1_df, 'Sum-of-Probability-Ensamble')"
   ]
  },
  {
   "cell_type": "markdown",
   "metadata": {},
   "source": [
    "### `Sum-of-Probability Ensamble`\n",
    "#### `count`\n",
    "![](./assets/Sum-of-Probability-Ensamble-count.png)\n",
    "\n",
    "#### `stacked count`\n",
    "![](./assets/Sum-of-Probability-Ensamble-count-stacked.png)"
   ]
  },
  {
   "cell_type": "code",
   "execution_count": 166,
   "metadata": {},
   "outputs": [
    {
     "name": "stdout",
     "output_type": "stream",
     "text": [
      "Accuracy: 0.9659\n",
      "incorrect index num: 281\n",
      "--------------------------------------------------\n"
     ]
    },
    {
     "data": {
      "text/plain": [
       "predict_label\n",
       "Upstairs      80\n",
       "Downstairs    77\n",
       "Jogging       73\n",
       "Walking       38\n",
       "Standing      10\n",
       "Sitting        3\n",
       "Name: count, dtype: int64"
      ]
     },
     "execution_count": 166,
     "metadata": {},
     "output_type": "execute_result"
    }
   ],
   "source": [
    "print(f'Accuracy: {calc_accuracy(ensamble1_df):.4f}')\n",
    "print(f'incorrect index num: {len(ensamble1_df.loc[ensamble1_df.true_label!=ensamble1_df.predict_label])}')\n",
    "print(\"-\"*50)\n",
    "ensamble1_df.loc[ensamble1_df.predict_label!=ensamble1_df.true_label,\"predict_label\"].value_counts()"
   ]
  },
  {
   "cell_type": "markdown",
   "metadata": {},
   "source": [
    "## 2. Vote Ensamble"
   ]
  },
  {
   "cell_type": "code",
   "execution_count": 167,
   "metadata": {},
   "outputs": [],
   "source": [
    "ensamble2_Series = pd.concat([cnn1d_df.loc[:, \"predict_label\"].copy(), convbbt_df.loc[:, \"predict_label\"].copy(), vit_df.loc[:, \"predict_label\"].copy()], axis=1).apply(lambda x: x.value_counts().idxmax(), axis=1)\n",
    "ensamble2_df = pd.DataFrame({\"predict_label\": ensamble2_Series, \"true_label\": true_label.map(lambda x: LABELS[x])})"
   ]
  },
  {
   "cell_type": "code",
   "execution_count": 168,
   "metadata": {},
   "outputs": [
    {
     "data": {
      "text/html": [
       "<div>\n",
       "<style scoped>\n",
       "    .dataframe tbody tr th:only-of-type {\n",
       "        vertical-align: middle;\n",
       "    }\n",
       "\n",
       "    .dataframe tbody tr th {\n",
       "        vertical-align: top;\n",
       "    }\n",
       "\n",
       "    .dataframe thead th {\n",
       "        text-align: right;\n",
       "    }\n",
       "</style>\n",
       "<table border=\"1\" class=\"dataframe\">\n",
       "  <thead>\n",
       "    <tr style=\"text-align: right;\">\n",
       "      <th></th>\n",
       "      <th>predict_label</th>\n",
       "      <th>true_label</th>\n",
       "    </tr>\n",
       "  </thead>\n",
       "  <tbody>\n",
       "    <tr>\n",
       "      <th>0</th>\n",
       "      <td>Walking</td>\n",
       "      <td>Walking</td>\n",
       "    </tr>\n",
       "    <tr>\n",
       "      <th>1</th>\n",
       "      <td>Sitting</td>\n",
       "      <td>Sitting</td>\n",
       "    </tr>\n",
       "    <tr>\n",
       "      <th>2</th>\n",
       "      <td>Upstairs</td>\n",
       "      <td>Upstairs</td>\n",
       "    </tr>\n",
       "    <tr>\n",
       "      <th>3</th>\n",
       "      <td>Jogging</td>\n",
       "      <td>Jogging</td>\n",
       "    </tr>\n",
       "    <tr>\n",
       "      <th>4</th>\n",
       "      <td>Standing</td>\n",
       "      <td>Standing</td>\n",
       "    </tr>\n",
       "  </tbody>\n",
       "</table>\n",
       "</div>"
      ],
      "text/plain": [
       "  predict_label true_label\n",
       "0       Walking    Walking\n",
       "1       Sitting    Sitting\n",
       "2      Upstairs   Upstairs\n",
       "3       Jogging    Jogging\n",
       "4      Standing   Standing"
      ]
     },
     "execution_count": 168,
     "metadata": {},
     "output_type": "execute_result"
    }
   ],
   "source": [
    "ensamble2_df.head()"
   ]
  },
  {
   "cell_type": "code",
   "execution_count": 169,
   "metadata": {},
   "outputs": [
    {
     "name": "stdout",
     "output_type": "stream",
     "text": [
      "Accuracy: 0.9591\n",
      "incorrect index num: 337\n",
      "--------------------------------------------------\n"
     ]
    },
    {
     "data": {
      "text/plain": [
       "predict_label\n",
       "Upstairs      107\n",
       "Downstairs     90\n",
       "Jogging        80\n",
       "Walking        49\n",
       "Standing        7\n",
       "Sitting         4\n",
       "Name: count, dtype: int64"
      ]
     },
     "execution_count": 169,
     "metadata": {},
     "output_type": "execute_result"
    }
   ],
   "source": [
    "print(f'Accuracy: {calc_accuracy(ensamble2_df):.4f}')\n",
    "print(f'incorrect index num: {len(ensamble2_df.loc[ensamble2_df.true_label!=ensamble2_df.predict_label])}')\n",
    "print(\"-\"*50)\n",
    "ensamble2_df.loc[ensamble2_df.predict_label!=ensamble2_df.true_label,\"predict_label\"].value_counts()"
   ]
  },
  {
   "cell_type": "markdown",
   "metadata": {},
   "source": [
    "# 3. Most Confident Ensamble"
   ]
  },
  {
   "cell_type": "code",
   "execution_count": 170,
   "metadata": {},
   "outputs": [],
   "source": [
    "modelnames = [\"CNN1D\", \"ConvBackBoneTransformer\", \"VisionTransformer\"]\n",
    "ensamble3_label_df = pd.concat([cnn1d_df.loc[:, \"predict_label\"].copy(), convbbt_df.loc[:, \"predict_label\"].copy(), vit_df.loc[:, \"predict_label\"].copy()], axis=1)\n",
    "ensamble3_probability_df= pd.concat([cnn1d_df.loc[:, \"predict_probability\"].copy(), convbbt_df.loc[:, \"predict_probability\"].copy(), vit_df.loc[:, \"predict_probability\"].copy()], axis=1)\n",
    "ensamble3_label_df.columns = modelnames\n",
    "ensamble3_probability_df.columns = modelnames\n",
    "ensamble3_df = pd.DataFrame({\n",
    "                        \"predict_label\": ensamble3_label_df.apply(lambda x: x.value_counts().idxmax(), axis=1),\n",
    "                        \"predict_probability\": ensamble3_probability_df.max(axis=1),\n",
    "                        \"true_label\": true_label.map(lambda x: LABELS[x]), \"predict_probability\": ensamble3_probability_df.max(axis=1),\n",
    "                        })"
   ]
  },
  {
   "cell_type": "code",
   "execution_count": 171,
   "metadata": {},
   "outputs": [
    {
     "data": {
      "text/html": [
       "<div>\n",
       "<style scoped>\n",
       "    .dataframe tbody tr th:only-of-type {\n",
       "        vertical-align: middle;\n",
       "    }\n",
       "\n",
       "    .dataframe tbody tr th {\n",
       "        vertical-align: top;\n",
       "    }\n",
       "\n",
       "    .dataframe thead th {\n",
       "        text-align: right;\n",
       "    }\n",
       "</style>\n",
       "<table border=\"1\" class=\"dataframe\">\n",
       "  <thead>\n",
       "    <tr style=\"text-align: right;\">\n",
       "      <th></th>\n",
       "      <th>predict_label</th>\n",
       "      <th>predict_probability</th>\n",
       "      <th>true_label</th>\n",
       "    </tr>\n",
       "  </thead>\n",
       "  <tbody>\n",
       "    <tr>\n",
       "      <th>0</th>\n",
       "      <td>Walking</td>\n",
       "      <td>0.422510</td>\n",
       "      <td>Walking</td>\n",
       "    </tr>\n",
       "    <tr>\n",
       "      <th>1</th>\n",
       "      <td>Sitting</td>\n",
       "      <td>0.494851</td>\n",
       "      <td>Sitting</td>\n",
       "    </tr>\n",
       "    <tr>\n",
       "      <th>2</th>\n",
       "      <td>Upstairs</td>\n",
       "      <td>0.496654</td>\n",
       "      <td>Upstairs</td>\n",
       "    </tr>\n",
       "    <tr>\n",
       "      <th>3</th>\n",
       "      <td>Jogging</td>\n",
       "      <td>0.574988</td>\n",
       "      <td>Jogging</td>\n",
       "    </tr>\n",
       "    <tr>\n",
       "      <th>4</th>\n",
       "      <td>Standing</td>\n",
       "      <td>0.643581</td>\n",
       "      <td>Standing</td>\n",
       "    </tr>\n",
       "  </tbody>\n",
       "</table>\n",
       "</div>"
      ],
      "text/plain": [
       "  predict_label  predict_probability true_label\n",
       "0       Walking             0.422510    Walking\n",
       "1       Sitting             0.494851    Sitting\n",
       "2      Upstairs             0.496654   Upstairs\n",
       "3       Jogging             0.574988    Jogging\n",
       "4      Standing             0.643581   Standing"
      ]
     },
     "execution_count": 171,
     "metadata": {},
     "output_type": "execute_result"
    }
   ],
   "source": [
    "ensamble3_df.head()"
   ]
  },
  {
   "cell_type": "code",
   "execution_count": 175,
   "metadata": {},
   "outputs": [],
   "source": [
    "show_count(ensamble1_df, 'Max-of-Probability-Ensamble')"
   ]
  },
  {
   "cell_type": "code",
   "execution_count": 176,
   "metadata": {},
   "outputs": [],
   "source": [
    "show_count_stacked(ensamble1_df, 'Max-of-Probability-Ensamble')"
   ]
  },
  {
   "cell_type": "markdown",
   "metadata": {},
   "source": [
    "### `Max-of-Probability-Ensamble`\n",
    "#### `count`\n",
    "![](./assets/Max-of-Probability-Ensamble-count.png)\n",
    "\n",
    "#### `stacked count`\n",
    "![](./assets/Max-of-Probability-Ensamble-count-stacked.png)"
   ]
  },
  {
   "cell_type": "code",
   "execution_count": 174,
   "metadata": {},
   "outputs": [
    {
     "name": "stdout",
     "output_type": "stream",
     "text": [
      "Accuracy: 0.9591\n",
      "incorrect index num: 337\n",
      "--------------------------------------------------\n"
     ]
    },
    {
     "data": {
      "text/plain": [
       "predict_label\n",
       "Upstairs      107\n",
       "Downstairs     90\n",
       "Jogging        80\n",
       "Walking        49\n",
       "Standing        7\n",
       "Sitting         4\n",
       "Name: count, dtype: int64"
      ]
     },
     "execution_count": 174,
     "metadata": {},
     "output_type": "execute_result"
    }
   ],
   "source": [
    "print(f'Accuracy: {calc_accuracy(ensamble3_df):.4f}')\n",
    "print(f'incorrect index num: {len(ensamble3_df.loc[ensamble3_df.true_label!=ensamble3_df.predict_label])}')\n",
    "print(\"-\"*50)\n",
    "ensamble3_df.loc[ensamble3_df.predict_label!=ensamble3_df.true_label,\"predict_label\"].value_counts()"
   ]
  },
  {
   "cell_type": "markdown",
   "metadata": {},
   "source": [
    "Vote ensamble method is unstable, and accuracy is not good.  \n",
    "So first ensamble method is better."
   ]
  }
 ],
 "metadata": {
  "kernelspec": {
   "display_name": "Python 3",
   "language": "python",
   "name": "python3"
  },
  "language_info": {
   "codemirror_mode": {
    "name": "ipython",
    "version": 3
   },
   "file_extension": ".py",
   "mimetype": "text/x-python",
   "name": "python",
   "nbconvert_exporter": "python",
   "pygments_lexer": "ipython3",
   "version": "3.10.5"
  }
 },
 "nbformat": 4,
 "nbformat_minor": 2
}
