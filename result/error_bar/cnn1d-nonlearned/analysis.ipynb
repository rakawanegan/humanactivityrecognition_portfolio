{
 "cells": [
  {
   "cell_type": "code",
   "execution_count": 1,
   "metadata": {
    "execution": {
     "iopub.execute_input": "2023-11-01T07:37:16.781112Z",
     "iopub.status.busy": "2023-11-01T07:37:16.780257Z",
     "iopub.status.idle": "2023-11-01T07:37:17.862947Z",
     "shell.execute_reply": "2023-11-01T07:37:17.862423Z"
    }
   },
   "outputs": [
    {
     "name": "stderr",
     "output_type": "stream",
     "text": [
      "/home/nakagawa/.local/lib/python3.10/site-packages/scipy/__init__.py:155: UserWarning: A NumPy version >=1.18.5 and <1.25.0 is required for this version of SciPy (detected version 1.26.1\n",
      "  warnings.warn(f\"A NumPy version >={np_minversion} and <{np_maxversion}\"\n"
     ]
    }
   ],
   "source": [
    "import pandas as pd\n",
    "from matplotlib import pyplot as plt\n",
    "import seaborn as sns\n",
    "from sklearn.metrics import confusion_matrix"
   ]
  },
  {
   "cell_type": "code",
   "execution_count": 2,
   "metadata": {
    "execution": {
     "iopub.execute_input": "2023-11-01T07:37:17.865277Z",
     "iopub.status.busy": "2023-11-01T07:37:17.864994Z",
     "iopub.status.idle": "2023-11-01T07:37:17.867792Z",
     "shell.execute_reply": "2023-11-01T07:37:17.867454Z"
    }
   },
   "outputs": [],
   "source": [
    "def calc_accuracy(df):\n",
    "    return (df['true_label'] == df['predict_label']).sum() / len(df)"
   ]
  },
  {
   "attachments": {},
   "cell_type": "markdown",
   "metadata": {},
   "source": [
    "# Prediction Import"
   ]
  },
  {
   "cell_type": "code",
   "execution_count": 3,
   "metadata": {
    "execution": {
     "iopub.execute_input": "2023-11-01T07:37:17.869851Z",
     "iopub.status.busy": "2023-11-01T07:37:17.869685Z",
     "iopub.status.idle": "2023-11-01T07:37:17.890617Z",
     "shell.execute_reply": "2023-11-01T07:37:17.890251Z"
    }
   },
   "outputs": [
    {
     "data": {
      "text/html": [
       "<div>\n",
       "<style scoped>\n",
       "    .dataframe tbody tr th:only-of-type {\n",
       "        vertical-align: middle;\n",
       "    }\n",
       "\n",
       "    .dataframe tbody tr th {\n",
       "        vertical-align: top;\n",
       "    }\n",
       "\n",
       "    .dataframe thead th {\n",
       "        text-align: right;\n",
       "    }\n",
       "</style>\n",
       "<table border=\"1\" class=\"dataframe\">\n",
       "  <thead>\n",
       "    <tr style=\"text-align: right;\">\n",
       "      <th></th>\n",
       "      <th>Downstairs</th>\n",
       "      <th>Jogging</th>\n",
       "      <th>Sitting</th>\n",
       "      <th>Standing</th>\n",
       "      <th>Upstairs</th>\n",
       "      <th>Walking</th>\n",
       "    </tr>\n",
       "  </thead>\n",
       "  <tbody>\n",
       "    <tr>\n",
       "      <th>0</th>\n",
       "      <td>-1.856954</td>\n",
       "      <td>-0.402641</td>\n",
       "      <td>1.370710</td>\n",
       "      <td>0.664919</td>\n",
       "      <td>-1.444044</td>\n",
       "      <td>-1.103602</td>\n",
       "    </tr>\n",
       "    <tr>\n",
       "      <th>1</th>\n",
       "      <td>-1.075563</td>\n",
       "      <td>-0.365577</td>\n",
       "      <td>1.026769</td>\n",
       "      <td>0.431320</td>\n",
       "      <td>-0.754279</td>\n",
       "      <td>-0.619862</td>\n",
       "    </tr>\n",
       "    <tr>\n",
       "      <th>2</th>\n",
       "      <td>-1.512881</td>\n",
       "      <td>-0.059187</td>\n",
       "      <td>1.163938</td>\n",
       "      <td>0.451990</td>\n",
       "      <td>-1.140097</td>\n",
       "      <td>-0.957195</td>\n",
       "    </tr>\n",
       "    <tr>\n",
       "      <th>3</th>\n",
       "      <td>-1.696113</td>\n",
       "      <td>-0.238592</td>\n",
       "      <td>2.596291</td>\n",
       "      <td>0.839827</td>\n",
       "      <td>-1.958320</td>\n",
       "      <td>-1.072237</td>\n",
       "    </tr>\n",
       "    <tr>\n",
       "      <th>4</th>\n",
       "      <td>-0.740480</td>\n",
       "      <td>-0.085293</td>\n",
       "      <td>1.033653</td>\n",
       "      <td>0.294585</td>\n",
       "      <td>-0.741171</td>\n",
       "      <td>-0.924117</td>\n",
       "    </tr>\n",
       "  </tbody>\n",
       "</table>\n",
       "</div>"
      ],
      "text/plain": [
       "   Downstairs   Jogging   Sitting  Standing  Upstairs   Walking\n",
       "0   -1.856954 -0.402641  1.370710  0.664919 -1.444044 -1.103602\n",
       "1   -1.075563 -0.365577  1.026769  0.431320 -0.754279 -0.619862\n",
       "2   -1.512881 -0.059187  1.163938  0.451990 -1.140097 -0.957195\n",
       "3   -1.696113 -0.238592  2.596291  0.839827 -1.958320 -1.072237\n",
       "4   -0.740480 -0.085293  1.033653  0.294585 -0.741171 -0.924117"
      ]
     },
     "execution_count": 3,
     "metadata": {},
     "output_type": "execute_result"
    }
   ],
   "source": [
    "LABELS = [\"Downstairs\", \"Jogging\", \"Sitting\", \"Standing\", \"Upstairs\", \"Walking\"]\n",
    "df = pd.read_csv('predict.csv', index_col=0)\n",
    "predict = df.drop('true', axis=1)\n",
    "true = df['true']\n",
    "del df\n",
    "true_encoded = true.map(lambda x: LABELS[x])\n",
    "true_encoded.name = 'true_label'\n",
    "predict.columns = LABELS\n",
    "predict.head()"
   ]
  },
  {
   "cell_type": "code",
   "execution_count": 4,
   "metadata": {
    "execution": {
     "iopub.execute_input": "2023-11-01T07:37:17.892601Z",
     "iopub.status.busy": "2023-11-01T07:37:17.892427Z",
     "iopub.status.idle": "2023-11-01T07:37:20.906274Z",
     "shell.execute_reply": "2023-11-01T07:37:20.905753Z"
    }
   },
   "outputs": [],
   "source": [
    "# min-max normalization\n",
    "predict = predict.apply(lambda x: (x - x.min()) / (x.max() - x.min()), axis=1)\n",
    "predict = predict.apply(lambda x: x / x.sum(), axis=1)\n",
    "\n",
    "predict_label = predict.idxmax(axis=1)\n",
    "predict_probability = predict.max(axis=1)\n",
    "predict_probability.name = 'predict_probability'\n",
    "predict_label.name = 'predict_label'\n",
    "# predict.head()\n",
    "# true.head()\n",
    "# true_encoded.head()"
   ]
  },
  {
   "cell_type": "code",
   "execution_count": 5,
   "metadata": {
    "execution": {
     "iopub.execute_input": "2023-11-01T07:37:20.908465Z",
     "iopub.status.busy": "2023-11-01T07:37:20.908322Z",
     "iopub.status.idle": "2023-11-01T07:37:20.918233Z",
     "shell.execute_reply": "2023-11-01T07:37:20.917757Z"
    }
   },
   "outputs": [
    {
     "data": {
      "text/html": [
       "<div>\n",
       "<style scoped>\n",
       "    .dataframe tbody tr th:only-of-type {\n",
       "        vertical-align: middle;\n",
       "    }\n",
       "\n",
       "    .dataframe tbody tr th {\n",
       "        vertical-align: top;\n",
       "    }\n",
       "\n",
       "    .dataframe thead th {\n",
       "        text-align: right;\n",
       "    }\n",
       "</style>\n",
       "<table border=\"1\" class=\"dataframe\">\n",
       "  <thead>\n",
       "    <tr style=\"text-align: right;\">\n",
       "      <th></th>\n",
       "      <th>Downstairs</th>\n",
       "      <th>Jogging</th>\n",
       "      <th>Sitting</th>\n",
       "      <th>Standing</th>\n",
       "      <th>Upstairs</th>\n",
       "      <th>Walking</th>\n",
       "      <th>predict_probability</th>\n",
       "      <th>true</th>\n",
       "      <th>predict_label</th>\n",
       "      <th>true_label</th>\n",
       "    </tr>\n",
       "  </thead>\n",
       "  <tbody>\n",
       "    <tr>\n",
       "      <th>0</th>\n",
       "      <td>0.000000</td>\n",
       "      <td>0.173751</td>\n",
       "      <td>0.385618</td>\n",
       "      <td>0.301295</td>\n",
       "      <td>0.049331</td>\n",
       "      <td>0.090005</td>\n",
       "      <td>0.385618</td>\n",
       "      <td>5</td>\n",
       "      <td>Sitting</td>\n",
       "      <td>Walking</td>\n",
       "    </tr>\n",
       "    <tr>\n",
       "      <th>1</th>\n",
       "      <td>0.000000</td>\n",
       "      <td>0.139317</td>\n",
       "      <td>0.412531</td>\n",
       "      <td>0.295689</td>\n",
       "      <td>0.063044</td>\n",
       "      <td>0.089420</td>\n",
       "      <td>0.412531</td>\n",
       "      <td>2</td>\n",
       "      <td>Sitting</td>\n",
       "      <td>Sitting</td>\n",
       "    </tr>\n",
       "    <tr>\n",
       "      <th>2</th>\n",
       "      <td>0.000000</td>\n",
       "      <td>0.206965</td>\n",
       "      <td>0.381104</td>\n",
       "      <td>0.279743</td>\n",
       "      <td>0.053074</td>\n",
       "      <td>0.079114</td>\n",
       "      <td>0.381104</td>\n",
       "      <td>4</td>\n",
       "      <td>Sitting</td>\n",
       "      <td>Upstairs</td>\n",
       "    </tr>\n",
       "    <tr>\n",
       "      <th>3</th>\n",
       "      <td>0.025654</td>\n",
       "      <td>0.168258</td>\n",
       "      <td>0.445623</td>\n",
       "      <td>0.273770</td>\n",
       "      <td>0.000000</td>\n",
       "      <td>0.086694</td>\n",
       "      <td>0.445623</td>\n",
       "      <td>1</td>\n",
       "      <td>Sitting</td>\n",
       "      <td>Jogging</td>\n",
       "    </tr>\n",
       "    <tr>\n",
       "      <th>4</th>\n",
       "      <td>0.041908</td>\n",
       "      <td>0.191430</td>\n",
       "      <td>0.446788</td>\n",
       "      <td>0.278123</td>\n",
       "      <td>0.041751</td>\n",
       "      <td>0.000000</td>\n",
       "      <td>0.446788</td>\n",
       "      <td>3</td>\n",
       "      <td>Sitting</td>\n",
       "      <td>Standing</td>\n",
       "    </tr>\n",
       "    <tr>\n",
       "      <th>5</th>\n",
       "      <td>0.000000</td>\n",
       "      <td>0.162003</td>\n",
       "      <td>0.415020</td>\n",
       "      <td>0.347661</td>\n",
       "      <td>0.005672</td>\n",
       "      <td>0.069643</td>\n",
       "      <td>0.415020</td>\n",
       "      <td>5</td>\n",
       "      <td>Sitting</td>\n",
       "      <td>Walking</td>\n",
       "    </tr>\n",
       "    <tr>\n",
       "      <th>6</th>\n",
       "      <td>0.000000</td>\n",
       "      <td>0.178211</td>\n",
       "      <td>0.363362</td>\n",
       "      <td>0.305138</td>\n",
       "      <td>0.094727</td>\n",
       "      <td>0.058562</td>\n",
       "      <td>0.363362</td>\n",
       "      <td>0</td>\n",
       "      <td>Sitting</td>\n",
       "      <td>Downstairs</td>\n",
       "    </tr>\n",
       "    <tr>\n",
       "      <th>7</th>\n",
       "      <td>0.000000</td>\n",
       "      <td>0.169236</td>\n",
       "      <td>0.330632</td>\n",
       "      <td>0.294812</td>\n",
       "      <td>0.093538</td>\n",
       "      <td>0.111782</td>\n",
       "      <td>0.330632</td>\n",
       "      <td>0</td>\n",
       "      <td>Sitting</td>\n",
       "      <td>Downstairs</td>\n",
       "    </tr>\n",
       "    <tr>\n",
       "      <th>8</th>\n",
       "      <td>0.038208</td>\n",
       "      <td>0.151278</td>\n",
       "      <td>0.445789</td>\n",
       "      <td>0.288818</td>\n",
       "      <td>0.000000</td>\n",
       "      <td>0.075907</td>\n",
       "      <td>0.445789</td>\n",
       "      <td>1</td>\n",
       "      <td>Sitting</td>\n",
       "      <td>Jogging</td>\n",
       "    </tr>\n",
       "    <tr>\n",
       "      <th>9</th>\n",
       "      <td>0.000000</td>\n",
       "      <td>0.168655</td>\n",
       "      <td>0.434782</td>\n",
       "      <td>0.320531</td>\n",
       "      <td>0.022525</td>\n",
       "      <td>0.053507</td>\n",
       "      <td>0.434782</td>\n",
       "      <td>5</td>\n",
       "      <td>Sitting</td>\n",
       "      <td>Walking</td>\n",
       "    </tr>\n",
       "  </tbody>\n",
       "</table>\n",
       "</div>"
      ],
      "text/plain": [
       "   Downstairs   Jogging   Sitting  Standing  Upstairs   Walking  \\\n",
       "0    0.000000  0.173751  0.385618  0.301295  0.049331  0.090005   \n",
       "1    0.000000  0.139317  0.412531  0.295689  0.063044  0.089420   \n",
       "2    0.000000  0.206965  0.381104  0.279743  0.053074  0.079114   \n",
       "3    0.025654  0.168258  0.445623  0.273770  0.000000  0.086694   \n",
       "4    0.041908  0.191430  0.446788  0.278123  0.041751  0.000000   \n",
       "5    0.000000  0.162003  0.415020  0.347661  0.005672  0.069643   \n",
       "6    0.000000  0.178211  0.363362  0.305138  0.094727  0.058562   \n",
       "7    0.000000  0.169236  0.330632  0.294812  0.093538  0.111782   \n",
       "8    0.038208  0.151278  0.445789  0.288818  0.000000  0.075907   \n",
       "9    0.000000  0.168655  0.434782  0.320531  0.022525  0.053507   \n",
       "\n",
       "   predict_probability  true predict_label  true_label  \n",
       "0             0.385618     5       Sitting     Walking  \n",
       "1             0.412531     2       Sitting     Sitting  \n",
       "2             0.381104     4       Sitting    Upstairs  \n",
       "3             0.445623     1       Sitting     Jogging  \n",
       "4             0.446788     3       Sitting    Standing  \n",
       "5             0.415020     5       Sitting     Walking  \n",
       "6             0.363362     0       Sitting  Downstairs  \n",
       "7             0.330632     0       Sitting  Downstairs  \n",
       "8             0.445789     1       Sitting     Jogging  \n",
       "9             0.434782     5       Sitting     Walking  "
      ]
     },
     "execution_count": 5,
     "metadata": {},
     "output_type": "execute_result"
    }
   ],
   "source": [
    "df = pd.concat([\n",
    "            predict,\n",
    "            predict_probability,\n",
    "            true,\n",
    "            predict_label,\n",
    "            true_encoded\n",
    "        ], axis=1)\n",
    "df.head(10)"
   ]
  },
  {
   "cell_type": "code",
   "execution_count": 6,
   "metadata": {
    "execution": {
     "iopub.execute_input": "2023-11-01T07:37:20.920055Z",
     "iopub.status.busy": "2023-11-01T07:37:20.919909Z",
     "iopub.status.idle": "2023-11-01T07:37:21.311704Z",
     "shell.execute_reply": "2023-11-01T07:37:21.311205Z"
    }
   },
   "outputs": [
    {
     "name": "stdout",
     "output_type": "stream",
     "text": [
      "Accuracy:  0.05596697826878718\n"
     ]
    },
    {
     "data": {
      "text/plain": [
       "<matplotlib.legend.Legend at 0x7f7afbfb3df0>"
      ]
     },
     "execution_count": 6,
     "metadata": {},
     "output_type": "execute_result"
    },
    {
     "data": {
      "image/png": "[encoded data removed]",
      "text/plain": [
       "<Figure size 640x480 with 1 Axes>"
      ]
     },
     "metadata": {},
     "output_type": "display_data"
    }
   ],
   "source": [
    "print('Accuracy: ', calc_accuracy(df))\n",
    "# statival analysis\n",
    "df.loc[df.true_label==df.predict_label, 'predict_probability'].hist(bins=100)\n",
    "df.loc[df.true_label!=df.predict_label, 'predict_probability'].hist(bins=100)\n",
    "plt.title('Predict Probability Distribution')\n",
    "plt.xlim(0, 1)\n",
    "plt.ylim(0, 400)\n",
    "plt.xlabel('Probability')\n",
    "plt.ylabel('Count')\n",
    "plt.legend(['Correct', 'Incorrect'])"
   ]
  },
  {
   "cell_type": "code",
   "execution_count": 7,
   "metadata": {
    "execution": {
     "iopub.execute_input": "2023-11-01T07:37:21.313749Z",
     "iopub.status.busy": "2023-11-01T07:37:21.313535Z",
     "iopub.status.idle": "2023-11-01T07:37:21.319087Z",
     "shell.execute_reply": "2023-11-01T07:37:21.318652Z"
    }
   },
   "outputs": [
    {
     "data": {
      "text/plain": [
       "mean      0.410399\n",
       "std       0.040760\n",
       "min       0.306745\n",
       "max       0.593895\n",
       "median    0.407552\n",
       "Name: predict_probability, dtype: float64"
      ]
     },
     "execution_count": 7,
     "metadata": {},
     "output_type": "execute_result"
    }
   ],
   "source": [
    "df['predict_probability'].agg(['mean', 'std', 'min', 'max', 'median'])"
   ]
  }
 ],
 "metadata": {
  "kernelspec": {
   "display_name": "Python 3",
   "language": "python",
   "name": "python3"
  },
  "language_info": {
   "codemirror_mode": {
    "name": "ipython",
    "version": 3
   },
   "file_extension": ".py",
   "mimetype": "text/x-python",
   "name": "python",
   "nbconvert_exporter": "python",
   "pygments_lexer": "ipython3",
   "version": "3.10.12"
  }
 },
 "nbformat": 4,
 "nbformat_minor": 2
}
