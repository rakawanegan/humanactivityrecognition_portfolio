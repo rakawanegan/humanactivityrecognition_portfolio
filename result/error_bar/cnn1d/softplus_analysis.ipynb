{
 "cells": [
  {
   "cell_type": "code",
   "execution_count": 1,
   "metadata": {
    "execution": {
     "iopub.execute_input": "2023-11-01T07:37:22.846703Z",
     "iopub.status.busy": "2023-11-01T07:37:22.845832Z",
     "iopub.status.idle": "2023-11-01T07:37:23.920616Z",
     "shell.execute_reply": "2023-11-01T07:37:23.919967Z"
    }
   },
   "outputs": [
    {
     "name": "stderr",
     "output_type": "stream",
     "text": [
      "/home/nakagawa/.local/lib/python3.10/site-packages/scipy/__init__.py:155: UserWarning: A NumPy version >=1.18.5 and <1.25.0 is required for this version of SciPy (detected version 1.26.1\n",
      "  warnings.warn(f\"A NumPy version >={np_minversion} and <{np_maxversion}\"\n"
     ]
    }
   ],
   "source": [
    "import numpy as np\n",
    "from matplotlib import pyplot as plt\n",
    "import pandas as pd\n",
    "import seaborn as sns\n",
    "from sklearn.metrics import confusion_matrix"
   ]
  },
  {
   "cell_type": "code",
   "execution_count": 2,
   "metadata": {
    "execution": {
     "iopub.execute_input": "2023-11-01T07:37:23.923021Z",
     "iopub.status.busy": "2023-11-01T07:37:23.922710Z",
     "iopub.status.idle": "2023-11-01T07:37:23.925715Z",
     "shell.execute_reply": "2023-11-01T07:37:23.925357Z"
    }
   },
   "outputs": [],
   "source": [
    "def calc_accuracy(df):\n",
    "    return (df['true_label'] == df['predict_label']).sum() / len(df)"
   ]
  },
  {
   "attachments": {},
   "cell_type": "markdown",
   "metadata": {},
   "source": [
    "# Prediction Import"
   ]
  },
  {
   "cell_type": "code",
   "execution_count": 3,
   "metadata": {
    "execution": {
     "iopub.execute_input": "2023-11-01T07:37:23.928230Z",
     "iopub.status.busy": "2023-11-01T07:37:23.927694Z",
     "iopub.status.idle": "2023-11-01T07:37:23.948848Z",
     "shell.execute_reply": "2023-11-01T07:37:23.948365Z"
    }
   },
   "outputs": [
    {
     "data": {
      "text/html": [
       "<div>\n",
       "<style scoped>\n",
       "    .dataframe tbody tr th:only-of-type {\n",
       "        vertical-align: middle;\n",
       "    }\n",
       "\n",
       "    .dataframe tbody tr th {\n",
       "        vertical-align: top;\n",
       "    }\n",
       "\n",
       "    .dataframe thead th {\n",
       "        text-align: right;\n",
       "    }\n",
       "</style>\n",
       "<table border=\"1\" class=\"dataframe\">\n",
       "  <thead>\n",
       "    <tr style=\"text-align: right;\">\n",
       "      <th></th>\n",
       "      <th>Downstairs</th>\n",
       "      <th>Jogging</th>\n",
       "      <th>Sitting</th>\n",
       "      <th>Standing</th>\n",
       "      <th>Upstairs</th>\n",
       "      <th>Walking</th>\n",
       "    </tr>\n",
       "  </thead>\n",
       "  <tbody>\n",
       "    <tr>\n",
       "      <th>0</th>\n",
       "      <td>-41.391300</td>\n",
       "      <td>-19.525230</td>\n",
       "      <td>-41.098103</td>\n",
       "      <td>-40.247326</td>\n",
       "      <td>8.594010</td>\n",
       "      <td>16.886126</td>\n",
       "    </tr>\n",
       "    <tr>\n",
       "      <th>1</th>\n",
       "      <td>-23.017810</td>\n",
       "      <td>-37.092327</td>\n",
       "      <td>32.698044</td>\n",
       "      <td>1.198529</td>\n",
       "      <td>-7.665591</td>\n",
       "      <td>-26.310192</td>\n",
       "    </tr>\n",
       "    <tr>\n",
       "      <th>2</th>\n",
       "      <td>-25.394966</td>\n",
       "      <td>-44.099842</td>\n",
       "      <td>-50.211735</td>\n",
       "      <td>-58.358400</td>\n",
       "      <td>23.554977</td>\n",
       "      <td>-7.026921</td>\n",
       "    </tr>\n",
       "    <tr>\n",
       "      <th>3</th>\n",
       "      <td>-3.719642</td>\n",
       "      <td>33.317510</td>\n",
       "      <td>-86.934020</td>\n",
       "      <td>-88.753174</td>\n",
       "      <td>-1.316395</td>\n",
       "      <td>-32.161095</td>\n",
       "    </tr>\n",
       "    <tr>\n",
       "      <th>4</th>\n",
       "      <td>-12.965935</td>\n",
       "      <td>-19.494660</td>\n",
       "      <td>-0.595499</td>\n",
       "      <td>12.329179</td>\n",
       "      <td>2.745328</td>\n",
       "      <td>-19.452412</td>\n",
       "    </tr>\n",
       "  </tbody>\n",
       "</table>\n",
       "</div>"
      ],
      "text/plain": [
       "   Downstairs    Jogging    Sitting   Standing   Upstairs    Walking\n",
       "0  -41.391300 -19.525230 -41.098103 -40.247326   8.594010  16.886126\n",
       "1  -23.017810 -37.092327  32.698044   1.198529  -7.665591 -26.310192\n",
       "2  -25.394966 -44.099842 -50.211735 -58.358400  23.554977  -7.026921\n",
       "3   -3.719642  33.317510 -86.934020 -88.753174  -1.316395 -32.161095\n",
       "4  -12.965935 -19.494660  -0.595499  12.329179   2.745328 -19.452412"
      ]
     },
     "execution_count": 3,
     "metadata": {},
     "output_type": "execute_result"
    }
   ],
   "source": [
    "LABELS = [\"Downstairs\", \"Jogging\", \"Sitting\", \"Standing\", \"Upstairs\", \"Walking\"]\n",
    "df = pd.read_csv('predict.csv', index_col=0)\n",
    "predict = df.drop('true', axis=1)\n",
    "true = df['true']\n",
    "del df\n",
    "true_encoded = true.map(lambda x: LABELS[x])\n",
    "true_encoded.name = 'true_label'\n",
    "predict.columns = LABELS\n",
    "predict.head()"
   ]
  },
  {
   "cell_type": "code",
   "execution_count": 4,
   "metadata": {
    "execution": {
     "iopub.execute_input": "2023-11-01T07:37:23.950845Z",
     "iopub.status.busy": "2023-11-01T07:37:23.950697Z",
     "iopub.status.idle": "2023-11-01T07:37:27.172907Z",
     "shell.execute_reply": "2023-11-01T07:37:27.172314Z"
    }
   },
   "outputs": [],
   "source": [
    "# min-max normalization\n",
    "predict = predict.apply(lambda x: np.log(1 + np.exp(x)), axis=1)\n",
    "predict = predict.apply(lambda x: (x - x.min()) / (x.max() - x.min()), axis=1)\n",
    "predict = predict.apply(lambda x: x / x.sum(), axis=1)\n",
    "\n",
    "predict_label = predict.idxmax(axis=1)\n",
    "predict_probability = predict.max(axis=1)\n",
    "predict_probability.name = 'predict_probability'\n",
    "predict_label.name = 'predict_label'\n",
    "# predict.head()\n",
    "# true.head()\n",
    "# true_encoded.head()"
   ]
  },
  {
   "cell_type": "code",
   "execution_count": 5,
   "metadata": {
    "execution": {
     "iopub.execute_input": "2023-11-01T07:37:27.175672Z",
     "iopub.status.busy": "2023-11-01T07:37:27.175508Z",
     "iopub.status.idle": "2023-11-01T07:37:27.185728Z",
     "shell.execute_reply": "2023-11-01T07:37:27.185238Z"
    }
   },
   "outputs": [
    {
     "data": {
      "text/html": [
       "<div>\n",
       "<style scoped>\n",
       "    .dataframe tbody tr th:only-of-type {\n",
       "        vertical-align: middle;\n",
       "    }\n",
       "\n",
       "    .dataframe tbody tr th {\n",
       "        vertical-align: top;\n",
       "    }\n",
       "\n",
       "    .dataframe thead th {\n",
       "        text-align: right;\n",
       "    }\n",
       "</style>\n",
       "<table border=\"1\" class=\"dataframe\">\n",
       "  <thead>\n",
       "    <tr style=\"text-align: right;\">\n",
       "      <th></th>\n",
       "      <th>Downstairs</th>\n",
       "      <th>Jogging</th>\n",
       "      <th>Sitting</th>\n",
       "      <th>Standing</th>\n",
       "      <th>Upstairs</th>\n",
       "      <th>Walking</th>\n",
       "      <th>predict_probability</th>\n",
       "      <th>true</th>\n",
       "      <th>predict_label</th>\n",
       "      <th>true_label</th>\n",
       "    </tr>\n",
       "  </thead>\n",
       "  <tbody>\n",
       "    <tr>\n",
       "      <th>0</th>\n",
       "      <td>0.000000e+00</td>\n",
       "      <td>1.300455e-10</td>\n",
       "      <td>0.000000e+00</td>\n",
       "      <td>0.000000</td>\n",
       "      <td>3.372876e-01</td>\n",
       "      <td>6.627124e-01</td>\n",
       "      <td>0.662712</td>\n",
       "      <td>5</td>\n",
       "      <td>Walking</td>\n",
       "      <td>Walking</td>\n",
       "    </tr>\n",
       "    <tr>\n",
       "      <th>1</th>\n",
       "      <td>2.950978e-12</td>\n",
       "      <td>0.000000e+00</td>\n",
       "      <td>9.571841e-01</td>\n",
       "      <td>0.042802</td>\n",
       "      <td>1.371665e-05</td>\n",
       "      <td>1.096746e-13</td>\n",
       "      <td>0.957184</td>\n",
       "      <td>2</td>\n",
       "      <td>Sitting</td>\n",
       "      <td>Sitting</td>\n",
       "    </tr>\n",
       "    <tr>\n",
       "      <th>2</th>\n",
       "      <td>3.971959e-13</td>\n",
       "      <td>0.000000e+00</td>\n",
       "      <td>0.000000e+00</td>\n",
       "      <td>0.000000</td>\n",
       "      <td>9.999623e-01</td>\n",
       "      <td>3.766649e-05</td>\n",
       "      <td>0.999962</td>\n",
       "      <td>4</td>\n",
       "      <td>Upstairs</td>\n",
       "      <td>Upstairs</td>\n",
       "    </tr>\n",
       "    <tr>\n",
       "      <th>3</th>\n",
       "      <td>7.133464e-04</td>\n",
       "      <td>9.922132e-01</td>\n",
       "      <td>0.000000e+00</td>\n",
       "      <td>0.000000</td>\n",
       "      <td>7.073466e-03</td>\n",
       "      <td>3.240177e-16</td>\n",
       "      <td>0.992213</td>\n",
       "      <td>1</td>\n",
       "      <td>Jogging</td>\n",
       "      <td>Jogging</td>\n",
       "    </tr>\n",
       "    <tr>\n",
       "      <th>4</th>\n",
       "      <td>1.499267e-07</td>\n",
       "      <td>0.000000e+00</td>\n",
       "      <td>2.819012e-02</td>\n",
       "      <td>0.791558</td>\n",
       "      <td>1.802519e-01</td>\n",
       "      <td>9.465371e-12</td>\n",
       "      <td>0.791558</td>\n",
       "      <td>3</td>\n",
       "      <td>Standing</td>\n",
       "      <td>Standing</td>\n",
       "    </tr>\n",
       "    <tr>\n",
       "      <th>5</th>\n",
       "      <td>3.241741e-12</td>\n",
       "      <td>4.609875e-05</td>\n",
       "      <td>0.000000e+00</td>\n",
       "      <td>0.000000</td>\n",
       "      <td>1.054982e-11</td>\n",
       "      <td>9.999539e-01</td>\n",
       "      <td>0.999954</td>\n",
       "      <td>5</td>\n",
       "      <td>Walking</td>\n",
       "      <td>Walking</td>\n",
       "    </tr>\n",
       "    <tr>\n",
       "      <th>6</th>\n",
       "      <td>7.870768e-01</td>\n",
       "      <td>3.995575e-07</td>\n",
       "      <td>2.149556e-10</td>\n",
       "      <td>0.000000</td>\n",
       "      <td>2.128058e-01</td>\n",
       "      <td>1.169623e-04</td>\n",
       "      <td>0.787077</td>\n",
       "      <td>0</td>\n",
       "      <td>Downstairs</td>\n",
       "      <td>Downstairs</td>\n",
       "    </tr>\n",
       "    <tr>\n",
       "      <th>7</th>\n",
       "      <td>8.640167e-01</td>\n",
       "      <td>5.571003e-06</td>\n",
       "      <td>1.212140e-09</td>\n",
       "      <td>0.000000</td>\n",
       "      <td>1.356822e-01</td>\n",
       "      <td>2.955294e-04</td>\n",
       "      <td>0.864017</td>\n",
       "      <td>0</td>\n",
       "      <td>Downstairs</td>\n",
       "      <td>Downstairs</td>\n",
       "    </tr>\n",
       "    <tr>\n",
       "      <th>8</th>\n",
       "      <td>1.580852e-04</td>\n",
       "      <td>9.921146e-01</td>\n",
       "      <td>0.000000e+00</td>\n",
       "      <td>0.000000</td>\n",
       "      <td>7.727360e-03</td>\n",
       "      <td>1.918611e-13</td>\n",
       "      <td>0.992115</td>\n",
       "      <td>1</td>\n",
       "      <td>Jogging</td>\n",
       "      <td>Jogging</td>\n",
       "    </tr>\n",
       "    <tr>\n",
       "      <th>9</th>\n",
       "      <td>0.000000e+00</td>\n",
       "      <td>3.040502e-04</td>\n",
       "      <td>0.000000e+00</td>\n",
       "      <td>0.000000</td>\n",
       "      <td>3.153790e-05</td>\n",
       "      <td>9.996644e-01</td>\n",
       "      <td>0.999664</td>\n",
       "      <td>5</td>\n",
       "      <td>Walking</td>\n",
       "      <td>Walking</td>\n",
       "    </tr>\n",
       "  </tbody>\n",
       "</table>\n",
       "</div>"
      ],
      "text/plain": [
       "     Downstairs       Jogging       Sitting  Standing      Upstairs  \\\n",
       "0  0.000000e+00  1.300455e-10  0.000000e+00  0.000000  3.372876e-01   \n",
       "1  2.950978e-12  0.000000e+00  9.571841e-01  0.042802  1.371665e-05   \n",
       "2  3.971959e-13  0.000000e+00  0.000000e+00  0.000000  9.999623e-01   \n",
       "3  7.133464e-04  9.922132e-01  0.000000e+00  0.000000  7.073466e-03   \n",
       "4  1.499267e-07  0.000000e+00  2.819012e-02  0.791558  1.802519e-01   \n",
       "5  3.241741e-12  4.609875e-05  0.000000e+00  0.000000  1.054982e-11   \n",
       "6  7.870768e-01  3.995575e-07  2.149556e-10  0.000000  2.128058e-01   \n",
       "7  8.640167e-01  5.571003e-06  1.212140e-09  0.000000  1.356822e-01   \n",
       "8  1.580852e-04  9.921146e-01  0.000000e+00  0.000000  7.727360e-03   \n",
       "9  0.000000e+00  3.040502e-04  0.000000e+00  0.000000  3.153790e-05   \n",
       "\n",
       "        Walking  predict_probability  true predict_label  true_label  \n",
       "0  6.627124e-01             0.662712     5       Walking     Walking  \n",
       "1  1.096746e-13             0.957184     2       Sitting     Sitting  \n",
       "2  3.766649e-05             0.999962     4      Upstairs    Upstairs  \n",
       "3  3.240177e-16             0.992213     1       Jogging     Jogging  \n",
       "4  9.465371e-12             0.791558     3      Standing    Standing  \n",
       "5  9.999539e-01             0.999954     5       Walking     Walking  \n",
       "6  1.169623e-04             0.787077     0    Downstairs  Downstairs  \n",
       "7  2.955294e-04             0.864017     0    Downstairs  Downstairs  \n",
       "8  1.918611e-13             0.992115     1       Jogging     Jogging  \n",
       "9  9.996644e-01             0.999664     5       Walking     Walking  "
      ]
     },
     "execution_count": 5,
     "metadata": {},
     "output_type": "execute_result"
    }
   ],
   "source": [
    "df = pd.concat([\n",
    "            predict,\n",
    "            predict_probability,\n",
    "            true,\n",
    "            predict_label,\n",
    "            true_encoded\n",
    "        ], axis=1)\n",
    "df.head(10)"
   ]
  },
  {
   "cell_type": "code",
   "execution_count": 6,
   "metadata": {
    "execution": {
     "iopub.execute_input": "2023-11-01T07:37:27.187814Z",
     "iopub.status.busy": "2023-11-01T07:37:27.187661Z",
     "iopub.status.idle": "2023-11-01T07:37:27.592427Z",
     "shell.execute_reply": "2023-11-01T07:37:27.591915Z"
    }
   },
   "outputs": [
    {
     "name": "stdout",
     "output_type": "stream",
     "text": [
      "Accuracy:  0.9501031929100401\n"
     ]
    },
    {
     "data": {
      "text/plain": [
       "<matplotlib.legend.Legend at 0x7effa223f8e0>"
      ]
     },
     "execution_count": 6,
     "metadata": {},
     "output_type": "execute_result"
    },
    {
     "data": {
      "image/png": "[encoded data removed]",
      "text/plain": [
       "<Figure size 640x480 with 1 Axes>"
      ]
     },
     "metadata": {},
     "output_type": "display_data"
    }
   ],
   "source": [
    "print('Accuracy: ', calc_accuracy(df))\n",
    "# statival analysis\n",
    "df.loc[df.true_label==df.predict_label, 'predict_probability'].hist(bins=100)\n",
    "df.loc[df.true_label!=df.predict_label, 'predict_probability'].hist(bins=100)\n",
    "plt.title('Predict Probability Distribution')\n",
    "plt.xlim(0, 1)\n",
    "plt.ylim(0, 400)\n",
    "plt.xlabel('Probability')\n",
    "plt.ylabel('Count')\n",
    "plt.legend(['Correct', 'Incorrect'])"
   ]
  },
  {
   "cell_type": "code",
   "execution_count": 7,
   "metadata": {
    "execution": {
     "iopub.execute_input": "2023-11-01T07:37:27.594612Z",
     "iopub.status.busy": "2023-11-01T07:37:27.594390Z",
     "iopub.status.idle": "2023-11-01T07:37:27.599949Z",
     "shell.execute_reply": "2023-11-01T07:37:27.599555Z"
    }
   },
   "outputs": [
    {
     "data": {
      "text/plain": [
       "mean      0.942761\n",
       "std       0.118724\n",
       "min       0.355718\n",
       "max       1.000000\n",
       "median    0.999733\n",
       "Name: predict_probability, dtype: float64"
      ]
     },
     "execution_count": 7,
     "metadata": {},
     "output_type": "execute_result"
    }
   ],
   "source": [
    "df['predict_probability'].agg(['mean', 'std', 'min', 'max', 'median'])"
   ]
  },
  {
   "cell_type": "code",
   "execution_count": 8,
   "metadata": {
    "execution": {
     "iopub.execute_input": "2023-11-01T07:37:27.602270Z",
     "iopub.status.busy": "2023-11-01T07:37:27.602121Z",
     "iopub.status.idle": "2023-11-01T07:37:28.427779Z",
     "shell.execute_reply": "2023-11-01T07:37:28.427274Z"
    }
   },
   "outputs": [
    {
     "name": "stderr",
     "output_type": "stream",
     "text": [
      "/tmp/ipykernel_9564/3327794854.py:2: RuntimeWarning: invalid value encountered in scalar divide\n",
      "  return (df['true_label'] == df['predict_label']).sum() / len(df)\n",
      "/tmp/ipykernel_9564/3327794854.py:2: RuntimeWarning: invalid value encountered in scalar divide\n",
      "  return (df['true_label'] == df['predict_label']).sum() / len(df)\n",
      "/tmp/ipykernel_9564/3327794854.py:2: RuntimeWarning: invalid value encountered in scalar divide\n",
      "  return (df['true_label'] == df['predict_label']).sum() / len(df)\n"
     ]
    },
    {
     "data": {
      "text/html": [
       "<div>\n",
       "<style scoped>\n",
       "    .dataframe tbody tr th:only-of-type {\n",
       "        vertical-align: middle;\n",
       "    }\n",
       "\n",
       "    .dataframe tbody tr th {\n",
       "        vertical-align: top;\n",
       "    }\n",
       "\n",
       "    .dataframe thead th {\n",
       "        text-align: right;\n",
       "    }\n",
       "</style>\n",
       "<table border=\"1\" class=\"dataframe\">\n",
       "  <thead>\n",
       "    <tr style=\"text-align: right;\">\n",
       "      <th></th>\n",
       "      <th>confidence_accuracy</th>\n",
       "      <th>confidence_raito</th>\n",
       "      <th>drop_accuracy</th>\n",
       "      <th>drop_ratio</th>\n",
       "    </tr>\n",
       "    <tr>\n",
       "      <th>threshold</th>\n",
       "      <th></th>\n",
       "      <th></th>\n",
       "      <th></th>\n",
       "      <th></th>\n",
       "    </tr>\n",
       "  </thead>\n",
       "  <tbody>\n",
       "    <tr>\n",
       "      <th>0.00</th>\n",
       "      <td>0.950103</td>\n",
       "      <td>1.000000</td>\n",
       "      <td>0.000000</td>\n",
       "      <td>0.000000</td>\n",
       "    </tr>\n",
       "    <tr>\n",
       "      <th>0.30</th>\n",
       "      <td>0.950103</td>\n",
       "      <td>1.000000</td>\n",
       "      <td>0.000000</td>\n",
       "      <td>0.000000</td>\n",
       "    </tr>\n",
       "    <tr>\n",
       "      <th>0.35</th>\n",
       "      <td>0.950103</td>\n",
       "      <td>1.000000</td>\n",
       "      <td>0.000000</td>\n",
       "      <td>0.000000</td>\n",
       "    </tr>\n",
       "    <tr>\n",
       "      <th>0.40</th>\n",
       "      <td>0.950200</td>\n",
       "      <td>0.999514</td>\n",
       "      <td>0.750000</td>\n",
       "      <td>0.000486</td>\n",
       "    </tr>\n",
       "    <tr>\n",
       "      <th>0.50</th>\n",
       "      <td>0.953684</td>\n",
       "      <td>0.993444</td>\n",
       "      <td>0.407407</td>\n",
       "      <td>0.006556</td>\n",
       "    </tr>\n",
       "  </tbody>\n",
       "</table>\n",
       "</div>"
      ],
      "text/plain": [
       "           confidence_accuracy  confidence_raito  drop_accuracy  drop_ratio\n",
       "threshold                                                                  \n",
       "0.00                  0.950103          1.000000       0.000000    0.000000\n",
       "0.30                  0.950103          1.000000       0.000000    0.000000\n",
       "0.35                  0.950103          1.000000       0.000000    0.000000\n",
       "0.40                  0.950200          0.999514       0.750000    0.000486\n",
       "0.50                  0.953684          0.993444       0.407407    0.006556"
      ]
     },
     "execution_count": 8,
     "metadata": {},
     "output_type": "execute_result"
    }
   ],
   "source": [
    "thresholds = [0, 0.3, 0.35, 0.4, 0.5]\n",
    "results = []\n",
    "for threshold in thresholds:\n",
    "    df_confidence = df[df['predict_probability'] > threshold]\n",
    "    df_drop = df.loc[list(set(df.index) - set(df_confidence.index)),:]\n",
    "    results.append({\n",
    "        'threshold': threshold,\n",
    "        'confidence_accuracy': calc_accuracy(df_confidence),\n",
    "        'confidence_raito': len(df_confidence) / len(df),\n",
    "        'drop_accuracy': calc_accuracy(df_drop),\n",
    "        'drop_ratio': len(df_drop) / len(df),\n",
    "        })\n",
    "    df_confidence = df[df['predict_probability'] > threshold]\n",
    "    df_drop = df.loc[list(set(df.index) - set(df_confidence.index)),:]\n",
    "    cm = confusion_matrix(df_confidence['true_label'], df_confidence['predict_label'])\n",
    "    cm_df = pd.DataFrame(cm, index=LABELS[:len(cm)], columns=LABELS[:len(cm)])\n",
    "    plt.figure(figsize=(10, 10))\n",
    "    sns.heatmap(\n",
    "        cm_df,\n",
    "        annot=True,\n",
    "        fmt=\"d\",\n",
    "        linewidths=0.5,\n",
    "        cmap=\"Blues\",\n",
    "        cbar=False,\n",
    "        annot_kws={\"size\": 14},\n",
    "        square=True,\n",
    "    )\n",
    "    plt.title(f\"Confusion Matrix (threshold={threshold})\")\n",
    "    plt.ylabel(\"True label\")\n",
    "    plt.xlabel(\"Predicted label\")\n",
    "    plt.savefig(f'confusion_matrix/threshold{threshold}.png')\n",
    "    plt.close()\n",
    "results = pd.DataFrame(results).fillna(0)\n",
    "results = results.set_index('threshold')\n",
    "results"
   ]
  },
  {
   "attachments": {},
   "cell_type": "markdown",
   "metadata": {},
   "source": [
    "# process to gaussian"
   ]
  },
  {
   "cell_type": "code",
   "execution_count": 9,
   "metadata": {
    "execution": {
     "iopub.execute_input": "2023-11-01T07:37:28.429905Z",
     "iopub.status.busy": "2023-11-01T07:37:28.429756Z",
     "iopub.status.idle": "2023-11-01T07:37:28.815677Z",
     "shell.execute_reply": "2023-11-01T07:37:28.815149Z"
    }
   },
   "outputs": [
    {
     "name": "stdout",
     "output_type": "stream",
     "text": [
      "Before standardization\n",
      "std: 0.11872395563394256\n",
      "--- After standardization ---\n",
      "std: 1.0\n"
     ]
    },
    {
     "data": {
      "text/plain": [
       "<matplotlib.legend.Legend at 0x7effa1f5af50>"
      ]
     },
     "execution_count": 9,
     "metadata": {},
     "output_type": "execute_result"
    },
    {
     "data": {
      "image/png": "[encoded data removed]",
      "text/plain": [
       "<Figure size 640x480 with 1 Axes>"
      ]
     },
     "metadata": {},
     "output_type": "display_data"
    }
   ],
   "source": [
    "print(\"Before standardization\")\n",
    "std = df[\"predict_probability\"].std()\n",
    "print(f\"std: {std}\")\n",
    "df[\"predict_probability_gaussian\"] = df[\"predict_probability\"].apply(lambda x: x / std)\n",
    "print(\"--- After standardization ---\")\n",
    "std = df[\"predict_probability_gaussian\"].std()\n",
    "print(f\"std: {std}\")\n",
    "df.loc[df.true_label==df.predict_label, 'predict_probability_gaussian'].hist(bins=100)\n",
    "df.loc[df.true_label!=df.predict_label, 'predict_probability_gaussian'].hist(bins=100)\n",
    "plt.title('Predict Probability Distribution(gaussian)')\n",
    "plt.xlabel('Probability')\n",
    "plt.ylabel('Count')\n",
    "plt.legend(['Correct', 'Incorrect'])"
   ]
  },
  {
   "cell_type": "code",
   "execution_count": 10,
   "metadata": {
    "execution": {
     "iopub.execute_input": "2023-11-01T07:37:28.818094Z",
     "iopub.status.busy": "2023-11-01T07:37:28.817941Z",
     "iopub.status.idle": "2023-11-01T07:37:28.839992Z",
     "shell.execute_reply": "2023-11-01T07:37:28.839436Z"
    }
   },
   "outputs": [
    {
     "name": "stderr",
     "output_type": "stream",
     "text": [
      "/tmp/ipykernel_9564/3327794854.py:2: RuntimeWarning: invalid value encountered in scalar divide\n",
      "  return (df['true_label'] == df['predict_label']).sum() / len(df)\n",
      "/tmp/ipykernel_9564/3327794854.py:2: RuntimeWarning: invalid value encountered in scalar divide\n",
      "  return (df['true_label'] == df['predict_label']).sum() / len(df)\n",
      "/tmp/ipykernel_9564/3327794854.py:2: RuntimeWarning: invalid value encountered in scalar divide\n",
      "  return (df['true_label'] == df['predict_label']).sum() / len(df)\n"
     ]
    },
    {
     "data": {
      "text/html": [
       "<div>\n",
       "<style scoped>\n",
       "    .dataframe tbody tr th:only-of-type {\n",
       "        vertical-align: middle;\n",
       "    }\n",
       "\n",
       "    .dataframe tbody tr th {\n",
       "        vertical-align: top;\n",
       "    }\n",
       "\n",
       "    .dataframe thead th {\n",
       "        text-align: right;\n",
       "    }\n",
       "</style>\n",
       "<table border=\"1\" class=\"dataframe\">\n",
       "  <thead>\n",
       "    <tr style=\"text-align: right;\">\n",
       "      <th></th>\n",
       "      <th>confidence_accuracy</th>\n",
       "      <th>confidence_raito</th>\n",
       "      <th>drop_accuracy</th>\n",
       "      <th>drop_ratio</th>\n",
       "    </tr>\n",
       "    <tr>\n",
       "      <th>threshold</th>\n",
       "      <th></th>\n",
       "      <th></th>\n",
       "      <th></th>\n",
       "      <th></th>\n",
       "    </tr>\n",
       "  </thead>\n",
       "  <tbody>\n",
       "    <tr>\n",
       "      <th>0</th>\n",
       "      <td>0.950103</td>\n",
       "      <td>1.000000</td>\n",
       "      <td>0.000000</td>\n",
       "      <td>0.000000</td>\n",
       "    </tr>\n",
       "    <tr>\n",
       "      <th>6</th>\n",
       "      <td>0.970420</td>\n",
       "      <td>0.915260</td>\n",
       "      <td>0.730659</td>\n",
       "      <td>0.084740</td>\n",
       "    </tr>\n",
       "    <tr>\n",
       "      <th>8</th>\n",
       "      <td>0.990202</td>\n",
       "      <td>0.768241</td>\n",
       "      <td>0.817182</td>\n",
       "      <td>0.231759</td>\n",
       "    </tr>\n",
       "    <tr>\n",
       "      <th>9</th>\n",
       "      <td>0.000000</td>\n",
       "      <td>0.000000</td>\n",
       "      <td>0.950103</td>\n",
       "      <td>1.000000</td>\n",
       "    </tr>\n",
       "    <tr>\n",
       "      <th>10</th>\n",
       "      <td>0.000000</td>\n",
       "      <td>0.000000</td>\n",
       "      <td>0.950103</td>\n",
       "      <td>1.000000</td>\n",
       "    </tr>\n",
       "  </tbody>\n",
       "</table>\n",
       "</div>"
      ],
      "text/plain": [
       "           confidence_accuracy  confidence_raito  drop_accuracy  drop_ratio\n",
       "threshold                                                                  \n",
       "0                     0.950103          1.000000       0.000000    0.000000\n",
       "6                     0.970420          0.915260       0.730659    0.084740\n",
       "8                     0.990202          0.768241       0.817182    0.231759\n",
       "9                     0.000000          0.000000       0.950103    1.000000\n",
       "10                    0.000000          0.000000       0.950103    1.000000"
      ]
     },
     "execution_count": 10,
     "metadata": {},
     "output_type": "execute_result"
    }
   ],
   "source": [
    "thresholds = [0, 6, 8,  9, 10]\n",
    "results = []\n",
    "for threshold in thresholds:\n",
    "    df_confidence = df[df['predict_probability_gaussian'] > threshold]\n",
    "    df_drop = df.loc[list(set(df.index) - set(df_confidence.index)),:]\n",
    "    results.append({\n",
    "        'threshold': threshold,\n",
    "        'confidence_accuracy': calc_accuracy(df_confidence),\n",
    "        'confidence_raito': len(df_confidence) / len(df),\n",
    "        'drop_accuracy': calc_accuracy(df_drop),\n",
    "        'drop_ratio': len(df_drop) / len(df),\n",
    "        })\n",
    "results = pd.DataFrame(results).fillna(0)\n",
    "results = results.set_index('threshold')\n",
    "results"
   ]
  },
  {
   "attachments": {},
   "cell_type": "markdown",
   "metadata": {},
   "source": [
    "# process to torncurve"
   ]
  },
  {
   "attachments": {},
   "cell_type": "markdown",
   "metadata": {},
   "source": [
    "## 1 - (1 - x) ** 2"
   ]
  },
  {
   "cell_type": "code",
   "execution_count": 11,
   "metadata": {
    "execution": {
     "iopub.execute_input": "2023-11-01T07:37:28.842779Z",
     "iopub.status.busy": "2023-11-01T07:37:28.842619Z",
     "iopub.status.idle": "2023-11-01T07:37:29.240442Z",
     "shell.execute_reply": "2023-11-01T07:37:29.239905Z"
    }
   },
   "outputs": [
    {
     "data": {
      "text/plain": [
       "<matplotlib.legend.Legend at 0x7effa1929060>"
      ]
     },
     "execution_count": 11,
     "metadata": {},
     "output_type": "execute_result"
    },
    {
     "data": {
      "image/png": "[encoded data removed]",
      "text/plain": [
       "<Figure size 640x480 with 1 Axes>"
      ]
     },
     "metadata": {},
     "output_type": "display_data"
    }
   ],
   "source": [
    "torn1_function = lambda x: 1-(1-x)**2\n",
    "df[\"predict_probability_torn1\"] = df[\"predict_probability\"].apply(torn1_function)\n",
    "df.loc[df.true_label==df.predict_label, 'predict_probability_torn1'].hist(bins=100)\n",
    "df.loc[df.true_label!=df.predict_label, 'predict_probability_torn1'].hist(bins=100)\n",
    "plt.title('Predict Probability Distribution(torn1)')\n",
    "plt.xlim(0, 1)\n",
    "plt.ylim(0, 400)\n",
    "plt.xlabel('Probability')\n",
    "plt.ylabel('Count')\n",
    "plt.legend(['Correct', 'Incorrect'])"
   ]
  },
  {
   "cell_type": "code",
   "execution_count": 12,
   "metadata": {
    "execution": {
     "iopub.execute_input": "2023-11-01T07:37:29.242619Z",
     "iopub.status.busy": "2023-11-01T07:37:29.242456Z",
     "iopub.status.idle": "2023-11-01T07:37:29.266176Z",
     "shell.execute_reply": "2023-11-01T07:37:29.265597Z"
    }
   },
   "outputs": [
    {
     "name": "stderr",
     "output_type": "stream",
     "text": [
      "/tmp/ipykernel_9564/3327794854.py:2: RuntimeWarning: invalid value encountered in scalar divide\n",
      "  return (df['true_label'] == df['predict_label']).sum() / len(df)\n",
      "/tmp/ipykernel_9564/3327794854.py:2: RuntimeWarning: invalid value encountered in scalar divide\n",
      "  return (df['true_label'] == df['predict_label']).sum() / len(df)\n"
     ]
    },
    {
     "data": {
      "text/html": [
       "<div>\n",
       "<style scoped>\n",
       "    .dataframe tbody tr th:only-of-type {\n",
       "        vertical-align: middle;\n",
       "    }\n",
       "\n",
       "    .dataframe tbody tr th {\n",
       "        vertical-align: top;\n",
       "    }\n",
       "\n",
       "    .dataframe thead th {\n",
       "        text-align: right;\n",
       "    }\n",
       "</style>\n",
       "<table border=\"1\" class=\"dataframe\">\n",
       "  <thead>\n",
       "    <tr style=\"text-align: right;\">\n",
       "      <th></th>\n",
       "      <th>confidence_accuracy</th>\n",
       "      <th>confidence_raito</th>\n",
       "      <th>drop_accuracy</th>\n",
       "      <th>drop_ratio</th>\n",
       "    </tr>\n",
       "    <tr>\n",
       "      <th>threshold</th>\n",
       "      <th></th>\n",
       "      <th></th>\n",
       "      <th></th>\n",
       "      <th></th>\n",
       "    </tr>\n",
       "  </thead>\n",
       "  <tbody>\n",
       "    <tr>\n",
       "      <th>0.0</th>\n",
       "      <td>0.950103</td>\n",
       "      <td>1.000000</td>\n",
       "      <td>0.000000</td>\n",
       "      <td>0.000000</td>\n",
       "    </tr>\n",
       "    <tr>\n",
       "      <th>0.5</th>\n",
       "      <td>0.950103</td>\n",
       "      <td>1.000000</td>\n",
       "      <td>0.000000</td>\n",
       "      <td>0.000000</td>\n",
       "    </tr>\n",
       "    <tr>\n",
       "      <th>0.6</th>\n",
       "      <td>0.950091</td>\n",
       "      <td>0.999757</td>\n",
       "      <td>1.000000</td>\n",
       "      <td>0.000243</td>\n",
       "    </tr>\n",
       "    <tr>\n",
       "      <th>0.7</th>\n",
       "      <td>0.951564</td>\n",
       "      <td>0.997572</td>\n",
       "      <td>0.350000</td>\n",
       "      <td>0.002428</td>\n",
       "    </tr>\n",
       "    <tr>\n",
       "      <th>0.8</th>\n",
       "      <td>0.958308</td>\n",
       "      <td>0.981304</td>\n",
       "      <td>0.519481</td>\n",
       "      <td>0.018696</td>\n",
       "    </tr>\n",
       "  </tbody>\n",
       "</table>\n",
       "</div>"
      ],
      "text/plain": [
       "           confidence_accuracy  confidence_raito  drop_accuracy  drop_ratio\n",
       "threshold                                                                  \n",
       "0.0                   0.950103          1.000000       0.000000    0.000000\n",
       "0.5                   0.950103          1.000000       0.000000    0.000000\n",
       "0.6                   0.950091          0.999757       1.000000    0.000243\n",
       "0.7                   0.951564          0.997572       0.350000    0.002428\n",
       "0.8                   0.958308          0.981304       0.519481    0.018696"
      ]
     },
     "execution_count": 12,
     "metadata": {},
     "output_type": "execute_result"
    }
   ],
   "source": [
    "thresholds = [0, 0.5, 0.6, 0.7, 0.8]\n",
    "results = []\n",
    "for threshold in thresholds:\n",
    "    df_confidence = df[df['predict_probability_torn1'] > threshold]\n",
    "    df_drop = df.loc[list(set(df.index) - set(df_confidence.index)),:]\n",
    "    results.append({\n",
    "        'threshold': threshold,\n",
    "        'confidence_accuracy': calc_accuracy(df_confidence),\n",
    "        'confidence_raito': len(df_confidence) / len(df),\n",
    "        'drop_accuracy': calc_accuracy(df_drop),\n",
    "        'drop_ratio': len(df_drop) / len(df),\n",
    "        })\n",
    "results = pd.DataFrame(results).fillna(0)\n",
    "results = results.set_index('threshold')\n",
    "results"
   ]
  },
  {
   "attachments": {},
   "cell_type": "markdown",
   "metadata": {},
   "source": [
    "## 1/ln(2) * ln(1+x)"
   ]
  },
  {
   "cell_type": "code",
   "execution_count": 13,
   "metadata": {
    "execution": {
     "iopub.execute_input": "2023-11-01T07:37:29.268919Z",
     "iopub.status.busy": "2023-11-01T07:37:29.268748Z",
     "iopub.status.idle": "2023-11-01T07:37:29.722194Z",
     "shell.execute_reply": "2023-11-01T07:37:29.721688Z"
    }
   },
   "outputs": [
    {
     "data": {
      "text/plain": [
       "<matplotlib.legend.Legend at 0x7effa223e770>"
      ]
     },
     "execution_count": 13,
     "metadata": {},
     "output_type": "execute_result"
    },
    {
     "data": {
      "image/png": "[encoded data removed]",
      "text/plain": [
       "<Figure size 640x480 with 1 Axes>"
      ]
     },
     "metadata": {},
     "output_type": "display_data"
    }
   ],
   "source": [
    "torn2_function = lambda x: (1/np.log(2))*np.log(1+x)\n",
    "df[\"predict_probability_torn2\"] = df[\"predict_probability\"].apply(torn2_function)\n",
    "df.loc[df.true_label==df.predict_label, 'predict_probability_torn2'].hist(bins=100)\n",
    "df.loc[df.true_label!=df.predict_label, 'predict_probability_torn2'].hist(bins=100)\n",
    "plt.title('Predict Probability Distribution(torn2)')\n",
    "plt.xlim(0, 1)\n",
    "plt.ylim(0, 400)\n",
    "plt.xlabel('Probability')\n",
    "plt.ylabel('Count')\n",
    "plt.legend(['Correct', 'Incorrect'])"
   ]
  },
  {
   "cell_type": "code",
   "execution_count": 14,
   "metadata": {
    "execution": {
     "iopub.execute_input": "2023-11-01T07:37:29.724256Z",
     "iopub.status.busy": "2023-11-01T07:37:29.724102Z",
     "iopub.status.idle": "2023-11-01T07:37:29.747050Z",
     "shell.execute_reply": "2023-11-01T07:37:29.746504Z"
    }
   },
   "outputs": [
    {
     "name": "stderr",
     "output_type": "stream",
     "text": [
      "/tmp/ipykernel_9564/3327794854.py:2: RuntimeWarning: invalid value encountered in scalar divide\n",
      "  return (df['true_label'] == df['predict_label']).sum() / len(df)\n"
     ]
    },
    {
     "data": {
      "text/html": [
       "<div>\n",
       "<style scoped>\n",
       "    .dataframe tbody tr th:only-of-type {\n",
       "        vertical-align: middle;\n",
       "    }\n",
       "\n",
       "    .dataframe tbody tr th {\n",
       "        vertical-align: top;\n",
       "    }\n",
       "\n",
       "    .dataframe thead th {\n",
       "        text-align: right;\n",
       "    }\n",
       "</style>\n",
       "<table border=\"1\" class=\"dataframe\">\n",
       "  <thead>\n",
       "    <tr style=\"text-align: right;\">\n",
       "      <th></th>\n",
       "      <th>confidence_accuracy</th>\n",
       "      <th>confidence_raito</th>\n",
       "      <th>drop_accuracy</th>\n",
       "      <th>drop_ratio</th>\n",
       "    </tr>\n",
       "    <tr>\n",
       "      <th>threshold</th>\n",
       "      <th></th>\n",
       "      <th></th>\n",
       "      <th></th>\n",
       "      <th></th>\n",
       "    </tr>\n",
       "  </thead>\n",
       "  <tbody>\n",
       "    <tr>\n",
       "      <th>0.00</th>\n",
       "      <td>0.950103</td>\n",
       "      <td>1.000000</td>\n",
       "      <td>0.000000</td>\n",
       "      <td>0.000000</td>\n",
       "    </tr>\n",
       "    <tr>\n",
       "      <th>0.50</th>\n",
       "      <td>0.950425</td>\n",
       "      <td>0.999150</td>\n",
       "      <td>0.571429</td>\n",
       "      <td>0.000850</td>\n",
       "    </tr>\n",
       "    <tr>\n",
       "      <th>0.55</th>\n",
       "      <td>0.952004</td>\n",
       "      <td>0.996601</td>\n",
       "      <td>0.392857</td>\n",
       "      <td>0.003399</td>\n",
       "    </tr>\n",
       "    <tr>\n",
       "      <th>0.60</th>\n",
       "      <td>0.954735</td>\n",
       "      <td>0.989681</td>\n",
       "      <td>0.505882</td>\n",
       "      <td>0.010319</td>\n",
       "    </tr>\n",
       "    <tr>\n",
       "      <th>0.65</th>\n",
       "      <td>0.959404</td>\n",
       "      <td>0.977905</td>\n",
       "      <td>0.538462</td>\n",
       "      <td>0.022095</td>\n",
       "    </tr>\n",
       "  </tbody>\n",
       "</table>\n",
       "</div>"
      ],
      "text/plain": [
       "           confidence_accuracy  confidence_raito  drop_accuracy  drop_ratio\n",
       "threshold                                                                  \n",
       "0.00                  0.950103          1.000000       0.000000    0.000000\n",
       "0.50                  0.950425          0.999150       0.571429    0.000850\n",
       "0.55                  0.952004          0.996601       0.392857    0.003399\n",
       "0.60                  0.954735          0.989681       0.505882    0.010319\n",
       "0.65                  0.959404          0.977905       0.538462    0.022095"
      ]
     },
     "execution_count": 14,
     "metadata": {},
     "output_type": "execute_result"
    }
   ],
   "source": [
    "thresholds = [0, 0.5, 0.55, 0.6, 0.65]\n",
    "results = []\n",
    "for threshold in thresholds:\n",
    "    df_confidence = df[df['predict_probability_torn2'] > threshold]\n",
    "    df_drop = df.loc[list(set(df.index) - set(df_confidence.index)),:]\n",
    "    results.append({\n",
    "        'threshold': threshold,\n",
    "        'confidence_accuracy': calc_accuracy(df_confidence),\n",
    "        'confidence_raito': len(df_confidence) / len(df),\n",
    "        'drop_accuracy': calc_accuracy(df_drop),\n",
    "        'drop_ratio': len(df_drop) / len(df),\n",
    "        })\n",
    "results = pd.DataFrame(results).fillna(0)\n",
    "results = results.set_index('threshold')\n",
    "results"
   ]
  },
  {
   "cell_type": "code",
   "execution_count": 15,
   "metadata": {
    "execution": {
     "iopub.execute_input": "2023-11-01T07:37:29.749595Z",
     "iopub.status.busy": "2023-11-01T07:37:29.749429Z",
     "iopub.status.idle": "2023-11-01T07:37:29.899414Z",
     "shell.execute_reply": "2023-11-01T07:37:29.898875Z"
    }
   },
   "outputs": [
    {
     "data": {
      "image/png": "[encoded data removed]",
      "text/plain": [
       "<Figure size 640x480 with 1 Axes>"
      ]
     },
     "metadata": {},
     "output_type": "display_data"
    }
   ],
   "source": [
    "from sklearn.metrics import roc_curve\n",
    "\n",
    "LABELS = [\"Downstairs\", \"Jogging\", \"Sitting\", \"Standing\", \"Upstairs\", \"Walking\"]\n",
    "for label in LABELS:\n",
    "    fpr, tpr, thresholds = roc_curve(df.loc[df.predict_label==label, 'true_label'], df.loc[df.predict_label==label, \"predict_probability\"], pos_label=label)\n",
    "    plt.plot(fpr, tpr, label=label)\n",
    "plt.xlabel('False Positive Rate')\n",
    "plt.ylabel('True Positive Rate')\n",
    "plt.title('ROC Curve')\n",
    "plt.legend()\n",
    "plt.show()"
   ]
  }
 ],
 "metadata": {
  "kernelspec": {
   "display_name": "Python 3",
   "language": "python",
   "name": "python3"
  },
  "language_info": {
   "codemirror_mode": {
    "name": "ipython",
    "version": 3
   },
   "file_extension": ".py",
   "mimetype": "text/x-python",
   "name": "python",
   "nbconvert_exporter": "python",
   "pygments_lexer": "ipython3",
   "version": "3.10.12"
  }
 },
 "nbformat": 4,
 "nbformat_minor": 2
}
