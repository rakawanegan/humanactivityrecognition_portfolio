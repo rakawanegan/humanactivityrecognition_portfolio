{
 "cells": [
  {
   "cell_type": "code",
   "execution_count": 63,
   "metadata": {},
   "outputs": [],
   "source": [
    "import numpy as np\n",
    "from matplotlib import pyplot as plt\n",
    "import pandas as pd\n",
    "import seaborn as sns\n",
    "from sklearn.metrics import confusion_matrix"
   ]
  },
  {
   "cell_type": "code",
   "execution_count": 64,
   "metadata": {},
   "outputs": [],
   "source": [
    "def calc_accuracy(df):\n",
    "    return (df['true_label'] == df['predict_label']).sum() / len(df)"
   ]
  },
  {
   "cell_type": "markdown",
   "metadata": {},
   "source": [
    "# Prediction Import"
   ]
  },
  {
   "cell_type": "code",
   "execution_count": 65,
   "metadata": {},
   "outputs": [
    {
     "data": {
      "text/html": [
       "<div>\n",
       "<style scoped>\n",
       "    .dataframe tbody tr th:only-of-type {\n",
       "        vertical-align: middle;\n",
       "    }\n",
       "\n",
       "    .dataframe tbody tr th {\n",
       "        vertical-align: top;\n",
       "    }\n",
       "\n",
       "    .dataframe thead th {\n",
       "        text-align: right;\n",
       "    }\n",
       "</style>\n",
       "<table border=\"1\" class=\"dataframe\">\n",
       "  <thead>\n",
       "    <tr style=\"text-align: right;\">\n",
       "      <th></th>\n",
       "      <th>Downstairs</th>\n",
       "      <th>Jogging</th>\n",
       "      <th>Sitting</th>\n",
       "      <th>Standing</th>\n",
       "      <th>Upstairs</th>\n",
       "      <th>Walking</th>\n",
       "    </tr>\n",
       "  </thead>\n",
       "  <tbody>\n",
       "    <tr>\n",
       "      <th>0</th>\n",
       "      <td>-24.943642</td>\n",
       "      <td>-14.376371</td>\n",
       "      <td>-30.270120</td>\n",
       "      <td>-34.804478</td>\n",
       "      <td>3.497355</td>\n",
       "      <td>8.651757</td>\n",
       "    </tr>\n",
       "    <tr>\n",
       "      <th>1</th>\n",
       "      <td>-41.976780</td>\n",
       "      <td>-51.831050</td>\n",
       "      <td>31.597225</td>\n",
       "      <td>0.572858</td>\n",
       "      <td>-34.029915</td>\n",
       "      <td>-22.983843</td>\n",
       "    </tr>\n",
       "    <tr>\n",
       "      <th>2</th>\n",
       "      <td>-10.403299</td>\n",
       "      <td>-20.507471</td>\n",
       "      <td>-35.264004</td>\n",
       "      <td>-31.831710</td>\n",
       "      <td>11.764874</td>\n",
       "      <td>-4.416489</td>\n",
       "    </tr>\n",
       "    <tr>\n",
       "      <th>3</th>\n",
       "      <td>-5.945934</td>\n",
       "      <td>22.957941</td>\n",
       "      <td>-33.201534</td>\n",
       "      <td>-32.098297</td>\n",
       "      <td>-3.378157</td>\n",
       "      <td>-19.997862</td>\n",
       "    </tr>\n",
       "    <tr>\n",
       "      <th>4</th>\n",
       "      <td>-14.173546</td>\n",
       "      <td>-47.217030</td>\n",
       "      <td>1.452709</td>\n",
       "      <td>18.719597</td>\n",
       "      <td>-17.833082</td>\n",
       "      <td>-30.701788</td>\n",
       "    </tr>\n",
       "  </tbody>\n",
       "</table>\n",
       "</div>"
      ],
      "text/plain": [
       "   Downstairs    Jogging    Sitting   Standing   Upstairs    Walking\n",
       "0  -24.943642 -14.376371 -30.270120 -34.804478   3.497355   8.651757\n",
       "1  -41.976780 -51.831050  31.597225   0.572858 -34.029915 -22.983843\n",
       "2  -10.403299 -20.507471 -35.264004 -31.831710  11.764874  -4.416489\n",
       "3   -5.945934  22.957941 -33.201534 -32.098297  -3.378157 -19.997862\n",
       "4  -14.173546 -47.217030   1.452709  18.719597 -17.833082 -30.701788"
      ]
     },
     "execution_count": 65,
     "metadata": {},
     "output_type": "execute_result"
    }
   ],
   "source": [
    "LABELS = [\"Downstairs\", \"Jogging\", \"Sitting\", \"Standing\", \"Upstairs\", \"Walking\"]\n",
    "df = pd.read_csv('predict.csv', index_col=0)\n",
    "predict = df.drop('true', axis=1)\n",
    "true = df['true']\n",
    "del df\n",
    "true_encoded = true.map(lambda x: LABELS[x])\n",
    "true_encoded.name = 'true_label'\n",
    "predict.columns = LABELS\n",
    "predict.head()"
   ]
  },
  {
   "cell_type": "code",
   "execution_count": 66,
   "metadata": {},
   "outputs": [],
   "source": [
    "# min-max normalization\n",
    "predict = predict.apply(lambda x: (x - x.min()) / (x.max() - x.min()), axis=1)\n",
    "predict = predict.apply(lambda x: x / x.sum(), axis=1)\n",
    "\n",
    "predict_label = predict.idxmax(axis=1)\n",
    "predict_probability = predict.max(axis=1)\n",
    "predict_probability.name = 'predict_probability'\n",
    "predict_label.name = 'predict_label'\n",
    "# predict.head()\n",
    "# true.head()\n",
    "# true_encoded.head()"
   ]
  },
  {
   "cell_type": "code",
   "execution_count": 67,
   "metadata": {},
   "outputs": [
    {
     "data": {
      "text/html": [
       "<div>\n",
       "<style scoped>\n",
       "    .dataframe tbody tr th:only-of-type {\n",
       "        vertical-align: middle;\n",
       "    }\n",
       "\n",
       "    .dataframe tbody tr th {\n",
       "        vertical-align: top;\n",
       "    }\n",
       "\n",
       "    .dataframe thead th {\n",
       "        text-align: right;\n",
       "    }\n",
       "</style>\n",
       "<table border=\"1\" class=\"dataframe\">\n",
       "  <thead>\n",
       "    <tr style=\"text-align: right;\">\n",
       "      <th></th>\n",
       "      <th>Downstairs</th>\n",
       "      <th>Jogging</th>\n",
       "      <th>Sitting</th>\n",
       "      <th>Standing</th>\n",
       "      <th>Upstairs</th>\n",
       "      <th>Walking</th>\n",
       "      <th>predict_probability</th>\n",
       "      <th>true</th>\n",
       "      <th>predict_label</th>\n",
       "      <th>true_label</th>\n",
       "    </tr>\n",
       "  </thead>\n",
       "  <tbody>\n",
       "    <tr>\n",
       "      <th>0</th>\n",
       "      <td>0.084583</td>\n",
       "      <td>0.175226</td>\n",
       "      <td>0.038894</td>\n",
       "      <td>0.000000</td>\n",
       "      <td>0.328542</td>\n",
       "      <td>0.372755</td>\n",
       "      <td>0.372755</td>\n",
       "      <td>5</td>\n",
       "      <td>Walking</td>\n",
       "      <td>Walking</td>\n",
       "    </tr>\n",
       "    <tr>\n",
       "      <th>1</th>\n",
       "      <td>0.051235</td>\n",
       "      <td>0.000000</td>\n",
       "      <td>0.433766</td>\n",
       "      <td>0.272462</td>\n",
       "      <td>0.092553</td>\n",
       "      <td>0.149984</td>\n",
       "      <td>0.433766</td>\n",
       "      <td>2</td>\n",
       "      <td>Sitting</td>\n",
       "      <td>Sitting</td>\n",
       "    </tr>\n",
       "    <tr>\n",
       "      <th>2</th>\n",
       "      <td>0.205586</td>\n",
       "      <td>0.122030</td>\n",
       "      <td>0.000000</td>\n",
       "      <td>0.028383</td>\n",
       "      <td>0.388906</td>\n",
       "      <td>0.255094</td>\n",
       "      <td>0.388906</td>\n",
       "      <td>4</td>\n",
       "      <td>Upstairs</td>\n",
       "      <td>Upstairs</td>\n",
       "    </tr>\n",
       "    <tr>\n",
       "      <th>3</th>\n",
       "      <td>0.213693</td>\n",
       "      <td>0.440310</td>\n",
       "      <td>0.000000</td>\n",
       "      <td>0.008650</td>\n",
       "      <td>0.233826</td>\n",
       "      <td>0.103521</td>\n",
       "      <td>0.440310</td>\n",
       "      <td>1</td>\n",
       "      <td>Jogging</td>\n",
       "      <td>Jogging</td>\n",
       "    </tr>\n",
       "    <tr>\n",
       "      <th>4</th>\n",
       "      <td>0.170724</td>\n",
       "      <td>0.000000</td>\n",
       "      <td>0.251459</td>\n",
       "      <td>0.340671</td>\n",
       "      <td>0.151817</td>\n",
       "      <td>0.085328</td>\n",
       "      <td>0.340671</td>\n",
       "      <td>3</td>\n",
       "      <td>Standing</td>\n",
       "      <td>Standing</td>\n",
       "    </tr>\n",
       "    <tr>\n",
       "      <th>5</th>\n",
       "      <td>0.197441</td>\n",
       "      <td>0.208309</td>\n",
       "      <td>0.053636</td>\n",
       "      <td>0.000000</td>\n",
       "      <td>0.171790</td>\n",
       "      <td>0.368823</td>\n",
       "      <td>0.368823</td>\n",
       "      <td>5</td>\n",
       "      <td>Walking</td>\n",
       "      <td>Walking</td>\n",
       "    </tr>\n",
       "    <tr>\n",
       "      <th>6</th>\n",
       "      <td>0.418554</td>\n",
       "      <td>0.076647</td>\n",
       "      <td>0.000000</td>\n",
       "      <td>0.052511</td>\n",
       "      <td>0.256686</td>\n",
       "      <td>0.195603</td>\n",
       "      <td>0.418554</td>\n",
       "      <td>0</td>\n",
       "      <td>Downstairs</td>\n",
       "      <td>Downstairs</td>\n",
       "    </tr>\n",
       "    <tr>\n",
       "      <th>7</th>\n",
       "      <td>0.440551</td>\n",
       "      <td>0.074178</td>\n",
       "      <td>0.000000</td>\n",
       "      <td>0.053104</td>\n",
       "      <td>0.211090</td>\n",
       "      <td>0.221078</td>\n",
       "      <td>0.440551</td>\n",
       "      <td>0</td>\n",
       "      <td>Downstairs</td>\n",
       "      <td>Downstairs</td>\n",
       "    </tr>\n",
       "    <tr>\n",
       "      <th>8</th>\n",
       "      <td>0.146728</td>\n",
       "      <td>0.511617</td>\n",
       "      <td>0.004771</td>\n",
       "      <td>0.030820</td>\n",
       "      <td>0.306064</td>\n",
       "      <td>0.000000</td>\n",
       "      <td>0.511617</td>\n",
       "      <td>1</td>\n",
       "      <td>Jogging</td>\n",
       "      <td>Jogging</td>\n",
       "    </tr>\n",
       "    <tr>\n",
       "      <th>9</th>\n",
       "      <td>0.142351</td>\n",
       "      <td>0.245095</td>\n",
       "      <td>0.042550</td>\n",
       "      <td>0.000000</td>\n",
       "      <td>0.201732</td>\n",
       "      <td>0.368272</td>\n",
       "      <td>0.368272</td>\n",
       "      <td>5</td>\n",
       "      <td>Walking</td>\n",
       "      <td>Walking</td>\n",
       "    </tr>\n",
       "  </tbody>\n",
       "</table>\n",
       "</div>"
      ],
      "text/plain": [
       "   Downstairs   Jogging   Sitting  Standing  Upstairs   Walking  \\\n",
       "0    0.084583  0.175226  0.038894  0.000000  0.328542  0.372755   \n",
       "1    0.051235  0.000000  0.433766  0.272462  0.092553  0.149984   \n",
       "2    0.205586  0.122030  0.000000  0.028383  0.388906  0.255094   \n",
       "3    0.213693  0.440310  0.000000  0.008650  0.233826  0.103521   \n",
       "4    0.170724  0.000000  0.251459  0.340671  0.151817  0.085328   \n",
       "5    0.197441  0.208309  0.053636  0.000000  0.171790  0.368823   \n",
       "6    0.418554  0.076647  0.000000  0.052511  0.256686  0.195603   \n",
       "7    0.440551  0.074178  0.000000  0.053104  0.211090  0.221078   \n",
       "8    0.146728  0.511617  0.004771  0.030820  0.306064  0.000000   \n",
       "9    0.142351  0.245095  0.042550  0.000000  0.201732  0.368272   \n",
       "\n",
       "   predict_probability  true predict_label  true_label  \n",
       "0             0.372755     5       Walking     Walking  \n",
       "1             0.433766     2       Sitting     Sitting  \n",
       "2             0.388906     4      Upstairs    Upstairs  \n",
       "3             0.440310     1       Jogging     Jogging  \n",
       "4             0.340671     3      Standing    Standing  \n",
       "5             0.368823     5       Walking     Walking  \n",
       "6             0.418554     0    Downstairs  Downstairs  \n",
       "7             0.440551     0    Downstairs  Downstairs  \n",
       "8             0.511617     1       Jogging     Jogging  \n",
       "9             0.368272     5       Walking     Walking  "
      ]
     },
     "execution_count": 67,
     "metadata": {},
     "output_type": "execute_result"
    }
   ],
   "source": [
    "df = pd.concat([\n",
    "            predict,\n",
    "            predict_probability,\n",
    "            true,\n",
    "            predict_label,\n",
    "            true_encoded\n",
    "        ], axis=1)\n",
    "df.head(10)"
   ]
  },
  {
   "cell_type": "code",
   "execution_count": 68,
   "metadata": {},
   "outputs": [
    {
     "name": "stdout",
     "output_type": "stream",
     "text": [
      "Accuracy:  0.9553235401238315\n"
     ]
    },
    {
     "data": {
      "text/plain": [
       "<matplotlib.legend.Legend at 0x7f0fe2bcad10>"
      ]
     },
     "execution_count": 68,
     "metadata": {},
     "output_type": "execute_result"
    },
    {
     "data": {
      "image/png": "[encoded data removed]",
      "text/plain": [
       "<Figure size 640x480 with 1 Axes>"
      ]
     },
     "metadata": {},
     "output_type": "display_data"
    }
   ],
   "source": [
    "print('Accuracy: ', calc_accuracy(df))\n",
    "# statival analysis\n",
    "df.loc[df.true_label==df.predict_label, 'predict_probability'].hist(bins=100)\n",
    "df.loc[df.true_label!=df.predict_label, 'predict_probability'].hist(bins=100)\n",
    "plt.title('Predict Probability Distribution')\n",
    "plt.xlabel('Probability')\n",
    "plt.ylabel('Count')\n",
    "plt.legend(['Correct', 'Incorrect'])"
   ]
  },
  {
   "cell_type": "code",
   "execution_count": 69,
   "metadata": {},
   "outputs": [
    {
     "data": {
      "text/plain": [
       "mean      0.419786\n",
       "std       0.052514\n",
       "min       0.252540\n",
       "max       0.721661\n",
       "median    0.419969\n",
       "Name: predict_probability, dtype: float64"
      ]
     },
     "execution_count": 69,
     "metadata": {},
     "output_type": "execute_result"
    }
   ],
   "source": [
    "df['predict_probability'].agg(['mean', 'std', 'min', 'max', 'median'])"
   ]
  },
  {
   "cell_type": "code",
   "execution_count": 70,
   "metadata": {},
   "outputs": [
    {
     "name": "stderr",
     "output_type": "stream",
     "text": [
      "/tmp/ipykernel_21456/3327794854.py:2: RuntimeWarning: invalid value encountered in scalar divide\n",
      "  return (df['true_label'] == df['predict_label']).sum() / len(df)\n"
     ]
    },
    {
     "data": {
      "text/html": [
       "<div>\n",
       "<style scoped>\n",
       "    .dataframe tbody tr th:only-of-type {\n",
       "        vertical-align: middle;\n",
       "    }\n",
       "\n",
       "    .dataframe tbody tr th {\n",
       "        vertical-align: top;\n",
       "    }\n",
       "\n",
       "    .dataframe thead th {\n",
       "        text-align: right;\n",
       "    }\n",
       "</style>\n",
       "<table border=\"1\" class=\"dataframe\">\n",
       "  <thead>\n",
       "    <tr style=\"text-align: right;\">\n",
       "      <th></th>\n",
       "      <th>confidence_accuracy</th>\n",
       "      <th>confidence_raito</th>\n",
       "      <th>drop_accuracy</th>\n",
       "      <th>drop_ratio</th>\n",
       "    </tr>\n",
       "    <tr>\n",
       "      <th>threshold</th>\n",
       "      <th></th>\n",
       "      <th></th>\n",
       "      <th></th>\n",
       "      <th></th>\n",
       "    </tr>\n",
       "  </thead>\n",
       "  <tbody>\n",
       "    <tr>\n",
       "      <th>0.00</th>\n",
       "      <td>0.955324</td>\n",
       "      <td>1.000000</td>\n",
       "      <td>0.000000</td>\n",
       "      <td>0.000000</td>\n",
       "    </tr>\n",
       "    <tr>\n",
       "      <th>0.30</th>\n",
       "      <td>0.960599</td>\n",
       "      <td>0.989074</td>\n",
       "      <td>0.477778</td>\n",
       "      <td>0.010926</td>\n",
       "    </tr>\n",
       "    <tr>\n",
       "      <th>0.35</th>\n",
       "      <td>0.973807</td>\n",
       "      <td>0.913075</td>\n",
       "      <td>0.761173</td>\n",
       "      <td>0.086925</td>\n",
       "    </tr>\n",
       "    <tr>\n",
       "      <th>0.40</th>\n",
       "      <td>0.982358</td>\n",
       "      <td>0.653757</td>\n",
       "      <td>0.904278</td>\n",
       "      <td>0.346243</td>\n",
       "    </tr>\n",
       "    <tr>\n",
       "      <th>0.50</th>\n",
       "      <td>0.987478</td>\n",
       "      <td>0.067865</td>\n",
       "      <td>0.952983</td>\n",
       "      <td>0.932135</td>\n",
       "    </tr>\n",
       "  </tbody>\n",
       "</table>\n",
       "</div>"
      ],
      "text/plain": [
       "           confidence_accuracy  confidence_raito  drop_accuracy  drop_ratio\n",
       "threshold                                                                  \n",
       "0.00                  0.955324          1.000000       0.000000    0.000000\n",
       "0.30                  0.960599          0.989074       0.477778    0.010926\n",
       "0.35                  0.973807          0.913075       0.761173    0.086925\n",
       "0.40                  0.982358          0.653757       0.904278    0.346243\n",
       "0.50                  0.987478          0.067865       0.952983    0.932135"
      ]
     },
     "execution_count": 70,
     "metadata": {},
     "output_type": "execute_result"
    }
   ],
   "source": [
    "thresholds = [0, 0.3, 0.35, 0.4, 0.5]\n",
    "results = []\n",
    "for threshold in thresholds:\n",
    "    df_confidence = df[df['predict_probability'] > threshold]\n",
    "    df_drop = df.loc[list(set(df.index) - set(df_confidence.index)),:]\n",
    "    results.append({\n",
    "        'threshold': threshold,\n",
    "        'confidence_accuracy': calc_accuracy(df_confidence),\n",
    "        'confidence_raito': len(df_confidence) / len(df),\n",
    "        'drop_accuracy': calc_accuracy(df_drop),\n",
    "        'drop_ratio': len(df_drop) / len(df),\n",
    "        })\n",
    "    df_confidence = df[df['predict_probability'] > threshold]\n",
    "    df_drop = df.loc[list(set(df.index) - set(df_confidence.index)),:]\n",
    "    cm = confusion_matrix(df_confidence['true_label'], df_confidence['predict_label'])\n",
    "    cm_df = pd.DataFrame(cm, index=LABELS, columns=LABELS)\n",
    "    plt.figure(figsize=(10, 10))\n",
    "    sns.heatmap(\n",
    "        cm_df,\n",
    "        annot=True,\n",
    "        fmt=\"d\",\n",
    "        linewidths=0.5,\n",
    "        cmap=\"Blues\",\n",
    "        cbar=False,\n",
    "        annot_kws={\"size\": 14},\n",
    "        square=True,\n",
    "    )\n",
    "    plt.title(f\"Confusion Matrix (threshold={threshold})\")\n",
    "    plt.ylabel(\"True label\")\n",
    "    plt.xlabel(\"Predicted label\")\n",
    "    plt.savefig(f'confusion_matrix/threshold{threshold}.png')\n",
    "    plt.close()\n",
    "results = pd.DataFrame(results).fillna(0)\n",
    "results = results.set_index('threshold')\n",
    "results"
   ]
  },
  {
   "cell_type": "markdown",
   "metadata": {},
   "source": [
    "# process to gaussian"
   ]
  },
  {
   "cell_type": "code",
   "execution_count": 71,
   "metadata": {},
   "outputs": [
    {
     "name": "stdout",
     "output_type": "stream",
     "text": [
      "Before standardization\n",
      "std: 0.052513555947947314\n",
      "--- After standardization ---\n",
      "std: 0.9999999999999999\n"
     ]
    },
    {
     "data": {
      "text/plain": [
       "<matplotlib.legend.Legend at 0x7f0fe6dbd390>"
      ]
     },
     "execution_count": 71,
     "metadata": {},
     "output_type": "execute_result"
    },
    {
     "data": {
      "image/png": "[encoded data removed]",
      "text/plain": [
       "<Figure size 640x480 with 1 Axes>"
      ]
     },
     "metadata": {},
     "output_type": "display_data"
    }
   ],
   "source": [
    "print(\"Before standardization\")\n",
    "std = df[\"predict_probability\"].std()\n",
    "print(f\"std: {std}\")\n",
    "df[\"predict_probability_gaussian\"] = df[\"predict_probability\"].apply(lambda x: x / std)\n",
    "print(\"--- After standardization ---\")\n",
    "std = df[\"predict_probability_gaussian\"].std()\n",
    "print(f\"std: {std}\")\n",
    "df.loc[df.true_label==df.predict_label, 'predict_probability_gaussian'].hist(bins=100)\n",
    "df.loc[df.true_label!=df.predict_label, 'predict_probability_gaussian'].hist(bins=100)\n",
    "plt.title('Predict Probability Distribution(gaussian)')\n",
    "plt.xlabel('Probability')\n",
    "plt.ylabel('Count')\n",
    "plt.legend(['Correct', 'Incorrect'])"
   ]
  },
  {
   "cell_type": "markdown",
   "metadata": {},
   "source": [
    "# process to torncurve"
   ]
  },
  {
   "cell_type": "markdown",
   "metadata": {},
   "source": [
    "## 1 - (1 - x) ** 2"
   ]
  },
  {
   "cell_type": "code",
   "execution_count": 72,
   "metadata": {},
   "outputs": [
    {
     "data": {
      "text/plain": [
       "<matplotlib.legend.Legend at 0x7f0fe66aac80>"
      ]
     },
     "execution_count": 72,
     "metadata": {},
     "output_type": "execute_result"
    },
    {
     "data": {
      "image/png": "[encoded data removed]",
      "text/plain": [
       "<Figure size 640x480 with 1 Axes>"
      ]
     },
     "metadata": {},
     "output_type": "display_data"
    }
   ],
   "source": [
    "torn1_function = lambda x: 1-(1-x)**2\n",
    "df[\"predict_probability_torn1\"] = df[\"predict_probability\"].apply(torn1_function)\n",
    "df.loc[df.true_label==df.predict_label, 'predict_probability_torn1'].hist(bins=100)\n",
    "df.loc[df.true_label!=df.predict_label, 'predict_probability_torn1'].hist(bins=100)\n",
    "plt.title('Predict Probability Distribution(torn1)')\n",
    "plt.xlabel('Probability')\n",
    "plt.ylabel('Count')\n",
    "plt.legend(['Correct', 'Incorrect'])"
   ]
  },
  {
   "cell_type": "markdown",
   "metadata": {},
   "source": [
    "## 1/ln(2) * ln(1+x)"
   ]
  },
  {
   "cell_type": "code",
   "execution_count": 74,
   "metadata": {},
   "outputs": [
    {
     "data": {
      "text/plain": [
       "<matplotlib.legend.Legend at 0x7f0fe275ef80>"
      ]
     },
     "execution_count": 74,
     "metadata": {},
     "output_type": "execute_result"
    },
    {
     "data": {
      "image/png": "[encoded data removed]",
      "text/plain": [
       "<Figure size 640x480 with 1 Axes>"
      ]
     },
     "metadata": {},
     "output_type": "display_data"
    }
   ],
   "source": [
    "torn2_function = lambda x: (1/np.log(2))*np.log(1+x)\n",
    "df[\"predict_probability_torn2\"] = df[\"predict_probability\"].apply(torn2_function)\n",
    "df.loc[df.true_label==df.predict_label, 'predict_probability_torn2'].hist(bins=100)\n",
    "df.loc[df.true_label!=df.predict_label, 'predict_probability_torn2'].hist(bins=100)\n",
    "plt.title('Predict Probability Distribution(torn2)')\n",
    "plt.xlabel('Probability')\n",
    "plt.ylabel('Count')\n",
    "plt.legend(['Correct', 'Incorrect'])"
   ]
  }
 ],
 "metadata": {
  "kernelspec": {
   "display_name": "Python 3",
   "language": "python",
   "name": "python3"
  },
  "language_info": {
   "codemirror_mode": {
    "name": "ipython",
    "version": 3
   },
   "file_extension": ".py",
   "mimetype": "text/x-python",
   "name": "python",
   "nbconvert_exporter": "python",
   "pygments_lexer": "ipython3",
   "version": "3.10.12"
  }
 },
 "nbformat": 4,
 "nbformat_minor": 2
}
