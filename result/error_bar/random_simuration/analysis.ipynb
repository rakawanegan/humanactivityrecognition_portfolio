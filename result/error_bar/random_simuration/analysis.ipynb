{
 "cells": [
  {
   "cell_type": "code",
   "execution_count": 1,
   "metadata": {},
   "outputs": [],
   "source": [
    "import pandas as pd\n",
    "import numpy as np\n",
    "import matplotlib.pyplot as plt"
   ]
  },
  {
   "cell_type": "code",
   "execution_count": 2,
   "metadata": {},
   "outputs": [
    {
     "name": "stdout",
     "output_type": "stream",
     "text": [
      "loaded 8237 rows\n"
     ]
    },
    {
     "data": {
      "text/html": [
       "<div>\n",
       "<style scoped>\n",
       "    .dataframe tbody tr th:only-of-type {\n",
       "        vertical-align: middle;\n",
       "    }\n",
       "\n",
       "    .dataframe tbody tr th {\n",
       "        vertical-align: top;\n",
       "    }\n",
       "\n",
       "    .dataframe thead th {\n",
       "        text-align: right;\n",
       "    }\n",
       "</style>\n",
       "<table border=\"1\" class=\"dataframe\">\n",
       "  <thead>\n",
       "    <tr style=\"text-align: right;\">\n",
       "      <th></th>\n",
       "      <th>random</th>\n",
       "      <th>semi_random</th>\n",
       "      <th>true</th>\n",
       "    </tr>\n",
       "  </thead>\n",
       "  <tbody>\n",
       "    <tr>\n",
       "      <th>0</th>\n",
       "      <td>0</td>\n",
       "      <td>1</td>\n",
       "      <td>5</td>\n",
       "    </tr>\n",
       "    <tr>\n",
       "      <th>1</th>\n",
       "      <td>5</td>\n",
       "      <td>2</td>\n",
       "      <td>2</td>\n",
       "    </tr>\n",
       "    <tr>\n",
       "      <th>2</th>\n",
       "      <td>1</td>\n",
       "      <td>4</td>\n",
       "      <td>4</td>\n",
       "    </tr>\n",
       "    <tr>\n",
       "      <th>3</th>\n",
       "      <td>3</td>\n",
       "      <td>4</td>\n",
       "      <td>1</td>\n",
       "    </tr>\n",
       "    <tr>\n",
       "      <th>4</th>\n",
       "      <td>2</td>\n",
       "      <td>3</td>\n",
       "      <td>3</td>\n",
       "    </tr>\n",
       "  </tbody>\n",
       "</table>\n",
       "</div>"
      ],
      "text/plain": [
       "   random  semi_random  true\n",
       "0       0            1     5\n",
       "1       5            2     2\n",
       "2       1            4     4\n",
       "3       3            4     1\n",
       "4       2            3     3"
      ]
     },
     "execution_count": 2,
     "metadata": {},
     "output_type": "execute_result"
    }
   ],
   "source": [
    "data = pd.read_csv('predict.csv', index_col=0)\n",
    "print(f\"loaded {len(data)} rows\")\n",
    "data.head()"
   ]
  },
  {
   "cell_type": "code",
   "execution_count": 3,
   "metadata": {},
   "outputs": [
    {
     "name": "stdout",
     "output_type": "stream",
     "text": [
      "all random:      0.17166444093723443\n",
      "all semi-random: 0.27255068592934323\n"
     ]
    }
   ],
   "source": [
    "print(f\"all random:      {len(data.loc[data.random==data.true])/len(data)}\")\n",
    "print(f\"all semi-random: {len(data.loc[data.semi_random==data.true])/len(data)}\")"
   ]
  },
  {
   "cell_type": "code",
   "execution_count": 4,
   "metadata": {},
   "outputs": [],
   "source": [
    "trial = 1000\n",
    "sample_size = 10"
   ]
  },
  {
   "cell_type": "code",
   "execution_count": 5,
   "metadata": {},
   "outputs": [
    {
     "name": "stdout",
     "output_type": "stream",
     "text": [
      "random sampling trial: 1000\n",
      "random sampling size : 10\n",
      "\n",
      "semi-random sampling minmax-range: 0.0000 ~ 0.6000\n",
      "random sampling mean: 0.1784\n",
      "random sampling std : 0.1182\n",
      "semi-random sampling mean+-std: 0.0602 ~ 0.2966\n"
     ]
    }
   ],
   "source": [
    "# random sampling\n",
    "print(f\"random sampling trial: {trial}\")\n",
    "print(f\"random sampling size : {sample_size}\")\n",
    "print()\n",
    "randoms = list()\n",
    "for _ in range(trial):\n",
    "    sample = data.sample(sample_size)\n",
    "    randoms.append(len(sample.loc[sample.random==sample.true])/len(sample))\n",
    "print(f\"semi-random sampling minmax-range: {np.min(randoms):.4f} ~ {np.max(randoms):.4f}\")\n",
    "print(f\"random sampling mean: {np.mean(randoms):.4f}\")\n",
    "print(f\"random sampling std : {np.std(randoms):.4f}\")\n",
    "print(f\"semi-random sampling mean+-std: {np.mean(randoms)-np.std(randoms):.4f} ~ {np.mean(randoms)+np.std(randoms):.4f}\")"
   ]
  },
  {
   "cell_type": "code",
   "execution_count": 6,
   "metadata": {},
   "outputs": [
    {
     "data": {
      "text/plain": [
       "Text(0.5, 1.0, 'random sampling')"
      ]
     },
     "execution_count": 6,
     "metadata": {},
     "output_type": "execute_result"
    },
    {
     "data": {
      "image/png": "[encoded data removed]",
      "text/plain": [
       "<Figure size 640x480 with 1 Axes>"
      ]
     },
     "metadata": {},
     "output_type": "display_data"
    }
   ],
   "source": [
    "plt.hist(randoms)\n",
    "plt.xlim(0, 1)\n",
    "plt.xlabel(\"accuracy\")\n",
    "plt.ylabel(\"count\")\n",
    "plt.title(f\"random sampling\")"
   ]
  },
  {
   "cell_type": "code",
   "execution_count": 7,
   "metadata": {},
   "outputs": [
    {
     "name": "stdout",
     "output_type": "stream",
     "text": [
      "semi-random sampling trial: 1000\n",
      "semi-random sampling size : 10\n",
      "\n",
      "semi-random sampling minmax-range: 0.0000 ~ 0.7000\n",
      "semi-random sampling mean: 0.2730\n",
      "semi-random sampling std : 0.1370\n",
      "semi-random sampling mean+-std: 0.1360 ~ 0.4100\n"
     ]
    }
   ],
   "source": [
    "# semi-random sampling\n",
    "print(f\"semi-random sampling trial: {trial}\")\n",
    "print(f\"semi-random sampling size : {sample_size}\")\n",
    "print()\n",
    "semi_randoms = list()\n",
    "for _ in range(trial):\n",
    "    sample = data.sample(sample_size)\n",
    "    semi_randoms.append(len(sample.loc[sample.semi_random==sample.true])/len(sample))\n",
    "print(f\"semi-random sampling minmax-range: {np.min(semi_randoms):.4f} ~ {np.max(semi_randoms):.4f}\")\n",
    "print(f\"semi-random sampling mean: {np.mean(semi_randoms):.4f}\")\n",
    "print(f\"semi-random sampling std : {np.std(semi_randoms):.4f}\")\n",
    "print(f\"semi-random sampling mean+-std: {np.mean(semi_randoms)-np.std(semi_randoms):.4f} ~ {np.mean(semi_randoms)+np.std(semi_randoms):.4f}\")"
   ]
  },
  {
   "cell_type": "code",
   "execution_count": 8,
   "metadata": {},
   "outputs": [
    {
     "data": {
      "text/plain": [
       "Text(0.5, 1.0, 'semi-random sampling')"
      ]
     },
     "execution_count": 8,
     "metadata": {},
     "output_type": "execute_result"
    },
    {
     "data": {
      "image/png": "[encoded data removed]",
      "text/plain": [
       "<Figure size 640x480 with 1 Axes>"
      ]
     },
     "metadata": {},
     "output_type": "display_data"
    }
   ],
   "source": [
    "plt.hist(semi_randoms)\n",
    "plt.xlim(0, 1)\n",
    "plt.xlabel(\"accuracy\")\n",
    "plt.ylabel(\"count\")\n",
    "plt.title(\"semi-random sampling\")"
   ]
  }
 ],
 "metadata": {
  "kernelspec": {
   "display_name": "Python 3",
   "language": "python",
   "name": "python3"
  },
  "language_info": {
   "codemirror_mode": {
    "name": "ipython",
    "version": 3
   },
   "file_extension": ".py",
   "mimetype": "text/x-python",
   "name": "python",
   "nbconvert_exporter": "python",
   "pygments_lexer": "ipython3",
   "version": "3.10.12"
  },
  "orig_nbformat": 4
 },
 "nbformat": 4,
 "nbformat_minor": 2
}
