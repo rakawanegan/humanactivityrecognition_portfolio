{
 "cells": [
  {
   "cell_type": "code",
   "execution_count": 1,
   "metadata": {
    "execution": {
     "iopub.execute_input": "2023-11-01T07:38:20.617713Z",
     "iopub.status.busy": "2023-11-01T07:38:20.617345Z",
     "iopub.status.idle": "2023-11-01T07:38:21.747939Z",
     "shell.execute_reply": "2023-11-01T07:38:21.747331Z"
    }
   },
   "outputs": [
    {
     "name": "stderr",
     "output_type": "stream",
     "text": [
      "/home/nakagawa/.local/lib/python3.10/site-packages/scipy/__init__.py:155: UserWarning: A NumPy version >=1.18.5 and <1.25.0 is required for this version of SciPy (detected version 1.26.1\n",
      "  warnings.warn(f\"A NumPy version >={np_minversion} and <{np_maxversion}\"\n"
     ]
    }
   ],
   "source": [
    "import pandas as pd\n",
    "from matplotlib import pyplot as plt\n",
    "import seaborn as sns\n",
    "from sklearn.metrics import confusion_matrix"
   ]
  },
  {
   "cell_type": "code",
   "execution_count": 2,
   "metadata": {
    "execution": {
     "iopub.execute_input": "2023-11-01T07:38:21.750839Z",
     "iopub.status.busy": "2023-11-01T07:38:21.750622Z",
     "iopub.status.idle": "2023-11-01T07:38:21.753530Z",
     "shell.execute_reply": "2023-11-01T07:38:21.753032Z"
    }
   },
   "outputs": [],
   "source": [
    "def calc_accuracy(df):\n",
    "    return (df['true_label'] == df['predict_label']).sum() / len(df)"
   ]
  },
  {
   "attachments": {},
   "cell_type": "markdown",
   "metadata": {},
   "source": [
    "# Prediction Import"
   ]
  },
  {
   "cell_type": "code",
   "execution_count": 3,
   "metadata": {
    "execution": {
     "iopub.execute_input": "2023-11-01T07:38:21.755985Z",
     "iopub.status.busy": "2023-11-01T07:38:21.755840Z",
     "iopub.status.idle": "2023-11-01T07:38:21.782189Z",
     "shell.execute_reply": "2023-11-01T07:38:21.781580Z"
    }
   },
   "outputs": [
    {
     "data": {
      "text/html": [
       "<div>\n",
       "<style scoped>\n",
       "    .dataframe tbody tr th:only-of-type {\n",
       "        vertical-align: middle;\n",
       "    }\n",
       "\n",
       "    .dataframe tbody tr th {\n",
       "        vertical-align: top;\n",
       "    }\n",
       "\n",
       "    .dataframe thead th {\n",
       "        text-align: right;\n",
       "    }\n",
       "</style>\n",
       "<table border=\"1\" class=\"dataframe\">\n",
       "  <thead>\n",
       "    <tr style=\"text-align: right;\">\n",
       "      <th></th>\n",
       "      <th>Downstairs</th>\n",
       "      <th>Jogging</th>\n",
       "      <th>Sitting</th>\n",
       "      <th>Standing</th>\n",
       "      <th>Upstairs</th>\n",
       "      <th>Walking</th>\n",
       "    </tr>\n",
       "  </thead>\n",
       "  <tbody>\n",
       "    <tr>\n",
       "      <th>0</th>\n",
       "      <td>3.011206</td>\n",
       "      <td>-5.817851</td>\n",
       "      <td>-5.217103</td>\n",
       "      <td>-7.638794</td>\n",
       "      <td>0.831200</td>\n",
       "      <td>9.454015</td>\n",
       "    </tr>\n",
       "    <tr>\n",
       "      <th>1</th>\n",
       "      <td>1.910253</td>\n",
       "      <td>-6.772700</td>\n",
       "      <td>15.421850</td>\n",
       "      <td>2.738583</td>\n",
       "      <td>-5.358047</td>\n",
       "      <td>-3.725187</td>\n",
       "    </tr>\n",
       "    <tr>\n",
       "      <th>2</th>\n",
       "      <td>-1.027743</td>\n",
       "      <td>-7.089542</td>\n",
       "      <td>-5.357136</td>\n",
       "      <td>-3.138410</td>\n",
       "      <td>12.560061</td>\n",
       "      <td>1.079521</td>\n",
       "    </tr>\n",
       "    <tr>\n",
       "      <th>3</th>\n",
       "      <td>-2.923320</td>\n",
       "      <td>15.512492</td>\n",
       "      <td>-7.420484</td>\n",
       "      <td>-7.753412</td>\n",
       "      <td>1.668159</td>\n",
       "      <td>-0.424469</td>\n",
       "    </tr>\n",
       "    <tr>\n",
       "      <th>4</th>\n",
       "      <td>1.624771</td>\n",
       "      <td>-4.469953</td>\n",
       "      <td>-0.402944</td>\n",
       "      <td>15.373968</td>\n",
       "      <td>-4.972460</td>\n",
       "      <td>-5.154066</td>\n",
       "    </tr>\n",
       "  </tbody>\n",
       "</table>\n",
       "</div>"
      ],
      "text/plain": [
       "   Downstairs    Jogging    Sitting   Standing   Upstairs   Walking\n",
       "0    3.011206  -5.817851  -5.217103  -7.638794   0.831200  9.454015\n",
       "1    1.910253  -6.772700  15.421850   2.738583  -5.358047 -3.725187\n",
       "2   -1.027743  -7.089542  -5.357136  -3.138410  12.560061  1.079521\n",
       "3   -2.923320  15.512492  -7.420484  -7.753412   1.668159 -0.424469\n",
       "4    1.624771  -4.469953  -0.402944  15.373968  -4.972460 -5.154066"
      ]
     },
     "execution_count": 3,
     "metadata": {},
     "output_type": "execute_result"
    }
   ],
   "source": [
    "LABELS = [\"Downstairs\", \"Jogging\", \"Sitting\", \"Standing\", \"Upstairs\", \"Walking\"]\n",
    "df = pd.read_csv('predict.csv', index_col=0)\n",
    "predict = df.drop('true', axis=1)\n",
    "true = df['true']\n",
    "del df\n",
    "true_encoded = true.map(lambda x: LABELS[x])\n",
    "true_encoded.name = 'true_label'\n",
    "predict.columns = LABELS\n",
    "predict.head()"
   ]
  },
  {
   "cell_type": "code",
   "execution_count": 4,
   "metadata": {
    "execution": {
     "iopub.execute_input": "2023-11-01T07:38:21.784884Z",
     "iopub.status.busy": "2023-11-01T07:38:21.784726Z",
     "iopub.status.idle": "2023-11-01T07:38:25.940461Z",
     "shell.execute_reply": "2023-11-01T07:38:25.939208Z"
    }
   },
   "outputs": [],
   "source": [
    "# min-max normalization\n",
    "predict = predict.apply(lambda x: (x - x.min()) / (x.max() - x.min()), axis=1)\n",
    "predict = predict.apply(lambda x: x / x.sum(), axis=1)\n",
    "\n",
    "predict_label = predict.idxmax(axis=1)\n",
    "predict_probability = predict.max(axis=1)\n",
    "predict_probability.name = 'predict_probability'\n",
    "predict_label.name = 'predict_label'\n",
    "# predict.head()\n",
    "# true.head()\n",
    "# true_encoded.head()"
   ]
  },
  {
   "cell_type": "code",
   "execution_count": 5,
   "metadata": {
    "execution": {
     "iopub.execute_input": "2023-11-01T07:38:25.944713Z",
     "iopub.status.busy": "2023-11-01T07:38:25.944316Z",
     "iopub.status.idle": "2023-11-01T07:38:25.961500Z",
     "shell.execute_reply": "2023-11-01T07:38:25.960309Z"
    }
   },
   "outputs": [
    {
     "data": {
      "text/html": [
       "<div>\n",
       "<style scoped>\n",
       "    .dataframe tbody tr th:only-of-type {\n",
       "        vertical-align: middle;\n",
       "    }\n",
       "\n",
       "    .dataframe tbody tr th {\n",
       "        vertical-align: top;\n",
       "    }\n",
       "\n",
       "    .dataframe thead th {\n",
       "        text-align: right;\n",
       "    }\n",
       "</style>\n",
       "<table border=\"1\" class=\"dataframe\">\n",
       "  <thead>\n",
       "    <tr style=\"text-align: right;\">\n",
       "      <th></th>\n",
       "      <th>Downstairs</th>\n",
       "      <th>Jogging</th>\n",
       "      <th>Sitting</th>\n",
       "      <th>Standing</th>\n",
       "      <th>Upstairs</th>\n",
       "      <th>Walking</th>\n",
       "      <th>predict_probability</th>\n",
       "      <th>true</th>\n",
       "      <th>predict_label</th>\n",
       "      <th>true_label</th>\n",
       "    </tr>\n",
       "  </thead>\n",
       "  <tbody>\n",
       "    <tr>\n",
       "      <th>0</th>\n",
       "      <td>0.263253</td>\n",
       "      <td>0.045011</td>\n",
       "      <td>0.059861</td>\n",
       "      <td>0.000000</td>\n",
       "      <td>0.209366</td>\n",
       "      <td>0.422510</td>\n",
       "      <td>0.422510</td>\n",
       "      <td>5</td>\n",
       "      <td>Walking</td>\n",
       "      <td>Walking</td>\n",
       "    </tr>\n",
       "    <tr>\n",
       "      <th>1</th>\n",
       "      <td>0.193596</td>\n",
       "      <td>0.000000</td>\n",
       "      <td>0.494851</td>\n",
       "      <td>0.212064</td>\n",
       "      <td>0.031541</td>\n",
       "      <td>0.067948</td>\n",
       "      <td>0.494851</td>\n",
       "      <td>2</td>\n",
       "      <td>Sitting</td>\n",
       "      <td>Sitting</td>\n",
       "    </tr>\n",
       "    <tr>\n",
       "      <th>2</th>\n",
       "      <td>0.153215</td>\n",
       "      <td>0.000000</td>\n",
       "      <td>0.043787</td>\n",
       "      <td>0.099867</td>\n",
       "      <td>0.496654</td>\n",
       "      <td>0.206477</td>\n",
       "      <td>0.496654</td>\n",
       "      <td>4</td>\n",
       "      <td>Upstairs</td>\n",
       "      <td>Upstairs</td>\n",
       "    </tr>\n",
       "    <tr>\n",
       "      <th>3</th>\n",
       "      <td>0.106909</td>\n",
       "      <td>0.514967</td>\n",
       "      <td>0.007369</td>\n",
       "      <td>0.000000</td>\n",
       "      <td>0.208537</td>\n",
       "      <td>0.162219</td>\n",
       "      <td>0.514967</td>\n",
       "      <td>1</td>\n",
       "      <td>Jogging</td>\n",
       "      <td>Jogging</td>\n",
       "    </tr>\n",
       "    <tr>\n",
       "      <th>4</th>\n",
       "      <td>0.205895</td>\n",
       "      <td>0.020779</td>\n",
       "      <td>0.144307</td>\n",
       "      <td>0.623503</td>\n",
       "      <td>0.005516</td>\n",
       "      <td>0.000000</td>\n",
       "      <td>0.623503</td>\n",
       "      <td>3</td>\n",
       "      <td>Standing</td>\n",
       "      <td>Standing</td>\n",
       "    </tr>\n",
       "    <tr>\n",
       "      <th>5</th>\n",
       "      <td>0.215570</td>\n",
       "      <td>0.025402</td>\n",
       "      <td>0.000000</td>\n",
       "      <td>0.015861</td>\n",
       "      <td>0.208128</td>\n",
       "      <td>0.535039</td>\n",
       "      <td>0.535039</td>\n",
       "      <td>5</td>\n",
       "      <td>Walking</td>\n",
       "      <td>Walking</td>\n",
       "    </tr>\n",
       "    <tr>\n",
       "      <th>6</th>\n",
       "      <td>0.276730</td>\n",
       "      <td>0.000000</td>\n",
       "      <td>0.123345</td>\n",
       "      <td>0.209217</td>\n",
       "      <td>0.291694</td>\n",
       "      <td>0.099015</td>\n",
       "      <td>0.291694</td>\n",
       "      <td>0</td>\n",
       "      <td>Upstairs</td>\n",
       "      <td>Downstairs</td>\n",
       "    </tr>\n",
       "    <tr>\n",
       "      <th>7</th>\n",
       "      <td>0.416781</td>\n",
       "      <td>0.150058</td>\n",
       "      <td>0.031051</td>\n",
       "      <td>0.000000</td>\n",
       "      <td>0.323407</td>\n",
       "      <td>0.078703</td>\n",
       "      <td>0.416781</td>\n",
       "      <td>0</td>\n",
       "      <td>Downstairs</td>\n",
       "      <td>Downstairs</td>\n",
       "    </tr>\n",
       "    <tr>\n",
       "      <th>8</th>\n",
       "      <td>0.105778</td>\n",
       "      <td>0.637272</td>\n",
       "      <td>0.082339</td>\n",
       "      <td>0.000000</td>\n",
       "      <td>0.167347</td>\n",
       "      <td>0.007264</td>\n",
       "      <td>0.637272</td>\n",
       "      <td>1</td>\n",
       "      <td>Jogging</td>\n",
       "      <td>Jogging</td>\n",
       "    </tr>\n",
       "    <tr>\n",
       "      <th>9</th>\n",
       "      <td>0.085914</td>\n",
       "      <td>0.074872</td>\n",
       "      <td>0.115205</td>\n",
       "      <td>0.000000</td>\n",
       "      <td>0.173807</td>\n",
       "      <td>0.550202</td>\n",
       "      <td>0.550202</td>\n",
       "      <td>5</td>\n",
       "      <td>Walking</td>\n",
       "      <td>Walking</td>\n",
       "    </tr>\n",
       "  </tbody>\n",
       "</table>\n",
       "</div>"
      ],
      "text/plain": [
       "   Downstairs   Jogging   Sitting  Standing  Upstairs   Walking  \\\n",
       "0    0.263253  0.045011  0.059861  0.000000  0.209366  0.422510   \n",
       "1    0.193596  0.000000  0.494851  0.212064  0.031541  0.067948   \n",
       "2    0.153215  0.000000  0.043787  0.099867  0.496654  0.206477   \n",
       "3    0.106909  0.514967  0.007369  0.000000  0.208537  0.162219   \n",
       "4    0.205895  0.020779  0.144307  0.623503  0.005516  0.000000   \n",
       "5    0.215570  0.025402  0.000000  0.015861  0.208128  0.535039   \n",
       "6    0.276730  0.000000  0.123345  0.209217  0.291694  0.099015   \n",
       "7    0.416781  0.150058  0.031051  0.000000  0.323407  0.078703   \n",
       "8    0.105778  0.637272  0.082339  0.000000  0.167347  0.007264   \n",
       "9    0.085914  0.074872  0.115205  0.000000  0.173807  0.550202   \n",
       "\n",
       "   predict_probability  true predict_label  true_label  \n",
       "0             0.422510     5       Walking     Walking  \n",
       "1             0.494851     2       Sitting     Sitting  \n",
       "2             0.496654     4      Upstairs    Upstairs  \n",
       "3             0.514967     1       Jogging     Jogging  \n",
       "4             0.623503     3      Standing    Standing  \n",
       "5             0.535039     5       Walking     Walking  \n",
       "6             0.291694     0      Upstairs  Downstairs  \n",
       "7             0.416781     0    Downstairs  Downstairs  \n",
       "8             0.637272     1       Jogging     Jogging  \n",
       "9             0.550202     5       Walking     Walking  "
      ]
     },
     "execution_count": 5,
     "metadata": {},
     "output_type": "execute_result"
    }
   ],
   "source": [
    "df = pd.concat([\n",
    "            predict,\n",
    "            predict_probability,\n",
    "            true,\n",
    "            predict_label,\n",
    "            true_encoded\n",
    "        ], axis=1)\n",
    "df.head(10)"
   ]
  },
  {
   "cell_type": "code",
   "execution_count": 6,
   "metadata": {
    "execution": {
     "iopub.execute_input": "2023-11-01T07:38:25.964902Z",
     "iopub.status.busy": "2023-11-01T07:38:25.964637Z",
     "iopub.status.idle": "2023-11-01T07:38:26.702110Z",
     "shell.execute_reply": "2023-11-01T07:38:26.701540Z"
    }
   },
   "outputs": [
    {
     "name": "stdout",
     "output_type": "stream",
     "text": [
      "Accuracy:  0.9108898870948161\n"
     ]
    },
    {
     "data": {
      "text/plain": [
       "<matplotlib.legend.Legend at 0x7f9d1a2c2d40>"
      ]
     },
     "execution_count": 6,
     "metadata": {},
     "output_type": "execute_result"
    },
    {
     "data": {
      "image/png": "[encoded data removed]",
      "text/plain": [
       "<Figure size 640x480 with 1 Axes>"
      ]
     },
     "metadata": {},
     "output_type": "display_data"
    }
   ],
   "source": [
    "print('Accuracy: ', calc_accuracy(df))\n",
    "# statival analysis\n",
    "df.loc[df.true_label==df.predict_label, 'predict_probability'].hist(bins=100)\n",
    "df.loc[df.true_label!=df.predict_label, 'predict_probability'].hist(bins=100)\n",
    "plt.title('Predict Probability Distribution')\n",
    "plt.xlim(0, 1)\n",
    "plt.ylim(0, 400)\n",
    "plt.xlabel('Probability')\n",
    "plt.ylabel('Count')\n",
    "plt.legend(['Correct', 'Incorrect'])"
   ]
  },
  {
   "cell_type": "code",
   "execution_count": 7,
   "metadata": {
    "execution": {
     "iopub.execute_input": "2023-11-01T07:38:26.704687Z",
     "iopub.status.busy": "2023-11-01T07:38:26.704335Z",
     "iopub.status.idle": "2023-11-01T07:38:26.711397Z",
     "shell.execute_reply": "2023-11-01T07:38:26.710862Z"
    }
   },
   "outputs": [
    {
     "data": {
      "text/plain": [
       "mean      0.539987\n",
       "std       0.118691\n",
       "min       0.239520\n",
       "max       0.941792\n",
       "median    0.542822\n",
       "Name: predict_probability, dtype: float64"
      ]
     },
     "execution_count": 7,
     "metadata": {},
     "output_type": "execute_result"
    }
   ],
   "source": [
    "df['predict_probability'].agg(['mean', 'std', 'min', 'max', 'median'])"
   ]
  },
  {
   "cell_type": "code",
   "execution_count": 8,
   "metadata": {
    "execution": {
     "iopub.execute_input": "2023-11-01T07:38:26.713603Z",
     "iopub.status.busy": "2023-11-01T07:38:26.713402Z",
     "iopub.status.idle": "2023-11-01T07:38:26.762498Z",
     "shell.execute_reply": "2023-11-01T07:38:26.761854Z"
    }
   },
   "outputs": [
    {
     "name": "stderr",
     "output_type": "stream",
     "text": [
      "/tmp/ipykernel_25021/3327794854.py:2: RuntimeWarning: invalid value encountered in scalar divide\n",
      "  return (df['true_label'] == df['predict_label']).sum() / len(df)\n"
     ]
    },
    {
     "data": {
      "text/html": [
       "<div>\n",
       "<style scoped>\n",
       "    .dataframe tbody tr th:only-of-type {\n",
       "        vertical-align: middle;\n",
       "    }\n",
       "\n",
       "    .dataframe tbody tr th {\n",
       "        vertical-align: top;\n",
       "    }\n",
       "\n",
       "    .dataframe thead th {\n",
       "        text-align: right;\n",
       "    }\n",
       "</style>\n",
       "<table border=\"1\" class=\"dataframe\">\n",
       "  <thead>\n",
       "    <tr style=\"text-align: right;\">\n",
       "      <th></th>\n",
       "      <th>confidence_accuracy</th>\n",
       "      <th>confidence_raito</th>\n",
       "      <th>drop_accuracy</th>\n",
       "      <th>drop_ratio</th>\n",
       "    </tr>\n",
       "    <tr>\n",
       "      <th>threshold</th>\n",
       "      <th></th>\n",
       "      <th></th>\n",
       "      <th></th>\n",
       "      <th></th>\n",
       "    </tr>\n",
       "  </thead>\n",
       "  <tbody>\n",
       "    <tr>\n",
       "      <th>0.0</th>\n",
       "      <td>0.910890</td>\n",
       "      <td>1.000000</td>\n",
       "      <td>0.000000</td>\n",
       "      <td>0.000000</td>\n",
       "    </tr>\n",
       "    <tr>\n",
       "      <th>0.3</th>\n",
       "      <td>0.918989</td>\n",
       "      <td>0.984582</td>\n",
       "      <td>0.393701</td>\n",
       "      <td>0.015418</td>\n",
       "    </tr>\n",
       "    <tr>\n",
       "      <th>0.4</th>\n",
       "      <td>0.956485</td>\n",
       "      <td>0.862086</td>\n",
       "      <td>0.625880</td>\n",
       "      <td>0.137914</td>\n",
       "    </tr>\n",
       "    <tr>\n",
       "      <th>0.5</th>\n",
       "      <td>0.983193</td>\n",
       "      <td>0.635668</td>\n",
       "      <td>0.784738</td>\n",
       "      <td>0.364332</td>\n",
       "    </tr>\n",
       "    <tr>\n",
       "      <th>0.6</th>\n",
       "      <td>0.990076</td>\n",
       "      <td>0.318077</td>\n",
       "      <td>0.873954</td>\n",
       "      <td>0.681923</td>\n",
       "    </tr>\n",
       "    <tr>\n",
       "      <th>0.7</th>\n",
       "      <td>0.990489</td>\n",
       "      <td>0.089353</td>\n",
       "      <td>0.903080</td>\n",
       "      <td>0.910647</td>\n",
       "    </tr>\n",
       "  </tbody>\n",
       "</table>\n",
       "</div>"
      ],
      "text/plain": [
       "           confidence_accuracy  confidence_raito  drop_accuracy  drop_ratio\n",
       "threshold                                                                  \n",
       "0.0                   0.910890          1.000000       0.000000    0.000000\n",
       "0.3                   0.918989          0.984582       0.393701    0.015418\n",
       "0.4                   0.956485          0.862086       0.625880    0.137914\n",
       "0.5                   0.983193          0.635668       0.784738    0.364332\n",
       "0.6                   0.990076          0.318077       0.873954    0.681923\n",
       "0.7                   0.990489          0.089353       0.903080    0.910647"
      ]
     },
     "execution_count": 8,
     "metadata": {},
     "output_type": "execute_result"
    }
   ],
   "source": [
    "thresholds = [0, 0.3, 0.4, 0.5, 0.6, 0.7]\n",
    "results = []\n",
    "for threshold in thresholds:\n",
    "    df_confidence = df[df['predict_probability'] > threshold]\n",
    "    df_drop = df.loc[list(set(df.index) - set(df_confidence.index)),:]\n",
    "    results.append({\n",
    "        'threshold': threshold,\n",
    "        'confidence_accuracy': calc_accuracy(df_confidence),\n",
    "        'confidence_raito': len(df_confidence) / len(df),\n",
    "        'drop_accuracy': calc_accuracy(df_drop),\n",
    "        'drop_ratio': len(df_drop) / len(df),\n",
    "        })\n",
    "    # df_confidence = df[df['predict_probability'] > threshold]\n",
    "    # df_drop = df.loc[list(set(df.index) - set(df_confidence.index)),:]\n",
    "    # cm = confusion_matrix(df_confidence['true_label'], df_confidence['predict_label'])\n",
    "    # # cm_df = pd.DataFrame(cm, index=list(map(cm)), columns=LABELS)\n",
    "    # plt.figure(figsize=(10, 10))\n",
    "    # sns.heatmap(\n",
    "    #     cm_df,\n",
    "    #     annot=True,\n",
    "    #     fmt=\"d\",\n",
    "    #     linewidths=0.5,\n",
    "    #     cmap=\"Blues\",\n",
    "    #     cbar=False,\n",
    "    #     annot_kws={\"size\": 14},\n",
    "    #     square=True,\n",
    "    # )\n",
    "    # plt.title(f\"Confusion Matrix (threshold={threshold})\")\n",
    "    # plt.ylabel(\"True label\")\n",
    "    # plt.xlabel(\"Predicted label\")\n",
    "    # plt.savefig(f'confusion_matrix/threshold{threshold}.png')\n",
    "    # plt.close()\n",
    "results = pd.DataFrame(results).fillna(0)\n",
    "results = results.set_index('threshold')\n",
    "results"
   ]
  },
  {
   "cell_type": "code",
   "execution_count": 9,
   "metadata": {
    "execution": {
     "iopub.execute_input": "2023-11-01T07:38:26.764883Z",
     "iopub.status.busy": "2023-11-01T07:38:26.764495Z",
     "iopub.status.idle": "2023-11-01T07:38:26.993993Z",
     "shell.execute_reply": "2023-11-01T07:38:26.993428Z"
    }
   },
   "outputs": [
    {
     "data": {
      "image/png": "[encoded data removed]",
      "text/plain": [
       "<Figure size 640x480 with 1 Axes>"
      ]
     },
     "metadata": {},
     "output_type": "display_data"
    }
   ],
   "source": [
    "from sklearn.metrics import roc_curve\n",
    "\n",
    "for label in LABELS:\n",
    "    fpr, tpr, thresholds = roc_curve(df.loc[df.predict_label==label, 'true_label'], df.loc[df.predict_label==label, \"predict_probability\"], pos_label=label)\n",
    "    plt.plot(fpr, tpr, label=label)\n",
    "plt.xlabel('False Positive Rate')\n",
    "plt.ylabel('True Positive Rate')\n",
    "plt.title('ROC Curve')\n",
    "plt.legend()\n",
    "plt.show()"
   ]
  }
 ],
 "metadata": {
  "kernelspec": {
   "display_name": "Python 3",
   "language": "python",
   "name": "python3"
  },
  "language_info": {
   "codemirror_mode": {
    "name": "ipython",
    "version": 3
   },
   "file_extension": ".py",
   "mimetype": "text/x-python",
   "name": "python",
   "nbconvert_exporter": "python",
   "pygments_lexer": "ipython3",
   "version": "3.10.12"
  }
 },
 "nbformat": 4,
 "nbformat_minor": 2
}
