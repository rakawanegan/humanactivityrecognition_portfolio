{
 "cells": [
  {
   "cell_type": "code",
   "execution_count": 1,
   "metadata": {
    "execution": {
     "iopub.execute_input": "2023-11-01T07:37:51.481724Z",
     "iopub.status.busy": "2023-11-01T07:37:51.480845Z",
     "iopub.status.idle": "2023-11-01T07:37:52.643916Z",
     "shell.execute_reply": "2023-11-01T07:37:52.643379Z"
    }
   },
   "outputs": [
    {
     "name": "stderr",
     "output_type": "stream",
     "text": [
      "/home/nakagawa/.local/lib/python3.10/site-packages/scipy/__init__.py:155: UserWarning: A NumPy version >=1.18.5 and <1.25.0 is required for this version of SciPy (detected version 1.26.1\n",
      "  warnings.warn(f\"A NumPy version >={np_minversion} and <{np_maxversion}\"\n"
     ]
    }
   ],
   "source": [
    "import pandas as pd\n",
    "from matplotlib import pyplot as plt\n",
    "import seaborn as sns\n",
    "from sklearn.metrics import confusion_matrix"
   ]
  },
  {
   "cell_type": "code",
   "execution_count": 2,
   "metadata": {
    "execution": {
     "iopub.execute_input": "2023-11-01T07:37:52.646580Z",
     "iopub.status.busy": "2023-11-01T07:37:52.646116Z",
     "iopub.status.idle": "2023-11-01T07:37:52.648934Z",
     "shell.execute_reply": "2023-11-01T07:37:52.648538Z"
    }
   },
   "outputs": [],
   "source": [
    "def calc_accuracy(df):\n",
    "    return (df['true_label'] == df['predict_label']).sum() / len(df)"
   ]
  },
  {
   "attachments": {},
   "cell_type": "markdown",
   "metadata": {},
   "source": [
    "# Prediction Import"
   ]
  },
  {
   "cell_type": "code",
   "execution_count": 3,
   "metadata": {
    "execution": {
     "iopub.execute_input": "2023-11-01T07:37:52.651269Z",
     "iopub.status.busy": "2023-11-01T07:37:52.650975Z",
     "iopub.status.idle": "2023-11-01T07:37:52.676911Z",
     "shell.execute_reply": "2023-11-01T07:37:52.676394Z"
    }
   },
   "outputs": [
    {
     "data": {
      "text/html": [
       "<div>\n",
       "<style scoped>\n",
       "    .dataframe tbody tr th:only-of-type {\n",
       "        vertical-align: middle;\n",
       "    }\n",
       "\n",
       "    .dataframe tbody tr th {\n",
       "        vertical-align: top;\n",
       "    }\n",
       "\n",
       "    .dataframe thead th {\n",
       "        text-align: right;\n",
       "    }\n",
       "</style>\n",
       "<table border=\"1\" class=\"dataframe\">\n",
       "  <thead>\n",
       "    <tr style=\"text-align: right;\">\n",
       "      <th></th>\n",
       "      <th>Downstairs</th>\n",
       "      <th>Jogging</th>\n",
       "      <th>Sitting</th>\n",
       "      <th>Standing</th>\n",
       "      <th>Upstairs</th>\n",
       "      <th>Walking</th>\n",
       "    </tr>\n",
       "  </thead>\n",
       "  <tbody>\n",
       "    <tr>\n",
       "      <th>0</th>\n",
       "      <td>-0.051365</td>\n",
       "      <td>-6.140929</td>\n",
       "      <td>-5.497334</td>\n",
       "      <td>-5.696781</td>\n",
       "      <td>-0.642313</td>\n",
       "      <td>13.210702</td>\n",
       "    </tr>\n",
       "    <tr>\n",
       "      <th>1</th>\n",
       "      <td>-1.509786</td>\n",
       "      <td>-8.522696</td>\n",
       "      <td>14.942570</td>\n",
       "      <td>2.538199</td>\n",
       "      <td>-1.973984</td>\n",
       "      <td>-0.270892</td>\n",
       "    </tr>\n",
       "    <tr>\n",
       "      <th>2</th>\n",
       "      <td>0.835547</td>\n",
       "      <td>-7.029146</td>\n",
       "      <td>-9.856510</td>\n",
       "      <td>-3.872520</td>\n",
       "      <td>7.731555</td>\n",
       "      <td>3.101007</td>\n",
       "    </tr>\n",
       "    <tr>\n",
       "      <th>3</th>\n",
       "      <td>2.742987</td>\n",
       "      <td>15.359550</td>\n",
       "      <td>-0.604864</td>\n",
       "      <td>-5.680943</td>\n",
       "      <td>-6.409413</td>\n",
       "      <td>-4.199465</td>\n",
       "    </tr>\n",
       "    <tr>\n",
       "      <th>4</th>\n",
       "      <td>-4.779817</td>\n",
       "      <td>-3.136304</td>\n",
       "      <td>-3.719555</td>\n",
       "      <td>13.347833</td>\n",
       "      <td>0.276563</td>\n",
       "      <td>-0.086556</td>\n",
       "    </tr>\n",
       "  </tbody>\n",
       "</table>\n",
       "</div>"
      ],
      "text/plain": [
       "   Downstairs    Jogging    Sitting   Standing  Upstairs    Walking\n",
       "0   -0.051365  -6.140929  -5.497334  -5.696781 -0.642313  13.210702\n",
       "1   -1.509786  -8.522696  14.942570   2.538199 -1.973984  -0.270892\n",
       "2    0.835547  -7.029146  -9.856510  -3.872520  7.731555   3.101007\n",
       "3    2.742987  15.359550  -0.604864  -5.680943 -6.409413  -4.199465\n",
       "4   -4.779817  -3.136304  -3.719555  13.347833  0.276563  -0.086556"
      ]
     },
     "execution_count": 3,
     "metadata": {},
     "output_type": "execute_result"
    }
   ],
   "source": [
    "LABELS = [\"Downstairs\", \"Jogging\", \"Sitting\", \"Standing\", \"Upstairs\", \"Walking\"]\n",
    "df = pd.read_csv('predict.csv', index_col=0)\n",
    "predict = df.drop('true', axis=1)\n",
    "true = df['true']\n",
    "del df\n",
    "true_encoded = true.map(lambda x: LABELS[x])\n",
    "true_encoded.name = 'true_label'\n",
    "predict.columns = LABELS\n",
    "predict.head()"
   ]
  },
  {
   "cell_type": "code",
   "execution_count": 4,
   "metadata": {
    "execution": {
     "iopub.execute_input": "2023-11-01T07:37:52.679114Z",
     "iopub.status.busy": "2023-11-01T07:37:52.678877Z",
     "iopub.status.idle": "2023-11-01T07:37:56.009303Z",
     "shell.execute_reply": "2023-11-01T07:37:56.008421Z"
    }
   },
   "outputs": [],
   "source": [
    "# min-max normalization\n",
    "predict = predict.apply(lambda x: (x - x.min()) / (x.max() - x.min()), axis=1)\n",
    "predict = predict.apply(lambda x: x / x.sum(), axis=1)\n",
    "\n",
    "predict_label = predict.idxmax(axis=1)\n",
    "predict_probability = predict.max(axis=1)\n",
    "predict_probability.name = 'predict_probability'\n",
    "predict_label.name = 'predict_label'\n",
    "# predict.head()\n",
    "# true.head()\n",
    "# true_encoded.head()"
   ]
  },
  {
   "cell_type": "code",
   "execution_count": 5,
   "metadata": {
    "execution": {
     "iopub.execute_input": "2023-11-01T07:37:56.013622Z",
     "iopub.status.busy": "2023-11-01T07:37:56.013046Z",
     "iopub.status.idle": "2023-11-01T07:37:56.027913Z",
     "shell.execute_reply": "2023-11-01T07:37:56.027245Z"
    }
   },
   "outputs": [
    {
     "data": {
      "text/html": [
       "<div>\n",
       "<style scoped>\n",
       "    .dataframe tbody tr th:only-of-type {\n",
       "        vertical-align: middle;\n",
       "    }\n",
       "\n",
       "    .dataframe tbody tr th {\n",
       "        vertical-align: top;\n",
       "    }\n",
       "\n",
       "    .dataframe thead th {\n",
       "        text-align: right;\n",
       "    }\n",
       "</style>\n",
       "<table border=\"1\" class=\"dataframe\">\n",
       "  <thead>\n",
       "    <tr style=\"text-align: right;\">\n",
       "      <th></th>\n",
       "      <th>Downstairs</th>\n",
       "      <th>Jogging</th>\n",
       "      <th>Sitting</th>\n",
       "      <th>Standing</th>\n",
       "      <th>Upstairs</th>\n",
       "      <th>Walking</th>\n",
       "      <th>predict_probability</th>\n",
       "      <th>true</th>\n",
       "      <th>predict_label</th>\n",
       "      <th>true_label</th>\n",
       "    </tr>\n",
       "  </thead>\n",
       "  <tbody>\n",
       "    <tr>\n",
       "      <th>0</th>\n",
       "      <td>0.190135</td>\n",
       "      <td>0.000000</td>\n",
       "      <td>0.020095</td>\n",
       "      <td>0.013868</td>\n",
       "      <td>0.171684</td>\n",
       "      <td>0.604218</td>\n",
       "      <td>0.604218</td>\n",
       "      <td>5</td>\n",
       "      <td>Walking</td>\n",
       "      <td>Walking</td>\n",
       "    </tr>\n",
       "    <tr>\n",
       "      <th>1</th>\n",
       "      <td>0.124476</td>\n",
       "      <td>0.000000</td>\n",
       "      <td>0.416497</td>\n",
       "      <td>0.196325</td>\n",
       "      <td>0.116236</td>\n",
       "      <td>0.146465</td>\n",
       "      <td>0.416497</td>\n",
       "      <td>2</td>\n",
       "      <td>Sitting</td>\n",
       "      <td>Sitting</td>\n",
       "    </tr>\n",
       "    <tr>\n",
       "      <th>2</th>\n",
       "      <td>0.213632</td>\n",
       "      <td>0.056492</td>\n",
       "      <td>0.000000</td>\n",
       "      <td>0.119563</td>\n",
       "      <td>0.351417</td>\n",
       "      <td>0.258897</td>\n",
       "      <td>0.351417</td>\n",
       "      <td>4</td>\n",
       "      <td>Upstairs</td>\n",
       "      <td>Upstairs</td>\n",
       "    </tr>\n",
       "    <tr>\n",
       "      <th>3</th>\n",
       "      <td>0.230746</td>\n",
       "      <td>0.548830</td>\n",
       "      <td>0.146342</td>\n",
       "      <td>0.018366</td>\n",
       "      <td>0.000000</td>\n",
       "      <td>0.055716</td>\n",
       "      <td>0.548830</td>\n",
       "      <td>1</td>\n",
       "      <td>Jogging</td>\n",
       "      <td>Jogging</td>\n",
       "    </tr>\n",
       "    <tr>\n",
       "      <th>4</th>\n",
       "      <td>0.000000</td>\n",
       "      <td>0.053743</td>\n",
       "      <td>0.034671</td>\n",
       "      <td>0.592774</td>\n",
       "      <td>0.165343</td>\n",
       "      <td>0.153470</td>\n",
       "      <td>0.592774</td>\n",
       "      <td>3</td>\n",
       "      <td>Standing</td>\n",
       "      <td>Standing</td>\n",
       "    </tr>\n",
       "    <tr>\n",
       "      <th>5</th>\n",
       "      <td>0.127539</td>\n",
       "      <td>0.156200</td>\n",
       "      <td>0.000000</td>\n",
       "      <td>0.051001</td>\n",
       "      <td>0.126032</td>\n",
       "      <td>0.539227</td>\n",
       "      <td>0.539227</td>\n",
       "      <td>5</td>\n",
       "      <td>Walking</td>\n",
       "      <td>Walking</td>\n",
       "    </tr>\n",
       "    <tr>\n",
       "      <th>6</th>\n",
       "      <td>0.462734</td>\n",
       "      <td>0.053127</td>\n",
       "      <td>0.000000</td>\n",
       "      <td>0.094852</td>\n",
       "      <td>0.231168</td>\n",
       "      <td>0.158119</td>\n",
       "      <td>0.462734</td>\n",
       "      <td>0</td>\n",
       "      <td>Downstairs</td>\n",
       "      <td>Downstairs</td>\n",
       "    </tr>\n",
       "    <tr>\n",
       "      <th>7</th>\n",
       "      <td>0.321177</td>\n",
       "      <td>0.000000</td>\n",
       "      <td>0.058668</td>\n",
       "      <td>0.141444</td>\n",
       "      <td>0.244021</td>\n",
       "      <td>0.234690</td>\n",
       "      <td>0.321177</td>\n",
       "      <td>0</td>\n",
       "      <td>Downstairs</td>\n",
       "      <td>Downstairs</td>\n",
       "    </tr>\n",
       "    <tr>\n",
       "      <th>8</th>\n",
       "      <td>0.145536</td>\n",
       "      <td>0.648344</td>\n",
       "      <td>0.012371</td>\n",
       "      <td>0.000000</td>\n",
       "      <td>0.126813</td>\n",
       "      <td>0.066936</td>\n",
       "      <td>0.648344</td>\n",
       "      <td>1</td>\n",
       "      <td>Jogging</td>\n",
       "      <td>Jogging</td>\n",
       "    </tr>\n",
       "    <tr>\n",
       "      <th>9</th>\n",
       "      <td>0.164850</td>\n",
       "      <td>0.103405</td>\n",
       "      <td>0.000000</td>\n",
       "      <td>0.049451</td>\n",
       "      <td>0.085157</td>\n",
       "      <td>0.597137</td>\n",
       "      <td>0.597137</td>\n",
       "      <td>5</td>\n",
       "      <td>Walking</td>\n",
       "      <td>Walking</td>\n",
       "    </tr>\n",
       "  </tbody>\n",
       "</table>\n",
       "</div>"
      ],
      "text/plain": [
       "   Downstairs   Jogging   Sitting  Standing  Upstairs   Walking  \\\n",
       "0    0.190135  0.000000  0.020095  0.013868  0.171684  0.604218   \n",
       "1    0.124476  0.000000  0.416497  0.196325  0.116236  0.146465   \n",
       "2    0.213632  0.056492  0.000000  0.119563  0.351417  0.258897   \n",
       "3    0.230746  0.548830  0.146342  0.018366  0.000000  0.055716   \n",
       "4    0.000000  0.053743  0.034671  0.592774  0.165343  0.153470   \n",
       "5    0.127539  0.156200  0.000000  0.051001  0.126032  0.539227   \n",
       "6    0.462734  0.053127  0.000000  0.094852  0.231168  0.158119   \n",
       "7    0.321177  0.000000  0.058668  0.141444  0.244021  0.234690   \n",
       "8    0.145536  0.648344  0.012371  0.000000  0.126813  0.066936   \n",
       "9    0.164850  0.103405  0.000000  0.049451  0.085157  0.597137   \n",
       "\n",
       "   predict_probability  true predict_label  true_label  \n",
       "0             0.604218     5       Walking     Walking  \n",
       "1             0.416497     2       Sitting     Sitting  \n",
       "2             0.351417     4      Upstairs    Upstairs  \n",
       "3             0.548830     1       Jogging     Jogging  \n",
       "4             0.592774     3      Standing    Standing  \n",
       "5             0.539227     5       Walking     Walking  \n",
       "6             0.462734     0    Downstairs  Downstairs  \n",
       "7             0.321177     0    Downstairs  Downstairs  \n",
       "8             0.648344     1       Jogging     Jogging  \n",
       "9             0.597137     5       Walking     Walking  "
      ]
     },
     "execution_count": 5,
     "metadata": {},
     "output_type": "execute_result"
    }
   ],
   "source": [
    "df = pd.concat([\n",
    "            predict,\n",
    "            predict_probability,\n",
    "            true,\n",
    "            predict_label,\n",
    "            true_encoded\n",
    "        ], axis=1)\n",
    "df.head(10)"
   ]
  },
  {
   "cell_type": "code",
   "execution_count": 6,
   "metadata": {
    "execution": {
     "iopub.execute_input": "2023-11-01T07:37:56.030716Z",
     "iopub.status.busy": "2023-11-01T07:37:56.030474Z",
     "iopub.status.idle": "2023-11-01T07:37:56.661064Z",
     "shell.execute_reply": "2023-11-01T07:37:56.660353Z"
    }
   },
   "outputs": [
    {
     "name": "stdout",
     "output_type": "stream",
     "text": [
      "Accuracy:  0.9467038970498968\n"
     ]
    },
    {
     "data": {
      "text/plain": [
       "<matplotlib.legend.Legend at 0x7f5d86158370>"
      ]
     },
     "execution_count": 6,
     "metadata": {},
     "output_type": "execute_result"
    },
    {
     "data": {
      "image/png": "[encoded data removed]",
      "text/plain": [
       "<Figure size 640x480 with 1 Axes>"
      ]
     },
     "metadata": {},
     "output_type": "display_data"
    }
   ],
   "source": [
    "print('Accuracy: ', calc_accuracy(df))\n",
    "# statival analysis\n",
    "df.loc[df.true_label==df.predict_label, 'predict_probability'].hist(bins=100)\n",
    "df.loc[df.true_label!=df.predict_label, 'predict_probability'].hist(bins=100)\n",
    "plt.title('Predict Probability Distribution')\n",
    "plt.xlim(0, 1)\n",
    "plt.ylim(0, 400)\n",
    "plt.xlabel('Probability')\n",
    "plt.ylabel('Count')\n",
    "plt.legend(['Correct', 'Incorrect'])"
   ]
  },
  {
   "cell_type": "code",
   "execution_count": 7,
   "metadata": {
    "execution": {
     "iopub.execute_input": "2023-11-01T07:37:56.664164Z",
     "iopub.status.busy": "2023-11-01T07:37:56.663825Z",
     "iopub.status.idle": "2023-11-01T07:37:56.673342Z",
     "shell.execute_reply": "2023-11-01T07:37:56.672525Z"
    }
   },
   "outputs": [
    {
     "data": {
      "text/plain": [
       "mean      0.548423\n",
       "std       0.112778\n",
       "min       0.264036\n",
       "max       0.941894\n",
       "median    0.546834\n",
       "Name: predict_probability, dtype: float64"
      ]
     },
     "execution_count": 7,
     "metadata": {},
     "output_type": "execute_result"
    }
   ],
   "source": [
    "df['predict_probability'].agg(['mean', 'std', 'min', 'max', 'median'])"
   ]
  },
  {
   "cell_type": "code",
   "execution_count": 8,
   "metadata": {
    "execution": {
     "iopub.execute_input": "2023-11-01T07:37:56.676159Z",
     "iopub.status.busy": "2023-11-01T07:37:56.675913Z",
     "iopub.status.idle": "2023-11-01T07:37:56.715790Z",
     "shell.execute_reply": "2023-11-01T07:37:56.715030Z"
    }
   },
   "outputs": [
    {
     "name": "stderr",
     "output_type": "stream",
     "text": [
      "/tmp/ipykernel_24731/3327794854.py:2: RuntimeWarning: invalid value encountered in scalar divide\n",
      "  return (df['true_label'] == df['predict_label']).sum() / len(df)\n"
     ]
    },
    {
     "data": {
      "text/html": [
       "<div>\n",
       "<style scoped>\n",
       "    .dataframe tbody tr th:only-of-type {\n",
       "        vertical-align: middle;\n",
       "    }\n",
       "\n",
       "    .dataframe tbody tr th {\n",
       "        vertical-align: top;\n",
       "    }\n",
       "\n",
       "    .dataframe thead th {\n",
       "        text-align: right;\n",
       "    }\n",
       "</style>\n",
       "<table border=\"1\" class=\"dataframe\">\n",
       "  <thead>\n",
       "    <tr style=\"text-align: right;\">\n",
       "      <th></th>\n",
       "      <th>confidence_accuracy</th>\n",
       "      <th>confidence_raito</th>\n",
       "      <th>drop_accuracy</th>\n",
       "      <th>drop_ratio</th>\n",
       "    </tr>\n",
       "    <tr>\n",
       "      <th>threshold</th>\n",
       "      <th></th>\n",
       "      <th></th>\n",
       "      <th></th>\n",
       "      <th></th>\n",
       "    </tr>\n",
       "  </thead>\n",
       "  <tbody>\n",
       "    <tr>\n",
       "      <th>0.0</th>\n",
       "      <td>0.946704</td>\n",
       "      <td>1.000000</td>\n",
       "      <td>0.000000</td>\n",
       "      <td>0.000000</td>\n",
       "    </tr>\n",
       "    <tr>\n",
       "      <th>0.3</th>\n",
       "      <td>0.949043</td>\n",
       "      <td>0.995872</td>\n",
       "      <td>0.382353</td>\n",
       "      <td>0.004128</td>\n",
       "    </tr>\n",
       "    <tr>\n",
       "      <th>0.4</th>\n",
       "      <td>0.972882</td>\n",
       "      <td>0.904334</td>\n",
       "      <td>0.699239</td>\n",
       "      <td>0.095666</td>\n",
       "    </tr>\n",
       "    <tr>\n",
       "      <th>0.5</th>\n",
       "      <td>0.993493</td>\n",
       "      <td>0.653029</td>\n",
       "      <td>0.858642</td>\n",
       "      <td>0.346971</td>\n",
       "    </tr>\n",
       "    <tr>\n",
       "      <th>0.6</th>\n",
       "      <td>0.998856</td>\n",
       "      <td>0.318441</td>\n",
       "      <td>0.922337</td>\n",
       "      <td>0.681559</td>\n",
       "    </tr>\n",
       "    <tr>\n",
       "      <th>0.7</th>\n",
       "      <td>0.998731</td>\n",
       "      <td>0.095666</td>\n",
       "      <td>0.941200</td>\n",
       "      <td>0.904334</td>\n",
       "    </tr>\n",
       "  </tbody>\n",
       "</table>\n",
       "</div>"
      ],
      "text/plain": [
       "           confidence_accuracy  confidence_raito  drop_accuracy  drop_ratio\n",
       "threshold                                                                  \n",
       "0.0                   0.946704          1.000000       0.000000    0.000000\n",
       "0.3                   0.949043          0.995872       0.382353    0.004128\n",
       "0.4                   0.972882          0.904334       0.699239    0.095666\n",
       "0.5                   0.993493          0.653029       0.858642    0.346971\n",
       "0.6                   0.998856          0.318441       0.922337    0.681559\n",
       "0.7                   0.998731          0.095666       0.941200    0.904334"
      ]
     },
     "execution_count": 8,
     "metadata": {},
     "output_type": "execute_result"
    }
   ],
   "source": [
    "thresholds = [0, 0.3, 0.4, 0.5, 0.6, 0.7]\n",
    "results = []\n",
    "for threshold in thresholds:\n",
    "    df_confidence = df[df['predict_probability'] > threshold]\n",
    "    df_drop = df.loc[list(set(df.index) - set(df_confidence.index)),:]\n",
    "    results.append({\n",
    "        'threshold': threshold,\n",
    "        'confidence_accuracy': calc_accuracy(df_confidence),\n",
    "        'confidence_raito': len(df_confidence) / len(df),\n",
    "        'drop_accuracy': calc_accuracy(df_drop),\n",
    "        'drop_ratio': len(df_drop) / len(df),\n",
    "        })\n",
    "    # df_confidence = df[df['predict_probability'] > threshold]\n",
    "    # df_drop = df.loc[list(set(df.index) - set(df_confidence.index)),:]\n",
    "    # cm = confusion_matrix(df_confidence['true_label'], df_confidence['predict_label'])\n",
    "    # # cm_df = pd.DataFrame(cm, index=list(map(cm)), columns=LABELS)\n",
    "    # plt.figure(figsize=(10, 10))\n",
    "    # sns.heatmap(\n",
    "    #     cm_df,\n",
    "    #     annot=True,\n",
    "    #     fmt=\"d\",\n",
    "    #     linewidths=0.5,\n",
    "    #     cmap=\"Blues\",\n",
    "    #     cbar=False,\n",
    "    #     annot_kws={\"size\": 14},\n",
    "    #     square=True,\n",
    "    # )\n",
    "    # plt.title(f\"Confusion Matrix (threshold={threshold})\")\n",
    "    # plt.ylabel(\"True label\")\n",
    "    # plt.xlabel(\"Predicted label\")\n",
    "    # plt.savefig(f'confusion_matrix/threshold{threshold}.png')\n",
    "    # plt.close()\n",
    "results = pd.DataFrame(results).fillna(0)\n",
    "results = results.set_index('threshold')\n",
    "results"
   ]
  },
  {
   "cell_type": "code",
   "execution_count": 9,
   "metadata": {
    "execution": {
     "iopub.execute_input": "2023-11-01T07:37:56.718677Z",
     "iopub.status.busy": "2023-11-01T07:37:56.718426Z",
     "iopub.status.idle": "2023-11-01T07:37:56.940717Z",
     "shell.execute_reply": "2023-11-01T07:37:56.939939Z"
    }
   },
   "outputs": [
    {
     "name": "stderr",
     "output_type": "stream",
     "text": [
      "/home/nakagawa/.local/lib/python3.10/site-packages/sklearn/metrics/_ranking.py:1009: UndefinedMetricWarning: No negative samples in y_true, false positive value should be meaningless\n",
      "  warnings.warn(\n"
     ]
    },
    {
     "data": {
      "image/png": "[encoded data removed]",
      "text/plain": [
       "<Figure size 640x480 with 1 Axes>"
      ]
     },
     "metadata": {},
     "output_type": "display_data"
    }
   ],
   "source": [
    "from sklearn.metrics import roc_curve\n",
    "\n",
    "for label in LABELS:\n",
    "    fpr, tpr, thresholds = roc_curve(df.loc[df.predict_label==label, 'true_label'], df.loc[df.predict_label==label, \"predict_probability\"], pos_label=label)\n",
    "    plt.plot(fpr, tpr, label=label)\n",
    "plt.xlabel('False Positive Rate')\n",
    "plt.ylabel('True Positive Rate')\n",
    "plt.title('ROC Curve')\n",
    "plt.legend()\n",
    "plt.show()"
   ]
  }
 ],
 "metadata": {
  "kernelspec": {
   "display_name": "Python 3",
   "language": "python",
   "name": "python3"
  },
  "language_info": {
   "codemirror_mode": {
    "name": "ipython",
    "version": 3
   },
   "file_extension": ".py",
   "mimetype": "text/x-python",
   "name": "python",
   "nbconvert_exporter": "python",
   "pygments_lexer": "ipython3",
   "version": "3.10.12"
  }
 },
 "nbformat": 4,
 "nbformat_minor": 2
}
