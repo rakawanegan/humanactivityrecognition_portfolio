{
 "cells": [
  {
   "cell_type": "code",
   "execution_count": 1,
   "metadata": {
    "execution": {
     "iopub.execute_input": "2023-11-01T07:37:31.592643Z",
     "iopub.status.busy": "2023-11-01T07:37:31.591811Z",
     "iopub.status.idle": "2023-11-01T07:37:32.696644Z",
     "shell.execute_reply": "2023-11-01T07:37:32.696027Z"
    }
   },
   "outputs": [
    {
     "name": "stderr",
     "output_type": "stream",
     "text": [
      "/home/nakagawa/.local/lib/python3.10/site-packages/scipy/__init__.py:155: UserWarning: A NumPy version >=1.18.5 and <1.25.0 is required for this version of SciPy (detected version 1.26.1\n",
      "  warnings.warn(f\"A NumPy version >={np_minversion} and <{np_maxversion}\"\n"
     ]
    }
   ],
   "source": [
    "import pandas as pd\n",
    "from matplotlib import pyplot as plt\n",
    "import seaborn as sns\n",
    "from sklearn.metrics import confusion_matrix"
   ]
  },
  {
   "cell_type": "code",
   "execution_count": 2,
   "metadata": {
    "execution": {
     "iopub.execute_input": "2023-11-01T07:37:32.699425Z",
     "iopub.status.busy": "2023-11-01T07:37:32.699144Z",
     "iopub.status.idle": "2023-11-01T07:37:32.702976Z",
     "shell.execute_reply": "2023-11-01T07:37:32.702335Z"
    }
   },
   "outputs": [],
   "source": [
    "def calc_accuracy(df):\n",
    "    return (df['true_label'] == df['predict_label']).sum() / len(df)"
   ]
  },
  {
   "attachments": {},
   "cell_type": "markdown",
   "metadata": {},
   "source": [
    "# Prediction Import"
   ]
  },
  {
   "cell_type": "code",
   "execution_count": 3,
   "metadata": {
    "execution": {
     "iopub.execute_input": "2023-11-01T07:37:32.705791Z",
     "iopub.status.busy": "2023-11-01T07:37:32.705384Z",
     "iopub.status.idle": "2023-11-01T07:37:32.727651Z",
     "shell.execute_reply": "2023-11-01T07:37:32.727156Z"
    }
   },
   "outputs": [
    {
     "data": {
      "text/html": [
       "<div>\n",
       "<style scoped>\n",
       "    .dataframe tbody tr th:only-of-type {\n",
       "        vertical-align: middle;\n",
       "    }\n",
       "\n",
       "    .dataframe tbody tr th {\n",
       "        vertical-align: top;\n",
       "    }\n",
       "\n",
       "    .dataframe thead th {\n",
       "        text-align: right;\n",
       "    }\n",
       "</style>\n",
       "<table border=\"1\" class=\"dataframe\">\n",
       "  <thead>\n",
       "    <tr style=\"text-align: right;\">\n",
       "      <th></th>\n",
       "      <th>Downstairs</th>\n",
       "      <th>Jogging</th>\n",
       "      <th>Sitting</th>\n",
       "      <th>Standing</th>\n",
       "      <th>Upstairs</th>\n",
       "      <th>Walking</th>\n",
       "    </tr>\n",
       "  </thead>\n",
       "  <tbody>\n",
       "    <tr>\n",
       "      <th>0</th>\n",
       "      <td>4.794195</td>\n",
       "      <td>-8.249228</td>\n",
       "      <td>-9.894946</td>\n",
       "      <td>-5.896336</td>\n",
       "      <td>0.786684</td>\n",
       "      <td>5.269970</td>\n",
       "    </tr>\n",
       "    <tr>\n",
       "      <th>1</th>\n",
       "      <td>-0.641768</td>\n",
       "      <td>-9.602808</td>\n",
       "      <td>14.231035</td>\n",
       "      <td>0.573691</td>\n",
       "      <td>0.052295</td>\n",
       "      <td>1.060287</td>\n",
       "    </tr>\n",
       "    <tr>\n",
       "      <th>2</th>\n",
       "      <td>2.612563</td>\n",
       "      <td>-11.385828</td>\n",
       "      <td>-12.903688</td>\n",
       "      <td>-0.402864</td>\n",
       "      <td>9.754886</td>\n",
       "      <td>0.731949</td>\n",
       "    </tr>\n",
       "    <tr>\n",
       "      <th>3</th>\n",
       "      <td>1.384545</td>\n",
       "      <td>17.906736</td>\n",
       "      <td>-4.959831</td>\n",
       "      <td>-6.789407</td>\n",
       "      <td>-3.877294</td>\n",
       "      <td>-2.255584</td>\n",
       "    </tr>\n",
       "    <tr>\n",
       "      <th>4</th>\n",
       "      <td>-4.220795</td>\n",
       "      <td>-6.356165</td>\n",
       "      <td>-3.674784</td>\n",
       "      <td>14.070560</td>\n",
       "      <td>-2.290916</td>\n",
       "      <td>3.999891</td>\n",
       "    </tr>\n",
       "  </tbody>\n",
       "</table>\n",
       "</div>"
      ],
      "text/plain": [
       "   Downstairs    Jogging    Sitting   Standing  Upstairs   Walking\n",
       "0    4.794195  -8.249228  -9.894946  -5.896336  0.786684  5.269970\n",
       "1   -0.641768  -9.602808  14.231035   0.573691  0.052295  1.060287\n",
       "2    2.612563 -11.385828 -12.903688  -0.402864  9.754886  0.731949\n",
       "3    1.384545  17.906736  -4.959831  -6.789407 -3.877294 -2.255584\n",
       "4   -4.220795  -6.356165  -3.674784  14.070560 -2.290916  3.999891"
      ]
     },
     "execution_count": 3,
     "metadata": {},
     "output_type": "execute_result"
    }
   ],
   "source": [
    "LABELS = [\"Downstairs\", \"Jogging\", \"Sitting\", \"Standing\", \"Upstairs\", \"Walking\"]\n",
    "df = pd.read_csv('predict.csv', index_col=0)\n",
    "predict = df.drop('true', axis=1)\n",
    "true = df['true']\n",
    "del df\n",
    "true_encoded = true.map(lambda x: LABELS[x])\n",
    "true_encoded.name = 'true_label'\n",
    "predict.columns = LABELS\n",
    "predict.head()"
   ]
  },
  {
   "cell_type": "code",
   "execution_count": 4,
   "metadata": {
    "execution": {
     "iopub.execute_input": "2023-11-01T07:37:32.729844Z",
     "iopub.status.busy": "2023-11-01T07:37:32.729688Z",
     "iopub.status.idle": "2023-11-01T07:37:35.839789Z",
     "shell.execute_reply": "2023-11-01T07:37:35.839188Z"
    }
   },
   "outputs": [],
   "source": [
    "# min-max normalization\n",
    "predict = predict.apply(lambda x: (x - x.min()) / (x.max() - x.min()), axis=1)\n",
    "predict = predict.apply(lambda x: x / x.sum(), axis=1)\n",
    "\n",
    "predict_label = predict.idxmax(axis=1)\n",
    "predict_probability = predict.max(axis=1)\n",
    "predict_probability.name = 'predict_probability'\n",
    "predict_label.name = 'predict_label'\n",
    "# predict.head()\n",
    "# true.head()\n",
    "# true_encoded.head()"
   ]
  },
  {
   "cell_type": "code",
   "execution_count": 5,
   "metadata": {
    "execution": {
     "iopub.execute_input": "2023-11-01T07:37:35.842047Z",
     "iopub.status.busy": "2023-11-01T07:37:35.841885Z",
     "iopub.status.idle": "2023-11-01T07:37:35.855187Z",
     "shell.execute_reply": "2023-11-01T07:37:35.854689Z"
    }
   },
   "outputs": [
    {
     "data": {
      "text/html": [
       "<div>\n",
       "<style scoped>\n",
       "    .dataframe tbody tr th:only-of-type {\n",
       "        vertical-align: middle;\n",
       "    }\n",
       "\n",
       "    .dataframe tbody tr th {\n",
       "        vertical-align: top;\n",
       "    }\n",
       "\n",
       "    .dataframe thead th {\n",
       "        text-align: right;\n",
       "    }\n",
       "</style>\n",
       "<table border=\"1\" class=\"dataframe\">\n",
       "  <thead>\n",
       "    <tr style=\"text-align: right;\">\n",
       "      <th></th>\n",
       "      <th>Downstairs</th>\n",
       "      <th>Jogging</th>\n",
       "      <th>Sitting</th>\n",
       "      <th>Standing</th>\n",
       "      <th>Upstairs</th>\n",
       "      <th>Walking</th>\n",
       "      <th>predict_probability</th>\n",
       "      <th>true</th>\n",
       "      <th>predict_label</th>\n",
       "      <th>true_label</th>\n",
       "    </tr>\n",
       "  </thead>\n",
       "  <tbody>\n",
       "    <tr>\n",
       "      <th>0</th>\n",
       "      <td>0.318084</td>\n",
       "      <td>0.035637</td>\n",
       "      <td>0.000000</td>\n",
       "      <td>0.086587</td>\n",
       "      <td>0.231304</td>\n",
       "      <td>0.328387</td>\n",
       "      <td>0.328387</td>\n",
       "      <td>5</td>\n",
       "      <td>Walking</td>\n",
       "      <td>Walking</td>\n",
       "    </tr>\n",
       "    <tr>\n",
       "      <th>1</th>\n",
       "      <td>0.141588</td>\n",
       "      <td>0.000000</td>\n",
       "      <td>0.376584</td>\n",
       "      <td>0.160793</td>\n",
       "      <td>0.152554</td>\n",
       "      <td>0.168481</td>\n",
       "      <td>0.376584</td>\n",
       "      <td>2</td>\n",
       "      <td>Sitting</td>\n",
       "      <td>Sitting</td>\n",
       "    </tr>\n",
       "    <tr>\n",
       "      <th>2</th>\n",
       "      <td>0.235705</td>\n",
       "      <td>0.023058</td>\n",
       "      <td>0.000000</td>\n",
       "      <td>0.189898</td>\n",
       "      <td>0.344203</td>\n",
       "      <td>0.207137</td>\n",
       "      <td>0.344203</td>\n",
       "      <td>4</td>\n",
       "      <td>Upstairs</td>\n",
       "      <td>Upstairs</td>\n",
       "    </tr>\n",
       "    <tr>\n",
       "      <th>3</th>\n",
       "      <td>0.193946</td>\n",
       "      <td>0.585972</td>\n",
       "      <td>0.043411</td>\n",
       "      <td>0.000000</td>\n",
       "      <td>0.069096</td>\n",
       "      <td>0.107575</td>\n",
       "      <td>0.585972</td>\n",
       "      <td>1</td>\n",
       "      <td>Jogging</td>\n",
       "      <td>Jogging</td>\n",
       "    </tr>\n",
       "    <tr>\n",
       "      <th>4</th>\n",
       "      <td>0.053835</td>\n",
       "      <td>0.000000</td>\n",
       "      <td>0.067601</td>\n",
       "      <td>0.514984</td>\n",
       "      <td>0.102490</td>\n",
       "      <td>0.261089</td>\n",
       "      <td>0.514984</td>\n",
       "      <td>3</td>\n",
       "      <td>Standing</td>\n",
       "      <td>Standing</td>\n",
       "    </tr>\n",
       "    <tr>\n",
       "      <th>5</th>\n",
       "      <td>0.143152</td>\n",
       "      <td>0.014476</td>\n",
       "      <td>0.000000</td>\n",
       "      <td>0.070331</td>\n",
       "      <td>0.167683</td>\n",
       "      <td>0.604358</td>\n",
       "      <td>0.604358</td>\n",
       "      <td>5</td>\n",
       "      <td>Walking</td>\n",
       "      <td>Walking</td>\n",
       "    </tr>\n",
       "    <tr>\n",
       "      <th>6</th>\n",
       "      <td>0.423367</td>\n",
       "      <td>0.000000</td>\n",
       "      <td>0.055933</td>\n",
       "      <td>0.108669</td>\n",
       "      <td>0.240015</td>\n",
       "      <td>0.172016</td>\n",
       "      <td>0.423367</td>\n",
       "      <td>0</td>\n",
       "      <td>Downstairs</td>\n",
       "      <td>Downstairs</td>\n",
       "    </tr>\n",
       "    <tr>\n",
       "      <th>7</th>\n",
       "      <td>0.381987</td>\n",
       "      <td>0.000000</td>\n",
       "      <td>0.072492</td>\n",
       "      <td>0.136121</td>\n",
       "      <td>0.225866</td>\n",
       "      <td>0.183534</td>\n",
       "      <td>0.381987</td>\n",
       "      <td>0</td>\n",
       "      <td>Downstairs</td>\n",
       "      <td>Downstairs</td>\n",
       "    </tr>\n",
       "    <tr>\n",
       "      <th>8</th>\n",
       "      <td>0.105176</td>\n",
       "      <td>0.538047</td>\n",
       "      <td>0.061452</td>\n",
       "      <td>0.023592</td>\n",
       "      <td>0.000000</td>\n",
       "      <td>0.271733</td>\n",
       "      <td>0.538047</td>\n",
       "      <td>1</td>\n",
       "      <td>Jogging</td>\n",
       "      <td>Jogging</td>\n",
       "    </tr>\n",
       "    <tr>\n",
       "      <th>9</th>\n",
       "      <td>0.146602</td>\n",
       "      <td>0.071454</td>\n",
       "      <td>0.031110</td>\n",
       "      <td>0.142391</td>\n",
       "      <td>0.000000</td>\n",
       "      <td>0.608443</td>\n",
       "      <td>0.608443</td>\n",
       "      <td>5</td>\n",
       "      <td>Walking</td>\n",
       "      <td>Walking</td>\n",
       "    </tr>\n",
       "  </tbody>\n",
       "</table>\n",
       "</div>"
      ],
      "text/plain": [
       "   Downstairs   Jogging   Sitting  Standing  Upstairs   Walking  \\\n",
       "0    0.318084  0.035637  0.000000  0.086587  0.231304  0.328387   \n",
       "1    0.141588  0.000000  0.376584  0.160793  0.152554  0.168481   \n",
       "2    0.235705  0.023058  0.000000  0.189898  0.344203  0.207137   \n",
       "3    0.193946  0.585972  0.043411  0.000000  0.069096  0.107575   \n",
       "4    0.053835  0.000000  0.067601  0.514984  0.102490  0.261089   \n",
       "5    0.143152  0.014476  0.000000  0.070331  0.167683  0.604358   \n",
       "6    0.423367  0.000000  0.055933  0.108669  0.240015  0.172016   \n",
       "7    0.381987  0.000000  0.072492  0.136121  0.225866  0.183534   \n",
       "8    0.105176  0.538047  0.061452  0.023592  0.000000  0.271733   \n",
       "9    0.146602  0.071454  0.031110  0.142391  0.000000  0.608443   \n",
       "\n",
       "   predict_probability  true predict_label  true_label  \n",
       "0             0.328387     5       Walking     Walking  \n",
       "1             0.376584     2       Sitting     Sitting  \n",
       "2             0.344203     4      Upstairs    Upstairs  \n",
       "3             0.585972     1       Jogging     Jogging  \n",
       "4             0.514984     3      Standing    Standing  \n",
       "5             0.604358     5       Walking     Walking  \n",
       "6             0.423367     0    Downstairs  Downstairs  \n",
       "7             0.381987     0    Downstairs  Downstairs  \n",
       "8             0.538047     1       Jogging     Jogging  \n",
       "9             0.608443     5       Walking     Walking  "
      ]
     },
     "execution_count": 5,
     "metadata": {},
     "output_type": "execute_result"
    }
   ],
   "source": [
    "df = pd.concat([\n",
    "            predict,\n",
    "            predict_probability,\n",
    "            true,\n",
    "            predict_label,\n",
    "            true_encoded\n",
    "        ], axis=1)\n",
    "df.head(10)"
   ]
  },
  {
   "cell_type": "code",
   "execution_count": 6,
   "metadata": {
    "execution": {
     "iopub.execute_input": "2023-11-01T07:37:35.857206Z",
     "iopub.status.busy": "2023-11-01T07:37:35.857043Z",
     "iopub.status.idle": "2023-11-01T07:37:36.254171Z",
     "shell.execute_reply": "2023-11-01T07:37:36.253650Z"
    }
   },
   "outputs": [
    {
     "name": "stdout",
     "output_type": "stream",
     "text": [
      "Accuracy:  0.9603010804904698\n"
     ]
    },
    {
     "data": {
      "text/plain": [
       "<matplotlib.legend.Legend at 0x7f1698ed2fe0>"
      ]
     },
     "execution_count": 6,
     "metadata": {},
     "output_type": "execute_result"
    },
    {
     "data": {
      "image/png": "[encoded data removed]",
      "text/plain": [
       "<Figure size 640x480 with 1 Axes>"
      ]
     },
     "metadata": {},
     "output_type": "display_data"
    }
   ],
   "source": [
    "print('Accuracy: ', calc_accuracy(df))\n",
    "# statival analysis\n",
    "df.loc[df.true_label==df.predict_label, 'predict_probability'].hist(bins=100)\n",
    "df.loc[df.true_label!=df.predict_label, 'predict_probability'].hist(bins=100)\n",
    "plt.title('Predict Probability Distribution')\n",
    "plt.xlim(0, 1)\n",
    "plt.ylim(0, 400)\n",
    "plt.xlabel('Probability')\n",
    "plt.ylabel('Count')\n",
    "plt.legend(['Correct', 'Incorrect'])"
   ]
  },
  {
   "cell_type": "code",
   "execution_count": 7,
   "metadata": {
    "execution": {
     "iopub.execute_input": "2023-11-01T07:37:36.256518Z",
     "iopub.status.busy": "2023-11-01T07:37:36.256297Z",
     "iopub.status.idle": "2023-11-01T07:37:36.261963Z",
     "shell.execute_reply": "2023-11-01T07:37:36.261606Z"
    }
   },
   "outputs": [
    {
     "data": {
      "text/plain": [
       "mean      0.535520\n",
       "std       0.125796\n",
       "min       0.244285\n",
       "max       0.947521\n",
       "median    0.520768\n",
       "Name: predict_probability, dtype: float64"
      ]
     },
     "execution_count": 7,
     "metadata": {},
     "output_type": "execute_result"
    }
   ],
   "source": [
    "df['predict_probability'].agg(['mean', 'std', 'min', 'max', 'median'])"
   ]
  },
  {
   "cell_type": "code",
   "execution_count": 8,
   "metadata": {
    "execution": {
     "iopub.execute_input": "2023-11-01T07:37:36.263911Z",
     "iopub.status.busy": "2023-11-01T07:37:36.263763Z",
     "iopub.status.idle": "2023-11-01T07:37:36.289726Z",
     "shell.execute_reply": "2023-11-01T07:37:36.289236Z"
    }
   },
   "outputs": [
    {
     "name": "stderr",
     "output_type": "stream",
     "text": [
      "/tmp/ipykernel_24518/3327794854.py:2: RuntimeWarning: invalid value encountered in scalar divide\n",
      "  return (df['true_label'] == df['predict_label']).sum() / len(df)\n"
     ]
    },
    {
     "data": {
      "text/html": [
       "<div>\n",
       "<style scoped>\n",
       "    .dataframe tbody tr th:only-of-type {\n",
       "        vertical-align: middle;\n",
       "    }\n",
       "\n",
       "    .dataframe tbody tr th {\n",
       "        vertical-align: top;\n",
       "    }\n",
       "\n",
       "    .dataframe thead th {\n",
       "        text-align: right;\n",
       "    }\n",
       "</style>\n",
       "<table border=\"1\" class=\"dataframe\">\n",
       "  <thead>\n",
       "    <tr style=\"text-align: right;\">\n",
       "      <th></th>\n",
       "      <th>confidence_accuracy</th>\n",
       "      <th>confidence_raito</th>\n",
       "      <th>drop_accuracy</th>\n",
       "      <th>drop_ratio</th>\n",
       "    </tr>\n",
       "    <tr>\n",
       "      <th>threshold</th>\n",
       "      <th></th>\n",
       "      <th></th>\n",
       "      <th></th>\n",
       "      <th></th>\n",
       "    </tr>\n",
       "  </thead>\n",
       "  <tbody>\n",
       "    <tr>\n",
       "      <th>0.0</th>\n",
       "      <td>0.960301</td>\n",
       "      <td>1.000000</td>\n",
       "      <td>0.000000</td>\n",
       "      <td>0.000000</td>\n",
       "    </tr>\n",
       "    <tr>\n",
       "      <th>0.3</th>\n",
       "      <td>0.963394</td>\n",
       "      <td>0.991623</td>\n",
       "      <td>0.594203</td>\n",
       "      <td>0.008377</td>\n",
       "    </tr>\n",
       "    <tr>\n",
       "      <th>0.4</th>\n",
       "      <td>0.985672</td>\n",
       "      <td>0.864271</td>\n",
       "      <td>0.798748</td>\n",
       "      <td>0.135729</td>\n",
       "    </tr>\n",
       "    <tr>\n",
       "      <th>0.5</th>\n",
       "      <td>0.996735</td>\n",
       "      <td>0.557727</td>\n",
       "      <td>0.914356</td>\n",
       "      <td>0.442273</td>\n",
       "    </tr>\n",
       "    <tr>\n",
       "      <th>0.6</th>\n",
       "      <td>0.999166</td>\n",
       "      <td>0.291004</td>\n",
       "      <td>0.944349</td>\n",
       "      <td>0.708996</td>\n",
       "    </tr>\n",
       "    <tr>\n",
       "      <th>0.7</th>\n",
       "      <td>1.000000</td>\n",
       "      <td>0.119340</td>\n",
       "      <td>0.954921</td>\n",
       "      <td>0.880660</td>\n",
       "    </tr>\n",
       "  </tbody>\n",
       "</table>\n",
       "</div>"
      ],
      "text/plain": [
       "           confidence_accuracy  confidence_raito  drop_accuracy  drop_ratio\n",
       "threshold                                                                  \n",
       "0.0                   0.960301          1.000000       0.000000    0.000000\n",
       "0.3                   0.963394          0.991623       0.594203    0.008377\n",
       "0.4                   0.985672          0.864271       0.798748    0.135729\n",
       "0.5                   0.996735          0.557727       0.914356    0.442273\n",
       "0.6                   0.999166          0.291004       0.944349    0.708996\n",
       "0.7                   1.000000          0.119340       0.954921    0.880660"
      ]
     },
     "execution_count": 8,
     "metadata": {},
     "output_type": "execute_result"
    }
   ],
   "source": [
    "thresholds = [0, 0.3, 0.4, 0.5, 0.6, 0.7]\n",
    "results = []\n",
    "for threshold in thresholds:\n",
    "    df_confidence = df[df['predict_probability'] > threshold]\n",
    "    df_drop = df.loc[list(set(df.index) - set(df_confidence.index)),:]\n",
    "    results.append({\n",
    "        'threshold': threshold,\n",
    "        'confidence_accuracy': calc_accuracy(df_confidence),\n",
    "        'confidence_raito': len(df_confidence) / len(df),\n",
    "        'drop_accuracy': calc_accuracy(df_drop),\n",
    "        'drop_ratio': len(df_drop) / len(df),\n",
    "        })\n",
    "    # df_confidence = df[df['predict_probability'] > threshold]\n",
    "    # df_drop = df.loc[list(set(df.index) - set(df_confidence.index)),:]\n",
    "    # cm = confusion_matrix(df_confidence['true_label'], df_confidence['predict_label'])\n",
    "    # # cm_df = pd.DataFrame(cm, index=list(map(cm)), columns=LABELS)\n",
    "    # plt.figure(figsize=(10, 10))\n",
    "    # sns.heatmap(\n",
    "    #     cm_df,\n",
    "    #     annot=True,\n",
    "    #     fmt=\"d\",\n",
    "    #     linewidths=0.5,\n",
    "    #     cmap=\"Blues\",\n",
    "    #     cbar=False,\n",
    "    #     annot_kws={\"size\": 14},\n",
    "    #     square=True,\n",
    "    # )\n",
    "    # plt.title(f\"Confusion Matrix (threshold={threshold})\")\n",
    "    # plt.ylabel(\"True label\")\n",
    "    # plt.xlabel(\"Predicted label\")\n",
    "    # plt.savefig(f'confusion_matrix/threshold{threshold}.png')\n",
    "    # plt.close()\n",
    "results = pd.DataFrame(results).fillna(0)\n",
    "results = results.set_index('threshold')\n",
    "results"
   ]
  },
  {
   "cell_type": "code",
   "execution_count": 9,
   "metadata": {
    "execution": {
     "iopub.execute_input": "2023-11-01T07:37:36.291714Z",
     "iopub.status.busy": "2023-11-01T07:37:36.291562Z",
     "iopub.status.idle": "2023-11-01T07:37:36.433811Z",
     "shell.execute_reply": "2023-11-01T07:37:36.433284Z"
    }
   },
   "outputs": [
    {
     "data": {
      "image/png": "[encoded data removed]",
      "text/plain": [
       "<Figure size 640x480 with 1 Axes>"
      ]
     },
     "metadata": {},
     "output_type": "display_data"
    }
   ],
   "source": [
    "from sklearn.metrics import roc_curve\n",
    "\n",
    "for label in LABELS:\n",
    "    fpr, tpr, thresholds = roc_curve(df.loc[df.predict_label==label, 'true_label'], df.loc[df.predict_label==label, \"predict_probability\"], pos_label=label)\n",
    "    plt.plot(fpr, tpr, label=label)\n",
    "plt.xlabel('False Positive Rate')\n",
    "plt.ylabel('True Positive Rate')\n",
    "plt.title('ROC Curve')\n",
    "plt.legend()\n",
    "plt.show()"
   ]
  }
 ],
 "metadata": {
  "kernelspec": {
   "display_name": "Python 3",
   "language": "python",
   "name": "python3"
  },
  "language_info": {
   "codemirror_mode": {
    "name": "ipython",
    "version": 3
   },
   "file_extension": ".py",
   "mimetype": "text/x-python",
   "name": "python",
   "nbconvert_exporter": "python",
   "pygments_lexer": "ipython3",
   "version": "3.10.12"
  }
 },
 "nbformat": 4,
 "nbformat_minor": 2
}
