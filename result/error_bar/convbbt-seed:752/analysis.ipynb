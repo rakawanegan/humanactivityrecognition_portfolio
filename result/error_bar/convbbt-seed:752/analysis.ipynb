{
 "cells": [
  {
   "cell_type": "code",
   "execution_count": 1,
   "metadata": {
    "execution": {
     "iopub.execute_input": "2023-11-01T07:37:58.386347Z",
     "iopub.status.busy": "2023-11-01T07:37:58.385488Z",
     "iopub.status.idle": "2023-11-01T07:37:59.493922Z",
     "shell.execute_reply": "2023-11-01T07:37:59.493386Z"
    }
   },
   "outputs": [
    {
     "name": "stderr",
     "output_type": "stream",
     "text": [
      "/home/nakagawa/.local/lib/python3.10/site-packages/scipy/__init__.py:155: UserWarning: A NumPy version >=1.18.5 and <1.25.0 is required for this version of SciPy (detected version 1.26.1\n",
      "  warnings.warn(f\"A NumPy version >={np_minversion} and <{np_maxversion}\"\n"
     ]
    }
   ],
   "source": [
    "import pandas as pd\n",
    "from matplotlib import pyplot as plt\n",
    "import seaborn as sns\n",
    "from sklearn.metrics import confusion_matrix"
   ]
  },
  {
   "cell_type": "code",
   "execution_count": 2,
   "metadata": {
    "execution": {
     "iopub.execute_input": "2023-11-01T07:37:59.496377Z",
     "iopub.status.busy": "2023-11-01T07:37:59.496162Z",
     "iopub.status.idle": "2023-11-01T07:37:59.499022Z",
     "shell.execute_reply": "2023-11-01T07:37:59.498565Z"
    }
   },
   "outputs": [],
   "source": [
    "def calc_accuracy(df):\n",
    "    return (df['true_label'] == df['predict_label']).sum() / len(df)"
   ]
  },
  {
   "attachments": {},
   "cell_type": "markdown",
   "metadata": {},
   "source": [
    "# Prediction Import"
   ]
  },
  {
   "cell_type": "code",
   "execution_count": 3,
   "metadata": {
    "execution": {
     "iopub.execute_input": "2023-11-01T07:37:59.501190Z",
     "iopub.status.busy": "2023-11-01T07:37:59.500841Z",
     "iopub.status.idle": "2023-11-01T07:37:59.526975Z",
     "shell.execute_reply": "2023-11-01T07:37:59.526477Z"
    }
   },
   "outputs": [
    {
     "data": {
      "text/html": [
       "<div>\n",
       "<style scoped>\n",
       "    .dataframe tbody tr th:only-of-type {\n",
       "        vertical-align: middle;\n",
       "    }\n",
       "\n",
       "    .dataframe tbody tr th {\n",
       "        vertical-align: top;\n",
       "    }\n",
       "\n",
       "    .dataframe thead th {\n",
       "        text-align: right;\n",
       "    }\n",
       "</style>\n",
       "<table border=\"1\" class=\"dataframe\">\n",
       "  <thead>\n",
       "    <tr style=\"text-align: right;\">\n",
       "      <th></th>\n",
       "      <th>Downstairs</th>\n",
       "      <th>Jogging</th>\n",
       "      <th>Sitting</th>\n",
       "      <th>Standing</th>\n",
       "      <th>Upstairs</th>\n",
       "      <th>Walking</th>\n",
       "    </tr>\n",
       "  </thead>\n",
       "  <tbody>\n",
       "    <tr>\n",
       "      <th>0</th>\n",
       "      <td>-0.357917</td>\n",
       "      <td>-6.289483</td>\n",
       "      <td>-7.573329</td>\n",
       "      <td>-3.273109</td>\n",
       "      <td>-0.047841</td>\n",
       "      <td>9.462104</td>\n",
       "    </tr>\n",
       "    <tr>\n",
       "      <th>1</th>\n",
       "      <td>-3.835415</td>\n",
       "      <td>0.232564</td>\n",
       "      <td>15.567179</td>\n",
       "      <td>5.952334</td>\n",
       "      <td>-1.411911</td>\n",
       "      <td>-4.395430</td>\n",
       "    </tr>\n",
       "    <tr>\n",
       "      <th>2</th>\n",
       "      <td>-4.000293</td>\n",
       "      <td>-5.686593</td>\n",
       "      <td>-9.716810</td>\n",
       "      <td>-6.585641</td>\n",
       "      <td>7.205666</td>\n",
       "      <td>5.940221</td>\n",
       "    </tr>\n",
       "    <tr>\n",
       "      <th>3</th>\n",
       "      <td>-0.476328</td>\n",
       "      <td>16.827456</td>\n",
       "      <td>-0.997094</td>\n",
       "      <td>-4.125641</td>\n",
       "      <td>-3.252111</td>\n",
       "      <td>-1.890935</td>\n",
       "    </tr>\n",
       "    <tr>\n",
       "      <th>4</th>\n",
       "      <td>-0.033632</td>\n",
       "      <td>-1.931396</td>\n",
       "      <td>1.993589</td>\n",
       "      <td>14.743385</td>\n",
       "      <td>-6.337326</td>\n",
       "      <td>-0.032644</td>\n",
       "    </tr>\n",
       "  </tbody>\n",
       "</table>\n",
       "</div>"
      ],
      "text/plain": [
       "   Downstairs    Jogging    Sitting   Standing  Upstairs   Walking\n",
       "0   -0.357917  -6.289483  -7.573329  -3.273109 -0.047841  9.462104\n",
       "1   -3.835415   0.232564  15.567179   5.952334 -1.411911 -4.395430\n",
       "2   -4.000293  -5.686593  -9.716810  -6.585641  7.205666  5.940221\n",
       "3   -0.476328  16.827456  -0.997094  -4.125641 -3.252111 -1.890935\n",
       "4   -0.033632  -1.931396   1.993589  14.743385 -6.337326 -0.032644"
      ]
     },
     "execution_count": 3,
     "metadata": {},
     "output_type": "execute_result"
    }
   ],
   "source": [
    "LABELS = [\"Downstairs\", \"Jogging\", \"Sitting\", \"Standing\", \"Upstairs\", \"Walking\"]\n",
    "df = pd.read_csv('predict.csv', index_col=0)\n",
    "predict = df.drop('true', axis=1)\n",
    "true = df['true']\n",
    "del df\n",
    "true_encoded = true.map(lambda x: LABELS[x])\n",
    "true_encoded.name = 'true_label'\n",
    "predict.columns = LABELS\n",
    "predict.head()"
   ]
  },
  {
   "cell_type": "code",
   "execution_count": 4,
   "metadata": {
    "execution": {
     "iopub.execute_input": "2023-11-01T07:37:59.529002Z",
     "iopub.status.busy": "2023-11-01T07:37:59.528826Z",
     "iopub.status.idle": "2023-11-01T07:38:02.942797Z",
     "shell.execute_reply": "2023-11-01T07:38:02.942240Z"
    }
   },
   "outputs": [],
   "source": [
    "# min-max normalization\n",
    "predict = predict.apply(lambda x: (x - x.min()) / (x.max() - x.min()), axis=1)\n",
    "predict = predict.apply(lambda x: x / x.sum(), axis=1)\n",
    "\n",
    "predict_label = predict.idxmax(axis=1)\n",
    "predict_probability = predict.max(axis=1)\n",
    "predict_probability.name = 'predict_probability'\n",
    "predict_label.name = 'predict_label'\n",
    "# predict.head()\n",
    "# true.head()\n",
    "# true_encoded.head()"
   ]
  },
  {
   "cell_type": "code",
   "execution_count": 5,
   "metadata": {
    "execution": {
     "iopub.execute_input": "2023-11-01T07:38:02.945157Z",
     "iopub.status.busy": "2023-11-01T07:38:02.944936Z",
     "iopub.status.idle": "2023-11-01T07:38:02.955251Z",
     "shell.execute_reply": "2023-11-01T07:38:02.954772Z"
    }
   },
   "outputs": [
    {
     "data": {
      "text/html": [
       "<div>\n",
       "<style scoped>\n",
       "    .dataframe tbody tr th:only-of-type {\n",
       "        vertical-align: middle;\n",
       "    }\n",
       "\n",
       "    .dataframe tbody tr th {\n",
       "        vertical-align: top;\n",
       "    }\n",
       "\n",
       "    .dataframe thead th {\n",
       "        text-align: right;\n",
       "    }\n",
       "</style>\n",
       "<table border=\"1\" class=\"dataframe\">\n",
       "  <thead>\n",
       "    <tr style=\"text-align: right;\">\n",
       "      <th></th>\n",
       "      <th>Downstairs</th>\n",
       "      <th>Jogging</th>\n",
       "      <th>Sitting</th>\n",
       "      <th>Standing</th>\n",
       "      <th>Upstairs</th>\n",
       "      <th>Walking</th>\n",
       "      <th>predict_probability</th>\n",
       "      <th>true</th>\n",
       "      <th>predict_label</th>\n",
       "      <th>true_label</th>\n",
       "    </tr>\n",
       "  </thead>\n",
       "  <tbody>\n",
       "    <tr>\n",
       "      <th>0</th>\n",
       "      <td>0.193130</td>\n",
       "      <td>0.034364</td>\n",
       "      <td>0.000000</td>\n",
       "      <td>0.115101</td>\n",
       "      <td>0.201430</td>\n",
       "      <td>0.455976</td>\n",
       "      <td>0.455976</td>\n",
       "      <td>5</td>\n",
       "      <td>Walking</td>\n",
       "      <td>Walking</td>\n",
       "    </tr>\n",
       "    <tr>\n",
       "      <th>1</th>\n",
       "      <td>0.014553</td>\n",
       "      <td>0.120264</td>\n",
       "      <td>0.518753</td>\n",
       "      <td>0.268900</td>\n",
       "      <td>0.077530</td>\n",
       "      <td>0.000000</td>\n",
       "      <td>0.518753</td>\n",
       "      <td>2</td>\n",
       "      <td>Sitting</td>\n",
       "      <td>Sitting</td>\n",
       "    </tr>\n",
       "    <tr>\n",
       "      <th>2</th>\n",
       "      <td>0.125755</td>\n",
       "      <td>0.088659</td>\n",
       "      <td>0.000000</td>\n",
       "      <td>0.068881</td>\n",
       "      <td>0.372271</td>\n",
       "      <td>0.344433</td>\n",
       "      <td>0.372271</td>\n",
       "      <td>4</td>\n",
       "      <td>Upstairs</td>\n",
       "      <td>Upstairs</td>\n",
       "    </tr>\n",
       "    <tr>\n",
       "      <th>3</th>\n",
       "      <td>0.118334</td>\n",
       "      <td>0.679431</td>\n",
       "      <td>0.101447</td>\n",
       "      <td>0.000000</td>\n",
       "      <td>0.028325</td>\n",
       "      <td>0.072463</td>\n",
       "      <td>0.679431</td>\n",
       "      <td>1</td>\n",
       "      <td>Jogging</td>\n",
       "      <td>Jogging</td>\n",
       "    </tr>\n",
       "    <tr>\n",
       "      <th>4</th>\n",
       "      <td>0.135780</td>\n",
       "      <td>0.094902</td>\n",
       "      <td>0.179445</td>\n",
       "      <td>0.454072</td>\n",
       "      <td>0.000000</td>\n",
       "      <td>0.135801</td>\n",
       "      <td>0.454072</td>\n",
       "      <td>3</td>\n",
       "      <td>Standing</td>\n",
       "      <td>Standing</td>\n",
       "    </tr>\n",
       "    <tr>\n",
       "      <th>5</th>\n",
       "      <td>0.011341</td>\n",
       "      <td>0.144567</td>\n",
       "      <td>0.000000</td>\n",
       "      <td>0.068585</td>\n",
       "      <td>0.181904</td>\n",
       "      <td>0.593603</td>\n",
       "      <td>0.593603</td>\n",
       "      <td>5</td>\n",
       "      <td>Walking</td>\n",
       "      <td>Walking</td>\n",
       "    </tr>\n",
       "    <tr>\n",
       "      <th>6</th>\n",
       "      <td>0.383751</td>\n",
       "      <td>0.061330</td>\n",
       "      <td>0.000000</td>\n",
       "      <td>0.079424</td>\n",
       "      <td>0.256058</td>\n",
       "      <td>0.219437</td>\n",
       "      <td>0.383751</td>\n",
       "      <td>0</td>\n",
       "      <td>Downstairs</td>\n",
       "      <td>Downstairs</td>\n",
       "    </tr>\n",
       "    <tr>\n",
       "      <th>7</th>\n",
       "      <td>0.391704</td>\n",
       "      <td>0.003480</td>\n",
       "      <td>0.000000</td>\n",
       "      <td>0.046713</td>\n",
       "      <td>0.314391</td>\n",
       "      <td>0.243713</td>\n",
       "      <td>0.391704</td>\n",
       "      <td>0</td>\n",
       "      <td>Downstairs</td>\n",
       "      <td>Downstairs</td>\n",
       "    </tr>\n",
       "    <tr>\n",
       "      <th>8</th>\n",
       "      <td>0.151160</td>\n",
       "      <td>0.416085</td>\n",
       "      <td>0.138929</td>\n",
       "      <td>0.092031</td>\n",
       "      <td>0.000000</td>\n",
       "      <td>0.201795</td>\n",
       "      <td>0.416085</td>\n",
       "      <td>1</td>\n",
       "      <td>Jogging</td>\n",
       "      <td>Jogging</td>\n",
       "    </tr>\n",
       "    <tr>\n",
       "      <th>9</th>\n",
       "      <td>0.189489</td>\n",
       "      <td>0.098559</td>\n",
       "      <td>0.000000</td>\n",
       "      <td>0.074315</td>\n",
       "      <td>0.090923</td>\n",
       "      <td>0.546714</td>\n",
       "      <td>0.546714</td>\n",
       "      <td>5</td>\n",
       "      <td>Walking</td>\n",
       "      <td>Walking</td>\n",
       "    </tr>\n",
       "  </tbody>\n",
       "</table>\n",
       "</div>"
      ],
      "text/plain": [
       "   Downstairs   Jogging   Sitting  Standing  Upstairs   Walking  \\\n",
       "0    0.193130  0.034364  0.000000  0.115101  0.201430  0.455976   \n",
       "1    0.014553  0.120264  0.518753  0.268900  0.077530  0.000000   \n",
       "2    0.125755  0.088659  0.000000  0.068881  0.372271  0.344433   \n",
       "3    0.118334  0.679431  0.101447  0.000000  0.028325  0.072463   \n",
       "4    0.135780  0.094902  0.179445  0.454072  0.000000  0.135801   \n",
       "5    0.011341  0.144567  0.000000  0.068585  0.181904  0.593603   \n",
       "6    0.383751  0.061330  0.000000  0.079424  0.256058  0.219437   \n",
       "7    0.391704  0.003480  0.000000  0.046713  0.314391  0.243713   \n",
       "8    0.151160  0.416085  0.138929  0.092031  0.000000  0.201795   \n",
       "9    0.189489  0.098559  0.000000  0.074315  0.090923  0.546714   \n",
       "\n",
       "   predict_probability  true predict_label  true_label  \n",
       "0             0.455976     5       Walking     Walking  \n",
       "1             0.518753     2       Sitting     Sitting  \n",
       "2             0.372271     4      Upstairs    Upstairs  \n",
       "3             0.679431     1       Jogging     Jogging  \n",
       "4             0.454072     3      Standing    Standing  \n",
       "5             0.593603     5       Walking     Walking  \n",
       "6             0.383751     0    Downstairs  Downstairs  \n",
       "7             0.391704     0    Downstairs  Downstairs  \n",
       "8             0.416085     1       Jogging     Jogging  \n",
       "9             0.546714     5       Walking     Walking  "
      ]
     },
     "execution_count": 5,
     "metadata": {},
     "output_type": "execute_result"
    }
   ],
   "source": [
    "df = pd.concat([\n",
    "            predict,\n",
    "            predict_probability,\n",
    "            true,\n",
    "            predict_label,\n",
    "            true_encoded\n",
    "        ], axis=1)\n",
    "df.head(10)"
   ]
  },
  {
   "cell_type": "code",
   "execution_count": 6,
   "metadata": {
    "execution": {
     "iopub.execute_input": "2023-11-01T07:38:02.957041Z",
     "iopub.status.busy": "2023-11-01T07:38:02.956902Z",
     "iopub.status.idle": "2023-11-01T07:38:03.562350Z",
     "shell.execute_reply": "2023-11-01T07:38:03.561832Z"
    }
   },
   "outputs": [
    {
     "name": "stdout",
     "output_type": "stream",
     "text": [
      "Accuracy:  0.9507102100279228\n"
     ]
    },
    {
     "data": {
      "text/plain": [
       "<matplotlib.legend.Legend at 0x7fe7961bb850>"
      ]
     },
     "execution_count": 6,
     "metadata": {},
     "output_type": "execute_result"
    },
    {
     "data": {
      "image/png": "[encoded data removed]",
      "text/plain": [
       "<Figure size 640x480 with 1 Axes>"
      ]
     },
     "metadata": {},
     "output_type": "display_data"
    }
   ],
   "source": [
    "print('Accuracy: ', calc_accuracy(df))\n",
    "# statival analysis\n",
    "df.loc[df.true_label==df.predict_label, 'predict_probability'].hist(bins=100)\n",
    "df.loc[df.true_label!=df.predict_label, 'predict_probability'].hist(bins=100)\n",
    "plt.title('Predict Probability Distribution')\n",
    "plt.xlim(0, 1)\n",
    "plt.ylim(0, 400)\n",
    "plt.xlabel('Probability')\n",
    "plt.ylabel('Count')\n",
    "plt.legend(['Correct', 'Incorrect'])"
   ]
  },
  {
   "cell_type": "code",
   "execution_count": 7,
   "metadata": {
    "execution": {
     "iopub.execute_input": "2023-11-01T07:38:03.564400Z",
     "iopub.status.busy": "2023-11-01T07:38:03.564183Z",
     "iopub.status.idle": "2023-11-01T07:38:03.569696Z",
     "shell.execute_reply": "2023-11-01T07:38:03.569203Z"
    }
   },
   "outputs": [
    {
     "data": {
      "text/plain": [
       "mean      0.526993\n",
       "std       0.111614\n",
       "min       0.235825\n",
       "max       0.927062\n",
       "median    0.521415\n",
       "Name: predict_probability, dtype: float64"
      ]
     },
     "execution_count": 7,
     "metadata": {},
     "output_type": "execute_result"
    }
   ],
   "source": [
    "df['predict_probability'].agg(['mean', 'std', 'min', 'max', 'median'])"
   ]
  },
  {
   "cell_type": "code",
   "execution_count": 8,
   "metadata": {
    "execution": {
     "iopub.execute_input": "2023-11-01T07:38:03.571619Z",
     "iopub.status.busy": "2023-11-01T07:38:03.571470Z",
     "iopub.status.idle": "2023-11-01T07:38:03.600797Z",
     "shell.execute_reply": "2023-11-01T07:38:03.600203Z"
    }
   },
   "outputs": [
    {
     "name": "stderr",
     "output_type": "stream",
     "text": [
      "/tmp/ipykernel_24818/3327794854.py:2: RuntimeWarning: invalid value encountered in scalar divide\n",
      "  return (df['true_label'] == df['predict_label']).sum() / len(df)\n"
     ]
    },
    {
     "data": {
      "text/html": [
       "<div>\n",
       "<style scoped>\n",
       "    .dataframe tbody tr th:only-of-type {\n",
       "        vertical-align: middle;\n",
       "    }\n",
       "\n",
       "    .dataframe tbody tr th {\n",
       "        vertical-align: top;\n",
       "    }\n",
       "\n",
       "    .dataframe thead th {\n",
       "        text-align: right;\n",
       "    }\n",
       "</style>\n",
       "<table border=\"1\" class=\"dataframe\">\n",
       "  <thead>\n",
       "    <tr style=\"text-align: right;\">\n",
       "      <th></th>\n",
       "      <th>confidence_accuracy</th>\n",
       "      <th>confidence_raito</th>\n",
       "      <th>drop_accuracy</th>\n",
       "      <th>drop_ratio</th>\n",
       "    </tr>\n",
       "    <tr>\n",
       "      <th>threshold</th>\n",
       "      <th></th>\n",
       "      <th></th>\n",
       "      <th></th>\n",
       "      <th></th>\n",
       "    </tr>\n",
       "  </thead>\n",
       "  <tbody>\n",
       "    <tr>\n",
       "      <th>0.0</th>\n",
       "      <td>0.950710</td>\n",
       "      <td>1.000000</td>\n",
       "      <td>0.000000</td>\n",
       "      <td>0.000000</td>\n",
       "    </tr>\n",
       "    <tr>\n",
       "      <th>0.3</th>\n",
       "      <td>0.954718</td>\n",
       "      <td>0.991987</td>\n",
       "      <td>0.454545</td>\n",
       "      <td>0.008013</td>\n",
       "    </tr>\n",
       "    <tr>\n",
       "      <th>0.4</th>\n",
       "      <td>0.983164</td>\n",
       "      <td>0.872526</td>\n",
       "      <td>0.728571</td>\n",
       "      <td>0.127474</td>\n",
       "    </tr>\n",
       "    <tr>\n",
       "      <th>0.5</th>\n",
       "      <td>0.994869</td>\n",
       "      <td>0.567804</td>\n",
       "      <td>0.892697</td>\n",
       "      <td>0.432196</td>\n",
       "    </tr>\n",
       "    <tr>\n",
       "      <th>0.6</th>\n",
       "      <td>0.997602</td>\n",
       "      <td>0.253126</td>\n",
       "      <td>0.934818</td>\n",
       "      <td>0.746874</td>\n",
       "    </tr>\n",
       "    <tr>\n",
       "      <th>0.7</th>\n",
       "      <td>0.998305</td>\n",
       "      <td>0.071628</td>\n",
       "      <td>0.947038</td>\n",
       "      <td>0.928372</td>\n",
       "    </tr>\n",
       "  </tbody>\n",
       "</table>\n",
       "</div>"
      ],
      "text/plain": [
       "           confidence_accuracy  confidence_raito  drop_accuracy  drop_ratio\n",
       "threshold                                                                  \n",
       "0.0                   0.950710          1.000000       0.000000    0.000000\n",
       "0.3                   0.954718          0.991987       0.454545    0.008013\n",
       "0.4                   0.983164          0.872526       0.728571    0.127474\n",
       "0.5                   0.994869          0.567804       0.892697    0.432196\n",
       "0.6                   0.997602          0.253126       0.934818    0.746874\n",
       "0.7                   0.998305          0.071628       0.947038    0.928372"
      ]
     },
     "execution_count": 8,
     "metadata": {},
     "output_type": "execute_result"
    }
   ],
   "source": [
    "thresholds = [0, 0.3, 0.4, 0.5, 0.6, 0.7]\n",
    "results = []\n",
    "for threshold in thresholds:\n",
    "    df_confidence = df[df['predict_probability'] > threshold]\n",
    "    df_drop = df.loc[list(set(df.index) - set(df_confidence.index)),:]\n",
    "    results.append({\n",
    "        'threshold': threshold,\n",
    "        'confidence_accuracy': calc_accuracy(df_confidence),\n",
    "        'confidence_raito': len(df_confidence) / len(df),\n",
    "        'drop_accuracy': calc_accuracy(df_drop),\n",
    "        'drop_ratio': len(df_drop) / len(df),\n",
    "        })\n",
    "    # df_confidence = df[df['predict_probability'] > threshold]\n",
    "    # df_drop = df.loc[list(set(df.index) - set(df_confidence.index)),:]\n",
    "    # cm = confusion_matrix(df_confidence['true_label'], df_confidence['predict_label'])\n",
    "    # # cm_df = pd.DataFrame(cm, index=list(map(cm)), columns=LABELS)\n",
    "    # plt.figure(figsize=(10, 10))\n",
    "    # sns.heatmap(\n",
    "    #     cm_df,\n",
    "    #     annot=True,\n",
    "    #     fmt=\"d\",\n",
    "    #     linewidths=0.5,\n",
    "    #     cmap=\"Blues\",\n",
    "    #     cbar=False,\n",
    "    #     annot_kws={\"size\": 14},\n",
    "    #     square=True,\n",
    "    # )\n",
    "    # plt.title(f\"Confusion Matrix (threshold={threshold})\")\n",
    "    # plt.ylabel(\"True label\")\n",
    "    # plt.xlabel(\"Predicted label\")\n",
    "    # plt.savefig(f'confusion_matrix/threshold{threshold}.png')\n",
    "    # plt.close()\n",
    "results = pd.DataFrame(results).fillna(0)\n",
    "results = results.set_index('threshold')\n",
    "results"
   ]
  },
  {
   "cell_type": "code",
   "execution_count": 9,
   "metadata": {
    "execution": {
     "iopub.execute_input": "2023-11-01T07:38:03.603139Z",
     "iopub.status.busy": "2023-11-01T07:38:03.602920Z",
     "iopub.status.idle": "2023-11-01T07:38:03.886162Z",
     "shell.execute_reply": "2023-11-01T07:38:03.885650Z"
    }
   },
   "outputs": [
    {
     "data": {
      "image/png": "[encoded data removed]",
      "text/plain": [
       "<Figure size 640x480 with 1 Axes>"
      ]
     },
     "metadata": {},
     "output_type": "display_data"
    }
   ],
   "source": [
    "from sklearn.metrics import roc_curve\n",
    "\n",
    "for label in LABELS:\n",
    "    fpr, tpr, thresholds = roc_curve(df.loc[df.predict_label==label, 'true_label'], df.loc[df.predict_label==label, \"predict_probability\"], pos_label=label)\n",
    "    plt.plot(fpr, tpr, label=label)\n",
    "plt.xlabel('False Positive Rate')\n",
    "plt.ylabel('True Positive Rate')\n",
    "plt.title('ROC Curve')\n",
    "plt.legend()\n",
    "plt.show()"
   ]
  }
 ],
 "metadata": {
  "kernelspec": {
   "display_name": "Python 3",
   "language": "python",
   "name": "python3"
  },
  "language_info": {
   "codemirror_mode": {
    "name": "ipython",
    "version": 3
   },
   "file_extension": ".py",
   "mimetype": "text/x-python",
   "name": "python",
   "nbconvert_exporter": "python",
   "pygments_lexer": "ipython3",
   "version": "3.10.12"
  }
 },
 "nbformat": 4,
 "nbformat_minor": 2
}
