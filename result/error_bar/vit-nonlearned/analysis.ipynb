{
 "cells": [
  {
   "cell_type": "code",
   "execution_count": 1,
   "metadata": {
    "execution": {
     "iopub.execute_input": "2023-11-01T07:38:13.207388Z",
     "iopub.status.busy": "2023-11-01T07:38:13.203774Z",
     "iopub.status.idle": "2023-11-01T07:38:14.365618Z",
     "shell.execute_reply": "2023-11-01T07:38:14.364717Z"
    }
   },
   "outputs": [
    {
     "name": "stderr",
     "output_type": "stream",
     "text": [
      "/home/nakagawa/.local/lib/python3.10/site-packages/scipy/__init__.py:155: UserWarning: A NumPy version >=1.18.5 and <1.25.0 is required for this version of SciPy (detected version 1.26.1\n",
      "  warnings.warn(f\"A NumPy version >={np_minversion} and <{np_maxversion}\"\n"
     ]
    }
   ],
   "source": [
    "import pandas as pd\n",
    "from matplotlib import pyplot as plt\n",
    "import seaborn as sns\n",
    "from sklearn.metrics import confusion_matrix"
   ]
  },
  {
   "cell_type": "code",
   "execution_count": 2,
   "metadata": {
    "execution": {
     "iopub.execute_input": "2023-11-01T07:38:14.371331Z",
     "iopub.status.busy": "2023-11-01T07:38:14.370778Z",
     "iopub.status.idle": "2023-11-01T07:38:14.375571Z",
     "shell.execute_reply": "2023-11-01T07:38:14.374835Z"
    }
   },
   "outputs": [],
   "source": [
    "def calc_accuracy(df):\n",
    "    return (df['true_label'] == df['predict_label']).sum() / len(df)"
   ]
  },
  {
   "attachments": {},
   "cell_type": "markdown",
   "metadata": {},
   "source": [
    "# Prediction Import"
   ]
  },
  {
   "cell_type": "code",
   "execution_count": 3,
   "metadata": {
    "execution": {
     "iopub.execute_input": "2023-11-01T07:38:14.379121Z",
     "iopub.status.busy": "2023-11-01T07:38:14.378864Z",
     "iopub.status.idle": "2023-11-01T07:38:14.423971Z",
     "shell.execute_reply": "2023-11-01T07:38:14.423139Z"
    }
   },
   "outputs": [
    {
     "data": {
      "text/html": [
       "<div>\n",
       "<style scoped>\n",
       "    .dataframe tbody tr th:only-of-type {\n",
       "        vertical-align: middle;\n",
       "    }\n",
       "\n",
       "    .dataframe tbody tr th {\n",
       "        vertical-align: top;\n",
       "    }\n",
       "\n",
       "    .dataframe thead th {\n",
       "        text-align: right;\n",
       "    }\n",
       "</style>\n",
       "<table border=\"1\" class=\"dataframe\">\n",
       "  <thead>\n",
       "    <tr style=\"text-align: right;\">\n",
       "      <th></th>\n",
       "      <th>Downstairs</th>\n",
       "      <th>Jogging</th>\n",
       "      <th>Sitting</th>\n",
       "      <th>Standing</th>\n",
       "      <th>Upstairs</th>\n",
       "      <th>Walking</th>\n",
       "    </tr>\n",
       "  </thead>\n",
       "  <tbody>\n",
       "    <tr>\n",
       "      <th>0</th>\n",
       "      <td>-0.076044</td>\n",
       "      <td>0.354940</td>\n",
       "      <td>0.766970</td>\n",
       "      <td>-0.646194</td>\n",
       "      <td>0.188809</td>\n",
       "      <td>-0.003506</td>\n",
       "    </tr>\n",
       "    <tr>\n",
       "      <th>1</th>\n",
       "      <td>-0.064630</td>\n",
       "      <td>0.426821</td>\n",
       "      <td>0.716968</td>\n",
       "      <td>-0.673659</td>\n",
       "      <td>0.184019</td>\n",
       "      <td>-0.000704</td>\n",
       "    </tr>\n",
       "    <tr>\n",
       "      <th>2</th>\n",
       "      <td>-0.024560</td>\n",
       "      <td>0.322446</td>\n",
       "      <td>0.646498</td>\n",
       "      <td>-0.620332</td>\n",
       "      <td>0.165249</td>\n",
       "      <td>0.067869</td>\n",
       "    </tr>\n",
       "    <tr>\n",
       "      <th>3</th>\n",
       "      <td>0.008093</td>\n",
       "      <td>0.452317</td>\n",
       "      <td>0.756234</td>\n",
       "      <td>-0.602843</td>\n",
       "      <td>0.230290</td>\n",
       "      <td>0.153240</td>\n",
       "    </tr>\n",
       "    <tr>\n",
       "      <th>4</th>\n",
       "      <td>0.008317</td>\n",
       "      <td>0.412182</td>\n",
       "      <td>0.740650</td>\n",
       "      <td>-0.627341</td>\n",
       "      <td>0.215198</td>\n",
       "      <td>0.017947</td>\n",
       "    </tr>\n",
       "  </tbody>\n",
       "</table>\n",
       "</div>"
      ],
      "text/plain": [
       "   Downstairs   Jogging   Sitting  Standing  Upstairs   Walking\n",
       "0   -0.076044  0.354940  0.766970 -0.646194  0.188809 -0.003506\n",
       "1   -0.064630  0.426821  0.716968 -0.673659  0.184019 -0.000704\n",
       "2   -0.024560  0.322446  0.646498 -0.620332  0.165249  0.067869\n",
       "3    0.008093  0.452317  0.756234 -0.602843  0.230290  0.153240\n",
       "4    0.008317  0.412182  0.740650 -0.627341  0.215198  0.017947"
      ]
     },
     "execution_count": 3,
     "metadata": {},
     "output_type": "execute_result"
    }
   ],
   "source": [
    "LABELS = [\"Downstairs\", \"Jogging\", \"Sitting\", \"Standing\", \"Upstairs\", \"Walking\"]\n",
    "df = pd.read_csv('predict.csv', index_col=0)\n",
    "predict = df.drop('true', axis=1)\n",
    "true = df['true']\n",
    "del df\n",
    "true_encoded = true.map(lambda x: LABELS[x])\n",
    "true_encoded.name = 'true_label'\n",
    "predict.columns = LABELS\n",
    "predict.head()"
   ]
  },
  {
   "cell_type": "code",
   "execution_count": 4,
   "metadata": {
    "execution": {
     "iopub.execute_input": "2023-11-01T07:38:14.429678Z",
     "iopub.status.busy": "2023-11-01T07:38:14.429370Z",
     "iopub.status.idle": "2023-11-01T07:38:18.479023Z",
     "shell.execute_reply": "2023-11-01T07:38:18.477638Z"
    }
   },
   "outputs": [],
   "source": [
    "# min-max normalization\n",
    "predict = predict.apply(lambda x: (x - x.min()) / (x.max() - x.min()), axis=1)\n",
    "predict = predict.apply(lambda x: x / x.sum(), axis=1)\n",
    "\n",
    "predict_label = predict.idxmax(axis=1)\n",
    "predict_probability = predict.max(axis=1)\n",
    "predict_probability.name = 'predict_probability'\n",
    "predict_label.name = 'predict_label'\n",
    "# predict.head()\n",
    "# true.head()\n",
    "# true_encoded.head()"
   ]
  },
  {
   "cell_type": "code",
   "execution_count": 5,
   "metadata": {
    "execution": {
     "iopub.execute_input": "2023-11-01T07:38:18.483913Z",
     "iopub.status.busy": "2023-11-01T07:38:18.483505Z",
     "iopub.status.idle": "2023-11-01T07:38:18.497659Z",
     "shell.execute_reply": "2023-11-01T07:38:18.496613Z"
    }
   },
   "outputs": [
    {
     "data": {
      "text/html": [
       "<div>\n",
       "<style scoped>\n",
       "    .dataframe tbody tr th:only-of-type {\n",
       "        vertical-align: middle;\n",
       "    }\n",
       "\n",
       "    .dataframe tbody tr th {\n",
       "        vertical-align: top;\n",
       "    }\n",
       "\n",
       "    .dataframe thead th {\n",
       "        text-align: right;\n",
       "    }\n",
       "</style>\n",
       "<table border=\"1\" class=\"dataframe\">\n",
       "  <thead>\n",
       "    <tr style=\"text-align: right;\">\n",
       "      <th></th>\n",
       "      <th>Downstairs</th>\n",
       "      <th>Jogging</th>\n",
       "      <th>Sitting</th>\n",
       "      <th>Standing</th>\n",
       "      <th>Upstairs</th>\n",
       "      <th>Walking</th>\n",
       "      <th>predict_probability</th>\n",
       "      <th>true</th>\n",
       "      <th>predict_label</th>\n",
       "      <th>true_label</th>\n",
       "    </tr>\n",
       "  </thead>\n",
       "  <tbody>\n",
       "    <tr>\n",
       "      <th>0</th>\n",
       "      <td>0.127775</td>\n",
       "      <td>0.224362</td>\n",
       "      <td>0.316701</td>\n",
       "      <td>0.0</td>\n",
       "      <td>0.187131</td>\n",
       "      <td>0.144031</td>\n",
       "      <td>0.316701</td>\n",
       "      <td>5</td>\n",
       "      <td>Sitting</td>\n",
       "      <td>Walking</td>\n",
       "    </tr>\n",
       "    <tr>\n",
       "      <th>1</th>\n",
       "      <td>0.131518</td>\n",
       "      <td>0.237645</td>\n",
       "      <td>0.300302</td>\n",
       "      <td>0.0</td>\n",
       "      <td>0.185213</td>\n",
       "      <td>0.145322</td>\n",
       "      <td>0.300302</td>\n",
       "      <td>2</td>\n",
       "      <td>Sitting</td>\n",
       "      <td>Sitting</td>\n",
       "    </tr>\n",
       "    <tr>\n",
       "      <th>2</th>\n",
       "      <td>0.139226</td>\n",
       "      <td>0.220318</td>\n",
       "      <td>0.296046</td>\n",
       "      <td>0.0</td>\n",
       "      <td>0.183583</td>\n",
       "      <td>0.160826</td>\n",
       "      <td>0.296046</td>\n",
       "      <td>4</td>\n",
       "      <td>Sitting</td>\n",
       "      <td>Upstairs</td>\n",
       "    </tr>\n",
       "    <tr>\n",
       "      <th>3</th>\n",
       "      <td>0.132398</td>\n",
       "      <td>0.228667</td>\n",
       "      <td>0.294530</td>\n",
       "      <td>0.0</td>\n",
       "      <td>0.180551</td>\n",
       "      <td>0.163853</td>\n",
       "      <td>0.294530</td>\n",
       "      <td>1</td>\n",
       "      <td>Sitting</td>\n",
       "      <td>Jogging</td>\n",
       "    </tr>\n",
       "    <tr>\n",
       "      <th>4</th>\n",
       "      <td>0.140291</td>\n",
       "      <td>0.229425</td>\n",
       "      <td>0.301918</td>\n",
       "      <td>0.0</td>\n",
       "      <td>0.185950</td>\n",
       "      <td>0.142416</td>\n",
       "      <td>0.301918</td>\n",
       "      <td>3</td>\n",
       "      <td>Sitting</td>\n",
       "      <td>Standing</td>\n",
       "    </tr>\n",
       "    <tr>\n",
       "      <th>5</th>\n",
       "      <td>0.130620</td>\n",
       "      <td>0.227428</td>\n",
       "      <td>0.306694</td>\n",
       "      <td>0.0</td>\n",
       "      <td>0.196948</td>\n",
       "      <td>0.138310</td>\n",
       "      <td>0.306694</td>\n",
       "      <td>5</td>\n",
       "      <td>Sitting</td>\n",
       "      <td>Walking</td>\n",
       "    </tr>\n",
       "    <tr>\n",
       "      <th>6</th>\n",
       "      <td>0.149863</td>\n",
       "      <td>0.220152</td>\n",
       "      <td>0.303445</td>\n",
       "      <td>0.0</td>\n",
       "      <td>0.173106</td>\n",
       "      <td>0.153434</td>\n",
       "      <td>0.303445</td>\n",
       "      <td>0</td>\n",
       "      <td>Sitting</td>\n",
       "      <td>Downstairs</td>\n",
       "    </tr>\n",
       "    <tr>\n",
       "      <th>7</th>\n",
       "      <td>0.136004</td>\n",
       "      <td>0.228181</td>\n",
       "      <td>0.303234</td>\n",
       "      <td>0.0</td>\n",
       "      <td>0.182007</td>\n",
       "      <td>0.150573</td>\n",
       "      <td>0.303234</td>\n",
       "      <td>0</td>\n",
       "      <td>Sitting</td>\n",
       "      <td>Downstairs</td>\n",
       "    </tr>\n",
       "    <tr>\n",
       "      <th>8</th>\n",
       "      <td>0.129821</td>\n",
       "      <td>0.201350</td>\n",
       "      <td>0.298664</td>\n",
       "      <td>0.0</td>\n",
       "      <td>0.203788</td>\n",
       "      <td>0.166377</td>\n",
       "      <td>0.298664</td>\n",
       "      <td>1</td>\n",
       "      <td>Sitting</td>\n",
       "      <td>Jogging</td>\n",
       "    </tr>\n",
       "    <tr>\n",
       "      <th>9</th>\n",
       "      <td>0.134410</td>\n",
       "      <td>0.227059</td>\n",
       "      <td>0.296165</td>\n",
       "      <td>0.0</td>\n",
       "      <td>0.182782</td>\n",
       "      <td>0.159584</td>\n",
       "      <td>0.296165</td>\n",
       "      <td>5</td>\n",
       "      <td>Sitting</td>\n",
       "      <td>Walking</td>\n",
       "    </tr>\n",
       "  </tbody>\n",
       "</table>\n",
       "</div>"
      ],
      "text/plain": [
       "   Downstairs   Jogging   Sitting  Standing  Upstairs   Walking  \\\n",
       "0    0.127775  0.224362  0.316701       0.0  0.187131  0.144031   \n",
       "1    0.131518  0.237645  0.300302       0.0  0.185213  0.145322   \n",
       "2    0.139226  0.220318  0.296046       0.0  0.183583  0.160826   \n",
       "3    0.132398  0.228667  0.294530       0.0  0.180551  0.163853   \n",
       "4    0.140291  0.229425  0.301918       0.0  0.185950  0.142416   \n",
       "5    0.130620  0.227428  0.306694       0.0  0.196948  0.138310   \n",
       "6    0.149863  0.220152  0.303445       0.0  0.173106  0.153434   \n",
       "7    0.136004  0.228181  0.303234       0.0  0.182007  0.150573   \n",
       "8    0.129821  0.201350  0.298664       0.0  0.203788  0.166377   \n",
       "9    0.134410  0.227059  0.296165       0.0  0.182782  0.159584   \n",
       "\n",
       "   predict_probability  true predict_label  true_label  \n",
       "0             0.316701     5       Sitting     Walking  \n",
       "1             0.300302     2       Sitting     Sitting  \n",
       "2             0.296046     4       Sitting    Upstairs  \n",
       "3             0.294530     1       Sitting     Jogging  \n",
       "4             0.301918     3       Sitting    Standing  \n",
       "5             0.306694     5       Sitting     Walking  \n",
       "6             0.303445     0       Sitting  Downstairs  \n",
       "7             0.303234     0       Sitting  Downstairs  \n",
       "8             0.298664     1       Sitting     Jogging  \n",
       "9             0.296165     5       Sitting     Walking  "
      ]
     },
     "execution_count": 5,
     "metadata": {},
     "output_type": "execute_result"
    }
   ],
   "source": [
    "df = pd.concat([\n",
    "            predict,\n",
    "            predict_probability,\n",
    "            true,\n",
    "            predict_label,\n",
    "            true_encoded\n",
    "        ], axis=1)\n",
    "df.head(10)"
   ]
  },
  {
   "cell_type": "code",
   "execution_count": 6,
   "metadata": {
    "execution": {
     "iopub.execute_input": "2023-11-01T07:38:18.500478Z",
     "iopub.status.busy": "2023-11-01T07:38:18.500259Z",
     "iopub.status.idle": "2023-11-01T07:38:19.102180Z",
     "shell.execute_reply": "2023-11-01T07:38:19.101520Z"
    }
   },
   "outputs": [
    {
     "name": "stdout",
     "output_type": "stream",
     "text": [
      "Accuracy:  0.05596697826878718\n"
     ]
    },
    {
     "data": {
      "text/plain": [
       "<matplotlib.legend.Legend at 0x7f7b6577f130>"
      ]
     },
     "execution_count": 6,
     "metadata": {},
     "output_type": "execute_result"
    },
    {
     "data": {
      "image/png": "[encoded data removed]",
      "text/plain": [
       "<Figure size 640x480 with 1 Axes>"
      ]
     },
     "metadata": {},
     "output_type": "display_data"
    }
   ],
   "source": [
    "print('Accuracy: ', calc_accuracy(df))\n",
    "# statival analysis\n",
    "df.loc[df.true_label==df.predict_label, 'predict_probability'].hist(bins=100)\n",
    "df.loc[df.true_label!=df.predict_label, 'predict_probability'].hist(bins=100)\n",
    "plt.title('Predict Probability Distribution')\n",
    "plt.xlim(0, 1)\n",
    "plt.ylim(0, 400)\n",
    "plt.xlabel('Probability')\n",
    "plt.ylabel('Count')\n",
    "plt.legend(['Correct', 'Incorrect'])"
   ]
  },
  {
   "cell_type": "code",
   "execution_count": 7,
   "metadata": {
    "execution": {
     "iopub.execute_input": "2023-11-01T07:38:19.105622Z",
     "iopub.status.busy": "2023-11-01T07:38:19.105334Z",
     "iopub.status.idle": "2023-11-01T07:38:19.113492Z",
     "shell.execute_reply": "2023-11-01T07:38:19.112381Z"
    }
   },
   "outputs": [
    {
     "data": {
      "text/plain": [
       "mean      0.304091\n",
       "std       0.017268\n",
       "min       0.239454\n",
       "max       0.413458\n",
       "median    0.302514\n",
       "Name: predict_probability, dtype: float64"
      ]
     },
     "execution_count": 7,
     "metadata": {},
     "output_type": "execute_result"
    }
   ],
   "source": [
    "df['predict_probability'].agg(['mean', 'std', 'min', 'max', 'median'])"
   ]
  }
 ],
 "metadata": {
  "kernelspec": {
   "display_name": "Python 3",
   "language": "python",
   "name": "python3"
  },
  "language_info": {
   "codemirror_mode": {
    "name": "ipython",
    "version": 3
   },
   "file_extension": ".py",
   "mimetype": "text/x-python",
   "name": "python",
   "nbconvert_exporter": "python",
   "pygments_lexer": "ipython3",
   "version": "3.10.12"
  }
 },
 "nbformat": 4,
 "nbformat_minor": 2
}
