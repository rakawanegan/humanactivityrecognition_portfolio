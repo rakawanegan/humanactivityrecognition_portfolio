{
 "cells": [
  {
   "cell_type": "code",
   "execution_count": 1,
   "metadata": {
    "execution": {
     "iopub.execute_input": "2023-11-01T07:37:45.267276Z",
     "iopub.status.busy": "2023-11-01T07:37:45.266405Z",
     "iopub.status.idle": "2023-11-01T07:37:46.399940Z",
     "shell.execute_reply": "2023-11-01T07:37:46.399429Z"
    }
   },
   "outputs": [
    {
     "name": "stderr",
     "output_type": "stream",
     "text": [
      "/home/nakagawa/.local/lib/python3.10/site-packages/scipy/__init__.py:155: UserWarning: A NumPy version >=1.18.5 and <1.25.0 is required for this version of SciPy (detected version 1.26.1\n",
      "  warnings.warn(f\"A NumPy version >={np_minversion} and <{np_maxversion}\"\n"
     ]
    }
   ],
   "source": [
    "import pandas as pd\n",
    "from matplotlib import pyplot as plt\n",
    "import seaborn as sns\n",
    "from sklearn.metrics import confusion_matrix"
   ]
  },
  {
   "cell_type": "code",
   "execution_count": 2,
   "metadata": {
    "execution": {
     "iopub.execute_input": "2023-11-01T07:37:46.402131Z",
     "iopub.status.busy": "2023-11-01T07:37:46.401923Z",
     "iopub.status.idle": "2023-11-01T07:37:46.404644Z",
     "shell.execute_reply": "2023-11-01T07:37:46.404306Z"
    }
   },
   "outputs": [],
   "source": [
    "def calc_accuracy(df):\n",
    "    return (df['true_label'] == df['predict_label']).sum() / len(df)"
   ]
  },
  {
   "attachments": {},
   "cell_type": "markdown",
   "metadata": {},
   "source": [
    "# Prediction Import"
   ]
  },
  {
   "cell_type": "code",
   "execution_count": 3,
   "metadata": {
    "execution": {
     "iopub.execute_input": "2023-11-01T07:37:46.406571Z",
     "iopub.status.busy": "2023-11-01T07:37:46.406383Z",
     "iopub.status.idle": "2023-11-01T07:37:46.434479Z",
     "shell.execute_reply": "2023-11-01T07:37:46.433928Z"
    }
   },
   "outputs": [
    {
     "data": {
      "text/html": [
       "<div>\n",
       "<style scoped>\n",
       "    .dataframe tbody tr th:only-of-type {\n",
       "        vertical-align: middle;\n",
       "    }\n",
       "\n",
       "    .dataframe tbody tr th {\n",
       "        vertical-align: top;\n",
       "    }\n",
       "\n",
       "    .dataframe thead th {\n",
       "        text-align: right;\n",
       "    }\n",
       "</style>\n",
       "<table border=\"1\" class=\"dataframe\">\n",
       "  <thead>\n",
       "    <tr style=\"text-align: right;\">\n",
       "      <th></th>\n",
       "      <th>Downstairs</th>\n",
       "      <th>Jogging</th>\n",
       "      <th>Sitting</th>\n",
       "      <th>Standing</th>\n",
       "      <th>Upstairs</th>\n",
       "      <th>Walking</th>\n",
       "    </tr>\n",
       "  </thead>\n",
       "  <tbody>\n",
       "    <tr>\n",
       "      <th>0</th>\n",
       "      <td>0.438712</td>\n",
       "      <td>1.376818</td>\n",
       "      <td>-0.524669</td>\n",
       "      <td>-0.814212</td>\n",
       "      <td>-0.394946</td>\n",
       "      <td>-0.637634</td>\n",
       "    </tr>\n",
       "    <tr>\n",
       "      <th>1</th>\n",
       "      <td>0.440656</td>\n",
       "      <td>1.375752</td>\n",
       "      <td>-0.525649</td>\n",
       "      <td>-0.817755</td>\n",
       "      <td>-0.395807</td>\n",
       "      <td>-0.635748</td>\n",
       "    </tr>\n",
       "    <tr>\n",
       "      <th>2</th>\n",
       "      <td>0.443222</td>\n",
       "      <td>1.375511</td>\n",
       "      <td>-0.524790</td>\n",
       "      <td>-0.816030</td>\n",
       "      <td>-0.396197</td>\n",
       "      <td>-0.636307</td>\n",
       "    </tr>\n",
       "    <tr>\n",
       "      <th>3</th>\n",
       "      <td>0.438276</td>\n",
       "      <td>1.377259</td>\n",
       "      <td>-0.521637</td>\n",
       "      <td>-0.818161</td>\n",
       "      <td>-0.395959</td>\n",
       "      <td>-0.637806</td>\n",
       "    </tr>\n",
       "    <tr>\n",
       "      <th>4</th>\n",
       "      <td>0.441040</td>\n",
       "      <td>1.372874</td>\n",
       "      <td>-0.525613</td>\n",
       "      <td>-0.818802</td>\n",
       "      <td>-0.395012</td>\n",
       "      <td>-0.635782</td>\n",
       "    </tr>\n",
       "  </tbody>\n",
       "</table>\n",
       "</div>"
      ],
      "text/plain": [
       "   Downstairs   Jogging   Sitting  Standing  Upstairs   Walking\n",
       "0    0.438712  1.376818 -0.524669 -0.814212 -0.394946 -0.637634\n",
       "1    0.440656  1.375752 -0.525649 -0.817755 -0.395807 -0.635748\n",
       "2    0.443222  1.375511 -0.524790 -0.816030 -0.396197 -0.636307\n",
       "3    0.438276  1.377259 -0.521637 -0.818161 -0.395959 -0.637806\n",
       "4    0.441040  1.372874 -0.525613 -0.818802 -0.395012 -0.635782"
      ]
     },
     "execution_count": 3,
     "metadata": {},
     "output_type": "execute_result"
    }
   ],
   "source": [
    "LABELS = [\"Downstairs\", \"Jogging\", \"Sitting\", \"Standing\", \"Upstairs\", \"Walking\"]\n",
    "df = pd.read_csv('predict.csv', index_col=0)\n",
    "predict = df.drop('true', axis=1)\n",
    "true = df['true']\n",
    "del df\n",
    "true_encoded = true.map(lambda x: LABELS[x])\n",
    "true_encoded.name = 'true_label'\n",
    "predict.columns = LABELS\n",
    "predict.head()"
   ]
  },
  {
   "cell_type": "code",
   "execution_count": 4,
   "metadata": {
    "execution": {
     "iopub.execute_input": "2023-11-01T07:37:46.436415Z",
     "iopub.status.busy": "2023-11-01T07:37:46.436263Z",
     "iopub.status.idle": "2023-11-01T07:37:49.637184Z",
     "shell.execute_reply": "2023-11-01T07:37:49.636679Z"
    }
   },
   "outputs": [],
   "source": [
    "# min-max normalization\n",
    "predict = predict.apply(lambda x: (x - x.min()) / (x.max() - x.min()), axis=1)\n",
    "predict = predict.apply(lambda x: x / x.sum(), axis=1)\n",
    "\n",
    "predict_label = predict.idxmax(axis=1)\n",
    "predict_probability = predict.max(axis=1)\n",
    "predict_probability.name = 'predict_probability'\n",
    "predict_label.name = 'predict_label'\n",
    "# predict.head()\n",
    "# true.head()\n",
    "# true_encoded.head()"
   ]
  },
  {
   "cell_type": "code",
   "execution_count": 5,
   "metadata": {
    "execution": {
     "iopub.execute_input": "2023-11-01T07:37:49.639351Z",
     "iopub.status.busy": "2023-11-01T07:37:49.639203Z",
     "iopub.status.idle": "2023-11-01T07:37:49.649403Z",
     "shell.execute_reply": "2023-11-01T07:37:49.648921Z"
    }
   },
   "outputs": [
    {
     "data": {
      "text/html": [
       "<div>\n",
       "<style scoped>\n",
       "    .dataframe tbody tr th:only-of-type {\n",
       "        vertical-align: middle;\n",
       "    }\n",
       "\n",
       "    .dataframe tbody tr th {\n",
       "        vertical-align: top;\n",
       "    }\n",
       "\n",
       "    .dataframe thead th {\n",
       "        text-align: right;\n",
       "    }\n",
       "</style>\n",
       "<table border=\"1\" class=\"dataframe\">\n",
       "  <thead>\n",
       "    <tr style=\"text-align: right;\">\n",
       "      <th></th>\n",
       "      <th>Downstairs</th>\n",
       "      <th>Jogging</th>\n",
       "      <th>Sitting</th>\n",
       "      <th>Standing</th>\n",
       "      <th>Upstairs</th>\n",
       "      <th>Walking</th>\n",
       "      <th>predict_probability</th>\n",
       "      <th>true</th>\n",
       "      <th>predict_label</th>\n",
       "      <th>true_label</th>\n",
       "    </tr>\n",
       "  </thead>\n",
       "  <tbody>\n",
       "    <tr>\n",
       "      <th>0</th>\n",
       "      <td>0.289403</td>\n",
       "      <td>0.506088</td>\n",
       "      <td>0.066879</td>\n",
       "      <td>0.0</td>\n",
       "      <td>0.096843</td>\n",
       "      <td>0.040786</td>\n",
       "      <td>0.506088</td>\n",
       "      <td>5</td>\n",
       "      <td>Jogging</td>\n",
       "      <td>Walking</td>\n",
       "    </tr>\n",
       "    <tr>\n",
       "      <th>1</th>\n",
       "      <td>0.289424</td>\n",
       "      <td>0.504489</td>\n",
       "      <td>0.067182</td>\n",
       "      <td>0.0</td>\n",
       "      <td>0.097045</td>\n",
       "      <td>0.041860</td>\n",
       "      <td>0.504489</td>\n",
       "      <td>2</td>\n",
       "      <td>Jogging</td>\n",
       "      <td>Sitting</td>\n",
       "    </tr>\n",
       "    <tr>\n",
       "      <th>2</th>\n",
       "      <td>0.290044</td>\n",
       "      <td>0.504778</td>\n",
       "      <td>0.067081</td>\n",
       "      <td>0.0</td>\n",
       "      <td>0.096700</td>\n",
       "      <td>0.041396</td>\n",
       "      <td>0.504778</td>\n",
       "      <td>4</td>\n",
       "      <td>Jogging</td>\n",
       "      <td>Upstairs</td>\n",
       "    </tr>\n",
       "    <tr>\n",
       "      <th>3</th>\n",
       "      <td>0.288774</td>\n",
       "      <td>0.504586</td>\n",
       "      <td>0.068152</td>\n",
       "      <td>0.0</td>\n",
       "      <td>0.097037</td>\n",
       "      <td>0.041452</td>\n",
       "      <td>0.504586</td>\n",
       "      <td>1</td>\n",
       "      <td>Jogging</td>\n",
       "      <td>Jogging</td>\n",
       "    </tr>\n",
       "    <tr>\n",
       "      <th>4</th>\n",
       "      <td>0.289518</td>\n",
       "      <td>0.503658</td>\n",
       "      <td>0.067376</td>\n",
       "      <td>0.0</td>\n",
       "      <td>0.097389</td>\n",
       "      <td>0.042059</td>\n",
       "      <td>0.503658</td>\n",
       "      <td>3</td>\n",
       "      <td>Jogging</td>\n",
       "      <td>Standing</td>\n",
       "    </tr>\n",
       "    <tr>\n",
       "      <th>5</th>\n",
       "      <td>0.289738</td>\n",
       "      <td>0.504649</td>\n",
       "      <td>0.067168</td>\n",
       "      <td>0.0</td>\n",
       "      <td>0.097060</td>\n",
       "      <td>0.041386</td>\n",
       "      <td>0.504649</td>\n",
       "      <td>5</td>\n",
       "      <td>Jogging</td>\n",
       "      <td>Walking</td>\n",
       "    </tr>\n",
       "    <tr>\n",
       "      <th>6</th>\n",
       "      <td>0.289253</td>\n",
       "      <td>0.504273</td>\n",
       "      <td>0.067285</td>\n",
       "      <td>0.0</td>\n",
       "      <td>0.097306</td>\n",
       "      <td>0.041882</td>\n",
       "      <td>0.504273</td>\n",
       "      <td>0</td>\n",
       "      <td>Jogging</td>\n",
       "      <td>Downstairs</td>\n",
       "    </tr>\n",
       "    <tr>\n",
       "      <th>7</th>\n",
       "      <td>0.289469</td>\n",
       "      <td>0.505177</td>\n",
       "      <td>0.066914</td>\n",
       "      <td>0.0</td>\n",
       "      <td>0.096672</td>\n",
       "      <td>0.041768</td>\n",
       "      <td>0.505177</td>\n",
       "      <td>0</td>\n",
       "      <td>Jogging</td>\n",
       "      <td>Downstairs</td>\n",
       "    </tr>\n",
       "    <tr>\n",
       "      <th>8</th>\n",
       "      <td>0.289402</td>\n",
       "      <td>0.504310</td>\n",
       "      <td>0.067007</td>\n",
       "      <td>0.0</td>\n",
       "      <td>0.097611</td>\n",
       "      <td>0.041670</td>\n",
       "      <td>0.504310</td>\n",
       "      <td>1</td>\n",
       "      <td>Jogging</td>\n",
       "      <td>Jogging</td>\n",
       "    </tr>\n",
       "    <tr>\n",
       "      <th>9</th>\n",
       "      <td>0.290051</td>\n",
       "      <td>0.504496</td>\n",
       "      <td>0.067672</td>\n",
       "      <td>0.0</td>\n",
       "      <td>0.096889</td>\n",
       "      <td>0.040892</td>\n",
       "      <td>0.504496</td>\n",
       "      <td>5</td>\n",
       "      <td>Jogging</td>\n",
       "      <td>Walking</td>\n",
       "    </tr>\n",
       "  </tbody>\n",
       "</table>\n",
       "</div>"
      ],
      "text/plain": [
       "   Downstairs   Jogging   Sitting  Standing  Upstairs   Walking  \\\n",
       "0    0.289403  0.506088  0.066879       0.0  0.096843  0.040786   \n",
       "1    0.289424  0.504489  0.067182       0.0  0.097045  0.041860   \n",
       "2    0.290044  0.504778  0.067081       0.0  0.096700  0.041396   \n",
       "3    0.288774  0.504586  0.068152       0.0  0.097037  0.041452   \n",
       "4    0.289518  0.503658  0.067376       0.0  0.097389  0.042059   \n",
       "5    0.289738  0.504649  0.067168       0.0  0.097060  0.041386   \n",
       "6    0.289253  0.504273  0.067285       0.0  0.097306  0.041882   \n",
       "7    0.289469  0.505177  0.066914       0.0  0.096672  0.041768   \n",
       "8    0.289402  0.504310  0.067007       0.0  0.097611  0.041670   \n",
       "9    0.290051  0.504496  0.067672       0.0  0.096889  0.040892   \n",
       "\n",
       "   predict_probability  true predict_label  true_label  \n",
       "0             0.506088     5       Jogging     Walking  \n",
       "1             0.504489     2       Jogging     Sitting  \n",
       "2             0.504778     4       Jogging    Upstairs  \n",
       "3             0.504586     1       Jogging     Jogging  \n",
       "4             0.503658     3       Jogging    Standing  \n",
       "5             0.504649     5       Jogging     Walking  \n",
       "6             0.504273     0       Jogging  Downstairs  \n",
       "7             0.505177     0       Jogging  Downstairs  \n",
       "8             0.504310     1       Jogging     Jogging  \n",
       "9             0.504496     5       Jogging     Walking  "
      ]
     },
     "execution_count": 5,
     "metadata": {},
     "output_type": "execute_result"
    }
   ],
   "source": [
    "df = pd.concat([\n",
    "            predict,\n",
    "            predict_probability,\n",
    "            true,\n",
    "            predict_label,\n",
    "            true_encoded\n",
    "        ], axis=1)\n",
    "df.head(10)"
   ]
  },
  {
   "cell_type": "code",
   "execution_count": 6,
   "metadata": {
    "execution": {
     "iopub.execute_input": "2023-11-01T07:37:49.651265Z",
     "iopub.status.busy": "2023-11-01T07:37:49.651119Z",
     "iopub.status.idle": "2023-11-01T07:37:50.066483Z",
     "shell.execute_reply": "2023-11-01T07:37:50.065946Z"
    }
   },
   "outputs": [
    {
     "name": "stdout",
     "output_type": "stream",
     "text": [
      "Accuracy:  0.313949253368945\n"
     ]
    },
    {
     "data": {
      "text/plain": [
       "<matplotlib.legend.Legend at 0x7f3d02bbe230>"
      ]
     },
     "execution_count": 6,
     "metadata": {},
     "output_type": "execute_result"
    },
    {
     "data": {
      "image/png": "[encoded data removed]",
      "text/plain": [
       "<Figure size 640x480 with 1 Axes>"
      ]
     },
     "metadata": {},
     "output_type": "display_data"
    }
   ],
   "source": [
    "print('Accuracy: ', calc_accuracy(df))\n",
    "# statival analysis\n",
    "df.loc[df.true_label==df.predict_label, 'predict_probability'].hist(bins=100)\n",
    "df.loc[df.true_label!=df.predict_label, 'predict_probability'].hist(bins=100)\n",
    "plt.title('Predict Probability Distribution')\n",
    "plt.xlim(0, 1)\n",
    "plt.ylim(0, 400)\n",
    "plt.xlabel('Probability')\n",
    "plt.ylabel('Count')\n",
    "plt.legend(['Correct', 'Incorrect'])"
   ]
  },
  {
   "cell_type": "code",
   "execution_count": 7,
   "metadata": {
    "execution": {
     "iopub.execute_input": "2023-11-01T07:37:50.068507Z",
     "iopub.status.busy": "2023-11-01T07:37:50.068292Z",
     "iopub.status.idle": "2023-11-01T07:37:50.073766Z",
     "shell.execute_reply": "2023-11-01T07:37:50.073345Z"
    }
   },
   "outputs": [
    {
     "data": {
      "text/plain": [
       "mean      0.504657\n",
       "std       0.000772\n",
       "min       0.499749\n",
       "max       0.508500\n",
       "median    0.504606\n",
       "Name: predict_probability, dtype: float64"
      ]
     },
     "execution_count": 7,
     "metadata": {},
     "output_type": "execute_result"
    }
   ],
   "source": [
    "df['predict_probability'].agg(['mean', 'std', 'min', 'max', 'median'])"
   ]
  }
 ],
 "metadata": {
  "kernelspec": {
   "display_name": "Python 3",
   "language": "python",
   "name": "python3"
  },
  "language_info": {
   "codemirror_mode": {
    "name": "ipython",
    "version": 3
   },
   "file_extension": ".py",
   "mimetype": "text/x-python",
   "name": "python",
   "nbconvert_exporter": "python",
   "pygments_lexer": "ipython3",
   "version": "3.10.12"
  }
 },
 "nbformat": 4,
 "nbformat_minor": 2
}
