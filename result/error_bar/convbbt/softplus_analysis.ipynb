{
 "cells": [
  {
   "cell_type": "code",
   "execution_count": 17,
   "metadata": {
    "execution": {
     "iopub.execute_input": "2023-11-01T07:37:22.846703Z",
     "iopub.status.busy": "2023-11-01T07:37:22.845832Z",
     "iopub.status.idle": "2023-11-01T07:37:23.920616Z",
     "shell.execute_reply": "2023-11-01T07:37:23.919967Z"
    }
   },
   "outputs": [],
   "source": [
    "import numpy as np\n",
    "from matplotlib import pyplot as plt\n",
    "import pandas as pd\n",
    "import seaborn as sns\n",
    "from sklearn.metrics import confusion_matrix"
   ]
  },
  {
   "cell_type": "code",
   "execution_count": 18,
   "metadata": {
    "execution": {
     "iopub.execute_input": "2023-11-01T07:37:23.923021Z",
     "iopub.status.busy": "2023-11-01T07:37:23.922710Z",
     "iopub.status.idle": "2023-11-01T07:37:23.925715Z",
     "shell.execute_reply": "2023-11-01T07:37:23.925357Z"
    }
   },
   "outputs": [],
   "source": [
    "def calc_accuracy(df):\n",
    "    return (df['true_label'] == df['predict_label']).sum() / len(df)"
   ]
  },
  {
   "attachments": {},
   "cell_type": "markdown",
   "metadata": {},
   "source": [
    "# Prediction Import"
   ]
  },
  {
   "cell_type": "code",
   "execution_count": 19,
   "metadata": {
    "execution": {
     "iopub.execute_input": "2023-11-01T07:37:23.928230Z",
     "iopub.status.busy": "2023-11-01T07:37:23.927694Z",
     "iopub.status.idle": "2023-11-01T07:37:23.948848Z",
     "shell.execute_reply": "2023-11-01T07:37:23.948365Z"
    }
   },
   "outputs": [
    {
     "data": {
      "text/html": [
       "<div>\n",
       "<style scoped>\n",
       "    .dataframe tbody tr th:only-of-type {\n",
       "        vertical-align: middle;\n",
       "    }\n",
       "\n",
       "    .dataframe tbody tr th {\n",
       "        vertical-align: top;\n",
       "    }\n",
       "\n",
       "    .dataframe thead th {\n",
       "        text-align: right;\n",
       "    }\n",
       "</style>\n",
       "<table border=\"1\" class=\"dataframe\">\n",
       "  <thead>\n",
       "    <tr style=\"text-align: right;\">\n",
       "      <th></th>\n",
       "      <th>Downstairs</th>\n",
       "      <th>Jogging</th>\n",
       "      <th>Sitting</th>\n",
       "      <th>Standing</th>\n",
       "      <th>Upstairs</th>\n",
       "      <th>Walking</th>\n",
       "    </tr>\n",
       "  </thead>\n",
       "  <tbody>\n",
       "    <tr>\n",
       "      <th>0</th>\n",
       "      <td>2.667278</td>\n",
       "      <td>-6.223639</td>\n",
       "      <td>-10.455910</td>\n",
       "      <td>-7.705863</td>\n",
       "      <td>3.942457</td>\n",
       "      <td>5.992100</td>\n",
       "    </tr>\n",
       "    <tr>\n",
       "      <th>1</th>\n",
       "      <td>-3.501386</td>\n",
       "      <td>-5.147262</td>\n",
       "      <td>15.075128</td>\n",
       "      <td>7.256400</td>\n",
       "      <td>-0.475929</td>\n",
       "      <td>-2.861587</td>\n",
       "    </tr>\n",
       "    <tr>\n",
       "      <th>2</th>\n",
       "      <td>3.822823</td>\n",
       "      <td>-9.720933</td>\n",
       "      <td>-9.241361</td>\n",
       "      <td>-5.683146</td>\n",
       "      <td>6.891798</td>\n",
       "      <td>3.425873</td>\n",
       "    </tr>\n",
       "    <tr>\n",
       "      <th>3</th>\n",
       "      <td>3.279096</td>\n",
       "      <td>11.735168</td>\n",
       "      <td>-4.228587</td>\n",
       "      <td>-1.351361</td>\n",
       "      <td>-4.169562</td>\n",
       "      <td>-4.644408</td>\n",
       "    </tr>\n",
       "    <tr>\n",
       "      <th>4</th>\n",
       "      <td>-2.105618</td>\n",
       "      <td>-2.101908</td>\n",
       "      <td>0.199927</td>\n",
       "      <td>13.780579</td>\n",
       "      <td>-3.819936</td>\n",
       "      <td>-1.524870</td>\n",
       "    </tr>\n",
       "  </tbody>\n",
       "</table>\n",
       "</div>"
      ],
      "text/plain": [
       "   Downstairs    Jogging    Sitting   Standing  Upstairs   Walking\n",
       "0    2.667278  -6.223639 -10.455910  -7.705863  3.942457  5.992100\n",
       "1   -3.501386  -5.147262  15.075128   7.256400 -0.475929 -2.861587\n",
       "2    3.822823  -9.720933  -9.241361  -5.683146  6.891798  3.425873\n",
       "3    3.279096  11.735168  -4.228587  -1.351361 -4.169562 -4.644408\n",
       "4   -2.105618  -2.101908   0.199927  13.780579 -3.819936 -1.524870"
      ]
     },
     "execution_count": 19,
     "metadata": {},
     "output_type": "execute_result"
    }
   ],
   "source": [
    "LABELS = [\"Downstairs\", \"Jogging\", \"Sitting\", \"Standing\", \"Upstairs\", \"Walking\"]\n",
    "df = pd.read_csv('predict.csv', index_col=0)\n",
    "predict = df.drop('true', axis=1)\n",
    "true = df['true']\n",
    "del df\n",
    "true_encoded = true.map(lambda x: LABELS[x])\n",
    "true_encoded.name = 'true_label'\n",
    "predict.columns = LABELS\n",
    "predict.head()"
   ]
  },
  {
   "cell_type": "code",
   "execution_count": 20,
   "metadata": {},
   "outputs": [
    {
     "data": {
      "text/plain": [
       "<Axes: >"
      ]
     },
     "execution_count": 20,
     "metadata": {},
     "output_type": "execute_result"
    },
    {
     "data": {
      "image/png": "[encoded data removed]",
      "text/plain": [
       "<Figure size 640x480 with 1 Axes>"
      ]
     },
     "metadata": {},
     "output_type": "display_data"
    }
   ],
   "source": [
    "predict.max(axis=1).hist(bins=100)"
   ]
  },
  {
   "cell_type": "code",
   "execution_count": 21,
   "metadata": {
    "execution": {
     "iopub.execute_input": "2023-11-01T07:37:23.950845Z",
     "iopub.status.busy": "2023-11-01T07:37:23.950697Z",
     "iopub.status.idle": "2023-11-01T07:37:27.172907Z",
     "shell.execute_reply": "2023-11-01T07:37:27.172314Z"
    }
   },
   "outputs": [],
   "source": [
    "# min-max normalization\n",
    "predict = predict.apply(lambda x: np.log(1 + np.exp(x)), axis=1)\n",
    "predict = predict.apply(lambda x: (x - x.min()) / (x.max() - x.min()), axis=1)\n",
    "predict = predict.apply(lambda x: x / x.sum(), axis=1)\n",
    "\n",
    "predict_label = predict.idxmax(axis=1)\n",
    "predict_probability = predict.max(axis=1)\n",
    "predict_probability.name = 'predict_probability'\n",
    "predict_label.name = 'predict_label'\n",
    "# predict.head()\n",
    "# true.head()\n",
    "# true_encoded.head()"
   ]
  },
  {
   "cell_type": "code",
   "execution_count": 22,
   "metadata": {
    "execution": {
     "iopub.execute_input": "2023-11-01T07:37:27.175672Z",
     "iopub.status.busy": "2023-11-01T07:37:27.175508Z",
     "iopub.status.idle": "2023-11-01T07:37:27.185728Z",
     "shell.execute_reply": "2023-11-01T07:37:27.185238Z"
    }
   },
   "outputs": [
    {
     "data": {
      "text/html": [
       "<div>\n",
       "<style scoped>\n",
       "    .dataframe tbody tr th:only-of-type {\n",
       "        vertical-align: middle;\n",
       "    }\n",
       "\n",
       "    .dataframe tbody tr th {\n",
       "        vertical-align: top;\n",
       "    }\n",
       "\n",
       "    .dataframe thead th {\n",
       "        text-align: right;\n",
       "    }\n",
       "</style>\n",
       "<table border=\"1\" class=\"dataframe\">\n",
       "  <thead>\n",
       "    <tr style=\"text-align: right;\">\n",
       "      <th></th>\n",
       "      <th>Downstairs</th>\n",
       "      <th>Jogging</th>\n",
       "      <th>Sitting</th>\n",
       "      <th>Standing</th>\n",
       "      <th>Upstairs</th>\n",
       "      <th>Walking</th>\n",
       "      <th>predict_probability</th>\n",
       "      <th>true</th>\n",
       "      <th>predict_label</th>\n",
       "      <th>true_label</th>\n",
       "    </tr>\n",
       "  </thead>\n",
       "  <tbody>\n",
       "    <tr>\n",
       "      <th>0</th>\n",
       "      <td>0.257560</td>\n",
       "      <td>0.083064</td>\n",
       "      <td>0.000000</td>\n",
       "      <td>0.053973</td>\n",
       "      <td>0.282588</td>\n",
       "      <td>0.322815</td>\n",
       "      <td>0.322815</td>\n",
       "      <td>5</td>\n",
       "      <td>Walking</td>\n",
       "      <td>Walking</td>\n",
       "    </tr>\n",
       "    <tr>\n",
       "      <th>1</th>\n",
       "      <td>0.039920</td>\n",
       "      <td>0.000000</td>\n",
       "      <td>0.490490</td>\n",
       "      <td>0.300848</td>\n",
       "      <td>0.113302</td>\n",
       "      <td>0.055439</td>\n",
       "      <td>0.490490</td>\n",
       "      <td>2</td>\n",
       "      <td>Sitting</td>\n",
       "      <td>Sitting</td>\n",
       "    </tr>\n",
       "    <tr>\n",
       "      <th>2</th>\n",
       "      <td>0.283220</td>\n",
       "      <td>0.000000</td>\n",
       "      <td>0.010029</td>\n",
       "      <td>0.084436</td>\n",
       "      <td>0.347397</td>\n",
       "      <td>0.274919</td>\n",
       "      <td>0.347397</td>\n",
       "      <td>4</td>\n",
       "      <td>Upstairs</td>\n",
       "      <td>Upstairs</td>\n",
       "    </tr>\n",
       "    <tr>\n",
       "      <th>3</th>\n",
       "      <td>0.278147</td>\n",
       "      <td>0.574988</td>\n",
       "      <td>0.014597</td>\n",
       "      <td>0.115599</td>\n",
       "      <td>0.016669</td>\n",
       "      <td>0.000000</td>\n",
       "      <td>0.574988</td>\n",
       "      <td>1</td>\n",
       "      <td>Jogging</td>\n",
       "      <td>Jogging</td>\n",
       "    </tr>\n",
       "    <tr>\n",
       "      <th>4</th>\n",
       "      <td>0.062686</td>\n",
       "      <td>0.062821</td>\n",
       "      <td>0.146990</td>\n",
       "      <td>0.643581</td>\n",
       "      <td>0.000000</td>\n",
       "      <td>0.083921</td>\n",
       "      <td>0.643581</td>\n",
       "      <td>3</td>\n",
       "      <td>Standing</td>\n",
       "      <td>Standing</td>\n",
       "    </tr>\n",
       "    <tr>\n",
       "      <th>5</th>\n",
       "      <td>0.146047</td>\n",
       "      <td>0.017134</td>\n",
       "      <td>0.000000</td>\n",
       "      <td>0.059657</td>\n",
       "      <td>0.227783</td>\n",
       "      <td>0.549379</td>\n",
       "      <td>0.549379</td>\n",
       "      <td>5</td>\n",
       "      <td>Walking</td>\n",
       "      <td>Walking</td>\n",
       "    </tr>\n",
       "    <tr>\n",
       "      <th>6</th>\n",
       "      <td>0.482250</td>\n",
       "      <td>0.025148</td>\n",
       "      <td>0.000000</td>\n",
       "      <td>0.070823</td>\n",
       "      <td>0.287404</td>\n",
       "      <td>0.134375</td>\n",
       "      <td>0.482250</td>\n",
       "      <td>0</td>\n",
       "      <td>Downstairs</td>\n",
       "      <td>Downstairs</td>\n",
       "    </tr>\n",
       "    <tr>\n",
       "      <th>7</th>\n",
       "      <td>0.357108</td>\n",
       "      <td>0.000000</td>\n",
       "      <td>0.079185</td>\n",
       "      <td>0.087397</td>\n",
       "      <td>0.224663</td>\n",
       "      <td>0.251647</td>\n",
       "      <td>0.357108</td>\n",
       "      <td>0</td>\n",
       "      <td>Downstairs</td>\n",
       "      <td>Downstairs</td>\n",
       "    </tr>\n",
       "    <tr>\n",
       "      <th>8</th>\n",
       "      <td>0.101614</td>\n",
       "      <td>0.594874</td>\n",
       "      <td>0.139825</td>\n",
       "      <td>0.063582</td>\n",
       "      <td>0.000000</td>\n",
       "      <td>0.100104</td>\n",
       "      <td>0.594874</td>\n",
       "      <td>1</td>\n",
       "      <td>Jogging</td>\n",
       "      <td>Jogging</td>\n",
       "    </tr>\n",
       "    <tr>\n",
       "      <th>9</th>\n",
       "      <td>0.223991</td>\n",
       "      <td>0.034359</td>\n",
       "      <td>0.000000</td>\n",
       "      <td>0.077907</td>\n",
       "      <td>0.165650</td>\n",
       "      <td>0.498093</td>\n",
       "      <td>0.498093</td>\n",
       "      <td>5</td>\n",
       "      <td>Walking</td>\n",
       "      <td>Walking</td>\n",
       "    </tr>\n",
       "  </tbody>\n",
       "</table>\n",
       "</div>"
      ],
      "text/plain": [
       "   Downstairs   Jogging   Sitting  Standing  Upstairs   Walking  \\\n",
       "0    0.257560  0.083064  0.000000  0.053973  0.282588  0.322815   \n",
       "1    0.039920  0.000000  0.490490  0.300848  0.113302  0.055439   \n",
       "2    0.283220  0.000000  0.010029  0.084436  0.347397  0.274919   \n",
       "3    0.278147  0.574988  0.014597  0.115599  0.016669  0.000000   \n",
       "4    0.062686  0.062821  0.146990  0.643581  0.000000  0.083921   \n",
       "5    0.146047  0.017134  0.000000  0.059657  0.227783  0.549379   \n",
       "6    0.482250  0.025148  0.000000  0.070823  0.287404  0.134375   \n",
       "7    0.357108  0.000000  0.079185  0.087397  0.224663  0.251647   \n",
       "8    0.101614  0.594874  0.139825  0.063582  0.000000  0.100104   \n",
       "9    0.223991  0.034359  0.000000  0.077907  0.165650  0.498093   \n",
       "\n",
       "   predict_probability  true predict_label  true_label  \n",
       "0             0.322815     5       Walking     Walking  \n",
       "1             0.490490     2       Sitting     Sitting  \n",
       "2             0.347397     4      Upstairs    Upstairs  \n",
       "3             0.574988     1       Jogging     Jogging  \n",
       "4             0.643581     3      Standing    Standing  \n",
       "5             0.549379     5       Walking     Walking  \n",
       "6             0.482250     0    Downstairs  Downstairs  \n",
       "7             0.357108     0    Downstairs  Downstairs  \n",
       "8             0.594874     1       Jogging     Jogging  \n",
       "9             0.498093     5       Walking     Walking  "
      ]
     },
     "execution_count": 22,
     "metadata": {},
     "output_type": "execute_result"
    }
   ],
   "source": [
    "df = pd.concat([\n",
    "            predict,\n",
    "            predict_probability,\n",
    "            true,\n",
    "            predict_label,\n",
    "            true_encoded\n",
    "        ], axis=1)\n",
    "df.head(10)"
   ]
  },
  {
   "cell_type": "code",
   "execution_count": 23,
   "metadata": {
    "execution": {
     "iopub.execute_input": "2023-11-01T07:37:27.187814Z",
     "iopub.status.busy": "2023-11-01T07:37:27.187661Z",
     "iopub.status.idle": "2023-11-01T07:37:27.592427Z",
     "shell.execute_reply": "2023-11-01T07:37:27.591915Z"
    }
   },
   "outputs": [
    {
     "name": "stdout",
     "output_type": "stream",
     "text": [
      "Accuracy:  0.9520456476872647\n"
     ]
    },
    {
     "data": {
      "text/plain": [
       "<matplotlib.legend.Legend at 0x7fd86b4f3070>"
      ]
     },
     "execution_count": 23,
     "metadata": {},
     "output_type": "execute_result"
    },
    {
     "data": {
      "image/png": "[encoded data removed]",
      "text/plain": [
       "<Figure size 640x480 with 1 Axes>"
      ]
     },
     "metadata": {},
     "output_type": "display_data"
    }
   ],
   "source": [
    "print('Accuracy: ', calc_accuracy(df))\n",
    "# statival analysis\n",
    "df.loc[df.true_label==df.predict_label, 'predict_probability'].hist(bins=100)\n",
    "df.loc[df.true_label!=df.predict_label, 'predict_probability'].hist(bins=100)\n",
    "plt.title('Predict Probability Distribution')\n",
    "plt.xlim(0, 1)\n",
    "plt.ylim(0, 400)\n",
    "plt.xlabel('Probability')\n",
    "plt.ylabel('Count')\n",
    "plt.legend(['Correct', 'Incorrect'])"
   ]
  },
  {
   "cell_type": "code",
   "execution_count": 24,
   "metadata": {
    "execution": {
     "iopub.execute_input": "2023-11-01T07:37:27.594612Z",
     "iopub.status.busy": "2023-11-01T07:37:27.594390Z",
     "iopub.status.idle": "2023-11-01T07:37:27.599949Z",
     "shell.execute_reply": "2023-11-01T07:37:27.599555Z"
    }
   },
   "outputs": [
    {
     "data": {
      "text/plain": [
       "mean      0.541437\n",
       "std       0.109874\n",
       "min       0.257692\n",
       "max       0.970451\n",
       "median    0.538239\n",
       "Name: predict_probability, dtype: float64"
      ]
     },
     "execution_count": 24,
     "metadata": {},
     "output_type": "execute_result"
    }
   ],
   "source": [
    "df['predict_probability'].agg(['mean', 'std', 'min', 'max', 'median'])"
   ]
  },
  {
   "cell_type": "code",
   "execution_count": 25,
   "metadata": {
    "execution": {
     "iopub.execute_input": "2023-11-01T07:37:27.602270Z",
     "iopub.status.busy": "2023-11-01T07:37:27.602121Z",
     "iopub.status.idle": "2023-11-01T07:37:28.427779Z",
     "shell.execute_reply": "2023-11-01T07:37:28.427274Z"
    }
   },
   "outputs": [
    {
     "name": "stderr",
     "output_type": "stream",
     "text": [
      "/tmp/ipykernel_4934/3327794854.py:2: RuntimeWarning: invalid value encountered in scalar divide\n",
      "  return (df['true_label'] == df['predict_label']).sum() / len(df)\n"
     ]
    },
    {
     "data": {
      "text/html": [
       "<div>\n",
       "<style scoped>\n",
       "    .dataframe tbody tr th:only-of-type {\n",
       "        vertical-align: middle;\n",
       "    }\n",
       "\n",
       "    .dataframe tbody tr th {\n",
       "        vertical-align: top;\n",
       "    }\n",
       "\n",
       "    .dataframe thead th {\n",
       "        text-align: right;\n",
       "    }\n",
       "</style>\n",
       "<table border=\"1\" class=\"dataframe\">\n",
       "  <thead>\n",
       "    <tr style=\"text-align: right;\">\n",
       "      <th></th>\n",
       "      <th>confidence_accuracy</th>\n",
       "      <th>confidence_raito</th>\n",
       "      <th>drop_accuracy</th>\n",
       "      <th>drop_ratio</th>\n",
       "    </tr>\n",
       "    <tr>\n",
       "      <th>threshold</th>\n",
       "      <th></th>\n",
       "      <th></th>\n",
       "      <th></th>\n",
       "      <th></th>\n",
       "    </tr>\n",
       "  </thead>\n",
       "  <tbody>\n",
       "    <tr>\n",
       "      <th>0.0</th>\n",
       "      <td>0.952046</td>\n",
       "      <td>1.000000</td>\n",
       "      <td>0.000000</td>\n",
       "      <td>0.000000</td>\n",
       "    </tr>\n",
       "    <tr>\n",
       "      <th>0.4</th>\n",
       "      <td>0.979669</td>\n",
       "      <td>0.901663</td>\n",
       "      <td>0.698765</td>\n",
       "      <td>0.098337</td>\n",
       "    </tr>\n",
       "    <tr>\n",
       "      <th>0.5</th>\n",
       "      <td>0.993693</td>\n",
       "      <td>0.635183</td>\n",
       "      <td>0.879534</td>\n",
       "      <td>0.364817</td>\n",
       "    </tr>\n",
       "    <tr>\n",
       "      <th>0.6</th>\n",
       "      <td>0.997849</td>\n",
       "      <td>0.282263</td>\n",
       "      <td>0.934032</td>\n",
       "      <td>0.717737</td>\n",
       "    </tr>\n",
       "    <tr>\n",
       "      <th>0.7</th>\n",
       "      <td>1.000000</td>\n",
       "      <td>0.081826</td>\n",
       "      <td>0.947772</td>\n",
       "      <td>0.918174</td>\n",
       "    </tr>\n",
       "    <tr>\n",
       "      <th>0.8</th>\n",
       "      <td>1.000000</td>\n",
       "      <td>0.016147</td>\n",
       "      <td>0.951259</td>\n",
       "      <td>0.983853</td>\n",
       "    </tr>\n",
       "    <tr>\n",
       "      <th>0.9</th>\n",
       "      <td>1.000000</td>\n",
       "      <td>0.001093</td>\n",
       "      <td>0.951993</td>\n",
       "      <td>0.998907</td>\n",
       "    </tr>\n",
       "  </tbody>\n",
       "</table>\n",
       "</div>"
      ],
      "text/plain": [
       "           confidence_accuracy  confidence_raito  drop_accuracy  drop_ratio\n",
       "threshold                                                                  \n",
       "0.0                   0.952046          1.000000       0.000000    0.000000\n",
       "0.4                   0.979669          0.901663       0.698765    0.098337\n",
       "0.5                   0.993693          0.635183       0.879534    0.364817\n",
       "0.6                   0.997849          0.282263       0.934032    0.717737\n",
       "0.7                   1.000000          0.081826       0.947772    0.918174\n",
       "0.8                   1.000000          0.016147       0.951259    0.983853\n",
       "0.9                   1.000000          0.001093       0.951993    0.998907"
      ]
     },
     "execution_count": 25,
     "metadata": {},
     "output_type": "execute_result"
    }
   ],
   "source": [
    "thresholds = [0, 0.4, 0.5, 0.6, 0.7, 0.8, 0.9]\n",
    "results = []\n",
    "for threshold in thresholds:\n",
    "    df_confidence = df[df['predict_probability'] > threshold]\n",
    "    df_drop = df.loc[list(set(df.index) - set(df_confidence.index)),:]\n",
    "    results.append({\n",
    "        'threshold': threshold,\n",
    "        'confidence_accuracy': calc_accuracy(df_confidence),\n",
    "        'confidence_raito': len(df_confidence) / len(df),\n",
    "        # 'confidence_count': len(df_confidence),\n",
    "        'drop_accuracy': calc_accuracy(df_drop),\n",
    "        'drop_ratio': len(df_drop) / len(df),\n",
    "        })\n",
    "    df_confidence = df[df['predict_probability'] > threshold]\n",
    "    df_drop = df.loc[list(set(df.index) - set(df_confidence.index)),:]\n",
    "    cm = confusion_matrix(df_confidence['true_label'], df_confidence['predict_label'])\n",
    "    cm_df = pd.DataFrame(cm, index=LABELS[:len(cm)], columns=LABELS[:len(cm)])\n",
    "    plt.figure(figsize=(10, 10))\n",
    "    sns.heatmap(\n",
    "        cm_df,\n",
    "        annot=True,\n",
    "        fmt=\"d\",\n",
    "        linewidths=0.5,\n",
    "        cmap=\"Blues\",\n",
    "        cbar=False,\n",
    "        annot_kws={\"size\": 14},\n",
    "        square=True,\n",
    "    )\n",
    "    plt.title(f\"Confusion Matrix (threshold={threshold})\")\n",
    "    plt.ylabel(\"True label\")\n",
    "    plt.xlabel(\"Predicted label\")\n",
    "    plt.savefig(f'confusion_matrix/threshold{threshold}.png')\n",
    "    plt.close()\n",
    "results = pd.DataFrame(results).fillna(0)\n",
    "results = results.set_index('threshold')\n",
    "results"
   ]
  },
  {
   "attachments": {},
   "cell_type": "markdown",
   "metadata": {},
   "source": [
    "# process to gaussian"
   ]
  },
  {
   "cell_type": "code",
   "execution_count": 26,
   "metadata": {
    "execution": {
     "iopub.execute_input": "2023-11-01T07:37:28.429905Z",
     "iopub.status.busy": "2023-11-01T07:37:28.429756Z",
     "iopub.status.idle": "2023-11-01T07:37:28.815677Z",
     "shell.execute_reply": "2023-11-01T07:37:28.815149Z"
    }
   },
   "outputs": [
    {
     "name": "stdout",
     "output_type": "stream",
     "text": [
      "Before standardization\n",
      "std: 0.10987372546073579\n",
      "--- After standardization ---\n",
      "std: 0.9999999999999999\n"
     ]
    },
    {
     "data": {
      "text/plain": [
       "<matplotlib.legend.Legend at 0x7fd86ab34d30>"
      ]
     },
     "execution_count": 26,
     "metadata": {},
     "output_type": "execute_result"
    },
    {
     "data": {
      "image/png": "[encoded data removed]",
      "text/plain": [
       "<Figure size 640x480 with 1 Axes>"
      ]
     },
     "metadata": {},
     "output_type": "display_data"
    }
   ],
   "source": [
    "print(\"Before standardization\")\n",
    "std = df[\"predict_probability\"].std()\n",
    "print(f\"std: {std}\")\n",
    "df[\"predict_probability_gaussian\"] = df[\"predict_probability\"].apply(lambda x: x / std)\n",
    "print(\"--- After standardization ---\")\n",
    "std = df[\"predict_probability_gaussian\"].std()\n",
    "print(f\"std: {std}\")\n",
    "df.loc[df.true_label==df.predict_label, 'predict_probability_gaussian'].hist(bins=100)\n",
    "df.loc[df.true_label!=df.predict_label, 'predict_probability_gaussian'].hist(bins=100)\n",
    "plt.title('Predict Probability Distribution(gaussian)')\n",
    "plt.xlabel('Probability')\n",
    "plt.ylabel('Count')\n",
    "plt.legend(['Correct', 'Incorrect'])"
   ]
  },
  {
   "cell_type": "code",
   "execution_count": 27,
   "metadata": {
    "execution": {
     "iopub.execute_input": "2023-11-01T07:37:28.818094Z",
     "iopub.status.busy": "2023-11-01T07:37:28.817941Z",
     "iopub.status.idle": "2023-11-01T07:37:28.839992Z",
     "shell.execute_reply": "2023-11-01T07:37:28.839436Z"
    }
   },
   "outputs": [
    {
     "name": "stderr",
     "output_type": "stream",
     "text": [
      "/tmp/ipykernel_4934/3327794854.py:2: RuntimeWarning: invalid value encountered in scalar divide\n",
      "  return (df['true_label'] == df['predict_label']).sum() / len(df)\n",
      "/tmp/ipykernel_4934/3327794854.py:2: RuntimeWarning: invalid value encountered in scalar divide\n",
      "  return (df['true_label'] == df['predict_label']).sum() / len(df)\n",
      "/tmp/ipykernel_4934/3327794854.py:2: RuntimeWarning: invalid value encountered in scalar divide\n",
      "  return (df['true_label'] == df['predict_label']).sum() / len(df)\n"
     ]
    },
    {
     "data": {
      "text/html": [
       "<div>\n",
       "<style scoped>\n",
       "    .dataframe tbody tr th:only-of-type {\n",
       "        vertical-align: middle;\n",
       "    }\n",
       "\n",
       "    .dataframe tbody tr th {\n",
       "        vertical-align: top;\n",
       "    }\n",
       "\n",
       "    .dataframe thead th {\n",
       "        text-align: right;\n",
       "    }\n",
       "</style>\n",
       "<table border=\"1\" class=\"dataframe\">\n",
       "  <thead>\n",
       "    <tr style=\"text-align: right;\">\n",
       "      <th></th>\n",
       "      <th>confidence_accuracy</th>\n",
       "      <th>confidence_raito</th>\n",
       "      <th>drop_accuracy</th>\n",
       "      <th>drop_ratio</th>\n",
       "    </tr>\n",
       "    <tr>\n",
       "      <th>threshold</th>\n",
       "      <th></th>\n",
       "      <th></th>\n",
       "      <th></th>\n",
       "      <th></th>\n",
       "    </tr>\n",
       "  </thead>\n",
       "  <tbody>\n",
       "    <tr>\n",
       "      <th>0</th>\n",
       "      <td>0.952046</td>\n",
       "      <td>1.000000</td>\n",
       "      <td>0.000000</td>\n",
       "      <td>0.000000</td>\n",
       "    </tr>\n",
       "    <tr>\n",
       "      <th>6</th>\n",
       "      <td>0.998270</td>\n",
       "      <td>0.140342</td>\n",
       "      <td>0.944499</td>\n",
       "      <td>0.859658</td>\n",
       "    </tr>\n",
       "    <tr>\n",
       "      <th>8</th>\n",
       "      <td>1.000000</td>\n",
       "      <td>0.001335</td>\n",
       "      <td>0.951982</td>\n",
       "      <td>0.998665</td>\n",
       "    </tr>\n",
       "    <tr>\n",
       "      <th>9</th>\n",
       "      <td>0.000000</td>\n",
       "      <td>0.000000</td>\n",
       "      <td>0.952046</td>\n",
       "      <td>1.000000</td>\n",
       "    </tr>\n",
       "    <tr>\n",
       "      <th>10</th>\n",
       "      <td>0.000000</td>\n",
       "      <td>0.000000</td>\n",
       "      <td>0.952046</td>\n",
       "      <td>1.000000</td>\n",
       "    </tr>\n",
       "  </tbody>\n",
       "</table>\n",
       "</div>"
      ],
      "text/plain": [
       "           confidence_accuracy  confidence_raito  drop_accuracy  drop_ratio\n",
       "threshold                                                                  \n",
       "0                     0.952046          1.000000       0.000000    0.000000\n",
       "6                     0.998270          0.140342       0.944499    0.859658\n",
       "8                     1.000000          0.001335       0.951982    0.998665\n",
       "9                     0.000000          0.000000       0.952046    1.000000\n",
       "10                    0.000000          0.000000       0.952046    1.000000"
      ]
     },
     "execution_count": 27,
     "metadata": {},
     "output_type": "execute_result"
    }
   ],
   "source": [
    "thresholds = [0, 6, 8,  9, 10]\n",
    "results = []\n",
    "for threshold in thresholds:\n",
    "    df_confidence = df[df['predict_probability_gaussian'] > threshold]\n",
    "    df_drop = df.loc[list(set(df.index) - set(df_confidence.index)),:]\n",
    "    results.append({\n",
    "        'threshold': threshold,\n",
    "        'confidence_accuracy': calc_accuracy(df_confidence),\n",
    "        'confidence_raito': len(df_confidence) / len(df),\n",
    "        'drop_accuracy': calc_accuracy(df_drop),\n",
    "        'drop_ratio': len(df_drop) / len(df),\n",
    "        })\n",
    "results = pd.DataFrame(results).fillna(0)\n",
    "results = results.set_index('threshold')\n",
    "results"
   ]
  },
  {
   "attachments": {},
   "cell_type": "markdown",
   "metadata": {},
   "source": [
    "# process to torncurve"
   ]
  },
  {
   "attachments": {},
   "cell_type": "markdown",
   "metadata": {},
   "source": [
    "## 1 - (1 - x) ** 2"
   ]
  },
  {
   "cell_type": "code",
   "execution_count": 28,
   "metadata": {
    "execution": {
     "iopub.execute_input": "2023-11-01T07:37:28.842779Z",
     "iopub.status.busy": "2023-11-01T07:37:28.842619Z",
     "iopub.status.idle": "2023-11-01T07:37:29.240442Z",
     "shell.execute_reply": "2023-11-01T07:37:29.239905Z"
    }
   },
   "outputs": [
    {
     "data": {
      "text/plain": [
       "<matplotlib.legend.Legend at 0x7fd86ae061a0>"
      ]
     },
     "execution_count": 28,
     "metadata": {},
     "output_type": "execute_result"
    },
    {
     "data": {
      "image/png": "[encoded data removed]",
      "text/plain": [
       "<Figure size 640x480 with 1 Axes>"
      ]
     },
     "metadata": {},
     "output_type": "display_data"
    }
   ],
   "source": [
    "torn1_function = lambda x: 1-(1-x)**2\n",
    "df[\"predict_probability_torn1\"] = df[\"predict_probability\"].apply(torn1_function)\n",
    "df.loc[df.true_label==df.predict_label, 'predict_probability_torn1'].hist(bins=100)\n",
    "df.loc[df.true_label!=df.predict_label, 'predict_probability_torn1'].hist(bins=100)\n",
    "plt.title('Predict Probability Distribution(torn1)')\n",
    "plt.xlim(0, 1)\n",
    "plt.ylim(0, 400)\n",
    "plt.xlabel('Probability')\n",
    "plt.ylabel('Count')\n",
    "plt.legend(['Correct', 'Incorrect'])"
   ]
  },
  {
   "cell_type": "code",
   "execution_count": 29,
   "metadata": {
    "execution": {
     "iopub.execute_input": "2023-11-01T07:37:29.242619Z",
     "iopub.status.busy": "2023-11-01T07:37:29.242456Z",
     "iopub.status.idle": "2023-11-01T07:37:29.266176Z",
     "shell.execute_reply": "2023-11-01T07:37:29.265597Z"
    }
   },
   "outputs": [
    {
     "name": "stderr",
     "output_type": "stream",
     "text": [
      "/tmp/ipykernel_4934/3327794854.py:2: RuntimeWarning: invalid value encountered in scalar divide\n",
      "  return (df['true_label'] == df['predict_label']).sum() / len(df)\n"
     ]
    },
    {
     "data": {
      "text/html": [
       "<div>\n",
       "<style scoped>\n",
       "    .dataframe tbody tr th:only-of-type {\n",
       "        vertical-align: middle;\n",
       "    }\n",
       "\n",
       "    .dataframe tbody tr th {\n",
       "        vertical-align: top;\n",
       "    }\n",
       "\n",
       "    .dataframe thead th {\n",
       "        text-align: right;\n",
       "    }\n",
       "</style>\n",
       "<table border=\"1\" class=\"dataframe\">\n",
       "  <thead>\n",
       "    <tr style=\"text-align: right;\">\n",
       "      <th></th>\n",
       "      <th>confidence_accuracy</th>\n",
       "      <th>confidence_raito</th>\n",
       "      <th>drop_accuracy</th>\n",
       "      <th>drop_ratio</th>\n",
       "    </tr>\n",
       "    <tr>\n",
       "      <th>threshold</th>\n",
       "      <th></th>\n",
       "      <th></th>\n",
       "      <th></th>\n",
       "      <th></th>\n",
       "    </tr>\n",
       "  </thead>\n",
       "  <tbody>\n",
       "    <tr>\n",
       "      <th>0.0</th>\n",
       "      <td>0.952046</td>\n",
       "      <td>1.000000</td>\n",
       "      <td>0.000000</td>\n",
       "      <td>0.000000</td>\n",
       "    </tr>\n",
       "    <tr>\n",
       "      <th>0.5</th>\n",
       "      <td>0.953483</td>\n",
       "      <td>0.996965</td>\n",
       "      <td>0.480000</td>\n",
       "      <td>0.003035</td>\n",
       "    </tr>\n",
       "    <tr>\n",
       "      <th>0.6</th>\n",
       "      <td>0.970284</td>\n",
       "      <td>0.951924</td>\n",
       "      <td>0.590909</td>\n",
       "      <td>0.048076</td>\n",
       "    </tr>\n",
       "    <tr>\n",
       "      <th>0.7</th>\n",
       "      <td>0.988250</td>\n",
       "      <td>0.785237</td>\n",
       "      <td>0.819672</td>\n",
       "      <td>0.214763</td>\n",
       "    </tr>\n",
       "    <tr>\n",
       "      <th>0.8</th>\n",
       "      <td>0.997529</td>\n",
       "      <td>0.442151</td>\n",
       "      <td>0.915996</td>\n",
       "      <td>0.557849</td>\n",
       "    </tr>\n",
       "  </tbody>\n",
       "</table>\n",
       "</div>"
      ],
      "text/plain": [
       "           confidence_accuracy  confidence_raito  drop_accuracy  drop_ratio\n",
       "threshold                                                                  \n",
       "0.0                   0.952046          1.000000       0.000000    0.000000\n",
       "0.5                   0.953483          0.996965       0.480000    0.003035\n",
       "0.6                   0.970284          0.951924       0.590909    0.048076\n",
       "0.7                   0.988250          0.785237       0.819672    0.214763\n",
       "0.8                   0.997529          0.442151       0.915996    0.557849"
      ]
     },
     "execution_count": 29,
     "metadata": {},
     "output_type": "execute_result"
    }
   ],
   "source": [
    "thresholds = [0, 0.5, 0.6, 0.7, 0.8]\n",
    "results = []\n",
    "for threshold in thresholds:\n",
    "    df_confidence = df[df['predict_probability_torn1'] > threshold]\n",
    "    df_drop = df.loc[list(set(df.index) - set(df_confidence.index)),:]\n",
    "    results.append({\n",
    "        'threshold': threshold,\n",
    "        'confidence_accuracy': calc_accuracy(df_confidence),\n",
    "        'confidence_raito': len(df_confidence) / len(df),\n",
    "        'drop_accuracy': calc_accuracy(df_drop),\n",
    "        'drop_ratio': len(df_drop) / len(df),\n",
    "        })\n",
    "results = pd.DataFrame(results).fillna(0)\n",
    "results = results.set_index('threshold')\n",
    "results"
   ]
  },
  {
   "attachments": {},
   "cell_type": "markdown",
   "metadata": {},
   "source": [
    "## 1/ln(2) * ln(1+x)"
   ]
  },
  {
   "cell_type": "code",
   "execution_count": 30,
   "metadata": {
    "execution": {
     "iopub.execute_input": "2023-11-01T07:37:29.268919Z",
     "iopub.status.busy": "2023-11-01T07:37:29.268748Z",
     "iopub.status.idle": "2023-11-01T07:37:29.722194Z",
     "shell.execute_reply": "2023-11-01T07:37:29.721688Z"
    }
   },
   "outputs": [
    {
     "data": {
      "text/plain": [
       "<matplotlib.legend.Legend at 0x7fd86ae074f0>"
      ]
     },
     "execution_count": 30,
     "metadata": {},
     "output_type": "execute_result"
    },
    {
     "data": {
      "image/png": "[encoded data removed]",
      "text/plain": [
       "<Figure size 640x480 with 1 Axes>"
      ]
     },
     "metadata": {},
     "output_type": "display_data"
    }
   ],
   "source": [
    "torn2_function = lambda x: (1/np.log(2))*np.log(1+x)\n",
    "df[\"predict_probability_torn2\"] = df[\"predict_probability\"].apply(torn2_function)\n",
    "df.loc[df.true_label==df.predict_label, 'predict_probability_torn2'].hist(bins=100)\n",
    "df.loc[df.true_label!=df.predict_label, 'predict_probability_torn2'].hist(bins=100)\n",
    "plt.title('Predict Probability Distribution(torn2)')\n",
    "plt.xlim(0, 1)\n",
    "plt.ylim(0, 400)\n",
    "plt.xlabel('Probability')\n",
    "plt.ylabel('Count')\n",
    "plt.legend(['Correct', 'Incorrect'])"
   ]
  },
  {
   "cell_type": "code",
   "execution_count": 31,
   "metadata": {
    "execution": {
     "iopub.execute_input": "2023-11-01T07:37:29.724256Z",
     "iopub.status.busy": "2023-11-01T07:37:29.724102Z",
     "iopub.status.idle": "2023-11-01T07:37:29.747050Z",
     "shell.execute_reply": "2023-11-01T07:37:29.746504Z"
    }
   },
   "outputs": [
    {
     "name": "stderr",
     "output_type": "stream",
     "text": [
      "/tmp/ipykernel_4934/3327794854.py:2: RuntimeWarning: invalid value encountered in scalar divide\n",
      "  return (df['true_label'] == df['predict_label']).sum() / len(df)\n"
     ]
    },
    {
     "data": {
      "text/html": [
       "<div>\n",
       "<style scoped>\n",
       "    .dataframe tbody tr th:only-of-type {\n",
       "        vertical-align: middle;\n",
       "    }\n",
       "\n",
       "    .dataframe tbody tr th {\n",
       "        vertical-align: top;\n",
       "    }\n",
       "\n",
       "    .dataframe thead th {\n",
       "        text-align: right;\n",
       "    }\n",
       "</style>\n",
       "<table border=\"1\" class=\"dataframe\">\n",
       "  <thead>\n",
       "    <tr style=\"text-align: right;\">\n",
       "      <th></th>\n",
       "      <th>confidence_accuracy</th>\n",
       "      <th>confidence_raito</th>\n",
       "      <th>drop_accuracy</th>\n",
       "      <th>drop_ratio</th>\n",
       "    </tr>\n",
       "    <tr>\n",
       "      <th>threshold</th>\n",
       "      <th></th>\n",
       "      <th></th>\n",
       "      <th></th>\n",
       "      <th></th>\n",
       "    </tr>\n",
       "  </thead>\n",
       "  <tbody>\n",
       "    <tr>\n",
       "      <th>0.00</th>\n",
       "      <td>0.952046</td>\n",
       "      <td>1.000000</td>\n",
       "      <td>0.000000</td>\n",
       "      <td>0.000000</td>\n",
       "    </tr>\n",
       "    <tr>\n",
       "      <th>0.50</th>\n",
       "      <td>0.982720</td>\n",
       "      <td>0.878232</td>\n",
       "      <td>0.730808</td>\n",
       "      <td>0.121768</td>\n",
       "    </tr>\n",
       "    <tr>\n",
       "      <th>0.55</th>\n",
       "      <td>0.990131</td>\n",
       "      <td>0.750395</td>\n",
       "      <td>0.837549</td>\n",
       "      <td>0.249605</td>\n",
       "    </tr>\n",
       "    <tr>\n",
       "      <th>0.60</th>\n",
       "      <td>0.995197</td>\n",
       "      <td>0.581401</td>\n",
       "      <td>0.892111</td>\n",
       "      <td>0.418599</td>\n",
       "    </tr>\n",
       "    <tr>\n",
       "      <th>0.65</th>\n",
       "      <td>0.997784</td>\n",
       "      <td>0.383513</td>\n",
       "      <td>0.923592</td>\n",
       "      <td>0.616487</td>\n",
       "    </tr>\n",
       "  </tbody>\n",
       "</table>\n",
       "</div>"
      ],
      "text/plain": [
       "           confidence_accuracy  confidence_raito  drop_accuracy  drop_ratio\n",
       "threshold                                                                  \n",
       "0.00                  0.952046          1.000000       0.000000    0.000000\n",
       "0.50                  0.982720          0.878232       0.730808    0.121768\n",
       "0.55                  0.990131          0.750395       0.837549    0.249605\n",
       "0.60                  0.995197          0.581401       0.892111    0.418599\n",
       "0.65                  0.997784          0.383513       0.923592    0.616487"
      ]
     },
     "execution_count": 31,
     "metadata": {},
     "output_type": "execute_result"
    }
   ],
   "source": [
    "thresholds = [0, 0.5, 0.55, 0.6, 0.65]\n",
    "results = []\n",
    "for threshold in thresholds:\n",
    "    df_confidence = df[df['predict_probability_torn2'] > threshold]\n",
    "    df_drop = df.loc[list(set(df.index) - set(df_confidence.index)),:]\n",
    "    results.append({\n",
    "        'threshold': threshold,\n",
    "        'confidence_accuracy': calc_accuracy(df_confidence),\n",
    "        'confidence_raito': len(df_confidence) / len(df),\n",
    "        'drop_accuracy': calc_accuracy(df_drop),\n",
    "        'drop_ratio': len(df_drop) / len(df),\n",
    "        })\n",
    "results = pd.DataFrame(results).fillna(0)\n",
    "results = results.set_index('threshold')\n",
    "results"
   ]
  },
  {
   "cell_type": "code",
   "execution_count": 32,
   "metadata": {
    "execution": {
     "iopub.execute_input": "2023-11-01T07:37:29.749595Z",
     "iopub.status.busy": "2023-11-01T07:37:29.749429Z",
     "iopub.status.idle": "2023-11-01T07:37:29.899414Z",
     "shell.execute_reply": "2023-11-01T07:37:29.898875Z"
    }
   },
   "outputs": [
    {
     "name": "stderr",
     "output_type": "stream",
     "text": [
      "/home/nakagawaren/.local/lib/python3.10/site-packages/sklearn/metrics/_ranking.py:1124: UndefinedMetricWarning: No negative samples in y_true, false positive value should be meaningless\n",
      "  warnings.warn(\n"
     ]
    },
    {
     "data": {
      "image/png": "[encoded data removed]",
      "text/plain": [
       "<Figure size 640x480 with 1 Axes>"
      ]
     },
     "metadata": {},
     "output_type": "display_data"
    }
   ],
   "source": [
    "from sklearn.metrics import roc_curve\n",
    "\n",
    "LABELS = [\"Downstairs\", \"Jogging\", \"Sitting\", \"Standing\", \"Upstairs\", \"Walking\"]\n",
    "for label in LABELS:\n",
    "    fpr, tpr, thresholds = roc_curve(df.loc[df.predict_label==label, 'true_label'], df.loc[df.predict_label==label, \"predict_probability\"], pos_label=label)\n",
    "    plt.plot(fpr, tpr, label=label)\n",
    "plt.xlabel('False Positive Rate')\n",
    "plt.ylabel('True Positive Rate')\n",
    "plt.title('ROC Curve')\n",
    "plt.legend()\n",
    "plt.show()"
   ]
  }
 ],
 "metadata": {
  "kernelspec": {
   "display_name": "Python 3",
   "language": "python",
   "name": "python3"
  },
  "language_info": {
   "codemirror_mode": {
    "name": "ipython",
    "version": 3
   },
   "file_extension": ".py",
   "mimetype": "text/x-python",
   "name": "python",
   "nbconvert_exporter": "python",
   "pygments_lexer": "ipython3",
   "version": "3.10.12"
  }
 },
 "nbformat": 4,
 "nbformat_minor": 2
}
