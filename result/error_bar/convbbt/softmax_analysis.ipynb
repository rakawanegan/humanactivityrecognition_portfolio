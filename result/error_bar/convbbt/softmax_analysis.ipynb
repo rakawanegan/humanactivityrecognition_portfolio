{
 "cells": [
  {
   "cell_type": "code",
   "execution_count": 17,
   "metadata": {
    "execution": {
     "iopub.execute_input": "2023-11-01T07:37:22.846703Z",
     "iopub.status.busy": "2023-11-01T07:37:22.845832Z",
     "iopub.status.idle": "2023-11-01T07:37:23.920616Z",
     "shell.execute_reply": "2023-11-01T07:37:23.919967Z"
    }
   },
   "outputs": [],
   "source": [
    "import numpy as np\n",
    "from matplotlib import pyplot as plt\n",
    "import pandas as pd\n",
    "import seaborn as sns\n",
    "from sklearn.metrics import confusion_matrix"
   ]
  },
  {
   "cell_type": "code",
   "execution_count": 18,
   "metadata": {
    "execution": {
     "iopub.execute_input": "2023-11-01T07:37:23.923021Z",
     "iopub.status.busy": "2023-11-01T07:37:23.922710Z",
     "iopub.status.idle": "2023-11-01T07:37:23.925715Z",
     "shell.execute_reply": "2023-11-01T07:37:23.925357Z"
    }
   },
   "outputs": [],
   "source": [
    "def calc_accuracy(df):\n",
    "    return (df['true_label'] == df['predict_label']).sum() / len(df)"
   ]
  },
  {
   "attachments": {},
   "cell_type": "markdown",
   "metadata": {},
   "source": [
    "# Prediction Import"
   ]
  },
  {
   "cell_type": "code",
   "execution_count": 19,
   "metadata": {
    "execution": {
     "iopub.execute_input": "2023-11-01T07:37:23.928230Z",
     "iopub.status.busy": "2023-11-01T07:37:23.927694Z",
     "iopub.status.idle": "2023-11-01T07:37:23.948848Z",
     "shell.execute_reply": "2023-11-01T07:37:23.948365Z"
    }
   },
   "outputs": [
    {
     "data": {
      "text/html": [
       "<div>\n",
       "<style scoped>\n",
       "    .dataframe tbody tr th:only-of-type {\n",
       "        vertical-align: middle;\n",
       "    }\n",
       "\n",
       "    .dataframe tbody tr th {\n",
       "        vertical-align: top;\n",
       "    }\n",
       "\n",
       "    .dataframe thead th {\n",
       "        text-align: right;\n",
       "    }\n",
       "</style>\n",
       "<table border=\"1\" class=\"dataframe\">\n",
       "  <thead>\n",
       "    <tr style=\"text-align: right;\">\n",
       "      <th></th>\n",
       "      <th>Downstairs</th>\n",
       "      <th>Jogging</th>\n",
       "      <th>Sitting</th>\n",
       "      <th>Standing</th>\n",
       "      <th>Upstairs</th>\n",
       "      <th>Walking</th>\n",
       "    </tr>\n",
       "  </thead>\n",
       "  <tbody>\n",
       "    <tr>\n",
       "      <th>0</th>\n",
       "      <td>2.667278</td>\n",
       "      <td>-6.223639</td>\n",
       "      <td>-10.455910</td>\n",
       "      <td>-7.705863</td>\n",
       "      <td>3.942457</td>\n",
       "      <td>5.992100</td>\n",
       "    </tr>\n",
       "    <tr>\n",
       "      <th>1</th>\n",
       "      <td>-3.501386</td>\n",
       "      <td>-5.147262</td>\n",
       "      <td>15.075128</td>\n",
       "      <td>7.256400</td>\n",
       "      <td>-0.475929</td>\n",
       "      <td>-2.861587</td>\n",
       "    </tr>\n",
       "    <tr>\n",
       "      <th>2</th>\n",
       "      <td>3.822823</td>\n",
       "      <td>-9.720933</td>\n",
       "      <td>-9.241361</td>\n",
       "      <td>-5.683146</td>\n",
       "      <td>6.891798</td>\n",
       "      <td>3.425873</td>\n",
       "    </tr>\n",
       "    <tr>\n",
       "      <th>3</th>\n",
       "      <td>3.279096</td>\n",
       "      <td>11.735168</td>\n",
       "      <td>-4.228587</td>\n",
       "      <td>-1.351361</td>\n",
       "      <td>-4.169562</td>\n",
       "      <td>-4.644408</td>\n",
       "    </tr>\n",
       "    <tr>\n",
       "      <th>4</th>\n",
       "      <td>-2.105618</td>\n",
       "      <td>-2.101908</td>\n",
       "      <td>0.199927</td>\n",
       "      <td>13.780579</td>\n",
       "      <td>-3.819936</td>\n",
       "      <td>-1.524870</td>\n",
       "    </tr>\n",
       "  </tbody>\n",
       "</table>\n",
       "</div>"
      ],
      "text/plain": [
       "   Downstairs    Jogging    Sitting   Standing  Upstairs   Walking\n",
       "0    2.667278  -6.223639 -10.455910  -7.705863  3.942457  5.992100\n",
       "1   -3.501386  -5.147262  15.075128   7.256400 -0.475929 -2.861587\n",
       "2    3.822823  -9.720933  -9.241361  -5.683146  6.891798  3.425873\n",
       "3    3.279096  11.735168  -4.228587  -1.351361 -4.169562 -4.644408\n",
       "4   -2.105618  -2.101908   0.199927  13.780579 -3.819936 -1.524870"
      ]
     },
     "execution_count": 19,
     "metadata": {},
     "output_type": "execute_result"
    }
   ],
   "source": [
    "LABELS = [\"Downstairs\", \"Jogging\", \"Sitting\", \"Standing\", \"Upstairs\", \"Walking\"]\n",
    "df = pd.read_csv('predict.csv', index_col=0)\n",
    "predict = df.drop('true', axis=1)\n",
    "true = df['true']\n",
    "del df\n",
    "true_encoded = true.map(lambda x: LABELS[x])\n",
    "true_encoded.name = 'true_label'\n",
    "predict.columns = LABELS\n",
    "predict.head()"
   ]
  },
  {
   "cell_type": "code",
   "execution_count": 20,
   "metadata": {},
   "outputs": [
    {
     "data": {
      "text/plain": [
       "<Axes: >"
      ]
     },
     "execution_count": 20,
     "metadata": {},
     "output_type": "execute_result"
    },
    {
     "data": {
      "image/png": "[encoded data removed]",
      "text/plain": [
       "<Figure size 640x480 with 1 Axes>"
      ]
     },
     "metadata": {},
     "output_type": "display_data"
    }
   ],
   "source": [
    "predict.max(axis=1).hist(bins=100)"
   ]
  },
  {
   "cell_type": "code",
   "execution_count": 21,
   "metadata": {
    "execution": {
     "iopub.execute_input": "2023-11-01T07:37:23.950845Z",
     "iopub.status.busy": "2023-11-01T07:37:23.950697Z",
     "iopub.status.idle": "2023-11-01T07:37:27.172907Z",
     "shell.execute_reply": "2023-11-01T07:37:27.172314Z"
    }
   },
   "outputs": [],
   "source": [
    "# softmax\n",
    "predict = predict.apply(lambda x: np.exp(x-x.max()) / np.exp(x-x.max()).sum(), axis=1)\n",
    "\n",
    "predict_label = predict.idxmax(axis=1)\n",
    "predict_probability = predict.max(axis=1)\n",
    "predict_probability.name = 'predict_probability'\n",
    "predict_label.name = 'predict_label'\n",
    "# predict.head()\n",
    "# true.head()\n",
    "# true_encoded.head()"
   ]
  },
  {
   "cell_type": "code",
   "execution_count": 22,
   "metadata": {
    "execution": {
     "iopub.execute_input": "2023-11-01T07:37:27.175672Z",
     "iopub.status.busy": "2023-11-01T07:37:27.175508Z",
     "iopub.status.idle": "2023-11-01T07:37:27.185728Z",
     "shell.execute_reply": "2023-11-01T07:37:27.185238Z"
    }
   },
   "outputs": [
    {
     "data": {
      "text/html": [
       "<div>\n",
       "<style scoped>\n",
       "    .dataframe tbody tr th:only-of-type {\n",
       "        vertical-align: middle;\n",
       "    }\n",
       "\n",
       "    .dataframe tbody tr th {\n",
       "        vertical-align: top;\n",
       "    }\n",
       "\n",
       "    .dataframe thead th {\n",
       "        text-align: right;\n",
       "    }\n",
       "</style>\n",
       "<table border=\"1\" class=\"dataframe\">\n",
       "  <thead>\n",
       "    <tr style=\"text-align: right;\">\n",
       "      <th></th>\n",
       "      <th>Downstairs</th>\n",
       "      <th>Jogging</th>\n",
       "      <th>Sitting</th>\n",
       "      <th>Standing</th>\n",
       "      <th>Upstairs</th>\n",
       "      <th>Walking</th>\n",
       "      <th>predict_probability</th>\n",
       "      <th>true</th>\n",
       "      <th>predict_label</th>\n",
       "      <th>true_label</th>\n",
       "    </tr>\n",
       "  </thead>\n",
       "  <tbody>\n",
       "    <tr>\n",
       "      <th>0</th>\n",
       "      <td>3.088938e-02</td>\n",
       "      <td>4.251410e-06</td>\n",
       "      <td>6.172787e-08</td>\n",
       "      <td>9.656318e-07</td>\n",
       "      <td>1.105637e-01</td>\n",
       "      <td>8.585417e-01</td>\n",
       "      <td>0.858542</td>\n",
       "      <td>5</td>\n",
       "      <td>Walking</td>\n",
       "      <td>Walking</td>\n",
       "    </tr>\n",
       "    <tr>\n",
       "      <th>1</th>\n",
       "      <td>8.553575e-09</td>\n",
       "      <td>1.649503e-09</td>\n",
       "      <td>9.995978e-01</td>\n",
       "      <td>4.019711e-04</td>\n",
       "      <td>1.762329e-07</td>\n",
       "      <td>1.621844e-08</td>\n",
       "      <td>0.999598</td>\n",
       "      <td>2</td>\n",
       "      <td>Sitting</td>\n",
       "      <td>Sitting</td>\n",
       "    </tr>\n",
       "    <tr>\n",
       "      <th>2</th>\n",
       "      <td>4.311780e-02</td>\n",
       "      <td>5.658200e-08</td>\n",
       "      <td>9.140159e-08</td>\n",
       "      <td>3.208242e-06</td>\n",
       "      <td>9.278878e-01</td>\n",
       "      <td>2.899103e-02</td>\n",
       "      <td>0.927888</td>\n",
       "      <td>4</td>\n",
       "      <td>Upstairs</td>\n",
       "      <td>Upstairs</td>\n",
       "    </tr>\n",
       "    <tr>\n",
       "      <th>3</th>\n",
       "      <td>2.125599e-04</td>\n",
       "      <td>9.997851e-01</td>\n",
       "      <td>1.166638e-07</td>\n",
       "      <td>2.072522e-06</td>\n",
       "      <td>1.237571e-07</td>\n",
       "      <td>7.697457e-08</td>\n",
       "      <td>0.999785</td>\n",
       "      <td>1</td>\n",
       "      <td>Jogging</td>\n",
       "      <td>Jogging</td>\n",
       "    </tr>\n",
       "    <tr>\n",
       "      <th>4</th>\n",
       "      <td>1.260989e-07</td>\n",
       "      <td>1.265676e-07</td>\n",
       "      <td>1.264727e-06</td>\n",
       "      <td>9.999982e-01</td>\n",
       "      <td>2.270872e-08</td>\n",
       "      <td>2.253861e-07</td>\n",
       "      <td>0.999998</td>\n",
       "      <td>3</td>\n",
       "      <td>Standing</td>\n",
       "      <td>Standing</td>\n",
       "    </tr>\n",
       "    <tr>\n",
       "      <th>5</th>\n",
       "      <td>5.681119e-08</td>\n",
       "      <td>2.745342e-10</td>\n",
       "      <td>1.351457e-10</td>\n",
       "      <td>1.594039e-09</td>\n",
       "      <td>1.670191e-06</td>\n",
       "      <td>9.999983e-01</td>\n",
       "      <td>0.999998</td>\n",
       "      <td>5</td>\n",
       "      <td>Walking</td>\n",
       "      <td>Walking</td>\n",
       "    </tr>\n",
       "    <tr>\n",
       "      <th>6</th>\n",
       "      <td>9.994894e-01</td>\n",
       "      <td>1.882594e-08</td>\n",
       "      <td>7.075560e-09</td>\n",
       "      <td>1.113449e-07</td>\n",
       "      <td>5.091837e-04</td>\n",
       "      <td>1.320373e-06</td>\n",
       "      <td>0.999489</td>\n",
       "      <td>0</td>\n",
       "      <td>Downstairs</td>\n",
       "      <td>Downstairs</td>\n",
       "    </tr>\n",
       "    <tr>\n",
       "      <th>7</th>\n",
       "      <td>9.920775e-01</td>\n",
       "      <td>3.448274e-08</td>\n",
       "      <td>1.554313e-06</td>\n",
       "      <td>2.307172e-06</td>\n",
       "      <td>1.698901e-03</td>\n",
       "      <td>6.219663e-03</td>\n",
       "      <td>0.992078</td>\n",
       "      <td>0</td>\n",
       "      <td>Downstairs</td>\n",
       "      <td>Downstairs</td>\n",
       "    </tr>\n",
       "    <tr>\n",
       "      <th>8</th>\n",
       "      <td>1.318369e-08</td>\n",
       "      <td>9.999999e-01</td>\n",
       "      <td>5.376184e-08</td>\n",
       "      <td>3.254347e-09</td>\n",
       "      <td>3.138519e-10</td>\n",
       "      <td>1.247143e-08</td>\n",
       "      <td>1.000000</td>\n",
       "      <td>1</td>\n",
       "      <td>Jogging</td>\n",
       "      <td>Jogging</td>\n",
       "    </tr>\n",
       "    <tr>\n",
       "      <th>9</th>\n",
       "      <td>7.335290e-06</td>\n",
       "      <td>2.056650e-09</td>\n",
       "      <td>4.672415e-10</td>\n",
       "      <td>1.345624e-08</td>\n",
       "      <td>5.923058e-07</td>\n",
       "      <td>9.999921e-01</td>\n",
       "      <td>0.999992</td>\n",
       "      <td>5</td>\n",
       "      <td>Walking</td>\n",
       "      <td>Walking</td>\n",
       "    </tr>\n",
       "  </tbody>\n",
       "</table>\n",
       "</div>"
      ],
      "text/plain": [
       "     Downstairs       Jogging       Sitting      Standing      Upstairs  \\\n",
       "0  3.088938e-02  4.251410e-06  6.172787e-08  9.656318e-07  1.105637e-01   \n",
       "1  8.553575e-09  1.649503e-09  9.995978e-01  4.019711e-04  1.762329e-07   \n",
       "2  4.311780e-02  5.658200e-08  9.140159e-08  3.208242e-06  9.278878e-01   \n",
       "3  2.125599e-04  9.997851e-01  1.166638e-07  2.072522e-06  1.237571e-07   \n",
       "4  1.260989e-07  1.265676e-07  1.264727e-06  9.999982e-01  2.270872e-08   \n",
       "5  5.681119e-08  2.745342e-10  1.351457e-10  1.594039e-09  1.670191e-06   \n",
       "6  9.994894e-01  1.882594e-08  7.075560e-09  1.113449e-07  5.091837e-04   \n",
       "7  9.920775e-01  3.448274e-08  1.554313e-06  2.307172e-06  1.698901e-03   \n",
       "8  1.318369e-08  9.999999e-01  5.376184e-08  3.254347e-09  3.138519e-10   \n",
       "9  7.335290e-06  2.056650e-09  4.672415e-10  1.345624e-08  5.923058e-07   \n",
       "\n",
       "        Walking  predict_probability  true predict_label  true_label  \n",
       "0  8.585417e-01             0.858542     5       Walking     Walking  \n",
       "1  1.621844e-08             0.999598     2       Sitting     Sitting  \n",
       "2  2.899103e-02             0.927888     4      Upstairs    Upstairs  \n",
       "3  7.697457e-08             0.999785     1       Jogging     Jogging  \n",
       "4  2.253861e-07             0.999998     3      Standing    Standing  \n",
       "5  9.999983e-01             0.999998     5       Walking     Walking  \n",
       "6  1.320373e-06             0.999489     0    Downstairs  Downstairs  \n",
       "7  6.219663e-03             0.992078     0    Downstairs  Downstairs  \n",
       "8  1.247143e-08             1.000000     1       Jogging     Jogging  \n",
       "9  9.999921e-01             0.999992     5       Walking     Walking  "
      ]
     },
     "execution_count": 22,
     "metadata": {},
     "output_type": "execute_result"
    }
   ],
   "source": [
    "df = pd.concat([\n",
    "            predict,\n",
    "            predict_probability,\n",
    "            true,\n",
    "            predict_label,\n",
    "            true_encoded\n",
    "        ], axis=1)\n",
    "df.head(10)"
   ]
  },
  {
   "cell_type": "code",
   "execution_count": 23,
   "metadata": {
    "execution": {
     "iopub.execute_input": "2023-11-01T07:37:27.187814Z",
     "iopub.status.busy": "2023-11-01T07:37:27.187661Z",
     "iopub.status.idle": "2023-11-01T07:37:27.592427Z",
     "shell.execute_reply": "2023-11-01T07:37:27.591915Z"
    }
   },
   "outputs": [
    {
     "name": "stdout",
     "output_type": "stream",
     "text": [
      "Accuracy:  0.9520456476872647\n"
     ]
    },
    {
     "data": {
      "text/plain": [
       "<matplotlib.legend.Legend at 0x7f5c46af4340>"
      ]
     },
     "execution_count": 23,
     "metadata": {},
     "output_type": "execute_result"
    },
    {
     "data": {
      "image/png": "[encoded data removed]",
      "text/plain": [
       "<Figure size 640x480 with 1 Axes>"
      ]
     },
     "metadata": {},
     "output_type": "display_data"
    }
   ],
   "source": [
    "print('Accuracy: ', calc_accuracy(df))\n",
    "# statival analysis\n",
    "df.loc[df.true_label==df.predict_label, 'predict_probability'].hist(bins=100)\n",
    "df.loc[df.true_label!=df.predict_label, 'predict_probability'].hist(bins=100)\n",
    "plt.title('Predict Probability Distribution')\n",
    "plt.xlim(0, 1)\n",
    "plt.ylim(0, 400)\n",
    "plt.xlabel('Probability')\n",
    "plt.ylabel('Count')\n",
    "plt.legend(['Correct', 'Incorrect'])"
   ]
  },
  {
   "cell_type": "code",
   "execution_count": 24,
   "metadata": {
    "execution": {
     "iopub.execute_input": "2023-11-01T07:37:27.594612Z",
     "iopub.status.busy": "2023-11-01T07:37:27.594390Z",
     "iopub.status.idle": "2023-11-01T07:37:27.599949Z",
     "shell.execute_reply": "2023-11-01T07:37:27.599555Z"
    }
   },
   "outputs": [
    {
     "data": {
      "text/plain": [
       "mean      0.983978\n",
       "std       0.065686\n",
       "min       0.362225\n",
       "max       1.000000\n",
       "median    0.999995\n",
       "Name: predict_probability, dtype: float64"
      ]
     },
     "execution_count": 24,
     "metadata": {},
     "output_type": "execute_result"
    }
   ],
   "source": [
    "df['predict_probability'].agg(['mean', 'std', 'min', 'max', 'median'])"
   ]
  },
  {
   "cell_type": "code",
   "execution_count": 25,
   "metadata": {
    "execution": {
     "iopub.execute_input": "2023-11-01T07:37:27.602270Z",
     "iopub.status.busy": "2023-11-01T07:37:27.602121Z",
     "iopub.status.idle": "2023-11-01T07:37:28.427779Z",
     "shell.execute_reply": "2023-11-01T07:37:28.427274Z"
    }
   },
   "outputs": [
    {
     "name": "stderr",
     "output_type": "stream",
     "text": [
      "/tmp/ipykernel_7323/3327794854.py:2: RuntimeWarning: invalid value encountered in scalar divide\n",
      "  return (df['true_label'] == df['predict_label']).sum() / len(df)\n"
     ]
    },
    {
     "data": {
      "text/html": [
       "<div>\n",
       "<style scoped>\n",
       "    .dataframe tbody tr th:only-of-type {\n",
       "        vertical-align: middle;\n",
       "    }\n",
       "\n",
       "    .dataframe tbody tr th {\n",
       "        vertical-align: top;\n",
       "    }\n",
       "\n",
       "    .dataframe thead th {\n",
       "        text-align: right;\n",
       "    }\n",
       "</style>\n",
       "<table border=\"1\" class=\"dataframe\">\n",
       "  <thead>\n",
       "    <tr style=\"text-align: right;\">\n",
       "      <th></th>\n",
       "      <th>confidence_accuracy</th>\n",
       "      <th>confidence_raito</th>\n",
       "      <th>drop_accuracy</th>\n",
       "      <th>drop_ratio</th>\n",
       "    </tr>\n",
       "    <tr>\n",
       "      <th>threshold</th>\n",
       "      <th></th>\n",
       "      <th></th>\n",
       "      <th></th>\n",
       "      <th></th>\n",
       "    </tr>\n",
       "  </thead>\n",
       "  <tbody>\n",
       "    <tr>\n",
       "      <th>0.0</th>\n",
       "      <td>0.952046</td>\n",
       "      <td>1.000000</td>\n",
       "      <td>0.000000</td>\n",
       "      <td>0.000000</td>\n",
       "    </tr>\n",
       "    <tr>\n",
       "      <th>0.4</th>\n",
       "      <td>0.952161</td>\n",
       "      <td>0.999879</td>\n",
       "      <td>0.000000</td>\n",
       "      <td>0.000121</td>\n",
       "    </tr>\n",
       "    <tr>\n",
       "      <th>0.5</th>\n",
       "      <td>0.952259</td>\n",
       "      <td>0.999393</td>\n",
       "      <td>0.600000</td>\n",
       "      <td>0.000607</td>\n",
       "    </tr>\n",
       "    <tr>\n",
       "      <th>0.6</th>\n",
       "      <td>0.957097</td>\n",
       "      <td>0.990409</td>\n",
       "      <td>0.430380</td>\n",
       "      <td>0.009591</td>\n",
       "    </tr>\n",
       "    <tr>\n",
       "      <th>0.7</th>\n",
       "      <td>0.961967</td>\n",
       "      <td>0.979968</td>\n",
       "      <td>0.466667</td>\n",
       "      <td>0.020032</td>\n",
       "    </tr>\n",
       "    <tr>\n",
       "      <th>0.8</th>\n",
       "      <td>0.966621</td>\n",
       "      <td>0.967464</td>\n",
       "      <td>0.518657</td>\n",
       "      <td>0.032536</td>\n",
       "    </tr>\n",
       "    <tr>\n",
       "      <th>0.9</th>\n",
       "      <td>0.973311</td>\n",
       "      <td>0.950710</td>\n",
       "      <td>0.541872</td>\n",
       "      <td>0.049290</td>\n",
       "    </tr>\n",
       "  </tbody>\n",
       "</table>\n",
       "</div>"
      ],
      "text/plain": [
       "           confidence_accuracy  confidence_raito  drop_accuracy  drop_ratio\n",
       "threshold                                                                  \n",
       "0.0                   0.952046          1.000000       0.000000    0.000000\n",
       "0.4                   0.952161          0.999879       0.000000    0.000121\n",
       "0.5                   0.952259          0.999393       0.600000    0.000607\n",
       "0.6                   0.957097          0.990409       0.430380    0.009591\n",
       "0.7                   0.961967          0.979968       0.466667    0.020032\n",
       "0.8                   0.966621          0.967464       0.518657    0.032536\n",
       "0.9                   0.973311          0.950710       0.541872    0.049290"
      ]
     },
     "execution_count": 25,
     "metadata": {},
     "output_type": "execute_result"
    }
   ],
   "source": [
    "thresholds = [0, 0.4, 0.5, 0.6, 0.7, 0.8, 0.9]\n",
    "results = []\n",
    "for threshold in thresholds:\n",
    "    df_confidence = df[df['predict_probability'] > threshold]\n",
    "    df_drop = df.loc[list(set(df.index) - set(df_confidence.index)),:]\n",
    "    results.append({\n",
    "        'threshold': threshold,\n",
    "        'confidence_accuracy': calc_accuracy(df_confidence),\n",
    "        'confidence_raito': len(df_confidence) / len(df),\n",
    "        # 'confidence_count': len(df_confidence),\n",
    "        'drop_accuracy': calc_accuracy(df_drop),\n",
    "        'drop_ratio': len(df_drop) / len(df),\n",
    "        })\n",
    "    df_confidence = df[df['predict_probability'] > threshold]\n",
    "    df_drop = df.loc[list(set(df.index) - set(df_confidence.index)),:]\n",
    "    cm = confusion_matrix(df_confidence['true_label'], df_confidence['predict_label'])\n",
    "    cm_df = pd.DataFrame(cm, index=LABELS[:len(cm)], columns=LABELS[:len(cm)])\n",
    "    plt.figure(figsize=(10, 10))\n",
    "    sns.heatmap(\n",
    "        cm_df,\n",
    "        annot=True,\n",
    "        fmt=\"d\",\n",
    "        linewidths=0.5,\n",
    "        cmap=\"Blues\",\n",
    "        cbar=False,\n",
    "        annot_kws={\"size\": 14},\n",
    "        square=True,\n",
    "    )\n",
    "    plt.title(f\"Confusion Matrix (threshold={threshold})\")\n",
    "    plt.ylabel(\"True label\")\n",
    "    plt.xlabel(\"Predicted label\")\n",
    "    plt.savefig(f'confusion_matrix/threshold{threshold}.png')\n",
    "    plt.close()\n",
    "results = pd.DataFrame(results).fillna(0)\n",
    "results = results.set_index('threshold')\n",
    "results"
   ]
  },
  {
   "attachments": {},
   "cell_type": "markdown",
   "metadata": {},
   "source": [
    "# process to gaussian"
   ]
  },
  {
   "cell_type": "code",
   "execution_count": 26,
   "metadata": {
    "execution": {
     "iopub.execute_input": "2023-11-01T07:37:28.429905Z",
     "iopub.status.busy": "2023-11-01T07:37:28.429756Z",
     "iopub.status.idle": "2023-11-01T07:37:28.815677Z",
     "shell.execute_reply": "2023-11-01T07:37:28.815149Z"
    }
   },
   "outputs": [
    {
     "name": "stdout",
     "output_type": "stream",
     "text": [
      "Before standardization\n",
      "std: 0.06568553328707862\n",
      "--- After standardization ---\n",
      "std: 0.9999999999999999\n"
     ]
    },
    {
     "data": {
      "text/plain": [
       "<matplotlib.legend.Legend at 0x7f5c479115a0>"
      ]
     },
     "execution_count": 26,
     "metadata": {},
     "output_type": "execute_result"
    },
    {
     "data": {
      "image/png": "[encoded data removed]",
      "text/plain": [
       "<Figure size 640x480 with 1 Axes>"
      ]
     },
     "metadata": {},
     "output_type": "display_data"
    }
   ],
   "source": [
    "print(\"Before standardization\")\n",
    "std = df[\"predict_probability\"].std()\n",
    "print(f\"std: {std}\")\n",
    "df[\"predict_probability_gaussian\"] = df[\"predict_probability\"].apply(lambda x: x / std)\n",
    "print(\"--- After standardization ---\")\n",
    "std = df[\"predict_probability_gaussian\"].std()\n",
    "print(f\"std: {std}\")\n",
    "df.loc[df.true_label==df.predict_label, 'predict_probability_gaussian'].hist(bins=100)\n",
    "df.loc[df.true_label!=df.predict_label, 'predict_probability_gaussian'].hist(bins=100)\n",
    "plt.title('Predict Probability Distribution(gaussian)')\n",
    "plt.xlabel('Probability')\n",
    "plt.ylabel('Count')\n",
    "plt.legend(['Correct', 'Incorrect'])"
   ]
  },
  {
   "cell_type": "code",
   "execution_count": 27,
   "metadata": {
    "execution": {
     "iopub.execute_input": "2023-11-01T07:37:28.818094Z",
     "iopub.status.busy": "2023-11-01T07:37:28.817941Z",
     "iopub.status.idle": "2023-11-01T07:37:28.839992Z",
     "shell.execute_reply": "2023-11-01T07:37:28.839436Z"
    }
   },
   "outputs": [
    {
     "name": "stderr",
     "output_type": "stream",
     "text": [
      "/tmp/ipykernel_7323/3327794854.py:2: RuntimeWarning: invalid value encountered in scalar divide\n",
      "  return (df['true_label'] == df['predict_label']).sum() / len(df)\n"
     ]
    },
    {
     "data": {
      "text/html": [
       "<div>\n",
       "<style scoped>\n",
       "    .dataframe tbody tr th:only-of-type {\n",
       "        vertical-align: middle;\n",
       "    }\n",
       "\n",
       "    .dataframe tbody tr th {\n",
       "        vertical-align: top;\n",
       "    }\n",
       "\n",
       "    .dataframe thead th {\n",
       "        text-align: right;\n",
       "    }\n",
       "</style>\n",
       "<table border=\"1\" class=\"dataframe\">\n",
       "  <thead>\n",
       "    <tr style=\"text-align: right;\">\n",
       "      <th></th>\n",
       "      <th>confidence_accuracy</th>\n",
       "      <th>confidence_raito</th>\n",
       "      <th>drop_accuracy</th>\n",
       "      <th>drop_ratio</th>\n",
       "    </tr>\n",
       "    <tr>\n",
       "      <th>threshold</th>\n",
       "      <th></th>\n",
       "      <th></th>\n",
       "      <th></th>\n",
       "      <th></th>\n",
       "    </tr>\n",
       "  </thead>\n",
       "  <tbody>\n",
       "    <tr>\n",
       "      <th>0</th>\n",
       "      <td>0.952046</td>\n",
       "      <td>1.000000</td>\n",
       "      <td>0.000000</td>\n",
       "      <td>0.000000</td>\n",
       "    </tr>\n",
       "    <tr>\n",
       "      <th>6</th>\n",
       "      <td>0.952161</td>\n",
       "      <td>0.999879</td>\n",
       "      <td>0.000000</td>\n",
       "      <td>0.000121</td>\n",
       "    </tr>\n",
       "    <tr>\n",
       "      <th>8</th>\n",
       "      <td>0.953019</td>\n",
       "      <td>0.997451</td>\n",
       "      <td>0.571429</td>\n",
       "      <td>0.002549</td>\n",
       "    </tr>\n",
       "    <tr>\n",
       "      <th>9</th>\n",
       "      <td>0.956522</td>\n",
       "      <td>0.991259</td>\n",
       "      <td>0.444444</td>\n",
       "      <td>0.008741</td>\n",
       "    </tr>\n",
       "    <tr>\n",
       "      <th>10</th>\n",
       "      <td>0.959783</td>\n",
       "      <td>0.984096</td>\n",
       "      <td>0.473282</td>\n",
       "      <td>0.015904</td>\n",
       "    </tr>\n",
       "  </tbody>\n",
       "</table>\n",
       "</div>"
      ],
      "text/plain": [
       "           confidence_accuracy  confidence_raito  drop_accuracy  drop_ratio\n",
       "threshold                                                                  \n",
       "0                     0.952046          1.000000       0.000000    0.000000\n",
       "6                     0.952161          0.999879       0.000000    0.000121\n",
       "8                     0.953019          0.997451       0.571429    0.002549\n",
       "9                     0.956522          0.991259       0.444444    0.008741\n",
       "10                    0.959783          0.984096       0.473282    0.015904"
      ]
     },
     "execution_count": 27,
     "metadata": {},
     "output_type": "execute_result"
    }
   ],
   "source": [
    "thresholds = [0, 6, 8,  9, 10]\n",
    "results = []\n",
    "for threshold in thresholds:\n",
    "    df_confidence = df[df['predict_probability_gaussian'] > threshold]\n",
    "    df_drop = df.loc[list(set(df.index) - set(df_confidence.index)),:]\n",
    "    results.append({\n",
    "        'threshold': threshold,\n",
    "        'confidence_accuracy': calc_accuracy(df_confidence),\n",
    "        'confidence_raito': len(df_confidence) / len(df),\n",
    "        'drop_accuracy': calc_accuracy(df_drop),\n",
    "        'drop_ratio': len(df_drop) / len(df),\n",
    "        })\n",
    "results = pd.DataFrame(results).fillna(0)\n",
    "results = results.set_index('threshold')\n",
    "results"
   ]
  },
  {
   "attachments": {},
   "cell_type": "markdown",
   "metadata": {},
   "source": [
    "# process to torncurve"
   ]
  },
  {
   "attachments": {},
   "cell_type": "markdown",
   "metadata": {},
   "source": [
    "## 1 - (1 - x) ** 2"
   ]
  },
  {
   "cell_type": "code",
   "execution_count": 28,
   "metadata": {
    "execution": {
     "iopub.execute_input": "2023-11-01T07:37:28.842779Z",
     "iopub.status.busy": "2023-11-01T07:37:28.842619Z",
     "iopub.status.idle": "2023-11-01T07:37:29.240442Z",
     "shell.execute_reply": "2023-11-01T07:37:29.239905Z"
    }
   },
   "outputs": [
    {
     "data": {
      "text/plain": [
       "<matplotlib.legend.Legend at 0x7f5c47910190>"
      ]
     },
     "execution_count": 28,
     "metadata": {},
     "output_type": "execute_result"
    },
    {
     "data": {
      "image/png": "[encoded data removed]",
      "text/plain": [
       "<Figure size 640x480 with 1 Axes>"
      ]
     },
     "metadata": {},
     "output_type": "display_data"
    }
   ],
   "source": [
    "torn1_function = lambda x: 1-(1-x)**2\n",
    "df[\"predict_probability_torn1\"] = df[\"predict_probability\"].apply(torn1_function)\n",
    "df.loc[df.true_label==df.predict_label, 'predict_probability_torn1'].hist(bins=100)\n",
    "df.loc[df.true_label!=df.predict_label, 'predict_probability_torn1'].hist(bins=100)\n",
    "plt.title('Predict Probability Distribution(torn1)')\n",
    "plt.xlim(0, 1)\n",
    "plt.ylim(0, 400)\n",
    "plt.xlabel('Probability')\n",
    "plt.ylabel('Count')\n",
    "plt.legend(['Correct', 'Incorrect'])"
   ]
  },
  {
   "cell_type": "code",
   "execution_count": 29,
   "metadata": {
    "execution": {
     "iopub.execute_input": "2023-11-01T07:37:29.242619Z",
     "iopub.status.busy": "2023-11-01T07:37:29.242456Z",
     "iopub.status.idle": "2023-11-01T07:37:29.266176Z",
     "shell.execute_reply": "2023-11-01T07:37:29.265597Z"
    }
   },
   "outputs": [
    {
     "name": "stderr",
     "output_type": "stream",
     "text": [
      "/tmp/ipykernel_7323/3327794854.py:2: RuntimeWarning: invalid value encountered in scalar divide\n",
      "  return (df['true_label'] == df['predict_label']).sum() / len(df)\n",
      "/tmp/ipykernel_7323/3327794854.py:2: RuntimeWarning: invalid value encountered in scalar divide\n",
      "  return (df['true_label'] == df['predict_label']).sum() / len(df)\n"
     ]
    },
    {
     "data": {
      "text/html": [
       "<div>\n",
       "<style scoped>\n",
       "    .dataframe tbody tr th:only-of-type {\n",
       "        vertical-align: middle;\n",
       "    }\n",
       "\n",
       "    .dataframe tbody tr th {\n",
       "        vertical-align: top;\n",
       "    }\n",
       "\n",
       "    .dataframe thead th {\n",
       "        text-align: right;\n",
       "    }\n",
       "</style>\n",
       "<table border=\"1\" class=\"dataframe\">\n",
       "  <thead>\n",
       "    <tr style=\"text-align: right;\">\n",
       "      <th></th>\n",
       "      <th>confidence_accuracy</th>\n",
       "      <th>confidence_raito</th>\n",
       "      <th>drop_accuracy</th>\n",
       "      <th>drop_ratio</th>\n",
       "    </tr>\n",
       "    <tr>\n",
       "      <th>threshold</th>\n",
       "      <th></th>\n",
       "      <th></th>\n",
       "      <th></th>\n",
       "      <th></th>\n",
       "    </tr>\n",
       "  </thead>\n",
       "  <tbody>\n",
       "    <tr>\n",
       "      <th>0.0</th>\n",
       "      <td>0.952046</td>\n",
       "      <td>1.000000</td>\n",
       "      <td>0.000000</td>\n",
       "      <td>0.000000</td>\n",
       "    </tr>\n",
       "    <tr>\n",
       "      <th>0.5</th>\n",
       "      <td>0.952046</td>\n",
       "      <td>1.000000</td>\n",
       "      <td>0.000000</td>\n",
       "      <td>0.000000</td>\n",
       "    </tr>\n",
       "    <tr>\n",
       "      <th>0.6</th>\n",
       "      <td>0.952161</td>\n",
       "      <td>0.999879</td>\n",
       "      <td>0.000000</td>\n",
       "      <td>0.000121</td>\n",
       "    </tr>\n",
       "    <tr>\n",
       "      <th>0.7</th>\n",
       "      <td>0.952144</td>\n",
       "      <td>0.999514</td>\n",
       "      <td>0.750000</td>\n",
       "      <td>0.000486</td>\n",
       "    </tr>\n",
       "    <tr>\n",
       "      <th>0.8</th>\n",
       "      <td>0.954263</td>\n",
       "      <td>0.995387</td>\n",
       "      <td>0.473684</td>\n",
       "      <td>0.004613</td>\n",
       "    </tr>\n",
       "  </tbody>\n",
       "</table>\n",
       "</div>"
      ],
      "text/plain": [
       "           confidence_accuracy  confidence_raito  drop_accuracy  drop_ratio\n",
       "threshold                                                                  \n",
       "0.0                   0.952046          1.000000       0.000000    0.000000\n",
       "0.5                   0.952046          1.000000       0.000000    0.000000\n",
       "0.6                   0.952161          0.999879       0.000000    0.000121\n",
       "0.7                   0.952144          0.999514       0.750000    0.000486\n",
       "0.8                   0.954263          0.995387       0.473684    0.004613"
      ]
     },
     "execution_count": 29,
     "metadata": {},
     "output_type": "execute_result"
    }
   ],
   "source": [
    "thresholds = [0, 0.5, 0.6, 0.7, 0.8]\n",
    "results = []\n",
    "for threshold in thresholds:\n",
    "    df_confidence = df[df['predict_probability_torn1'] > threshold]\n",
    "    df_drop = df.loc[list(set(df.index) - set(df_confidence.index)),:]\n",
    "    results.append({\n",
    "        'threshold': threshold,\n",
    "        'confidence_accuracy': calc_accuracy(df_confidence),\n",
    "        'confidence_raito': len(df_confidence) / len(df),\n",
    "        'drop_accuracy': calc_accuracy(df_drop),\n",
    "        'drop_ratio': len(df_drop) / len(df),\n",
    "        })\n",
    "results = pd.DataFrame(results).fillna(0)\n",
    "results = results.set_index('threshold')\n",
    "results"
   ]
  },
  {
   "attachments": {},
   "cell_type": "markdown",
   "metadata": {},
   "source": [
    "## 1/ln(2) * ln(1+x)"
   ]
  },
  {
   "cell_type": "code",
   "execution_count": 30,
   "metadata": {
    "execution": {
     "iopub.execute_input": "2023-11-01T07:37:29.268919Z",
     "iopub.status.busy": "2023-11-01T07:37:29.268748Z",
     "iopub.status.idle": "2023-11-01T07:37:29.722194Z",
     "shell.execute_reply": "2023-11-01T07:37:29.721688Z"
    }
   },
   "outputs": [
    {
     "data": {
      "text/plain": [
       "<matplotlib.legend.Legend at 0x7f5c46f56350>"
      ]
     },
     "execution_count": 30,
     "metadata": {},
     "output_type": "execute_result"
    },
    {
     "data": {
      "image/png": "[encoded data removed]",
      "text/plain": [
       "<Figure size 640x480 with 1 Axes>"
      ]
     },
     "metadata": {},
     "output_type": "display_data"
    }
   ],
   "source": [
    "torn2_function = lambda x: (1/np.log(2))*np.log(1+x)\n",
    "df[\"predict_probability_torn2\"] = df[\"predict_probability\"].apply(torn2_function)\n",
    "df.loc[df.true_label==df.predict_label, 'predict_probability_torn2'].hist(bins=100)\n",
    "df.loc[df.true_label!=df.predict_label, 'predict_probability_torn2'].hist(bins=100)\n",
    "plt.title('Predict Probability Distribution(torn2)')\n",
    "plt.xlim(0, 1)\n",
    "plt.ylim(0, 400)\n",
    "plt.xlabel('Probability')\n",
    "plt.ylabel('Count')\n",
    "plt.legend(['Correct', 'Incorrect'])"
   ]
  },
  {
   "cell_type": "code",
   "execution_count": 31,
   "metadata": {
    "execution": {
     "iopub.execute_input": "2023-11-01T07:37:29.724256Z",
     "iopub.status.busy": "2023-11-01T07:37:29.724102Z",
     "iopub.status.idle": "2023-11-01T07:37:29.747050Z",
     "shell.execute_reply": "2023-11-01T07:37:29.746504Z"
    }
   },
   "outputs": [
    {
     "name": "stderr",
     "output_type": "stream",
     "text": [
      "/tmp/ipykernel_7323/3327794854.py:2: RuntimeWarning: invalid value encountered in scalar divide\n",
      "  return (df['true_label'] == df['predict_label']).sum() / len(df)\n"
     ]
    },
    {
     "data": {
      "text/html": [
       "<div>\n",
       "<style scoped>\n",
       "    .dataframe tbody tr th:only-of-type {\n",
       "        vertical-align: middle;\n",
       "    }\n",
       "\n",
       "    .dataframe tbody tr th {\n",
       "        vertical-align: top;\n",
       "    }\n",
       "\n",
       "    .dataframe thead th {\n",
       "        text-align: right;\n",
       "    }\n",
       "</style>\n",
       "<table border=\"1\" class=\"dataframe\">\n",
       "  <thead>\n",
       "    <tr style=\"text-align: right;\">\n",
       "      <th></th>\n",
       "      <th>confidence_accuracy</th>\n",
       "      <th>confidence_raito</th>\n",
       "      <th>drop_accuracy</th>\n",
       "      <th>drop_ratio</th>\n",
       "    </tr>\n",
       "    <tr>\n",
       "      <th>threshold</th>\n",
       "      <th></th>\n",
       "      <th></th>\n",
       "      <th></th>\n",
       "      <th></th>\n",
       "    </tr>\n",
       "  </thead>\n",
       "  <tbody>\n",
       "    <tr>\n",
       "      <th>0.00</th>\n",
       "      <td>0.952046</td>\n",
       "      <td>1.000000</td>\n",
       "      <td>0.000000</td>\n",
       "      <td>0.000000</td>\n",
       "    </tr>\n",
       "    <tr>\n",
       "      <th>0.50</th>\n",
       "      <td>0.952161</td>\n",
       "      <td>0.999879</td>\n",
       "      <td>0.000000</td>\n",
       "      <td>0.000121</td>\n",
       "    </tr>\n",
       "    <tr>\n",
       "      <th>0.55</th>\n",
       "      <td>0.952144</td>\n",
       "      <td>0.999514</td>\n",
       "      <td>0.750000</td>\n",
       "      <td>0.000486</td>\n",
       "    </tr>\n",
       "    <tr>\n",
       "      <th>0.60</th>\n",
       "      <td>0.952914</td>\n",
       "      <td>0.997815</td>\n",
       "      <td>0.555556</td>\n",
       "      <td>0.002185</td>\n",
       "    </tr>\n",
       "    <tr>\n",
       "      <th>0.65</th>\n",
       "      <td>0.955257</td>\n",
       "      <td>0.993080</td>\n",
       "      <td>0.491228</td>\n",
       "      <td>0.006920</td>\n",
       "    </tr>\n",
       "  </tbody>\n",
       "</table>\n",
       "</div>"
      ],
      "text/plain": [
       "           confidence_accuracy  confidence_raito  drop_accuracy  drop_ratio\n",
       "threshold                                                                  \n",
       "0.00                  0.952046          1.000000       0.000000    0.000000\n",
       "0.50                  0.952161          0.999879       0.000000    0.000121\n",
       "0.55                  0.952144          0.999514       0.750000    0.000486\n",
       "0.60                  0.952914          0.997815       0.555556    0.002185\n",
       "0.65                  0.955257          0.993080       0.491228    0.006920"
      ]
     },
     "execution_count": 31,
     "metadata": {},
     "output_type": "execute_result"
    }
   ],
   "source": [
    "thresholds = [0, 0.5, 0.55, 0.6, 0.65]\n",
    "results = []\n",
    "for threshold in thresholds:\n",
    "    df_confidence = df[df['predict_probability_torn2'] > threshold]\n",
    "    df_drop = df.loc[list(set(df.index) - set(df_confidence.index)),:]\n",
    "    results.append({\n",
    "        'threshold': threshold,\n",
    "        'confidence_accuracy': calc_accuracy(df_confidence),\n",
    "        'confidence_raito': len(df_confidence) / len(df),\n",
    "        'drop_accuracy': calc_accuracy(df_drop),\n",
    "        'drop_ratio': len(df_drop) / len(df),\n",
    "        })\n",
    "results = pd.DataFrame(results).fillna(0)\n",
    "results = results.set_index('threshold')\n",
    "results"
   ]
  },
  {
   "cell_type": "code",
   "execution_count": 32,
   "metadata": {
    "execution": {
     "iopub.execute_input": "2023-11-01T07:37:29.749595Z",
     "iopub.status.busy": "2023-11-01T07:37:29.749429Z",
     "iopub.status.idle": "2023-11-01T07:37:29.899414Z",
     "shell.execute_reply": "2023-11-01T07:37:29.898875Z"
    }
   },
   "outputs": [
    {
     "name": "stderr",
     "output_type": "stream",
     "text": [
      "/home/nakagawaren/.local/lib/python3.10/site-packages/sklearn/metrics/_ranking.py:1124: UndefinedMetricWarning: No negative samples in y_true, false positive value should be meaningless\n",
      "  warnings.warn(\n"
     ]
    },
    {
     "data": {
      "image/png": "[encoded data removed]",
      "text/plain": [
       "<Figure size 640x480 with 1 Axes>"
      ]
     },
     "metadata": {},
     "output_type": "display_data"
    }
   ],
   "source": [
    "from sklearn.metrics import roc_curve\n",
    "\n",
    "LABELS = [\"Downstairs\", \"Jogging\", \"Sitting\", \"Standing\", \"Upstairs\", \"Walking\"]\n",
    "for label in LABELS:\n",
    "    fpr, tpr, thresholds = roc_curve(df.loc[df.predict_label==label, 'true_label'], df.loc[df.predict_label==label, \"predict_probability\"], pos_label=label)\n",
    "    plt.plot(fpr, tpr, label=label)\n",
    "plt.xlabel('False Positive Rate')\n",
    "plt.ylabel('True Positive Rate')\n",
    "plt.title('ROC Curve')\n",
    "plt.legend()\n",
    "plt.show()"
   ]
  }
 ],
 "metadata": {
  "kernelspec": {
   "display_name": "Python 3",
   "language": "python",
   "name": "python3"
  },
  "language_info": {
   "codemirror_mode": {
    "name": "ipython",
    "version": 3
   },
   "file_extension": ".py",
   "mimetype": "text/x-python",
   "name": "python",
   "nbconvert_exporter": "python",
   "pygments_lexer": "ipython3",
   "version": "3.10.12"
  }
 },
 "nbformat": 4,
 "nbformat_minor": 2
}
