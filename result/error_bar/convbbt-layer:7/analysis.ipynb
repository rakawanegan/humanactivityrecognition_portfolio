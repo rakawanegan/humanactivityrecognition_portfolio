{
 "cells": [
  {
   "cell_type": "code",
   "execution_count": 1,
   "metadata": {
    "execution": {
     "iopub.execute_input": "2023-11-01T07:37:37.870051Z",
     "iopub.status.busy": "2023-11-01T07:37:37.869238Z",
     "iopub.status.idle": "2023-11-01T07:37:39.006244Z",
     "shell.execute_reply": "2023-11-01T07:37:39.005636Z"
    }
   },
   "outputs": [
    {
     "name": "stderr",
     "output_type": "stream",
     "text": [
      "/home/nakagawa/.local/lib/python3.10/site-packages/scipy/__init__.py:155: UserWarning: A NumPy version >=1.18.5 and <1.25.0 is required for this version of SciPy (detected version 1.26.1\n",
      "  warnings.warn(f\"A NumPy version >={np_minversion} and <{np_maxversion}\"\n"
     ]
    }
   ],
   "source": [
    "import pandas as pd\n",
    "from matplotlib import pyplot as plt\n",
    "import seaborn as sns\n",
    "from sklearn.metrics import confusion_matrix"
   ]
  },
  {
   "cell_type": "code",
   "execution_count": 2,
   "metadata": {
    "execution": {
     "iopub.execute_input": "2023-11-01T07:37:39.008779Z",
     "iopub.status.busy": "2023-11-01T07:37:39.008424Z",
     "iopub.status.idle": "2023-11-01T07:37:39.011209Z",
     "shell.execute_reply": "2023-11-01T07:37:39.010868Z"
    }
   },
   "outputs": [],
   "source": [
    "def calc_accuracy(df):\n",
    "    return (df['true_label'] == df['predict_label']).sum() / len(df)"
   ]
  },
  {
   "attachments": {},
   "cell_type": "markdown",
   "metadata": {},
   "source": [
    "# Prediction Import"
   ]
  },
  {
   "cell_type": "code",
   "execution_count": 3,
   "metadata": {
    "execution": {
     "iopub.execute_input": "2023-11-01T07:37:39.013422Z",
     "iopub.status.busy": "2023-11-01T07:37:39.013015Z",
     "iopub.status.idle": "2023-11-01T07:37:39.040301Z",
     "shell.execute_reply": "2023-11-01T07:37:39.039784Z"
    }
   },
   "outputs": [
    {
     "data": {
      "text/html": [
       "<div>\n",
       "<style scoped>\n",
       "    .dataframe tbody tr th:only-of-type {\n",
       "        vertical-align: middle;\n",
       "    }\n",
       "\n",
       "    .dataframe tbody tr th {\n",
       "        vertical-align: top;\n",
       "    }\n",
       "\n",
       "    .dataframe thead th {\n",
       "        text-align: right;\n",
       "    }\n",
       "</style>\n",
       "<table border=\"1\" class=\"dataframe\">\n",
       "  <thead>\n",
       "    <tr style=\"text-align: right;\">\n",
       "      <th></th>\n",
       "      <th>Downstairs</th>\n",
       "      <th>Jogging</th>\n",
       "      <th>Sitting</th>\n",
       "      <th>Standing</th>\n",
       "      <th>Upstairs</th>\n",
       "      <th>Walking</th>\n",
       "    </tr>\n",
       "  </thead>\n",
       "  <tbody>\n",
       "    <tr>\n",
       "      <th>0</th>\n",
       "      <td>5.036437</td>\n",
       "      <td>-4.502230</td>\n",
       "      <td>-6.603404</td>\n",
       "      <td>-5.567816</td>\n",
       "      <td>-1.089012</td>\n",
       "      <td>7.162587</td>\n",
       "    </tr>\n",
       "    <tr>\n",
       "      <th>1</th>\n",
       "      <td>-3.746440</td>\n",
       "      <td>-7.409843</td>\n",
       "      <td>14.647223</td>\n",
       "      <td>1.599128</td>\n",
       "      <td>-0.146993</td>\n",
       "      <td>0.334431</td>\n",
       "    </tr>\n",
       "    <tr>\n",
       "      <th>2</th>\n",
       "      <td>1.839661</td>\n",
       "      <td>-10.998505</td>\n",
       "      <td>-6.005250</td>\n",
       "      <td>-5.750884</td>\n",
       "      <td>8.651728</td>\n",
       "      <td>2.211259</td>\n",
       "    </tr>\n",
       "    <tr>\n",
       "      <th>3</th>\n",
       "      <td>-1.004645</td>\n",
       "      <td>13.123766</td>\n",
       "      <td>-5.008782</td>\n",
       "      <td>-5.039395</td>\n",
       "      <td>-2.758281</td>\n",
       "      <td>-1.509961</td>\n",
       "    </tr>\n",
       "    <tr>\n",
       "      <th>4</th>\n",
       "      <td>-3.875755</td>\n",
       "      <td>-1.584597</td>\n",
       "      <td>4.366080</td>\n",
       "      <td>13.186352</td>\n",
       "      <td>-8.073782</td>\n",
       "      <td>4.969984</td>\n",
       "    </tr>\n",
       "  </tbody>\n",
       "</table>\n",
       "</div>"
      ],
      "text/plain": [
       "   Downstairs    Jogging    Sitting   Standing  Upstairs   Walking\n",
       "0    5.036437  -4.502230  -6.603404  -5.567816 -1.089012  7.162587\n",
       "1   -3.746440  -7.409843  14.647223   1.599128 -0.146993  0.334431\n",
       "2    1.839661 -10.998505  -6.005250  -5.750884  8.651728  2.211259\n",
       "3   -1.004645  13.123766  -5.008782  -5.039395 -2.758281 -1.509961\n",
       "4   -3.875755  -1.584597   4.366080  13.186352 -8.073782  4.969984"
      ]
     },
     "execution_count": 3,
     "metadata": {},
     "output_type": "execute_result"
    }
   ],
   "source": [
    "LABELS = [\"Downstairs\", \"Jogging\", \"Sitting\", \"Standing\", \"Upstairs\", \"Walking\"]\n",
    "df = pd.read_csv('predict.csv', index_col=0)\n",
    "predict = df.drop('true', axis=1)\n",
    "true = df['true']\n",
    "del df\n",
    "true_encoded = true.map(lambda x: LABELS[x])\n",
    "true_encoded.name = 'true_label'\n",
    "predict.columns = LABELS\n",
    "predict.head()"
   ]
  },
  {
   "cell_type": "code",
   "execution_count": 4,
   "metadata": {
    "execution": {
     "iopub.execute_input": "2023-11-01T07:37:39.042435Z",
     "iopub.status.busy": "2023-11-01T07:37:39.042284Z",
     "iopub.status.idle": "2023-11-01T07:37:42.555673Z",
     "shell.execute_reply": "2023-11-01T07:37:42.555104Z"
    }
   },
   "outputs": [],
   "source": [
    "# min-max normalization\n",
    "predict = predict.apply(lambda x: (x - x.min()) / (x.max() - x.min()), axis=1)\n",
    "predict = predict.apply(lambda x: x / x.sum(), axis=1)\n",
    "\n",
    "predict_label = predict.idxmax(axis=1)\n",
    "predict_probability = predict.max(axis=1)\n",
    "predict_probability.name = 'predict_probability'\n",
    "predict_label.name = 'predict_label'\n",
    "# predict.head()\n",
    "# true.head()\n",
    "# true_encoded.head()"
   ]
  },
  {
   "cell_type": "code",
   "execution_count": 5,
   "metadata": {
    "execution": {
     "iopub.execute_input": "2023-11-01T07:37:42.559729Z",
     "iopub.status.busy": "2023-11-01T07:37:42.559025Z",
     "iopub.status.idle": "2023-11-01T07:37:42.571353Z",
     "shell.execute_reply": "2023-11-01T07:37:42.570773Z"
    }
   },
   "outputs": [
    {
     "data": {
      "text/html": [
       "<div>\n",
       "<style scoped>\n",
       "    .dataframe tbody tr th:only-of-type {\n",
       "        vertical-align: middle;\n",
       "    }\n",
       "\n",
       "    .dataframe tbody tr th {\n",
       "        vertical-align: top;\n",
       "    }\n",
       "\n",
       "    .dataframe thead th {\n",
       "        text-align: right;\n",
       "    }\n",
       "</style>\n",
       "<table border=\"1\" class=\"dataframe\">\n",
       "  <thead>\n",
       "    <tr style=\"text-align: right;\">\n",
       "      <th></th>\n",
       "      <th>Downstairs</th>\n",
       "      <th>Jogging</th>\n",
       "      <th>Sitting</th>\n",
       "      <th>Standing</th>\n",
       "      <th>Upstairs</th>\n",
       "      <th>Walking</th>\n",
       "      <th>predict_probability</th>\n",
       "      <th>true</th>\n",
       "      <th>predict_label</th>\n",
       "      <th>true_label</th>\n",
       "    </tr>\n",
       "  </thead>\n",
       "  <tbody>\n",
       "    <tr>\n",
       "      <th>0</th>\n",
       "      <td>0.341775</td>\n",
       "      <td>0.061696</td>\n",
       "      <td>0.000000</td>\n",
       "      <td>0.030407</td>\n",
       "      <td>0.161917</td>\n",
       "      <td>0.404205</td>\n",
       "      <td>0.404205</td>\n",
       "      <td>5</td>\n",
       "      <td>Walking</td>\n",
       "      <td>Walking</td>\n",
       "    </tr>\n",
       "    <tr>\n",
       "      <th>1</th>\n",
       "      <td>0.073656</td>\n",
       "      <td>0.000000</td>\n",
       "      <td>0.443478</td>\n",
       "      <td>0.181134</td>\n",
       "      <td>0.146026</td>\n",
       "      <td>0.155706</td>\n",
       "      <td>0.443478</td>\n",
       "      <td>2</td>\n",
       "      <td>Sitting</td>\n",
       "      <td>Sitting</td>\n",
       "    </tr>\n",
       "    <tr>\n",
       "      <th>2</th>\n",
       "      <td>0.229503</td>\n",
       "      <td>0.000000</td>\n",
       "      <td>0.089262</td>\n",
       "      <td>0.093810</td>\n",
       "      <td>0.351279</td>\n",
       "      <td>0.236146</td>\n",
       "      <td>0.351279</td>\n",
       "      <td>4</td>\n",
       "      <td>Upstairs</td>\n",
       "      <td>Upstairs</td>\n",
       "    </tr>\n",
       "    <tr>\n",
       "      <th>3</th>\n",
       "      <td>0.143897</td>\n",
       "      <td>0.647780</td>\n",
       "      <td>0.001092</td>\n",
       "      <td>0.000000</td>\n",
       "      <td>0.081355</td>\n",
       "      <td>0.125876</td>\n",
       "      <td>0.647780</td>\n",
       "      <td>1</td>\n",
       "      <td>Jogging</td>\n",
       "      <td>Jogging</td>\n",
       "    </tr>\n",
       "    <tr>\n",
       "      <th>4</th>\n",
       "      <td>0.073097</td>\n",
       "      <td>0.112991</td>\n",
       "      <td>0.216605</td>\n",
       "      <td>0.370186</td>\n",
       "      <td>0.000000</td>\n",
       "      <td>0.227121</td>\n",
       "      <td>0.370186</td>\n",
       "      <td>3</td>\n",
       "      <td>Standing</td>\n",
       "      <td>Standing</td>\n",
       "    </tr>\n",
       "    <tr>\n",
       "      <th>5</th>\n",
       "      <td>0.114690</td>\n",
       "      <td>0.164065</td>\n",
       "      <td>0.000000</td>\n",
       "      <td>0.076426</td>\n",
       "      <td>0.143157</td>\n",
       "      <td>0.501662</td>\n",
       "      <td>0.501662</td>\n",
       "      <td>5</td>\n",
       "      <td>Walking</td>\n",
       "      <td>Walking</td>\n",
       "    </tr>\n",
       "    <tr>\n",
       "      <th>6</th>\n",
       "      <td>0.481905</td>\n",
       "      <td>0.029078</td>\n",
       "      <td>0.009568</td>\n",
       "      <td>0.000000</td>\n",
       "      <td>0.281935</td>\n",
       "      <td>0.197514</td>\n",
       "      <td>0.481905</td>\n",
       "      <td>0</td>\n",
       "      <td>Downstairs</td>\n",
       "      <td>Downstairs</td>\n",
       "    </tr>\n",
       "    <tr>\n",
       "      <th>7</th>\n",
       "      <td>0.346250</td>\n",
       "      <td>0.000000</td>\n",
       "      <td>0.058079</td>\n",
       "      <td>0.113076</td>\n",
       "      <td>0.217844</td>\n",
       "      <td>0.264751</td>\n",
       "      <td>0.346250</td>\n",
       "      <td>0</td>\n",
       "      <td>Downstairs</td>\n",
       "      <td>Downstairs</td>\n",
       "    </tr>\n",
       "    <tr>\n",
       "      <th>8</th>\n",
       "      <td>0.035743</td>\n",
       "      <td>0.616920</td>\n",
       "      <td>0.064362</td>\n",
       "      <td>0.000000</td>\n",
       "      <td>0.088222</td>\n",
       "      <td>0.194752</td>\n",
       "      <td>0.616920</td>\n",
       "      <td>1</td>\n",
       "      <td>Jogging</td>\n",
       "      <td>Jogging</td>\n",
       "    </tr>\n",
       "    <tr>\n",
       "      <th>9</th>\n",
       "      <td>0.173470</td>\n",
       "      <td>0.149093</td>\n",
       "      <td>0.000000</td>\n",
       "      <td>0.099261</td>\n",
       "      <td>0.095601</td>\n",
       "      <td>0.482575</td>\n",
       "      <td>0.482575</td>\n",
       "      <td>5</td>\n",
       "      <td>Walking</td>\n",
       "      <td>Walking</td>\n",
       "    </tr>\n",
       "  </tbody>\n",
       "</table>\n",
       "</div>"
      ],
      "text/plain": [
       "   Downstairs   Jogging   Sitting  Standing  Upstairs   Walking  \\\n",
       "0    0.341775  0.061696  0.000000  0.030407  0.161917  0.404205   \n",
       "1    0.073656  0.000000  0.443478  0.181134  0.146026  0.155706   \n",
       "2    0.229503  0.000000  0.089262  0.093810  0.351279  0.236146   \n",
       "3    0.143897  0.647780  0.001092  0.000000  0.081355  0.125876   \n",
       "4    0.073097  0.112991  0.216605  0.370186  0.000000  0.227121   \n",
       "5    0.114690  0.164065  0.000000  0.076426  0.143157  0.501662   \n",
       "6    0.481905  0.029078  0.009568  0.000000  0.281935  0.197514   \n",
       "7    0.346250  0.000000  0.058079  0.113076  0.217844  0.264751   \n",
       "8    0.035743  0.616920  0.064362  0.000000  0.088222  0.194752   \n",
       "9    0.173470  0.149093  0.000000  0.099261  0.095601  0.482575   \n",
       "\n",
       "   predict_probability  true predict_label  true_label  \n",
       "0             0.404205     5       Walking     Walking  \n",
       "1             0.443478     2       Sitting     Sitting  \n",
       "2             0.351279     4      Upstairs    Upstairs  \n",
       "3             0.647780     1       Jogging     Jogging  \n",
       "4             0.370186     3      Standing    Standing  \n",
       "5             0.501662     5       Walking     Walking  \n",
       "6             0.481905     0    Downstairs  Downstairs  \n",
       "7             0.346250     0    Downstairs  Downstairs  \n",
       "8             0.616920     1       Jogging     Jogging  \n",
       "9             0.482575     5       Walking     Walking  "
      ]
     },
     "execution_count": 5,
     "metadata": {},
     "output_type": "execute_result"
    }
   ],
   "source": [
    "df = pd.concat([\n",
    "            predict,\n",
    "            predict_probability,\n",
    "            true,\n",
    "            predict_label,\n",
    "            true_encoded\n",
    "        ], axis=1)\n",
    "df.head(10)"
   ]
  },
  {
   "cell_type": "code",
   "execution_count": 6,
   "metadata": {
    "execution": {
     "iopub.execute_input": "2023-11-01T07:37:42.574464Z",
     "iopub.status.busy": "2023-11-01T07:37:42.573796Z",
     "iopub.status.idle": "2023-11-01T07:37:43.134842Z",
     "shell.execute_reply": "2023-11-01T07:37:43.134337Z"
    }
   },
   "outputs": [
    {
     "name": "stdout",
     "output_type": "stream",
     "text": [
      "Accuracy:  0.9509530168750758\n"
     ]
    },
    {
     "data": {
      "text/plain": [
       "<matplotlib.legend.Legend at 0x7f785e3b5960>"
      ]
     },
     "execution_count": 6,
     "metadata": {},
     "output_type": "execute_result"
    },
    {
     "data": {
      "image/png": "[encoded data removed]",
      "text/plain": [
       "<Figure size 640x480 with 1 Axes>"
      ]
     },
     "metadata": {},
     "output_type": "display_data"
    }
   ],
   "source": [
    "print('Accuracy: ', calc_accuracy(df))\n",
    "# statival analysis\n",
    "df.loc[df.true_label==df.predict_label, 'predict_probability'].hist(bins=100)\n",
    "df.loc[df.true_label!=df.predict_label, 'predict_probability'].hist(bins=100)\n",
    "plt.title('Predict Probability Distribution')\n",
    "plt.xlim(0, 1)\n",
    "plt.ylim(0, 400)\n",
    "plt.xlabel('Probability')\n",
    "plt.ylabel('Count')\n",
    "plt.legend(['Correct', 'Incorrect'])"
   ]
  },
  {
   "cell_type": "code",
   "execution_count": 7,
   "metadata": {
    "execution": {
     "iopub.execute_input": "2023-11-01T07:37:43.136948Z",
     "iopub.status.busy": "2023-11-01T07:37:43.136722Z",
     "iopub.status.idle": "2023-11-01T07:37:43.142403Z",
     "shell.execute_reply": "2023-11-01T07:37:43.141932Z"
    }
   },
   "outputs": [
    {
     "data": {
      "text/plain": [
       "mean      0.519754\n",
       "std       0.116254\n",
       "min       0.245029\n",
       "max       0.936051\n",
       "median    0.507509\n",
       "Name: predict_probability, dtype: float64"
      ]
     },
     "execution_count": 7,
     "metadata": {},
     "output_type": "execute_result"
    }
   ],
   "source": [
    "df['predict_probability'].agg(['mean', 'std', 'min', 'max', 'median'])"
   ]
  },
  {
   "cell_type": "code",
   "execution_count": 8,
   "metadata": {
    "execution": {
     "iopub.execute_input": "2023-11-01T07:37:43.144568Z",
     "iopub.status.busy": "2023-11-01T07:37:43.144394Z",
     "iopub.status.idle": "2023-11-01T07:37:43.180860Z",
     "shell.execute_reply": "2023-11-01T07:37:43.180383Z"
    }
   },
   "outputs": [
    {
     "name": "stderr",
     "output_type": "stream",
     "text": [
      "/tmp/ipykernel_24590/3327794854.py:2: RuntimeWarning: invalid value encountered in scalar divide\n",
      "  return (df['true_label'] == df['predict_label']).sum() / len(df)\n"
     ]
    },
    {
     "data": {
      "text/html": [
       "<div>\n",
       "<style scoped>\n",
       "    .dataframe tbody tr th:only-of-type {\n",
       "        vertical-align: middle;\n",
       "    }\n",
       "\n",
       "    .dataframe tbody tr th {\n",
       "        vertical-align: top;\n",
       "    }\n",
       "\n",
       "    .dataframe thead th {\n",
       "        text-align: right;\n",
       "    }\n",
       "</style>\n",
       "<table border=\"1\" class=\"dataframe\">\n",
       "  <thead>\n",
       "    <tr style=\"text-align: right;\">\n",
       "      <th></th>\n",
       "      <th>confidence_accuracy</th>\n",
       "      <th>confidence_raito</th>\n",
       "      <th>drop_accuracy</th>\n",
       "      <th>drop_ratio</th>\n",
       "    </tr>\n",
       "    <tr>\n",
       "      <th>threshold</th>\n",
       "      <th></th>\n",
       "      <th></th>\n",
       "      <th></th>\n",
       "      <th></th>\n",
       "    </tr>\n",
       "  </thead>\n",
       "  <tbody>\n",
       "    <tr>\n",
       "      <th>0.0</th>\n",
       "      <td>0.950953</td>\n",
       "      <td>1.000000</td>\n",
       "      <td>0.000000</td>\n",
       "      <td>0.000000</td>\n",
       "    </tr>\n",
       "    <tr>\n",
       "      <th>0.3</th>\n",
       "      <td>0.955019</td>\n",
       "      <td>0.990531</td>\n",
       "      <td>0.525641</td>\n",
       "      <td>0.009469</td>\n",
       "    </tr>\n",
       "    <tr>\n",
       "      <th>0.4</th>\n",
       "      <td>0.987883</td>\n",
       "      <td>0.851645</td>\n",
       "      <td>0.738953</td>\n",
       "      <td>0.148355</td>\n",
       "    </tr>\n",
       "    <tr>\n",
       "      <th>0.5</th>\n",
       "      <td>0.998164</td>\n",
       "      <td>0.529076</td>\n",
       "      <td>0.897912</td>\n",
       "      <td>0.470924</td>\n",
       "    </tr>\n",
       "    <tr>\n",
       "      <th>0.6</th>\n",
       "      <td>0.998922</td>\n",
       "      <td>0.225203</td>\n",
       "      <td>0.937010</td>\n",
       "      <td>0.774797</td>\n",
       "    </tr>\n",
       "    <tr>\n",
       "      <th>0.7</th>\n",
       "      <td>1.000000</td>\n",
       "      <td>0.081340</td>\n",
       "      <td>0.946610</td>\n",
       "      <td>0.918660</td>\n",
       "    </tr>\n",
       "  </tbody>\n",
       "</table>\n",
       "</div>"
      ],
      "text/plain": [
       "           confidence_accuracy  confidence_raito  drop_accuracy  drop_ratio\n",
       "threshold                                                                  \n",
       "0.0                   0.950953          1.000000       0.000000    0.000000\n",
       "0.3                   0.955019          0.990531       0.525641    0.009469\n",
       "0.4                   0.987883          0.851645       0.738953    0.148355\n",
       "0.5                   0.998164          0.529076       0.897912    0.470924\n",
       "0.6                   0.998922          0.225203       0.937010    0.774797\n",
       "0.7                   1.000000          0.081340       0.946610    0.918660"
      ]
     },
     "execution_count": 8,
     "metadata": {},
     "output_type": "execute_result"
    }
   ],
   "source": [
    "thresholds = [0, 0.3, 0.4, 0.5, 0.6, 0.7]\n",
    "results = []\n",
    "for threshold in thresholds:\n",
    "    df_confidence = df[df['predict_probability'] > threshold]\n",
    "    df_drop = df.loc[list(set(df.index) - set(df_confidence.index)),:]\n",
    "    results.append({\n",
    "        'threshold': threshold,\n",
    "        'confidence_accuracy': calc_accuracy(df_confidence),\n",
    "        'confidence_raito': len(df_confidence) / len(df),\n",
    "        'drop_accuracy': calc_accuracy(df_drop),\n",
    "        'drop_ratio': len(df_drop) / len(df),\n",
    "        })\n",
    "    # df_confidence = df[df['predict_probability'] > threshold]\n",
    "    # df_drop = df.loc[list(set(df.index) - set(df_confidence.index)),:]\n",
    "    # cm = confusion_matrix(df_confidence['true_label'], df_confidence['predict_label'])\n",
    "    # # cm_df = pd.DataFrame(cm, index=list(map(cm)), columns=LABELS)\n",
    "    # plt.figure(figsize=(10, 10))\n",
    "    # sns.heatmap(\n",
    "    #     cm_df,\n",
    "    #     annot=True,\n",
    "    #     fmt=\"d\",\n",
    "    #     linewidths=0.5,\n",
    "    #     cmap=\"Blues\",\n",
    "    #     cbar=False,\n",
    "    #     annot_kws={\"size\": 14},\n",
    "    #     square=True,\n",
    "    # )\n",
    "    # plt.title(f\"Confusion Matrix (threshold={threshold})\")\n",
    "    # plt.ylabel(\"True label\")\n",
    "    # plt.xlabel(\"Predicted label\")\n",
    "    # plt.savefig(f'confusion_matrix/threshold{threshold}.png')\n",
    "    # plt.close()\n",
    "results = pd.DataFrame(results).fillna(0)\n",
    "results = results.set_index('threshold')\n",
    "results"
   ]
  },
  {
   "cell_type": "code",
   "execution_count": 9,
   "metadata": {
    "execution": {
     "iopub.execute_input": "2023-11-01T07:37:43.184124Z",
     "iopub.status.busy": "2023-11-01T07:37:43.183907Z",
     "iopub.status.idle": "2023-11-01T07:37:43.380568Z",
     "shell.execute_reply": "2023-11-01T07:37:43.380035Z"
    }
   },
   "outputs": [
    {
     "data": {
      "image/png": "[encoded data removed]",
      "text/plain": [
       "<Figure size 640x480 with 1 Axes>"
      ]
     },
     "metadata": {},
     "output_type": "display_data"
    }
   ],
   "source": [
    "from sklearn.metrics import roc_curve\n",
    "\n",
    "for label in LABELS:\n",
    "    fpr, tpr, thresholds = roc_curve(df.loc[df.predict_label==label, 'true_label'], df.loc[df.predict_label==label, \"predict_probability\"], pos_label=label)\n",
    "    plt.plot(fpr, tpr, label=label)\n",
    "plt.xlabel('False Positive Rate')\n",
    "plt.ylabel('True Positive Rate')\n",
    "plt.title('ROC Curve')\n",
    "plt.legend()\n",
    "plt.show()"
   ]
  }
 ],
 "metadata": {
  "kernelspec": {
   "display_name": "Python 3",
   "language": "python",
   "name": "python3"
  },
  "language_info": {
   "codemirror_mode": {
    "name": "ipython",
    "version": 3
   },
   "file_extension": ".py",
   "mimetype": "text/x-python",
   "name": "python",
   "nbconvert_exporter": "python",
   "pygments_lexer": "ipython3",
   "version": "3.10.12"
  }
 },
 "nbformat": 4,
 "nbformat_minor": 2
}
