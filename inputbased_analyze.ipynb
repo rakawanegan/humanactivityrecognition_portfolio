{
 "cells": [
  {
   "cell_type": "code",
   "execution_count": null,
   "metadata": {},
   "outputs": [],
   "source": [
    "import numpy as np\n",
    "from lib.local_utils import plot_activity"
   ]
  },
  {
   "attachments": {},
   "cell_type": "markdown",
   "metadata": {},
   "source": [
    "![axes-of-motion.png](./assets/axes-of-motion.png)\n",
    "![each-axis.png](./assets/plot-six-activities.png)\n",
    "\n",
    "「歩く」は1/2秒の周期でピークがあり、ｘ軸は他のｙｚ軸より常に小さい値をとっている。  \n",
    "「走る」は1/4秒の周期でピークが存在し、ｙ軸について負の値が「歩く」より顕著である。  \n",
    "「下り階段」ではｙ軸の加速度が小さく、1/2秒の周期がある。  \n",
    "「上り階段」ではｙｚ軸に3/4秒の周期があり、これは足の進みが他より遅いことを表している。  "
   ]
  },
  {
   "cell_type": "code",
   "execution_count": 2,
   "metadata": {},
   "outputs": [],
   "source": [
    "TIME_PERIODS = 80\n",
    "SAMPLING_RATE = 20\n",
    "TIME = TIME_PERIODS / SAMPLING_RATE\n",
    "GRAVITY = 9.81"
   ]
  },
  {
   "cell_type": "code",
   "execution_count": null,
   "metadata": {},
   "outputs": [],
   "source": [
    "def standing(TIME, GRAVITY=9.81):\n",
    "    base = np.linspace(0, TIME, 80)\n",
    "    x = 0 * base\n",
    "    y = GRAVITY * base\n",
    "    z = 0 * base\n",
    "    return x, y, z\n",
    "\n",
    "def sitting(TIME, GRAVITY=9.81):\n",
    "    base = np.linspace(0, TIME, 80)\n",
    "    x = GRAVITY * 0.1 * base\n",
    "    y = GRAVITY * 0.1 * base\n",
    "    z = GRAVITY * 0.8 * base\n",
    "    return x, y, z\n",
    "\n",
    "def walking(TIME, GRAVITY=9.81):\n",
    "    base = np.linspace(0, TIME, 80)\n",
    "    x = np.sin(0.5 * base)\n",
    "    y = np.sin(0.5 * base)\n",
    "    z = np.sin(0.5 * base)\n",
    "    return x, y, z\n",
    "\n",
    "def jogging(TIME, GRAVITY=9.81):\n",
    "    base = np.linspace(0, TIME, 80)\n",
    "    x = np.sin(0.25 * base)\n",
    "    y = np.sin(0.25 * base)\n",
    "    z = np.sin(0.25 * base)\n",
    "    return x, y, z\n",
    "\n",
    "def ascending(TIME, GRAVITY=9.81):\n",
    "    base = np.linspace(0, TIME, 80)\n",
    "    x = np.sin(0.75 * base)\n",
    "    y = np.sin(0.75 * base)\n",
    "    z = np.sin(0.75 * bases)\n",
    "    return x, y, z\n",
    "\n",
    "def descending(TIME, GRAVITY=9.81):\n",
    "    base = np.linspace(0, TIME, 80)\n",
    "    x = np.sin(0.5 * base)\n",
    "    y = np.sin(0.5 * base)\n",
    "    z = np.sin(0.5 * base)\n",
    "    return x, y, z"
   ]
  },
  {
   "cell_type": "code",
   "execution_count": null,
   "metadata": {},
   "outputs": [],
   "source": []
  }
 ],
 "metadata": {
  "kernelspec": {
   "display_name": "Python 3",
   "language": "python",
   "name": "python3"
  },
  "language_info": {
   "codemirror_mode": {
    "name": "ipython",
    "version": 3
   },
   "file_extension": ".py",
   "mimetype": "text/x-python",
   "name": "python",
   "nbconvert_exporter": "python",
   "pygments_lexer": "ipython3",
   "version": "3.10.12"
  },
  "orig_nbformat": 4
 },
 "nbformat": 4,
 "nbformat_minor": 2
}
